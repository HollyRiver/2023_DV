{
 "cells": [
  {
   "cell_type": "markdown",
   "id": "2492a6cf-a294-48f2-8a83-662a2d217866",
   "metadata": {},
   "source": [
    "### 문제\n",
    "\n",
    "> 아래와 같은 데이터프레임이 있다고 하자."
   ]
  },
  {
   "cell_type": "code",
   "execution_count": 4,
   "id": "728bb230-8358-4c98-af61-d3d94d5cb1c1",
   "metadata": {},
   "outputs": [
    {
     "data": {
      "text/html": [
       "<div>\n",
       "<style scoped>\n",
       "    .dataframe tbody tr th:only-of-type {\n",
       "        vertical-align: middle;\n",
       "    }\n",
       "\n",
       "    .dataframe tbody tr th {\n",
       "        vertical-align: top;\n",
       "    }\n",
       "\n",
       "    .dataframe thead th {\n",
       "        text-align: right;\n",
       "    }\n",
       "</style>\n",
       "<table border=\"1\" class=\"dataframe\">\n",
       "  <thead>\n",
       "    <tr style=\"text-align: right;\">\n",
       "      <th></th>\n",
       "      <th>A</th>\n",
       "    </tr>\n",
       "  </thead>\n",
       "  <tbody>\n",
       "    <tr>\n",
       "      <th>0</th>\n",
       "      <td>1</td>\n",
       "    </tr>\n",
       "    <tr>\n",
       "      <th>1</th>\n",
       "      <td>2</td>\n",
       "    </tr>\n",
       "    <tr>\n",
       "      <th>2</th>\n",
       "      <td>3</td>\n",
       "    </tr>\n",
       "    <tr>\n",
       "      <th>3</th>\n",
       "      <td>4</td>\n",
       "    </tr>\n",
       "  </tbody>\n",
       "</table>\n",
       "</div>"
      ],
      "text/plain": [
       "   A\n",
       "0  1\n",
       "1  2\n",
       "2  3\n",
       "3  4"
      ]
     },
     "execution_count": 4,
     "metadata": {},
     "output_type": "execute_result"
    }
   ],
   "source": [
    "import pandas as pd\n",
    "import numpy as np\n",
    "\n",
    "df = pd.DataFrame({'A':[1,2,3,4]})\n",
    "df"
   ]
  },
  {
   "cell_type": "markdown",
   "id": "b3038c08-7b86-4614-a958-8836b8cce896",
   "metadata": {},
   "source": [
    "> 아래와 같은 결과를 관찰하고 이러한 결과가 나오는 이유를 정리하라."
   ]
  },
  {
   "cell_type": "code",
   "execution_count": 5,
   "id": "2ec2d3d8-8d7f-40b6-babc-996e8a900715",
   "metadata": {},
   "outputs": [
    {
     "data": {
      "text/plain": [
       "A    2.5\n",
       "dtype: float64"
      ]
     },
     "execution_count": 5,
     "metadata": {},
     "output_type": "execute_result"
    }
   ],
   "source": [
    "df[['A']].apply(np.mean)"
   ]
  },
  {
   "cell_type": "code",
   "execution_count": 7,
   "id": "9fb3b715-3201-4b06-a58a-227a3ab6b6bd",
   "metadata": {},
   "outputs": [
    {
     "data": {
      "text/plain": [
       "0    1.0\n",
       "1    2.0\n",
       "2    3.0\n",
       "3    4.0\n",
       "Name: A, dtype: float64"
      ]
     },
     "execution_count": 7,
     "metadata": {},
     "output_type": "execute_result"
    }
   ],
   "source": [
    "df['A'].apply(np.mean)"
   ]
  },
  {
   "cell_type": "markdown",
   "id": "cb7977f4-72de-4b71-9390-a3d7023a12b9",
   "metadata": {},
   "source": [
    "### 풀이"
   ]
  },
  {
   "cell_type": "code",
   "execution_count": 28,
   "id": "6011bfc9-5c2a-4027-9119-d81a2e523dee",
   "metadata": {},
   "outputs": [
    {
     "name": "stdout",
     "output_type": "stream",
     "text": [
      "(4,)\n",
      "<class 'pandas.core.series.Series'>\n"
     ]
    }
   ],
   "source": [
    "print(df['A'].shape)\n",
    "print(type(df['A']))"
   ]
  },
  {
   "cell_type": "code",
   "execution_count": 27,
   "id": "4a9a04a5-7bba-4ca5-8008-d44ffeffe078",
   "metadata": {},
   "outputs": [
    {
     "name": "stdout",
     "output_type": "stream",
     "text": [
      "(4, 1)\n",
      "<class 'pandas.core.frame.DataFrame'>\n"
     ]
    }
   ],
   "source": [
    "print(df[['A']].shape)\n",
    "print(type(df[['A']]))"
   ]
  },
  {
   "cell_type": "code",
   "execution_count": 21,
   "id": "3fc43e79-e229-47ea-acc9-5d84b8d3968c",
   "metadata": {},
   "outputs": [
    {
     "data": {
      "text/plain": [
       "0    1.0\n",
       "1    2.0\n",
       "2    3.0\n",
       "3    4.0\n",
       "dtype: float64"
      ]
     },
     "execution_count": 21,
     "metadata": {},
     "output_type": "execute_result"
    }
   ],
   "source": [
    "df[['A']].apply(np.mean, axis = 1)"
   ]
  },
  {
   "cell_type": "markdown",
   "id": "3665fb33-bfd5-4a6d-9dc5-06060d15719e",
   "metadata": {},
   "source": [
    "> ```df['A']```는 ```Series```의 형식이고, ```df[['A']]```는 ```DataFrame```의 형식이다.\n",
    ">\n",
    ">  ```Series```에 ```apply()```함수를 적용하면, 각 원소마다 입력된 함수를 적용시키지만, ```DataFrame```에 ```apply()```함수를 적용하면 열이나 행에 대해서 적용된다.\n",
    "\n",
    "* 따라서 위같은 경우에서 ```df[['A']].apply(np.mean)```의 경우 ```apply()```에서의 ```axis```의 디폴트 값이 ```0```으로 설정되어 있으므로 열의 평균을 계산하여 산출한다. 만약 데이터프레임의 각 원소에 함수를 적용시키고자 하면 ```applymap()```을 사용해야 한다."
   ]
  }
 ],
 "metadata": {
  "kernelspec": {
   "display_name": "Python 3 (ipykernel)",
   "language": "python",
   "name": "python3"
  },
  "language_info": {
   "codemirror_mode": {
    "name": "ipython",
    "version": 3
   },
   "file_extension": ".py",
   "mimetype": "text/x-python",
   "name": "python",
   "nbconvert_exporter": "python",
   "pygments_lexer": "ipython3",
   "version": "3.10.13"
  }
 },
 "nbformat": 4,
 "nbformat_minor": 5
}
