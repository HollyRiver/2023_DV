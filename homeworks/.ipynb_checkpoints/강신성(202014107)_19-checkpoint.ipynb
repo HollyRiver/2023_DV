{
 "cells": [
  {
   "cell_type": "markdown",
   "id": "77906083-41a2-42a6-b7fb-edd745dfb39e",
   "metadata": {},
   "source": [
    "### 사전작업"
   ]
  },
  {
   "cell_type": "code",
   "execution_count": 13,
   "id": "b4945f75-4885-4195-abc8-323a39024a3b",
   "metadata": {},
   "outputs": [],
   "source": [
    "import pandas as pd\n",
    "import numpy as np\n",
    "import plotly.express as px\n",
    "import plotly.io as pio\n",
    "\n",
    "#---#\n",
    "pd.options.plotting.backend = 'plotly'\n",
    "pio.templates.default = 'plotly_white'\n",
    "#pio.renderers.default = 'notebook_connected'"
   ]
  },
  {
   "cell_type": "code",
   "execution_count": 2,
   "id": "3d5df5e3-a283-4a2b-b02f-c20b5d4f8122",
   "metadata": {},
   "outputs": [],
   "source": [
    "df_feature = pd.read_csv(\"https://raw.githubusercontent.com/HollyRiver/2023_DV/main/homeworks/NYC_feature.csv\")"
   ]
  },
  {
   "cell_type": "markdown",
   "id": "15f9b81e-e8c9-442e-836b-e43838ec91d2",
   "metadata": {},
   "source": [
    "## 문제"
   ]
  },
  {
   "cell_type": "code",
   "execution_count": 3,
   "id": "e7336bf8-467b-4740-b181-23a1061ab1dd",
   "metadata": {},
   "outputs": [
    {
     "data": {
      "text/plain": [
       "count    14587.000000\n",
       "mean         0.035191\n",
       "std          0.041392\n",
       "min          0.000000\n",
       "25%          0.012819\n",
       "50%          0.021380\n",
       "75%          0.038631\n",
       "max          0.386224\n",
       "Name: dist, dtype: float64"
      ]
     },
     "execution_count": 3,
     "metadata": {},
     "output_type": "execute_result"
    }
   ],
   "source": [
    "df_feature.dist.describe()"
   ]
  },
  {
   "cell_type": "markdown",
   "id": "c7fb4c94-af2f-4690-bd8b-89b79bf90837",
   "metadata": {},
   "source": [
    "거리가 0.012819 보다 작은 거리를 근거리로 생각하자. 근거리 이동건수가 많은 요일,시간대를 알고싶다. 예를들어 월요일, 0시 (`pickup_hour`기준)의 근거리 이동건수는 아래와 같이 구할 수 있다."
   ]
  },
  {
   "cell_type": "code",
   "execution_count": 4,
   "id": "ce62758c-7d3b-4980-a292-cc30588afcbf",
   "metadata": {},
   "outputs": [
    {
     "data": {
      "text/plain": [
       "9"
      ]
     },
     "execution_count": 4,
     "metadata": {},
     "output_type": "execute_result"
    }
   ],
   "source": [
    "len(df_feature.query('dayofweek ==0 and dist<0.012819 and pickup_hour == 0'))"
   ]
  },
  {
   "cell_type": "markdown",
   "id": "148f63cf-4ee3-48be-bf1e-f1063580816a",
   "metadata": {},
   "source": [
    "모든 요일, 모든 시간의 근거리 이동건수를 `density_heatmap`을 이용하여 시각화하라."
   ]
  },
  {
   "cell_type": "markdown",
   "id": "9d16c02d-fa1c-4109-b6e2-8e0f2bbbc4cc",
   "metadata": {},
   "source": [
    "### 풀이"
   ]
  },
  {
   "cell_type": "markdown",
   "id": "fd666ab0-47ce-4c22-901d-59c2f7778811",
   "metadata": {},
   "source": [
    "특정 데이터가 근거리인지 아닌지에 대한 여부를 체크하는 열 `short_dist` 추가"
   ]
  },
  {
   "cell_type": "code",
   "execution_count": 5,
   "id": "20e1a0ff-f620-48a4-aa5f-82fa8ae48e94",
   "metadata": {},
   "outputs": [
    {
     "data": {
      "text/html": [
       "<div>\n",
       "<style scoped>\n",
       "    .dataframe tbody tr th:only-of-type {\n",
       "        vertical-align: middle;\n",
       "    }\n",
       "\n",
       "    .dataframe tbody tr th {\n",
       "        vertical-align: top;\n",
       "    }\n",
       "\n",
       "    .dataframe thead th {\n",
       "        text-align: right;\n",
       "    }\n",
       "</style>\n",
       "<table border=\"1\" class=\"dataframe\">\n",
       "  <thead>\n",
       "    <tr style=\"text-align: right;\">\n",
       "      <th></th>\n",
       "      <th>id</th>\n",
       "      <th>vendor_id</th>\n",
       "      <th>pickup_datetime</th>\n",
       "      <th>dropoff_datetime</th>\n",
       "      <th>passenger_count</th>\n",
       "      <th>pickup_longitude</th>\n",
       "      <th>pickup_latitude</th>\n",
       "      <th>dropoff_longitude</th>\n",
       "      <th>dropoff_latitude</th>\n",
       "      <th>store_and_fwd_flag</th>\n",
       "      <th>trip_duration</th>\n",
       "      <th>log_trip_duration</th>\n",
       "      <th>dist</th>\n",
       "      <th>pickup_hour</th>\n",
       "      <th>dropoff_hour</th>\n",
       "      <th>dayofweek</th>\n",
       "      <th>speed</th>\n",
       "      <th>short_dist</th>\n",
       "    </tr>\n",
       "  </thead>\n",
       "  <tbody>\n",
       "    <tr>\n",
       "      <th>0</th>\n",
       "      <td>id2875421</td>\n",
       "      <td>B</td>\n",
       "      <td>2016-03-14 17:24:55</td>\n",
       "      <td>2016-03-14 17:32:30</td>\n",
       "      <td>1</td>\n",
       "      <td>-73.982155</td>\n",
       "      <td>40.767937</td>\n",
       "      <td>-73.964630</td>\n",
       "      <td>40.765602</td>\n",
       "      <td>N</td>\n",
       "      <td>455</td>\n",
       "      <td>6.120297</td>\n",
       "      <td>0.017680</td>\n",
       "      <td>17</td>\n",
       "      <td>17</td>\n",
       "      <td>0</td>\n",
       "      <td>0.000039</td>\n",
       "      <td>0</td>\n",
       "    </tr>\n",
       "    <tr>\n",
       "      <th>1</th>\n",
       "      <td>id3194108</td>\n",
       "      <td>A</td>\n",
       "      <td>2016-06-01 11:48:41</td>\n",
       "      <td>2016-06-01 12:19:07</td>\n",
       "      <td>1</td>\n",
       "      <td>-74.005028</td>\n",
       "      <td>40.746452</td>\n",
       "      <td>-73.972008</td>\n",
       "      <td>40.745781</td>\n",
       "      <td>N</td>\n",
       "      <td>1826</td>\n",
       "      <td>7.509883</td>\n",
       "      <td>0.033027</td>\n",
       "      <td>11</td>\n",
       "      <td>12</td>\n",
       "      <td>2</td>\n",
       "      <td>0.000018</td>\n",
       "      <td>0</td>\n",
       "    </tr>\n",
       "    <tr>\n",
       "      <th>2</th>\n",
       "      <td>id3564028</td>\n",
       "      <td>A</td>\n",
       "      <td>2016-01-02 01:16:42</td>\n",
       "      <td>2016-01-02 01:19:56</td>\n",
       "      <td>1</td>\n",
       "      <td>-73.954132</td>\n",
       "      <td>40.774784</td>\n",
       "      <td>-73.947418</td>\n",
       "      <td>40.779633</td>\n",
       "      <td>N</td>\n",
       "      <td>194</td>\n",
       "      <td>5.267858</td>\n",
       "      <td>0.008282</td>\n",
       "      <td>1</td>\n",
       "      <td>1</td>\n",
       "      <td>5</td>\n",
       "      <td>0.000043</td>\n",
       "      <td>1</td>\n",
       "    </tr>\n",
       "    <tr>\n",
       "      <th>3</th>\n",
       "      <td>id1660823</td>\n",
       "      <td>B</td>\n",
       "      <td>2016-03-01 06:40:18</td>\n",
       "      <td>2016-03-01 07:01:37</td>\n",
       "      <td>5</td>\n",
       "      <td>-73.982140</td>\n",
       "      <td>40.775326</td>\n",
       "      <td>-74.009850</td>\n",
       "      <td>40.721699</td>\n",
       "      <td>N</td>\n",
       "      <td>1279</td>\n",
       "      <td>7.153834</td>\n",
       "      <td>0.060363</td>\n",
       "      <td>6</td>\n",
       "      <td>7</td>\n",
       "      <td>1</td>\n",
       "      <td>0.000047</td>\n",
       "      <td>0</td>\n",
       "    </tr>\n",
       "    <tr>\n",
       "      <th>4</th>\n",
       "      <td>id1575277</td>\n",
       "      <td>B</td>\n",
       "      <td>2016-06-11 16:59:15</td>\n",
       "      <td>2016-06-11 17:33:27</td>\n",
       "      <td>1</td>\n",
       "      <td>-73.999229</td>\n",
       "      <td>40.722881</td>\n",
       "      <td>-73.982880</td>\n",
       "      <td>40.778297</td>\n",
       "      <td>N</td>\n",
       "      <td>2052</td>\n",
       "      <td>7.626570</td>\n",
       "      <td>0.057778</td>\n",
       "      <td>16</td>\n",
       "      <td>17</td>\n",
       "      <td>5</td>\n",
       "      <td>0.000028</td>\n",
       "      <td>0</td>\n",
       "    </tr>\n",
       "    <tr>\n",
       "      <th>...</th>\n",
       "      <td>...</td>\n",
       "      <td>...</td>\n",
       "      <td>...</td>\n",
       "      <td>...</td>\n",
       "      <td>...</td>\n",
       "      <td>...</td>\n",
       "      <td>...</td>\n",
       "      <td>...</td>\n",
       "      <td>...</td>\n",
       "      <td>...</td>\n",
       "      <td>...</td>\n",
       "      <td>...</td>\n",
       "      <td>...</td>\n",
       "      <td>...</td>\n",
       "      <td>...</td>\n",
       "      <td>...</td>\n",
       "      <td>...</td>\n",
       "      <td>...</td>\n",
       "    </tr>\n",
       "    <tr>\n",
       "      <th>14582</th>\n",
       "      <td>id3647353</td>\n",
       "      <td>A</td>\n",
       "      <td>2016-05-16 22:12:09</td>\n",
       "      <td>2016-05-16 22:27:46</td>\n",
       "      <td>1</td>\n",
       "      <td>-73.990219</td>\n",
       "      <td>40.737076</td>\n",
       "      <td>-73.986748</td>\n",
       "      <td>40.702194</td>\n",
       "      <td>N</td>\n",
       "      <td>937</td>\n",
       "      <td>6.842683</td>\n",
       "      <td>0.035054</td>\n",
       "      <td>22</td>\n",
       "      <td>22</td>\n",
       "      <td>0</td>\n",
       "      <td>0.000037</td>\n",
       "      <td>0</td>\n",
       "    </tr>\n",
       "    <tr>\n",
       "      <th>14583</th>\n",
       "      <td>id2064944</td>\n",
       "      <td>A</td>\n",
       "      <td>2016-05-23 08:04:35</td>\n",
       "      <td>2016-05-23 08:19:20</td>\n",
       "      <td>1</td>\n",
       "      <td>-73.987068</td>\n",
       "      <td>40.730728</td>\n",
       "      <td>-73.974983</td>\n",
       "      <td>40.751331</td>\n",
       "      <td>N</td>\n",
       "      <td>885</td>\n",
       "      <td>6.785588</td>\n",
       "      <td>0.023886</td>\n",
       "      <td>8</td>\n",
       "      <td>8</td>\n",
       "      <td>0</td>\n",
       "      <td>0.000027</td>\n",
       "      <td>0</td>\n",
       "    </tr>\n",
       "    <tr>\n",
       "      <th>14584</th>\n",
       "      <td>id3286731</td>\n",
       "      <td>B</td>\n",
       "      <td>2016-05-31 16:56:13</td>\n",
       "      <td>2016-05-31 17:38:44</td>\n",
       "      <td>1</td>\n",
       "      <td>-73.863541</td>\n",
       "      <td>40.769711</td>\n",
       "      <td>-73.994644</td>\n",
       "      <td>40.750435</td>\n",
       "      <td>N</td>\n",
       "      <td>2551</td>\n",
       "      <td>7.844241</td>\n",
       "      <td>0.132513</td>\n",
       "      <td>16</td>\n",
       "      <td>17</td>\n",
       "      <td>1</td>\n",
       "      <td>0.000052</td>\n",
       "      <td>0</td>\n",
       "    </tr>\n",
       "    <tr>\n",
       "      <th>14585</th>\n",
       "      <td>id3453691</td>\n",
       "      <td>B</td>\n",
       "      <td>2016-03-07 18:11:54</td>\n",
       "      <td>2016-03-07 18:29:09</td>\n",
       "      <td>1</td>\n",
       "      <td>-74.006531</td>\n",
       "      <td>40.738232</td>\n",
       "      <td>-73.985970</td>\n",
       "      <td>40.726978</td>\n",
       "      <td>N</td>\n",
       "      <td>1035</td>\n",
       "      <td>6.942157</td>\n",
       "      <td>0.023439</td>\n",
       "      <td>18</td>\n",
       "      <td>18</td>\n",
       "      <td>0</td>\n",
       "      <td>0.000023</td>\n",
       "      <td>0</td>\n",
       "    </tr>\n",
       "    <tr>\n",
       "      <th>14586</th>\n",
       "      <td>id0995846</td>\n",
       "      <td>B</td>\n",
       "      <td>2016-05-09 17:26:56</td>\n",
       "      <td>2016-05-09 18:30:37</td>\n",
       "      <td>2</td>\n",
       "      <td>-73.789543</td>\n",
       "      <td>40.647099</td>\n",
       "      <td>-73.960320</td>\n",
       "      <td>40.798180</td>\n",
       "      <td>N</td>\n",
       "      <td>3821</td>\n",
       "      <td>8.248267</td>\n",
       "      <td>0.228013</td>\n",
       "      <td>17</td>\n",
       "      <td>18</td>\n",
       "      <td>0</td>\n",
       "      <td>0.000060</td>\n",
       "      <td>0</td>\n",
       "    </tr>\n",
       "  </tbody>\n",
       "</table>\n",
       "<p>14587 rows × 18 columns</p>\n",
       "</div>"
      ],
      "text/plain": [
       "              id vendor_id      pickup_datetime     dropoff_datetime  \\\n",
       "0      id2875421         B  2016-03-14 17:24:55  2016-03-14 17:32:30   \n",
       "1      id3194108         A  2016-06-01 11:48:41  2016-06-01 12:19:07   \n",
       "2      id3564028         A  2016-01-02 01:16:42  2016-01-02 01:19:56   \n",
       "3      id1660823         B  2016-03-01 06:40:18  2016-03-01 07:01:37   \n",
       "4      id1575277         B  2016-06-11 16:59:15  2016-06-11 17:33:27   \n",
       "...          ...       ...                  ...                  ...   \n",
       "14582  id3647353         A  2016-05-16 22:12:09  2016-05-16 22:27:46   \n",
       "14583  id2064944         A  2016-05-23 08:04:35  2016-05-23 08:19:20   \n",
       "14584  id3286731         B  2016-05-31 16:56:13  2016-05-31 17:38:44   \n",
       "14585  id3453691         B  2016-03-07 18:11:54  2016-03-07 18:29:09   \n",
       "14586  id0995846         B  2016-05-09 17:26:56  2016-05-09 18:30:37   \n",
       "\n",
       "       passenger_count  pickup_longitude  pickup_latitude  dropoff_longitude  \\\n",
       "0                    1        -73.982155        40.767937         -73.964630   \n",
       "1                    1        -74.005028        40.746452         -73.972008   \n",
       "2                    1        -73.954132        40.774784         -73.947418   \n",
       "3                    5        -73.982140        40.775326         -74.009850   \n",
       "4                    1        -73.999229        40.722881         -73.982880   \n",
       "...                ...               ...              ...                ...   \n",
       "14582                1        -73.990219        40.737076         -73.986748   \n",
       "14583                1        -73.987068        40.730728         -73.974983   \n",
       "14584                1        -73.863541        40.769711         -73.994644   \n",
       "14585                1        -74.006531        40.738232         -73.985970   \n",
       "14586                2        -73.789543        40.647099         -73.960320   \n",
       "\n",
       "       dropoff_latitude store_and_fwd_flag  trip_duration  log_trip_duration  \\\n",
       "0             40.765602                  N            455           6.120297   \n",
       "1             40.745781                  N           1826           7.509883   \n",
       "2             40.779633                  N            194           5.267858   \n",
       "3             40.721699                  N           1279           7.153834   \n",
       "4             40.778297                  N           2052           7.626570   \n",
       "...                 ...                ...            ...                ...   \n",
       "14582         40.702194                  N            937           6.842683   \n",
       "14583         40.751331                  N            885           6.785588   \n",
       "14584         40.750435                  N           2551           7.844241   \n",
       "14585         40.726978                  N           1035           6.942157   \n",
       "14586         40.798180                  N           3821           8.248267   \n",
       "\n",
       "           dist  pickup_hour  dropoff_hour  dayofweek     speed  short_dist  \n",
       "0      0.017680           17            17          0  0.000039           0  \n",
       "1      0.033027           11            12          2  0.000018           0  \n",
       "2      0.008282            1             1          5  0.000043           1  \n",
       "3      0.060363            6             7          1  0.000047           0  \n",
       "4      0.057778           16            17          5  0.000028           0  \n",
       "...         ...          ...           ...        ...       ...         ...  \n",
       "14582  0.035054           22            22          0  0.000037           0  \n",
       "14583  0.023886            8             8          0  0.000027           0  \n",
       "14584  0.132513           16            17          1  0.000052           0  \n",
       "14585  0.023439           18            18          0  0.000023           0  \n",
       "14586  0.228013           17            18          0  0.000060           0  \n",
       "\n",
       "[14587 rows x 18 columns]"
      ]
     },
     "execution_count": 5,
     "metadata": {},
     "output_type": "execute_result"
    }
   ],
   "source": [
    "df_feature.assign(short_dist = lambda _df : _df.dist.apply(lambda x : 0 if x >= 0.012819 else 1))"
   ]
  },
  {
   "cell_type": "markdown",
   "id": "809bb337-581d-437d-a848-fca70b74c635",
   "metadata": {},
   "source": [
    "타이디데이터화"
   ]
  },
  {
   "cell_type": "code",
   "execution_count": 8,
   "id": "a7e97c55-ac64-4040-a953-df3c4c6d4cc3",
   "metadata": {},
   "outputs": [
    {
     "data": {
      "text/html": [
       "<div>\n",
       "<style scoped>\n",
       "    .dataframe tbody tr th:only-of-type {\n",
       "        vertical-align: middle;\n",
       "    }\n",
       "\n",
       "    .dataframe tbody tr th {\n",
       "        vertical-align: top;\n",
       "    }\n",
       "\n",
       "    .dataframe thead th {\n",
       "        text-align: right;\n",
       "    }\n",
       "</style>\n",
       "<table border=\"1\" class=\"dataframe\">\n",
       "  <thead>\n",
       "    <tr style=\"text-align: right;\">\n",
       "      <th></th>\n",
       "      <th>dayofweek</th>\n",
       "      <th>pickup_hour</th>\n",
       "      <th>count</th>\n",
       "    </tr>\n",
       "  </thead>\n",
       "  <tbody>\n",
       "    <tr>\n",
       "      <th>0</th>\n",
       "      <td>0</td>\n",
       "      <td>0</td>\n",
       "      <td>9</td>\n",
       "    </tr>\n",
       "    <tr>\n",
       "      <th>1</th>\n",
       "      <td>0</td>\n",
       "      <td>1</td>\n",
       "      <td>3</td>\n",
       "    </tr>\n",
       "    <tr>\n",
       "      <th>2</th>\n",
       "      <td>0</td>\n",
       "      <td>2</td>\n",
       "      <td>4</td>\n",
       "    </tr>\n",
       "    <tr>\n",
       "      <th>3</th>\n",
       "      <td>0</td>\n",
       "      <td>3</td>\n",
       "      <td>1</td>\n",
       "    </tr>\n",
       "    <tr>\n",
       "      <th>4</th>\n",
       "      <td>0</td>\n",
       "      <td>4</td>\n",
       "      <td>1</td>\n",
       "    </tr>\n",
       "    <tr>\n",
       "      <th>...</th>\n",
       "      <td>...</td>\n",
       "      <td>...</td>\n",
       "      <td>...</td>\n",
       "    </tr>\n",
       "    <tr>\n",
       "      <th>163</th>\n",
       "      <td>6</td>\n",
       "      <td>19</td>\n",
       "      <td>31</td>\n",
       "    </tr>\n",
       "    <tr>\n",
       "      <th>164</th>\n",
       "      <td>6</td>\n",
       "      <td>20</td>\n",
       "      <td>25</td>\n",
       "    </tr>\n",
       "    <tr>\n",
       "      <th>165</th>\n",
       "      <td>6</td>\n",
       "      <td>21</td>\n",
       "      <td>15</td>\n",
       "    </tr>\n",
       "    <tr>\n",
       "      <th>166</th>\n",
       "      <td>6</td>\n",
       "      <td>22</td>\n",
       "      <td>13</td>\n",
       "    </tr>\n",
       "    <tr>\n",
       "      <th>167</th>\n",
       "      <td>6</td>\n",
       "      <td>23</td>\n",
       "      <td>8</td>\n",
       "    </tr>\n",
       "  </tbody>\n",
       "</table>\n",
       "<p>168 rows × 3 columns</p>\n",
       "</div>"
      ],
      "text/plain": [
       "     dayofweek  pickup_hour  count\n",
       "0            0            0      9\n",
       "1            0            1      3\n",
       "2            0            2      4\n",
       "3            0            3      1\n",
       "4            0            4      1\n",
       "..         ...          ...    ...\n",
       "163          6           19     31\n",
       "164          6           20     25\n",
       "165          6           21     15\n",
       "166          6           22     13\n",
       "167          6           23      8\n",
       "\n",
       "[168 rows x 3 columns]"
      ]
     },
     "execution_count": 8,
     "metadata": {},
     "output_type": "execute_result"
    }
   ],
   "source": [
    "tidydata = df_feature.assign(short_dist = lambda _df : _df.dist.apply(lambda x : 0 if x >= 0.012819 else 1))\\\n",
    ".pivot_table(index = 'dayofweek', columns = 'pickup_hour', values = 'short_dist', aggfunc = 'sum')\\\n",
    ".stack().reset_index().rename({0 : 'count'}, axis = 1)\n",
    "\n",
    "tidydata"
   ]
  },
  {
   "cell_type": "code",
   "execution_count": 16,
   "id": "26f72766-5d08-48c1-bbd2-524fcb2e69e3",
   "metadata": {},
   "outputs": [
    {
     "data": {
      "application/vnd.plotly.v1+json": {
       "config": {
        "plotlyServerURL": "https://plot.ly"
       },
       "data": [
        {
         "coloraxis": "coloraxis",
         "histfunc": "sum",
         "hovertemplate": "pickup_hour=%{x}<br>dayofweek=%{y}<br>sum of count=%{z}<extra></extra>",
         "name": "",
         "nbinsx": 24,
         "nbinsy": 7,
         "type": "histogram2d",
         "x": [
          0,
          1,
          2,
          3,
          4,
          5,
          6,
          7,
          8,
          9,
          10,
          11,
          12,
          13,
          14,
          15,
          16,
          17,
          18,
          19,
          20,
          21,
          22,
          23,
          0,
          1,
          2,
          3,
          4,
          5,
          6,
          7,
          8,
          9,
          10,
          11,
          12,
          13,
          14,
          15,
          16,
          17,
          18,
          19,
          20,
          21,
          22,
          23,
          0,
          1,
          2,
          3,
          4,
          5,
          6,
          7,
          8,
          9,
          10,
          11,
          12,
          13,
          14,
          15,
          16,
          17,
          18,
          19,
          20,
          21,
          22,
          23,
          0,
          1,
          2,
          3,
          4,
          5,
          6,
          7,
          8,
          9,
          10,
          11,
          12,
          13,
          14,
          15,
          16,
          17,
          18,
          19,
          20,
          21,
          22,
          23,
          0,
          1,
          2,
          3,
          4,
          5,
          6,
          7,
          8,
          9,
          10,
          11,
          12,
          13,
          14,
          15,
          16,
          17,
          18,
          19,
          20,
          21,
          22,
          23,
          0,
          1,
          2,
          3,
          4,
          5,
          6,
          7,
          8,
          9,
          10,
          11,
          12,
          13,
          14,
          15,
          16,
          17,
          18,
          19,
          20,
          21,
          22,
          23,
          0,
          1,
          2,
          3,
          4,
          5,
          6,
          7,
          8,
          9,
          10,
          11,
          12,
          13,
          14,
          15,
          16,
          17,
          18,
          19,
          20,
          21,
          22,
          23
         ],
         "xaxis": "x",
         "xbingroup": "x",
         "y": [
          0,
          0,
          0,
          0,
          0,
          0,
          0,
          0,
          0,
          0,
          0,
          0,
          0,
          0,
          0,
          0,
          0,
          0,
          0,
          0,
          0,
          0,
          0,
          0,
          1,
          1,
          1,
          1,
          1,
          1,
          1,
          1,
          1,
          1,
          1,
          1,
          1,
          1,
          1,
          1,
          1,
          1,
          1,
          1,
          1,
          1,
          1,
          1,
          2,
          2,
          2,
          2,
          2,
          2,
          2,
          2,
          2,
          2,
          2,
          2,
          2,
          2,
          2,
          2,
          2,
          2,
          2,
          2,
          2,
          2,
          2,
          2,
          3,
          3,
          3,
          3,
          3,
          3,
          3,
          3,
          3,
          3,
          3,
          3,
          3,
          3,
          3,
          3,
          3,
          3,
          3,
          3,
          3,
          3,
          3,
          3,
          4,
          4,
          4,
          4,
          4,
          4,
          4,
          4,
          4,
          4,
          4,
          4,
          4,
          4,
          4,
          4,
          4,
          4,
          4,
          4,
          4,
          4,
          4,
          4,
          5,
          5,
          5,
          5,
          5,
          5,
          5,
          5,
          5,
          5,
          5,
          5,
          5,
          5,
          5,
          5,
          5,
          5,
          5,
          5,
          5,
          5,
          5,
          5,
          6,
          6,
          6,
          6,
          6,
          6,
          6,
          6,
          6,
          6,
          6,
          6,
          6,
          6,
          6,
          6,
          6,
          6,
          6,
          6,
          6,
          6,
          6,
          6
         ],
         "yaxis": "y",
         "ybingroup": "y",
         "z": [
          9,
          3,
          4,
          1,
          1,
          1,
          16,
          25,
          31,
          27,
          30,
          30,
          32,
          25,
          22,
          31,
          24,
          22,
          33,
          37,
          30,
          21,
          20,
          8,
          10,
          5,
          3,
          3,
          3,
          4,
          13,
          20,
          32,
          31,
          25,
          28,
          33,
          21,
          35,
          26,
          32,
          28,
          36,
          27,
          29,
          27,
          24,
          18,
          9,
          4,
          3,
          3,
          5,
          8,
          17,
          18,
          34,
          32,
          21,
          28,
          30,
          30,
          33,
          32,
          34,
          26,
          37,
          40,
          32,
          25,
          23,
          18,
          7,
          6,
          2,
          0,
          5,
          3,
          15,
          28,
          35,
          41,
          32,
          31,
          42,
          47,
          33,
          34,
          32,
          36,
          29,
          47,
          32,
          17,
          26,
          19,
          21,
          11,
          14,
          2,
          4,
          6,
          14,
          17,
          27,
          55,
          23,
          26,
          24,
          22,
          35,
          34,
          25,
          30,
          35,
          43,
          34,
          29,
          28,
          33,
          18,
          18,
          12,
          9,
          5,
          5,
          8,
          8,
          9,
          21,
          26,
          29,
          28,
          31,
          30,
          21,
          24,
          23,
          21,
          40,
          26,
          28,
          29,
          27,
          21,
          21,
          14,
          14,
          8,
          5,
          1,
          8,
          12,
          14,
          18,
          22,
          31,
          23,
          28,
          18,
          14,
          28,
          30,
          31,
          25,
          15,
          13,
          8
         ]
        }
       ],
       "layout": {
        "autosize": true,
        "coloraxis": {
         "colorbar": {
          "title": {
           "text": "sum of count"
          }
         },
         "colorscale": [
          [
           0,
           "#0d0887"
          ],
          [
           0.1111111111111111,
           "#46039f"
          ],
          [
           0.2222222222222222,
           "#7201a8"
          ],
          [
           0.3333333333333333,
           "#9c179e"
          ],
          [
           0.4444444444444444,
           "#bd3786"
          ],
          [
           0.5555555555555556,
           "#d8576b"
          ],
          [
           0.6666666666666666,
           "#ed7953"
          ],
          [
           0.7777777777777778,
           "#fb9f3a"
          ],
          [
           0.8888888888888888,
           "#fdca26"
          ],
          [
           1,
           "#f0f921"
          ]
         ]
        },
        "legend": {
         "tracegroupgap": 0
        },
        "margin": {
         "t": 60
        },
        "template": {
         "data": {
          "bar": [
           {
            "error_x": {
             "color": "#2a3f5f"
            },
            "error_y": {
             "color": "#2a3f5f"
            },
            "marker": {
             "line": {
              "color": "white",
              "width": 0.5
             },
             "pattern": {
              "fillmode": "overlay",
              "size": 10,
              "solidity": 0.2
             }
            },
            "type": "bar"
           }
          ],
          "barpolar": [
           {
            "marker": {
             "line": {
              "color": "white",
              "width": 0.5
             },
             "pattern": {
              "fillmode": "overlay",
              "size": 10,
              "solidity": 0.2
             }
            },
            "type": "barpolar"
           }
          ],
          "carpet": [
           {
            "aaxis": {
             "endlinecolor": "#2a3f5f",
             "gridcolor": "#C8D4E3",
             "linecolor": "#C8D4E3",
             "minorgridcolor": "#C8D4E3",
             "startlinecolor": "#2a3f5f"
            },
            "baxis": {
             "endlinecolor": "#2a3f5f",
             "gridcolor": "#C8D4E3",
             "linecolor": "#C8D4E3",
             "minorgridcolor": "#C8D4E3",
             "startlinecolor": "#2a3f5f"
            },
            "type": "carpet"
           }
          ],
          "choropleth": [
           {
            "colorbar": {
             "outlinewidth": 0,
             "ticks": ""
            },
            "type": "choropleth"
           }
          ],
          "contour": [
           {
            "colorbar": {
             "outlinewidth": 0,
             "ticks": ""
            },
            "colorscale": [
             [
              0,
              "#0d0887"
             ],
             [
              0.1111111111111111,
              "#46039f"
             ],
             [
              0.2222222222222222,
              "#7201a8"
             ],
             [
              0.3333333333333333,
              "#9c179e"
             ],
             [
              0.4444444444444444,
              "#bd3786"
             ],
             [
              0.5555555555555556,
              "#d8576b"
             ],
             [
              0.6666666666666666,
              "#ed7953"
             ],
             [
              0.7777777777777778,
              "#fb9f3a"
             ],
             [
              0.8888888888888888,
              "#fdca26"
             ],
             [
              1,
              "#f0f921"
             ]
            ],
            "type": "contour"
           }
          ],
          "contourcarpet": [
           {
            "colorbar": {
             "outlinewidth": 0,
             "ticks": ""
            },
            "type": "contourcarpet"
           }
          ],
          "heatmap": [
           {
            "colorbar": {
             "outlinewidth": 0,
             "ticks": ""
            },
            "colorscale": [
             [
              0,
              "#0d0887"
             ],
             [
              0.1111111111111111,
              "#46039f"
             ],
             [
              0.2222222222222222,
              "#7201a8"
             ],
             [
              0.3333333333333333,
              "#9c179e"
             ],
             [
              0.4444444444444444,
              "#bd3786"
             ],
             [
              0.5555555555555556,
              "#d8576b"
             ],
             [
              0.6666666666666666,
              "#ed7953"
             ],
             [
              0.7777777777777778,
              "#fb9f3a"
             ],
             [
              0.8888888888888888,
              "#fdca26"
             ],
             [
              1,
              "#f0f921"
             ]
            ],
            "type": "heatmap"
           }
          ],
          "heatmapgl": [
           {
            "colorbar": {
             "outlinewidth": 0,
             "ticks": ""
            },
            "colorscale": [
             [
              0,
              "#0d0887"
             ],
             [
              0.1111111111111111,
              "#46039f"
             ],
             [
              0.2222222222222222,
              "#7201a8"
             ],
             [
              0.3333333333333333,
              "#9c179e"
             ],
             [
              0.4444444444444444,
              "#bd3786"
             ],
             [
              0.5555555555555556,
              "#d8576b"
             ],
             [
              0.6666666666666666,
              "#ed7953"
             ],
             [
              0.7777777777777778,
              "#fb9f3a"
             ],
             [
              0.8888888888888888,
              "#fdca26"
             ],
             [
              1,
              "#f0f921"
             ]
            ],
            "type": "heatmapgl"
           }
          ],
          "histogram": [
           {
            "marker": {
             "pattern": {
              "fillmode": "overlay",
              "size": 10,
              "solidity": 0.2
             }
            },
            "type": "histogram"
           }
          ],
          "histogram2d": [
           {
            "colorbar": {
             "outlinewidth": 0,
             "ticks": ""
            },
            "colorscale": [
             [
              0,
              "#0d0887"
             ],
             [
              0.1111111111111111,
              "#46039f"
             ],
             [
              0.2222222222222222,
              "#7201a8"
             ],
             [
              0.3333333333333333,
              "#9c179e"
             ],
             [
              0.4444444444444444,
              "#bd3786"
             ],
             [
              0.5555555555555556,
              "#d8576b"
             ],
             [
              0.6666666666666666,
              "#ed7953"
             ],
             [
              0.7777777777777778,
              "#fb9f3a"
             ],
             [
              0.8888888888888888,
              "#fdca26"
             ],
             [
              1,
              "#f0f921"
             ]
            ],
            "type": "histogram2d"
           }
          ],
          "histogram2dcontour": [
           {
            "colorbar": {
             "outlinewidth": 0,
             "ticks": ""
            },
            "colorscale": [
             [
              0,
              "#0d0887"
             ],
             [
              0.1111111111111111,
              "#46039f"
             ],
             [
              0.2222222222222222,
              "#7201a8"
             ],
             [
              0.3333333333333333,
              "#9c179e"
             ],
             [
              0.4444444444444444,
              "#bd3786"
             ],
             [
              0.5555555555555556,
              "#d8576b"
             ],
             [
              0.6666666666666666,
              "#ed7953"
             ],
             [
              0.7777777777777778,
              "#fb9f3a"
             ],
             [
              0.8888888888888888,
              "#fdca26"
             ],
             [
              1,
              "#f0f921"
             ]
            ],
            "type": "histogram2dcontour"
           }
          ],
          "mesh3d": [
           {
            "colorbar": {
             "outlinewidth": 0,
             "ticks": ""
            },
            "type": "mesh3d"
           }
          ],
          "parcoords": [
           {
            "line": {
             "colorbar": {
              "outlinewidth": 0,
              "ticks": ""
             }
            },
            "type": "parcoords"
           }
          ],
          "pie": [
           {
            "automargin": true,
            "type": "pie"
           }
          ],
          "scatter": [
           {
            "fillpattern": {
             "fillmode": "overlay",
             "size": 10,
             "solidity": 0.2
            },
            "type": "scatter"
           }
          ],
          "scatter3d": [
           {
            "line": {
             "colorbar": {
              "outlinewidth": 0,
              "ticks": ""
             }
            },
            "marker": {
             "colorbar": {
              "outlinewidth": 0,
              "ticks": ""
             }
            },
            "type": "scatter3d"
           }
          ],
          "scattercarpet": [
           {
            "marker": {
             "colorbar": {
              "outlinewidth": 0,
              "ticks": ""
             }
            },
            "type": "scattercarpet"
           }
          ],
          "scattergeo": [
           {
            "marker": {
             "colorbar": {
              "outlinewidth": 0,
              "ticks": ""
             }
            },
            "type": "scattergeo"
           }
          ],
          "scattergl": [
           {
            "marker": {
             "colorbar": {
              "outlinewidth": 0,
              "ticks": ""
             }
            },
            "type": "scattergl"
           }
          ],
          "scattermapbox": [
           {
            "marker": {
             "colorbar": {
              "outlinewidth": 0,
              "ticks": ""
             }
            },
            "type": "scattermapbox"
           }
          ],
          "scatterpolar": [
           {
            "marker": {
             "colorbar": {
              "outlinewidth": 0,
              "ticks": ""
             }
            },
            "type": "scatterpolar"
           }
          ],
          "scatterpolargl": [
           {
            "marker": {
             "colorbar": {
              "outlinewidth": 0,
              "ticks": ""
             }
            },
            "type": "scatterpolargl"
           }
          ],
          "scatterternary": [
           {
            "marker": {
             "colorbar": {
              "outlinewidth": 0,
              "ticks": ""
             }
            },
            "type": "scatterternary"
           }
          ],
          "surface": [
           {
            "colorbar": {
             "outlinewidth": 0,
             "ticks": ""
            },
            "colorscale": [
             [
              0,
              "#0d0887"
             ],
             [
              0.1111111111111111,
              "#46039f"
             ],
             [
              0.2222222222222222,
              "#7201a8"
             ],
             [
              0.3333333333333333,
              "#9c179e"
             ],
             [
              0.4444444444444444,
              "#bd3786"
             ],
             [
              0.5555555555555556,
              "#d8576b"
             ],
             [
              0.6666666666666666,
              "#ed7953"
             ],
             [
              0.7777777777777778,
              "#fb9f3a"
             ],
             [
              0.8888888888888888,
              "#fdca26"
             ],
             [
              1,
              "#f0f921"
             ]
            ],
            "type": "surface"
           }
          ],
          "table": [
           {
            "cells": {
             "fill": {
              "color": "#EBF0F8"
             },
             "line": {
              "color": "white"
             }
            },
            "header": {
             "fill": {
              "color": "#C8D4E3"
             },
             "line": {
              "color": "white"
             }
            },
            "type": "table"
           }
          ]
         },
         "layout": {
          "annotationdefaults": {
           "arrowcolor": "#2a3f5f",
           "arrowhead": 0,
           "arrowwidth": 1
          },
          "autotypenumbers": "strict",
          "coloraxis": {
           "colorbar": {
            "outlinewidth": 0,
            "ticks": ""
           }
          },
          "colorscale": {
           "diverging": [
            [
             0,
             "#8e0152"
            ],
            [
             0.1,
             "#c51b7d"
            ],
            [
             0.2,
             "#de77ae"
            ],
            [
             0.3,
             "#f1b6da"
            ],
            [
             0.4,
             "#fde0ef"
            ],
            [
             0.5,
             "#f7f7f7"
            ],
            [
             0.6,
             "#e6f5d0"
            ],
            [
             0.7,
             "#b8e186"
            ],
            [
             0.8,
             "#7fbc41"
            ],
            [
             0.9,
             "#4d9221"
            ],
            [
             1,
             "#276419"
            ]
           ],
           "sequential": [
            [
             0,
             "#0d0887"
            ],
            [
             0.1111111111111111,
             "#46039f"
            ],
            [
             0.2222222222222222,
             "#7201a8"
            ],
            [
             0.3333333333333333,
             "#9c179e"
            ],
            [
             0.4444444444444444,
             "#bd3786"
            ],
            [
             0.5555555555555556,
             "#d8576b"
            ],
            [
             0.6666666666666666,
             "#ed7953"
            ],
            [
             0.7777777777777778,
             "#fb9f3a"
            ],
            [
             0.8888888888888888,
             "#fdca26"
            ],
            [
             1,
             "#f0f921"
            ]
           ],
           "sequentialminus": [
            [
             0,
             "#0d0887"
            ],
            [
             0.1111111111111111,
             "#46039f"
            ],
            [
             0.2222222222222222,
             "#7201a8"
            ],
            [
             0.3333333333333333,
             "#9c179e"
            ],
            [
             0.4444444444444444,
             "#bd3786"
            ],
            [
             0.5555555555555556,
             "#d8576b"
            ],
            [
             0.6666666666666666,
             "#ed7953"
            ],
            [
             0.7777777777777778,
             "#fb9f3a"
            ],
            [
             0.8888888888888888,
             "#fdca26"
            ],
            [
             1,
             "#f0f921"
            ]
           ]
          },
          "colorway": [
           "#636efa",
           "#EF553B",
           "#00cc96",
           "#ab63fa",
           "#FFA15A",
           "#19d3f3",
           "#FF6692",
           "#B6E880",
           "#FF97FF",
           "#FECB52"
          ],
          "font": {
           "color": "#2a3f5f"
          },
          "geo": {
           "bgcolor": "white",
           "lakecolor": "white",
           "landcolor": "white",
           "showlakes": true,
           "showland": true,
           "subunitcolor": "#C8D4E3"
          },
          "hoverlabel": {
           "align": "left"
          },
          "hovermode": "closest",
          "mapbox": {
           "style": "light"
          },
          "paper_bgcolor": "white",
          "plot_bgcolor": "white",
          "polar": {
           "angularaxis": {
            "gridcolor": "#EBF0F8",
            "linecolor": "#EBF0F8",
            "ticks": ""
           },
           "bgcolor": "white",
           "radialaxis": {
            "gridcolor": "#EBF0F8",
            "linecolor": "#EBF0F8",
            "ticks": ""
           }
          },
          "scene": {
           "xaxis": {
            "backgroundcolor": "white",
            "gridcolor": "#DFE8F3",
            "gridwidth": 2,
            "linecolor": "#EBF0F8",
            "showbackground": true,
            "ticks": "",
            "zerolinecolor": "#EBF0F8"
           },
           "yaxis": {
            "backgroundcolor": "white",
            "gridcolor": "#DFE8F3",
            "gridwidth": 2,
            "linecolor": "#EBF0F8",
            "showbackground": true,
            "ticks": "",
            "zerolinecolor": "#EBF0F8"
           },
           "zaxis": {
            "backgroundcolor": "white",
            "gridcolor": "#DFE8F3",
            "gridwidth": 2,
            "linecolor": "#EBF0F8",
            "showbackground": true,
            "ticks": "",
            "zerolinecolor": "#EBF0F8"
           }
          },
          "shapedefaults": {
           "line": {
            "color": "#2a3f5f"
           }
          },
          "ternary": {
           "aaxis": {
            "gridcolor": "#DFE8F3",
            "linecolor": "#A2B1C6",
            "ticks": ""
           },
           "baxis": {
            "gridcolor": "#DFE8F3",
            "linecolor": "#A2B1C6",
            "ticks": ""
           },
           "bgcolor": "white",
           "caxis": {
            "gridcolor": "#DFE8F3",
            "linecolor": "#A2B1C6",
            "ticks": ""
           }
          },
          "title": {
           "x": 0.05
          },
          "xaxis": {
           "automargin": true,
           "gridcolor": "#EBF0F8",
           "linecolor": "#EBF0F8",
           "ticks": "",
           "title": {
            "standoff": 15
           },
           "zerolinecolor": "#EBF0F8",
           "zerolinewidth": 2
          },
          "yaxis": {
           "automargin": true,
           "gridcolor": "#EBF0F8",
           "linecolor": "#EBF0F8",
           "ticks": "",
           "title": {
            "standoff": 15
           },
           "zerolinecolor": "#EBF0F8",
           "zerolinewidth": 2
          }
         }
        },
        "xaxis": {
         "anchor": "y",
         "autorange": true,
         "domain": [
          0,
          1
         ],
         "range": [
          -0.5,
          23.5
         ],
         "title": {
          "text": "pickup_hour"
         },
         "type": "linear"
        },
        "yaxis": {
         "anchor": "x",
         "autorange": true,
         "domain": [
          0,
          1
         ],
         "range": [
          -0.5,
          6.5
         ],
         "title": {
          "text": "dayofweek"
         },
         "type": "linear"
        }
       }
      },
      "image/png": "[encoded data removed]"
     },
     "metadata": {},
     "output_type": "display_data"
    }
   ],
   "source": [
    "px.density_heatmap(\n",
    "    data_frame = tidydata,\n",
    "    x = 'pickup_hour',\n",
    "    y = 'dayofweek',\n",
    "    z = 'count',\n",
    "    nbinsx = 24,\n",
    "    nbinsy = 7,\n",
    "    height = 300\n",
    ")"
   ]
  },
  {
   "cell_type": "markdown",
   "id": "475a02b2-b9a5-43c2-8fb3-9549352dc0ee",
   "metadata": {},
   "source": [
    "**끝**"
   ]
  }
 ],
 "metadata": {
  "kernelspec": {
   "display_name": "Python 3 (ipykernel)",
   "language": "python",
   "name": "python3"
  },
  "language_info": {
   "codemirror_mode": {
    "name": "ipython",
    "version": 3
   },
   "file_extension": ".py",
   "mimetype": "text/x-python",
   "name": "python",
   "nbconvert_exporter": "python",
   "pygments_lexer": "ipython3",
   "version": "3.10.13"
  }
 },
 "nbformat": 4,
 "nbformat_minor": 5
}
