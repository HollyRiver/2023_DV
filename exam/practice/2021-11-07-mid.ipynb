{
 "cells": [
  {
   "cell_type": "markdown",
   "id": "0400e341-d1aa-493c-8c48-75abccfbeb69",
   "metadata": {
    "tags": []
   },
   "source": [
    "# 2021년 2학기 데이터시각화 중간고사\n",
    "\n",
    "- toc:flase\n",
    "- branch: master\n",
    "- badges: flase\n",
    "- comments: flase \n",
    "- author: 최규빈\n",
    "- hide: False"
   ]
  },
  {
   "cell_type": "code",
   "execution_count": 24,
   "id": "83b21dc2-e43b-41bf-8810-d349f3f39705",
   "metadata": {},
   "outputs": [],
   "source": [
    "# hide\n",
    "import matplotlib.pyplot as plt \n",
    "import seaborn as sns \n",
    "from plotnine import * \n",
    "import cv2 \n",
    "import numpy as np \n",
    "import pandas as pd "
   ]
  },
  {
   "cell_type": "markdown",
   "id": "4cf5e55d-a50c-4c36-8ed5-ac4f98078208",
   "metadata": {},
   "source": [
    "### `1`. 다음은 이미지와 대응하는 히스토그램을 나타낸것이다. 이미지와 히스토그램을 올바르게 짝지어라. (5점)"
   ]
  },
  {
   "cell_type": "markdown",
   "id": "7aa889c8-3be5-4f2b-a553-4c744c415f48",
   "metadata": {},
   "source": [
    "- 예시 a-c, b-d"
   ]
  },
  {
   "cell_type": "markdown",
   "id": "d7550fd2-3980-4764-b8dd-df94687879cd",
   "metadata": {},
   "source": [
    "![](https://github.com/guebin/2021DV/blob/master/_notebooks/mid_FIG1.png?raw=true)"
   ]
  },
  {
   "cell_type": "markdown",
   "id": "327dfd01-f48c-4637-908f-1595015e4bb5",
   "metadata": {
    "tags": []
   },
   "source": [
    "### `2`. 주어진 자료를 바탕으로 예시와 같은 시각화를 구현하라. (5점)"
   ]
  },
  {
   "cell_type": "markdown",
   "id": "bdbc888f-b991-48ea-b27c-0bb5c09793e4",
   "metadata": {},
   "source": [
    "**자료** \n",
    "\n",
    "```python\n",
    "x=[1,2,3,4]\n",
    "y=[1,2,4,3]\n",
    "```"
   ]
  },
  {
   "cell_type": "markdown",
   "id": "8a1f35e9-c47b-4206-8cf1-4aa469e97d6f",
   "metadata": {},
   "source": [
    "**시각화예시**"
   ]
  },
  {
   "cell_type": "markdown",
   "id": "80130dda-e4a2-42e8-bbbd-c86b9109fbe5",
   "metadata": {},
   "source": [
    "![](https://github.com/guebin/2021DV/blob/master/_notebooks/mid_FIG2.png?raw=true)"
   ]
  },
  {
   "cell_type": "markdown",
   "id": "d7db8e5a-c6f9-4939-9b58-79dcae061d9d",
   "metadata": {},
   "source": [
    "### `3`. 아래는 앤스콤의 플랏이다. 옳게 해석한 사람을 모두 고르라 (5점)"
   ]
  },
  {
   "cell_type": "markdown",
   "id": "8b2cc008-238b-434c-b8d2-9cef9342510d",
   "metadata": {},
   "source": [
    "![](https://github.com/guebin/2021DV/blob/master/_notebooks/mid_FIG3.png?raw=true)"
   ]
  },
  {
   "cell_type": "markdown",
   "id": "c0ce5137-63ce-45ec-9c15-6caf8bf5eb41",
   "metadata": {},
   "source": [
    "(하니) 그림 (a)-(d)는 모두 양의 상관계수를 가진다. \n",
    "\n",
    "(나애리) 그림 (b)는 산점도가 직선이 아니라 곡선의 모양을 띄고 있으므로 상관계수는 0이다. \n",
    "\n",
    "(홍두깨) 그림 (c)에서 상단의 이상치를 제외하면 상관계수는 1이다. \n",
    "\n",
    "(고은애) 그림 (d)의 우측 이상치의 값을 적절하게 바꾸면 (d)의 상관계수를 음수로 만드는 것이 가능하다. \n",
    "\n",
    "(이창수) 그림 (c)역시 상단의 이상치 값을 적절하게 바꾸면 (c)의 상관계수를 음수로 만드는 것이 가능하다. "
   ]
  },
  {
   "cell_type": "markdown",
   "id": "e57cba12-fde2-4220-b482-062bbf3b5238",
   "metadata": {},
   "source": [
    "### `4`. 다음은 아이스크림 소비량과 소아마비의 관계를 그린 산점도이다. 이때 색깔은 온도가 비슷한 관측치로 그룹핑되었다. 옳은 해석을 모두 골라라. (10점) "
   ]
  },
  {
   "cell_type": "markdown",
   "id": "477d53ef-41f0-4e0e-99d5-55b1f09e57e4",
   "metadata": {},
   "source": [
    "![](https://github.com/guebin/2021DV/blob/master/_notebooks/mid_FIG4.png?raw=true)"
   ]
  },
  {
   "cell_type": "markdown",
   "id": "2d759a29-e236-4735-a14b-3ea421c31017",
   "metadata": {},
   "source": [
    "(하니) 아이스크림과 소아마비는 양의 상관관계에 있다. \n",
    "\n",
    "(나애리) 상관계수의 값이 1에 가까울수록 아이스크림과 소아마비의 인과성이 명확하다고 볼 수 있다. \n",
    "\n",
    "(홍두깨) 비슷한 온도를 가진 관측치에서는 아이스크림과 소아마비의 상관계수가 0에 가깝다. \n",
    "\n",
    "(고은애) 온도를 통제하였을 경우 아이스크림과 소아마비의 상관계수가 0이므로 둘 사이의 인과성이 있다고 보긴 어렵다. "
   ]
  },
  {
   "cell_type": "markdown",
   "id": "aebc3666-7fe1-4230-85e3-b2cb57589f58",
   "metadata": {},
   "source": [
    "### `5`. FIFA22 (100점) "
   ]
  },
  {
   "cell_type": "markdown",
   "id": "af6a892f-4ac2-4b8a-a230-eb5cfa23aa7f",
   "metadata": {},
   "source": [
    "아래의 코드를 활용하여 FIFA22의 자료를 불러온뒤 물음에 답하라. "
   ]
  },
  {
   "cell_type": "markdown",
   "id": "e167c669-69ae-485c-9809-4ab104a7e0d9",
   "metadata": {},
   "source": [
    "```python\n",
    "df=pd.read_csv('https://raw.githubusercontent.com/guebin/2021DV/master/_notebooks/2021-10-25-FIFA22_official_data.csv')\n",
    "```"
   ]
  },
  {
   "cell_type": "markdown",
   "id": "e167661f-e86b-42f8-a210-ce5b03f08455",
   "metadata": {},
   "source": [
    "#### (a) `Loaned From`,`Marking` 열을 선택하는 코드를 작성하고 값을 확인하라. "
   ]
  },
  {
   "cell_type": "markdown",
   "id": "560fd396-e49f-438b-acab-4e26e0ae83fd",
   "metadata": {},
   "source": [
    "#### (b) 기존의 데이터프레임에서 `Loaned From`, `Marking`열을 제외하는 코드를 작성하라. "
   ]
  },
  {
   "cell_type": "markdown",
   "id": "bca0bab4-3eb7-44b9-b67d-02b6b174a200",
   "metadata": {},
   "source": [
    "#### (c) (b)의 결과에 `.dropna()`를 사용하여 결측치를 제거하는 코드를 작성하라. 몇개의 결측치가 제거되었는가? "
   ]
  },
  {
   "cell_type": "markdown",
   "id": "b4c93643-5529-40f5-ab0a-6b953f031a71",
   "metadata": {
    "tags": []
   },
   "source": [
    "#### (d) (c)의 결과에 아래의 코드를 활용하여 `Wage`의 값을 적절하게 변환하라. \n",
    "\n",
    "```python\n",
    "### 코드1 \n",
    "def convert_currency(value):\n",
    "    floatvalue = 0.0\n",
    "    strvalue=\"\"\n",
    "    if \"M\" in value:\n",
    "        strvalue=value.replace(\"M\",\"\").replace(\"€\",\"\")\n",
    "        floatvalue=float(float(strvalue)*1000000)\n",
    "    elif \"K\" in value:\n",
    "        strvalue=value.replace(\"K\",\"\").replace(\"€\",\"\")\n",
    "        floatvalue=float(float(strvalue)*1000)\n",
    "    else:\n",
    "        floatvalue=value.replace(\"€\",\"\")\n",
    "    return floatvalue\n",
    "```\n",
    "- 코드출처: https://www.kaggle.com/talhademirezen/cost-effective-youth-players-fifa22"
   ]
  },
  {
   "cell_type": "markdown",
   "id": "3a07d9b2-dde7-45f6-8678-ce2fc5e705dd",
   "metadata": {},
   "source": [
    "#### (e) 아래의 세부사항에 맞춰서 `Best Position`에 따른 시장가치(`Value`)의 평균을 barplot을 이용하여 시각화 하라. "
   ]
  },
  {
   "cell_type": "markdown",
   "id": "b02db5b7-2a6e-4e4a-9584-d9dafbcbbe09",
   "metadata": {},
   "source": [
    "- x축을 `Best Position`으로 하고 y축은 `Value`의 평균으로 할 것\n",
    "- `Value`가 가장 높은 3개의 포지션을 다른색으로 하이라이팅 할 것"
   ]
  },
  {
   "cell_type": "markdown",
   "id": "0f61c43e-4d28-4799-93d7-10cb6bec66f3",
   "metadata": {},
   "source": [
    "***시각화예시***"
   ]
  },
  {
   "cell_type": "markdown",
   "id": "80e2f5f2-003a-4967-99e1-dd3f2f723397",
   "metadata": {},
   "source": [
    "![](https://github.com/guebin/2021DV/blob/master/_notebooks/mid_FIG5_1.png?raw=true)"
   ]
  },
  {
   "cell_type": "markdown",
   "id": "2aa2ec3e-3ebf-44f2-b64e-00bf2b2e621b",
   "metadata": {},
   "source": [
    "#### (f) 아래의 세부사항에 맞추어 (`Dribbling`,`SlidingTackle`)의 산점도를 그려라. "
   ]
  },
  {
   "cell_type": "markdown",
   "id": "52ef7684-e7ae-4fa1-9234-6afdee9f239a",
   "metadata": {},
   "source": [
    "***세부사항***\n",
    "\n",
    "(i) `Best Position`의 값을 바탕으로 면분할을 하라. \n",
    "\n",
    "(ii) `Age`를 색으로 표현하라. \n",
    "\n",
    "(iii) 산점도의 투명도는 `alpha=0.5`로 `size=0.5`로 설정할 것."
   ]
  },
  {
   "cell_type": "markdown",
   "id": "18731b15-8fa4-44a8-bd35-7851094b3139",
   "metadata": {},
   "source": [
    "![](https://github.com/guebin/2021DV/blob/master/_notebooks/mid_FIG5_2.png?raw=true)"
   ]
  },
  {
   "cell_type": "markdown",
   "id": "08becac6-eb9a-4dbc-91d4-f9f9a7488473",
   "metadata": {},
   "source": [
    "#### (g) (f)의 그림을 올바르게 해석한 사람은? "
   ]
  },
  {
   "cell_type": "markdown",
   "id": "5da91c78-d0f5-412f-8baf-5df87b660bb7",
   "metadata": {},
   "source": [
    "(하니) 포지션 `GK`에 있는 선수는 `Dribbling`, `SlidingTackle` 값이 다른포지션대비 상대적으로 낮다. \n",
    "\n",
    "(나애리) 모든 포지션에서 `Dribbling`, `SlidingTackle`은 서로 독립이라 볼 수 있다. \n",
    "\n",
    "(홍두깨) 포지션 `CAM`은 나이와 `Dribbling` 사이에 양의 상관관계에 있다.  \n",
    "\n",
    "(고은애) 포지션 `CB`은 나이와 `Dribbling` 사이에 상관계수가 거의 0이다. "
   ]
  },
  {
   "cell_type": "markdown",
   "id": "bd59a772-af7b-453d-af03-d8791401d01a",
   "metadata": {},
   "source": [
    "#### (h) `Best Position`이 \"CAM\" 혹은 \"CM\"인 플레이어만 골라서 (`Dribbling`,`SlidingTackle`)의 산점도를 그려라. "
   ]
  },
  {
   "cell_type": "markdown",
   "id": "7fa965f7-afe4-4d43-8152-bc4ffa0193b2",
   "metadata": {},
   "source": [
    "***세부사항*** \n",
    "\n",
    "- x축: Dribbling, y축: SlidingTackle 로 설정\n",
    "- Value에 따라 점의 크기를 다르게 설정 \n",
    "- 나이에 따라 색깔을 다르게 설정 "
   ]
  },
  {
   "cell_type": "markdown",
   "id": "37cfed31-e2c9-4a82-9a2a-3af4ee892389",
   "metadata": {},
   "source": [
    "***시각화예시***"
   ]
  },
  {
   "cell_type": "markdown",
   "id": "d437b95b-eab6-4895-be7e-b2f6bc560a8d",
   "metadata": {},
   "source": [
    "![](https://github.com/guebin/2021DV/blob/master/_notebooks/mid_FIG5_3.png?raw=true)"
   ]
  },
  {
   "cell_type": "markdown",
   "id": "2c7c805e-7483-4915-abd4-6d6f1b1be002",
   "metadata": {},
   "source": [
    "#### (i) 그림 (h)를 올바르게 해석한것을 모두 고르라. "
   ]
  },
  {
   "cell_type": "markdown",
   "id": "a4911c9e-4da9-4d78-980a-fa5e0a84d8bf",
   "metadata": {},
   "source": [
    "(하니) `AGE`와 `Value`는 양의 상관관계에 있다. \n",
    "\n",
    "(나애리) 따라서 축구선수는 `AGE`가 증가함 따라 `Value`가 올라가는 것을 알 수 있다. 즉 `AGE`와 `Value`사이에는 인과성이 있다. \n",
    "\n",
    "(홍두깨) 포지션 `CAM`은 `Dribbiling` 능력과 `Value`가 양의 상관관계에 있어보인다. \n",
    "\n",
    "(고은애) 반면에 포지션 `CB`는 `Dribbling` 능력보다는 `SlidingTackle`이 `Value`와 양의 상관관계에 있다고 볼 수 있다. "
   ]
  },
  {
   "cell_type": "markdown",
   "id": "75c87ac3-990b-4474-ab84-73cd037dc44f",
   "metadata": {},
   "source": [
    "### `6`. 하니의 산책경로 (40점)"
   ]
  },
  {
   "cell_type": "markdown",
   "id": "44313c59-3ace-4233-bcba-043b10c16b93",
   "metadata": {},
   "source": [
    "공원에서 뛰는것을 좋아하는 강아지 하니가 있다. 아래는 강아지 하니가 주인과 함께 공원을 산책한 경로이다. 산책코스는 아래와 같이 집에서 공원으로 가는 A코스와 공원에서 집으로 오는 B코스로 나누어진다.  \n",
    "\n",
    "`-` A코스: 집 $\\to$ 카페 $\\to$ 초등학교 정문  $\\to$ 공원\n",
    "\n",
    "`-` B코스: 공원 $\\to$ 초등학교 후문 $\\to$ 동물병원 $\\to$ 집 \n",
    "\n",
    "각 위치의 좌표는 아래와 같다. \n",
    "\n",
    "- 집: (0,0)\n",
    "- 카페: (1,2) \n",
    "- 초등학교 정문: (4,3)\n",
    "- 공원: (5,5)\n",
    "- 초등학교 후문: (4.1,3)\n",
    "- 동물병원: (1,0.5)\n",
    "\n",
    "집에서 출발시에 하니의 체력은 100이며, 각 중간지점에서 하니의 체력은 이동거리에 비례하여 감소한다고 하자. 예를들어 A코스-카페에서 하니의 체력은 아래와 같이 계산할 수 있다. \n",
    "\n",
    "- $100- \\sqrt{1^2+2^2}$\n",
    "\n",
    "또한 하니는 공원정문에서 달리기를 시작하였고 이후에 70의 체력을 소진한뒤 공원후문에 도착하였다고 하자. (즉 공원정문에서하니의 체력이 $x$ 라면 공원후문에서 하니의 체력은 $x-60$ 이다.) \n",
    "\n",
    "하니의 이동경로에 따른 체력의 변화를 시각화 하라. "
   ]
  },
  {
   "cell_type": "markdown",
   "id": "3b944977-eab8-4333-8c7f-73ea661cb56a",
   "metadata": {},
   "source": [
    "**시각화예시**"
   ]
  },
  {
   "cell_type": "markdown",
   "id": "493c8c4e-3e79-4816-9d1b-d13f576add37",
   "metadata": {},
   "source": [
    "![](https://github.com/guebin/2021DV/blob/master/_notebooks/mid_FIG6.png?raw=true)"
   ]
  },
  {
   "cell_type": "markdown",
   "id": "30eb3227-a4aa-45cb-a114-f96a8313a80d",
   "metadata": {},
   "source": [
    "### `7`. 빈칸에 적절한 값을 채워 심슨의 역설을 설명하는 예제를 완성하고 시각화 하라. (30점)"
   ]
  },
  {
   "cell_type": "markdown",
   "id": "c87faa61-b0e8-4223-ac08-bc74180810ef",
   "metadata": {},
   "source": [
    "다음은 농구선수 A,B의 시즌별 자유투 성공률이다. "
   ]
  },
  {
   "cell_type": "markdown",
   "id": "3886851f-ccfc-48b5-8663-e861e9bc1577",
   "metadata": {},
   "source": [
    "| |시즌1|시즌2|\n",
    "|:-:|:-:|:-:|\n",
    "|A선수|7/10|?|\n",
    "|B선수|?|4/4|\n",
    "* 표안의 값은 성공횟수/총자유투시도 "
   ]
  },
  {
   "cell_type": "markdown",
   "id": "e070743c-f659-44db-9701-164625ccd4bb",
   "metadata": {},
   "source": [
    "?에 적절한 값을 채워 시즌 1,2 모두 B선수의 자유투 성공률이 높지만 시즌1-2를 전체 합치면 A선수의 자유투 성공률이 더 높도록 하라. (즉 ?에 적절한 값을 채워 심슨의 역설을 섦영하기 위한 자료를 구성하라.) \n",
    "\n",
    "만들어진 자료를 바탕으로 심슨의 역설을 시각화하라. (즉 시즌 1,2의 자유투 성공률과 전체 자유트 성공률을 barplot으로 시각화하라) "
   ]
  }
 ],
 "metadata": {
  "kernelspec": {
   "display_name": "Python 3 (ipykernel)",
   "language": "python",
   "name": "python3"
  },
  "language_info": {
   "codemirror_mode": {
    "name": "ipython",
    "version": 3
   },
   "file_extension": ".py",
   "mimetype": "text/x-python",
   "name": "python",
   "nbconvert_exporter": "python",
   "pygments_lexer": "ipython3",
   "version": "3.10.13"
  }
 },
 "nbformat": 4,
 "nbformat_minor": 5
}
