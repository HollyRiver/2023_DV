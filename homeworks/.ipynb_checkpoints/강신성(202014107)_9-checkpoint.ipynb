{
 "cells": [
  {
   "cell_type": "markdown",
   "id": "7c26958c-8339-4052-95b6-b27e1863d9ff",
   "metadata": {},
   "source": [
    "* 필요한 라이브러리"
   ]
  },
  {
   "cell_type": "code",
   "execution_count": 2,
   "id": "3dc320dd-3617-4f37-9187-bf79aef51d41",
   "metadata": {},
   "outputs": [],
   "source": [
    "import pandas as pd\n",
    "import numpy as np"
   ]
  },
  {
   "cell_type": "markdown",
   "id": "063714ef-9497-4cdd-b883-09fbb9feaad7",
   "metadata": {},
   "source": [
    "## 문제 1\n",
    "---"
   ]
  },
  {
   "cell_type": "code",
   "execution_count": 3,
   "id": "f04e0f6c-9717-490f-ae07-a9690fc55521",
   "metadata": {},
   "outputs": [
    {
     "data": {
      "text/plain": [
       "0        €250K\n",
       "1        €140K\n",
       "2        €135K\n",
       "3        €350K\n",
       "4         €45K\n",
       "         ...  \n",
       "16705      €1K\n",
       "16706     €550\n",
       "16707     €700\n",
       "16708     €500\n",
       "16709       €0\n",
       "Name: Wage, Length: 16710, dtype: object"
      ]
     },
     "execution_count": 3,
     "metadata": {},
     "output_type": "execute_result"
    }
   ],
   "source": [
    "df = pd.read_csv('https://raw.githubusercontent.com/guebin/DV2021/master/_notebooks/2021-10-25-FIFA22_official_data.csv')\n",
    "s = df.Wage\n",
    "s"
   ]
  },
  {
   "cell_type": "markdown",
   "id": "dd8940d9-0fc4-41bf-8343-36a2d6e9c342",
   "metadata": {},
   "source": [
    "위의 자료형에서 “€250.5K”와 같은 형태의 문자열이 있는지 조사하는 코드를 작성하라."
   ]
  },
  {
   "cell_type": "markdown",
   "id": "18774964-f706-4afb-a4e5-d7b86abf7560",
   "metadata": {},
   "source": [
    "### 풀이"
   ]
  },
  {
   "cell_type": "markdown",
   "id": "4f85138c-6d6b-416f-911b-493492ffc5f5",
   "metadata": {
    "jp-MarkdownHeadingCollapsed": true
   },
   "source": [
    "**query를 이용해보자.**"
   ]
  },
  {
   "cell_type": "code",
   "execution_count": 25,
   "id": "537ca21a-2257-4326-be6b-aa0c6b3ebcd4",
   "metadata": {},
   "outputs": [
    {
     "data": {
      "text/html": [
       "<div>\n",
       "<style scoped>\n",
       "    .dataframe tbody tr th:only-of-type {\n",
       "        vertical-align: middle;\n",
       "    }\n",
       "\n",
       "    .dataframe tbody tr th {\n",
       "        vertical-align: top;\n",
       "    }\n",
       "\n",
       "    .dataframe thead th {\n",
       "        text-align: right;\n",
       "    }\n",
       "</style>\n",
       "<table border=\"1\" class=\"dataframe\">\n",
       "  <thead>\n",
       "    <tr style=\"text-align: right;\">\n",
       "      <th></th>\n",
       "      <th>Wage</th>\n",
       "    </tr>\n",
       "  </thead>\n",
       "  <tbody>\n",
       "  </tbody>\n",
       "</table>\n",
       "</div>"
      ],
      "text/plain": [
       "Empty DataFrame\n",
       "Columns: [Wage]\n",
       "Index: []"
      ]
     },
     "execution_count": 25,
     "metadata": {},
     "output_type": "execute_result"
    }
   ],
   "source": [
    "df[['Wage']].query('Wage == \"€250.5K\"')"
   ]
  },
  {
   "cell_type": "markdown",
   "id": "85fb0680-1c66-4781-8604-c477372de3dd",
   "metadata": {},
   "source": [
    "**다른 방법**"
   ]
  },
  {
   "cell_type": "code",
   "execution_count": 30,
   "id": "4b6cd706-3cdc-4d81-8390-79defe721054",
   "metadata": {},
   "outputs": [
    {
     "data": {
      "text/plain": [
       "0.0"
      ]
     },
     "execution_count": 30,
     "metadata": {},
     "output_type": "execute_result"
    }
   ],
   "source": [
    "sum([(i=='€250.5K')*1.0 for i in s])"
   ]
  },
  {
   "cell_type": "markdown",
   "id": "99466001-0200-410f-b3e7-e819cdbddbb3",
   "metadata": {},
   "source": [
    "> 존재하지 않는 것을 알 수 있다."
   ]
  },
  {
   "cell_type": "markdown",
   "id": "811172f5-7165-4820-9332-a0ad564c1838",
   "metadata": {},
   "source": [
    "## 문제 2\n",
    "---\n",
    "아래와 같은 ```pd.Series```가 있다고 하자."
   ]
  },
  {
   "cell_type": "code",
   "execution_count": 31,
   "id": "a5e6dde7-576c-489c-b0e8-a2e1e8b4f401",
   "metadata": {},
   "outputs": [
    {
     "data": {
      "text/plain": [
       "0    €107.5M\n",
       "1       €93M\n",
       "2      €110K\n",
       "3         €0\n",
       "Name: Value, dtype: object"
      ]
     },
     "execution_count": 31,
     "metadata": {},
     "output_type": "execute_result"
    }
   ],
   "source": [
    "df = pd.read_csv('https://raw.githubusercontent.com/guebin/DV2021/master/_notebooks/2021-10-25-FIFA22_official_data.csv').iloc[[0,1,16708,16709],:].reset_index()\n",
    "s = df.Value\n",
    "s"
   ]
  },
  {
   "cell_type": "markdown",
   "id": "f1d48a7e-76a9-44ec-b279-362f62ac720b",
   "metadata": {},
   "source": [
    "다음과 같은 변환을 수행하라."
   ]
  },
  {
   "cell_type": "markdown",
   "id": "61a309f7-259e-4e2e-a447-ebf38a4ce923",
   "metadata": {},
   "source": [
    "|  변환전   | 변환후    |\n",
    "|:---------:|:----------|\n",
    "| ‘€107.5M’ | 107500000 |\n",
    "|  ‘€93M’   | 93000000  |\n",
    "|  ‘€110K’  | 110000    |\n",
    "|   ‘€0’    | 0         |"
   ]
  },
  {
   "cell_type": "markdown",
   "id": "0d7fe5f9-7ac6-4cce-a8b2-79a7e0dd5950",
   "metadata": {},
   "source": [
    "### 풀이\n",
    "\n",
    "**for문 이용**\n",
    "* 양 옆의 문자를 떼어주고, 뒤의 문자의 경우 해당하는 수만큼 곱해줘야 한다.\n",
    "\n",
    "\\- 먼저 앞의 유로를 떼주자."
   ]
  },
  {
   "cell_type": "code",
   "execution_count": 34,
   "id": "538c2908-7bc6-4353-b3db-2a8ce6225866",
   "metadata": {},
   "outputs": [
    {
     "data": {
      "text/plain": [
       "0    107.5M\n",
       "1       93M\n",
       "2      110K\n",
       "3         0\n",
       "Name: Value, dtype: object"
      ]
     },
     "execution_count": 34,
     "metadata": {},
     "output_type": "execute_result"
    }
   ],
   "source": [
    "_s = s.str.replace('€','');_s"
   ]
  },
  {
   "cell_type": "markdown",
   "id": "ecd44709-692d-4912-aa23-b5ba77ad7cad",
   "metadata": {},
   "source": [
    "\\- 그리고 뒤의 문자열은 조건에 해당하는 경우에만 떼고 수를 곱해주도록 하자."
   ]
  },
  {
   "cell_type": "code",
   "execution_count": 92,
   "id": "a17a253b-37f5-48e0-9548-de506dd7eb56",
   "metadata": {},
   "outputs": [
    {
     "data": {
      "text/plain": [
       "[107500000, 93000000, 110000, 0]"
      ]
     },
     "execution_count": 92,
     "metadata": {},
     "output_type": "execute_result"
    }
   ],
   "source": [
    "convert_str = [int(float(i[:-1])*1000000) if i[-1] == 'M' else int(float(i[:-1])*1000) if i[-1] == 'K' else int(i) for i in _s]\n",
    "convert_str"
   ]
  },
  {
   "cell_type": "code",
   "execution_count": 94,
   "id": "c93db0ee-9d9b-4031-a939-c63e867b664b",
   "metadata": {},
   "outputs": [
    {
     "data": {
      "text/plain": [
       "0    107500000\n",
       "1     93000000\n",
       "2       110000\n",
       "3            0\n",
       "dtype: int64"
      ]
     },
     "execution_count": 94,
     "metadata": {},
     "output_type": "execute_result"
    }
   ],
   "source": [
    "converted_s = pd.Series(convert_str)\n",
    "converted_s"
   ]
  },
  {
   "cell_type": "markdown",
   "id": "b755139a-22e4-4215-9406-26140f2b5447",
   "metadata": {},
   "source": [
    "**다른 풀이**\n",
    "\n",
    "문자열로 대체하고 `eval()`로 간단하게 연산시키자."
   ]
  },
  {
   "cell_type": "code",
   "execution_count": 105,
   "id": "a3dd8426-c6d8-47ed-acfb-6764da8bebe4",
   "metadata": {},
   "outputs": [
    {
     "data": {
      "text/plain": [
       "<function __main__.<lambda>(x)>"
      ]
     },
     "execution_count": 105,
     "metadata": {},
     "output_type": "execute_result"
    }
   ],
   "source": [
    "lambda x: int(eval(x.replace('M', '*1000000'))) if x[-1] == 'M' else int(eval(x.replace('K','*1000'))) if x[-1] == 'K' else int(x)"
   ]
  },
  {
   "cell_type": "markdown",
   "id": "2dd0f37e-ede3-4a3f-8c4d-ae660627973d",
   "metadata": {},
   "source": [
    ": 마지막 문자가 `'M'`이면 해당 문자열을 `'*1000000'`로 대체, `'K'`면 `'*1000'`로 대체, 그렇지 않다면 `int`로 바로 변환"
   ]
  },
  {
   "cell_type": "code",
   "execution_count": 104,
   "id": "ea00db42-bcb2-4865-86ee-1ad967627ea1",
   "metadata": {},
   "outputs": [
    {
     "data": {
      "text/plain": [
       "0    107500000\n",
       "1     93000000\n",
       "2       110000\n",
       "3            0\n",
       "Name: Value, dtype: int64"
      ]
     },
     "execution_count": 104,
     "metadata": {},
     "output_type": "execute_result"
    }
   ],
   "source": [
    "_s.apply(lambda x: int(eval(x.replace('M', '*1000000'))) if x[-1] == 'M' else int(eval(x.replace('K','*1000'))) if x[-1] == 'K' else int(x))"
   ]
  },
  {
   "cell_type": "markdown",
   "id": "58c01624-918b-42de-9163-b2d104122e34",
   "metadata": {},
   "source": [
    "> 해당 함수를 시리즈에 어플라이 해주면 바로 결과를 산출시킨다."
   ]
  }
 ],
 "metadata": {
  "kernelspec": {
   "display_name": "Python 3 (ipykernel)",
   "language": "python",
   "name": "python3"
  },
  "language_info": {
   "codemirror_mode": {
    "name": "ipython",
    "version": 3
   },
   "file_extension": ".py",
   "mimetype": "text/x-python",
   "name": "python",
   "nbconvert_exporter": "python",
   "pygments_lexer": "ipython3",
   "version": "3.10.13"
  }
 },
 "nbformat": 4,
 "nbformat_minor": 5
}
