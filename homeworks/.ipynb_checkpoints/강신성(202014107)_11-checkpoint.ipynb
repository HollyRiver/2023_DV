{
 "cells": [
  {
   "cell_type": "markdown",
   "id": "95f265e6-1e17-4476-910c-bd628696c90c",
   "metadata": {},
   "source": [
    "## 문제\n",
    "> 아래의 데이터를 시각화하라."
   ]
  },
  {
   "cell_type": "code",
   "execution_count": 2,
   "id": "25736219-f5c2-4daf-8e1d-249cbecc873f",
   "metadata": {},
   "outputs": [],
   "source": [
    "import pandas as pd\n",
    "import numpy as np\n",
    "from plotnine import *"
   ]
  },
  {
   "cell_type": "code",
   "execution_count": 3,
   "id": "70cd7177-7eb0-445e-8bf8-d8b66f6ad0bf",
   "metadata": {},
   "outputs": [
    {
     "data": {
      "text/html": [
       "<div>\n",
       "<style scoped>\n",
       "    .dataframe tbody tr th:only-of-type {\n",
       "        vertical-align: middle;\n",
       "    }\n",
       "\n",
       "    .dataframe tbody tr th {\n",
       "        vertical-align: top;\n",
       "    }\n",
       "\n",
       "    .dataframe thead th {\n",
       "        text-align: right;\n",
       "    }\n",
       "</style>\n",
       "<table border=\"1\" class=\"dataframe\">\n",
       "  <thead>\n",
       "    <tr style=\"text-align: right;\">\n",
       "      <th></th>\n",
       "      <th>department</th>\n",
       "      <th>result</th>\n",
       "      <th>gender</th>\n",
       "      <th>count</th>\n",
       "    </tr>\n",
       "  </thead>\n",
       "  <tbody>\n",
       "    <tr>\n",
       "      <th>0</th>\n",
       "      <td>A</td>\n",
       "      <td>fail</td>\n",
       "      <td>female</td>\n",
       "      <td>0</td>\n",
       "    </tr>\n",
       "    <tr>\n",
       "      <th>1</th>\n",
       "      <td>A</td>\n",
       "      <td>fail</td>\n",
       "      <td>male</td>\n",
       "      <td>100</td>\n",
       "    </tr>\n",
       "    <tr>\n",
       "      <th>2</th>\n",
       "      <td>A</td>\n",
       "      <td>pass</td>\n",
       "      <td>female</td>\n",
       "      <td>1</td>\n",
       "    </tr>\n",
       "    <tr>\n",
       "      <th>3</th>\n",
       "      <td>A</td>\n",
       "      <td>pass</td>\n",
       "      <td>male</td>\n",
       "      <td>900</td>\n",
       "    </tr>\n",
       "    <tr>\n",
       "      <th>4</th>\n",
       "      <td>B</td>\n",
       "      <td>fail</td>\n",
       "      <td>female</td>\n",
       "      <td>400</td>\n",
       "    </tr>\n",
       "    <tr>\n",
       "      <th>5</th>\n",
       "      <td>B</td>\n",
       "      <td>fail</td>\n",
       "      <td>male</td>\n",
       "      <td>1</td>\n",
       "    </tr>\n",
       "    <tr>\n",
       "      <th>6</th>\n",
       "      <td>B</td>\n",
       "      <td>pass</td>\n",
       "      <td>female</td>\n",
       "      <td>600</td>\n",
       "    </tr>\n",
       "    <tr>\n",
       "      <th>7</th>\n",
       "      <td>B</td>\n",
       "      <td>pass</td>\n",
       "      <td>male</td>\n",
       "      <td>1</td>\n",
       "    </tr>\n",
       "  </tbody>\n",
       "</table>\n",
       "</div>"
      ],
      "text/plain": [
       "  department result  gender  count\n",
       "0          A   fail  female      0\n",
       "1          A   fail    male    100\n",
       "2          A   pass  female      1\n",
       "3          A   pass    male    900\n",
       "4          B   fail  female    400\n",
       "5          B   fail    male      1\n",
       "6          B   pass  female    600\n",
       "7          B   pass    male      1"
      ]
     },
     "execution_count": 3,
     "metadata": {},
     "output_type": "execute_result"
    }
   ],
   "source": [
    "df = pd.read_csv(\"https://raw.githubusercontent.com/guebin/DV2022/master/posts/Simpson2.csv\")\n",
    "df"
   ]
  },
  {
   "cell_type": "markdown",
   "id": "cdd4e16c-afcd-4d89-a058-938332e85d6f",
   "metadata": {},
   "source": [
    "### **1. 성별 별 합격률 시각화**\n",
    "---\n",
    "\n",
    "\n"
   ]
  },
  {
   "cell_type": "markdown",
   "id": "209ea9c6-c8f6-46b6-b919-f772e982dc1c",
   "metadata": {},
   "source": [
    "* 피벗 테이블 생성"
   ]
  },
  {
   "cell_type": "code",
   "execution_count": 6,
   "id": "9cd088b4-d4dc-4317-99f8-c5c9035dbaa8",
   "metadata": {},
   "outputs": [
    {
     "data": {
      "text/html": [
       "<div>\n",
       "<style scoped>\n",
       "    .dataframe tbody tr th:only-of-type {\n",
       "        vertical-align: middle;\n",
       "    }\n",
       "\n",
       "    .dataframe tbody tr th {\n",
       "        vertical-align: top;\n",
       "    }\n",
       "\n",
       "    .dataframe thead th {\n",
       "        text-align: right;\n",
       "    }\n",
       "</style>\n",
       "<table border=\"1\" class=\"dataframe\">\n",
       "  <thead>\n",
       "    <tr style=\"text-align: right;\">\n",
       "      <th>result</th>\n",
       "      <th>fail</th>\n",
       "      <th>pass</th>\n",
       "    </tr>\n",
       "    <tr>\n",
       "      <th>gender</th>\n",
       "      <th></th>\n",
       "      <th></th>\n",
       "    </tr>\n",
       "  </thead>\n",
       "  <tbody>\n",
       "    <tr>\n",
       "      <th>female</th>\n",
       "      <td>400</td>\n",
       "      <td>601</td>\n",
       "    </tr>\n",
       "    <tr>\n",
       "      <th>male</th>\n",
       "      <td>101</td>\n",
       "      <td>901</td>\n",
       "    </tr>\n",
       "  </tbody>\n",
       "</table>\n",
       "</div>"
      ],
      "text/plain": [
       "result  fail  pass\n",
       "gender            \n",
       "female   400   601\n",
       "male     101   901"
      ]
     },
     "execution_count": 6,
     "metadata": {},
     "output_type": "execute_result"
    }
   ],
   "source": [
    "df.pivot_table(index = 'gender', columns = 'result', values = 'count', aggfunc = sum)"
   ]
  },
  {
   "cell_type": "markdown",
   "id": "b4493fda-382b-4cac-bd2c-3540c0be6941",
   "metadata": {},
   "source": [
    "* 합격률을 새로운 열로 생성"
   ]
  },
  {
   "cell_type": "code",
   "execution_count": 14,
   "id": "7152803b-3d6e-46d9-a17e-9282ca00e70e",
   "metadata": {},
   "outputs": [
    {
     "data": {
      "text/html": [
       "<div>\n",
       "<style scoped>\n",
       "    .dataframe tbody tr th:only-of-type {\n",
       "        vertical-align: middle;\n",
       "    }\n",
       "\n",
       "    .dataframe tbody tr th {\n",
       "        vertical-align: top;\n",
       "    }\n",
       "\n",
       "    .dataframe thead th {\n",
       "        text-align: right;\n",
       "    }\n",
       "</style>\n",
       "<table border=\"1\" class=\"dataframe\">\n",
       "  <thead>\n",
       "    <tr style=\"text-align: right;\">\n",
       "      <th>result</th>\n",
       "      <th>fail</th>\n",
       "      <th>pass</th>\n",
       "      <th>rate</th>\n",
       "    </tr>\n",
       "    <tr>\n",
       "      <th>gender</th>\n",
       "      <th></th>\n",
       "      <th></th>\n",
       "      <th></th>\n",
       "    </tr>\n",
       "  </thead>\n",
       "  <tbody>\n",
       "    <tr>\n",
       "      <th>female</th>\n",
       "      <td>400</td>\n",
       "      <td>601</td>\n",
       "      <td>0.600400</td>\n",
       "    </tr>\n",
       "    <tr>\n",
       "      <th>male</th>\n",
       "      <td>101</td>\n",
       "      <td>901</td>\n",
       "      <td>0.899202</td>\n",
       "    </tr>\n",
       "  </tbody>\n",
       "</table>\n",
       "</div>"
      ],
      "text/plain": [
       "result  fail  pass      rate\n",
       "gender                      \n",
       "female   400   601  0.600400\n",
       "male     101   901  0.899202"
      ]
     },
     "execution_count": 14,
     "metadata": {},
     "output_type": "execute_result"
    }
   ],
   "source": [
    "df.pivot_table(index = 'gender', columns = 'result', values = 'count', aggfunc = sum)\\\n",
    ".assign(rate = lambda _df : _df['pass']/(_df['fail'] + _df['pass']))"
   ]
  },
  {
   "cell_type": "markdown",
   "id": "f0f21109-8e94-4d41-9ae3-e91a5485628e",
   "metadata": {},
   "source": [
    "* tidydata 저장"
   ]
  },
  {
   "cell_type": "code",
   "execution_count": 15,
   "id": "5dffd353-ff25-49f7-a7d0-9948c4e29c83",
   "metadata": {},
   "outputs": [
    {
     "data": {
      "text/html": [
       "<div>\n",
       "<style scoped>\n",
       "    .dataframe tbody tr th:only-of-type {\n",
       "        vertical-align: middle;\n",
       "    }\n",
       "\n",
       "    .dataframe tbody tr th {\n",
       "        vertical-align: top;\n",
       "    }\n",
       "\n",
       "    .dataframe thead th {\n",
       "        text-align: right;\n",
       "    }\n",
       "</style>\n",
       "<table border=\"1\" class=\"dataframe\">\n",
       "  <thead>\n",
       "    <tr style=\"text-align: right;\">\n",
       "      <th>result</th>\n",
       "      <th>gender</th>\n",
       "      <th>fail</th>\n",
       "      <th>pass</th>\n",
       "      <th>rate</th>\n",
       "    </tr>\n",
       "  </thead>\n",
       "  <tbody>\n",
       "    <tr>\n",
       "      <th>0</th>\n",
       "      <td>female</td>\n",
       "      <td>400</td>\n",
       "      <td>601</td>\n",
       "      <td>0.600400</td>\n",
       "    </tr>\n",
       "    <tr>\n",
       "      <th>1</th>\n",
       "      <td>male</td>\n",
       "      <td>101</td>\n",
       "      <td>901</td>\n",
       "      <td>0.899202</td>\n",
       "    </tr>\n",
       "  </tbody>\n",
       "</table>\n",
       "</div>"
      ],
      "text/plain": [
       "result  gender  fail  pass      rate\n",
       "0       female   400   601  0.600400\n",
       "1         male   101   901  0.899202"
      ]
     },
     "execution_count": 15,
     "metadata": {},
     "output_type": "execute_result"
    }
   ],
   "source": [
    "tidydata = df.pivot_table(index = 'gender', columns = 'result', values = 'count', aggfunc = sum)\\\n",
    ".assign(rate = lambda _df : _df['pass']/(_df['fail'] + _df['pass'])).reset_index(); tidydata"
   ]
  },
  {
   "cell_type": "markdown",
   "id": "d3a4de0e-08c7-4fa5-a6d8-161df7f13a5b",
   "metadata": {},
   "source": [
    "* 그래프 산출"
   ]
  },
  {
   "cell_type": "code",
   "execution_count": 16,
   "id": "e48b255e-1570-4476-b5b5-a0755cd94e98",
   "metadata": {},
   "outputs": [
    {
     "data": {
      "image/png": "[encoded data removed]",
      "text/plain": [
       "<Figure size 640x480 with 1 Axes>"
      ]
     },
     "metadata": {
      "image/png": {
       "height": 480,
       "width": 640
      }
     },
     "output_type": "display_data"
    },
    {
     "data": {
      "text/plain": [
       "<Figure Size: (640 x 480)>"
      ]
     },
     "execution_count": 16,
     "metadata": {},
     "output_type": "execute_result"
    }
   ],
   "source": [
    "fig = ggplot(tidydata)\n",
    "bar = geom_col(aes(x = 'gender', y = 'rate', fill = 'gender'))\n",
    "\n",
    "fig + bar"
   ]
  },
  {
   "cell_type": "markdown",
   "id": "cc9a71bb-0d22-43ce-afde-abaa84cf14c8",
   "metadata": {},
   "source": [
    "### **2. 학과 및 성별 별 합격률 시각화**\n",
    "---\n",
    "\n",
    "\n"
   ]
  },
  {
   "cell_type": "markdown",
   "id": "ade91811-cd16-436a-aaf7-aba42bd0032d",
   "metadata": {},
   "source": [
    "* 피벗 테이블 생성"
   ]
  },
  {
   "cell_type": "code",
   "execution_count": 17,
   "id": "d29e2337-2742-4757-a0c3-4378cf5a4751",
   "metadata": {},
   "outputs": [
    {
     "data": {
      "text/html": [
       "<div>\n",
       "<style scoped>\n",
       "    .dataframe tbody tr th:only-of-type {\n",
       "        vertical-align: middle;\n",
       "    }\n",
       "\n",
       "    .dataframe tbody tr th {\n",
       "        vertical-align: top;\n",
       "    }\n",
       "\n",
       "    .dataframe thead th {\n",
       "        text-align: right;\n",
       "    }\n",
       "</style>\n",
       "<table border=\"1\" class=\"dataframe\">\n",
       "  <thead>\n",
       "    <tr style=\"text-align: right;\">\n",
       "      <th></th>\n",
       "      <th>result</th>\n",
       "      <th>fail</th>\n",
       "      <th>pass</th>\n",
       "    </tr>\n",
       "    <tr>\n",
       "      <th>department</th>\n",
       "      <th>gender</th>\n",
       "      <th></th>\n",
       "      <th></th>\n",
       "    </tr>\n",
       "  </thead>\n",
       "  <tbody>\n",
       "    <tr>\n",
       "      <th rowspan=\"2\" valign=\"top\">A</th>\n",
       "      <th>female</th>\n",
       "      <td>0</td>\n",
       "      <td>1</td>\n",
       "    </tr>\n",
       "    <tr>\n",
       "      <th>male</th>\n",
       "      <td>100</td>\n",
       "      <td>900</td>\n",
       "    </tr>\n",
       "    <tr>\n",
       "      <th rowspan=\"2\" valign=\"top\">B</th>\n",
       "      <th>female</th>\n",
       "      <td>400</td>\n",
       "      <td>600</td>\n",
       "    </tr>\n",
       "    <tr>\n",
       "      <th>male</th>\n",
       "      <td>1</td>\n",
       "      <td>1</td>\n",
       "    </tr>\n",
       "  </tbody>\n",
       "</table>\n",
       "</div>"
      ],
      "text/plain": [
       "result             fail  pass\n",
       "department gender            \n",
       "A          female     0     1\n",
       "           male     100   900\n",
       "B          female   400   600\n",
       "           male       1     1"
      ]
     },
     "execution_count": 17,
     "metadata": {},
     "output_type": "execute_result"
    }
   ],
   "source": [
    "df.pivot_table(index = ['department', 'gender'], columns = 'result', values = 'count', aggfunc = sum)"
   ]
  },
  {
   "cell_type": "markdown",
   "id": "3df41ea1-d3da-4d69-841c-e78658d5499f",
   "metadata": {},
   "source": [
    "* 새로운 열 : 합격률 생성"
   ]
  },
  {
   "cell_type": "code",
   "execution_count": 18,
   "id": "63c2fd3b-a223-4020-a63f-34728f6db05d",
   "metadata": {},
   "outputs": [
    {
     "data": {
      "text/html": [
       "<div>\n",
       "<style scoped>\n",
       "    .dataframe tbody tr th:only-of-type {\n",
       "        vertical-align: middle;\n",
       "    }\n",
       "\n",
       "    .dataframe tbody tr th {\n",
       "        vertical-align: top;\n",
       "    }\n",
       "\n",
       "    .dataframe thead th {\n",
       "        text-align: right;\n",
       "    }\n",
       "</style>\n",
       "<table border=\"1\" class=\"dataframe\">\n",
       "  <thead>\n",
       "    <tr style=\"text-align: right;\">\n",
       "      <th></th>\n",
       "      <th>result</th>\n",
       "      <th>fail</th>\n",
       "      <th>pass</th>\n",
       "      <th>rate</th>\n",
       "    </tr>\n",
       "    <tr>\n",
       "      <th>department</th>\n",
       "      <th>gender</th>\n",
       "      <th></th>\n",
       "      <th></th>\n",
       "      <th></th>\n",
       "    </tr>\n",
       "  </thead>\n",
       "  <tbody>\n",
       "    <tr>\n",
       "      <th rowspan=\"2\" valign=\"top\">A</th>\n",
       "      <th>female</th>\n",
       "      <td>0</td>\n",
       "      <td>1</td>\n",
       "      <td>1.0</td>\n",
       "    </tr>\n",
       "    <tr>\n",
       "      <th>male</th>\n",
       "      <td>100</td>\n",
       "      <td>900</td>\n",
       "      <td>0.9</td>\n",
       "    </tr>\n",
       "    <tr>\n",
       "      <th rowspan=\"2\" valign=\"top\">B</th>\n",
       "      <th>female</th>\n",
       "      <td>400</td>\n",
       "      <td>600</td>\n",
       "      <td>0.6</td>\n",
       "    </tr>\n",
       "    <tr>\n",
       "      <th>male</th>\n",
       "      <td>1</td>\n",
       "      <td>1</td>\n",
       "      <td>0.5</td>\n",
       "    </tr>\n",
       "  </tbody>\n",
       "</table>\n",
       "</div>"
      ],
      "text/plain": [
       "result             fail  pass  rate\n",
       "department gender                  \n",
       "A          female     0     1   1.0\n",
       "           male     100   900   0.9\n",
       "B          female   400   600   0.6\n",
       "           male       1     1   0.5"
      ]
     },
     "execution_count": 18,
     "metadata": {},
     "output_type": "execute_result"
    }
   ],
   "source": [
    "df.pivot_table(index = ['department', 'gender'], columns = 'result', values = 'count', aggfunc = sum)\\\n",
    ".assign(rate = (lambda _df : _df['pass']/(_df['pass'] + _df['fail'])))"
   ]
  },
  {
   "cell_type": "markdown",
   "id": "5a3cad1f-9878-446c-b4d4-793d3db49b3f",
   "metadata": {},
   "source": [
    "* tidydata 저장"
   ]
  },
  {
   "cell_type": "code",
   "execution_count": 19,
   "id": "280b5455-0dc9-4d81-b648-271eb8002889",
   "metadata": {},
   "outputs": [
    {
     "data": {
      "text/html": [
       "<div>\n",
       "<style scoped>\n",
       "    .dataframe tbody tr th:only-of-type {\n",
       "        vertical-align: middle;\n",
       "    }\n",
       "\n",
       "    .dataframe tbody tr th {\n",
       "        vertical-align: top;\n",
       "    }\n",
       "\n",
       "    .dataframe thead th {\n",
       "        text-align: right;\n",
       "    }\n",
       "</style>\n",
       "<table border=\"1\" class=\"dataframe\">\n",
       "  <thead>\n",
       "    <tr style=\"text-align: right;\">\n",
       "      <th>result</th>\n",
       "      <th>department</th>\n",
       "      <th>gender</th>\n",
       "      <th>fail</th>\n",
       "      <th>pass</th>\n",
       "      <th>rate</th>\n",
       "    </tr>\n",
       "  </thead>\n",
       "  <tbody>\n",
       "    <tr>\n",
       "      <th>0</th>\n",
       "      <td>A</td>\n",
       "      <td>female</td>\n",
       "      <td>0</td>\n",
       "      <td>1</td>\n",
       "      <td>1.0</td>\n",
       "    </tr>\n",
       "    <tr>\n",
       "      <th>1</th>\n",
       "      <td>A</td>\n",
       "      <td>male</td>\n",
       "      <td>100</td>\n",
       "      <td>900</td>\n",
       "      <td>0.9</td>\n",
       "    </tr>\n",
       "    <tr>\n",
       "      <th>2</th>\n",
       "      <td>B</td>\n",
       "      <td>female</td>\n",
       "      <td>400</td>\n",
       "      <td>600</td>\n",
       "      <td>0.6</td>\n",
       "    </tr>\n",
       "    <tr>\n",
       "      <th>3</th>\n",
       "      <td>B</td>\n",
       "      <td>male</td>\n",
       "      <td>1</td>\n",
       "      <td>1</td>\n",
       "      <td>0.5</td>\n",
       "    </tr>\n",
       "  </tbody>\n",
       "</table>\n",
       "</div>"
      ],
      "text/plain": [
       "result department  gender  fail  pass  rate\n",
       "0               A  female     0     1   1.0\n",
       "1               A    male   100   900   0.9\n",
       "2               B  female   400   600   0.6\n",
       "3               B    male     1     1   0.5"
      ]
     },
     "execution_count": 19,
     "metadata": {},
     "output_type": "execute_result"
    }
   ],
   "source": [
    "tidydata = df.pivot_table(index = ['department', 'gender'], columns = 'result', values = 'count', aggfunc = sum)\\\n",
    ".assign(rate = (lambda _df : _df['pass']/(_df['pass'] + _df['fail']))).reset_index(); tidydata"
   ]
  },
  {
   "cell_type": "markdown",
   "id": "f356358f-727b-4a03-91f7-d776bfdf851c",
   "metadata": {},
   "source": [
    "* 그래프 산출"
   ]
  },
  {
   "cell_type": "code",
   "execution_count": 20,
   "id": "04c53015-ce5f-4451-ac80-738fd2b30dfc",
   "metadata": {},
   "outputs": [
    {
     "data": {
      "image/png": "[encoded data removed]",
      "text/plain": [
       "<Figure size 640x480 with 2 Axes>"
      ]
     },
     "metadata": {
      "image/png": {
       "height": 480,
       "width": 640
      }
     },
     "output_type": "display_data"
    },
    {
     "data": {
      "text/plain": [
       "<Figure Size: (640 x 480)>"
      ]
     },
     "execution_count": 20,
     "metadata": {},
     "output_type": "execute_result"
    }
   ],
   "source": [
    "fig = ggplot(tidydata)\n",
    "bar = geom_col(aes(x = 'gender', y = 'rate', fill = 'gender'))\n",
    "\n",
    "fig + bar + facet_wrap('department')"
   ]
  },
  {
   "cell_type": "markdown",
   "id": "afb31042-a169-46c0-8dd8-f44282dff4b3",
   "metadata": {},
   "source": [
    "**끝**"
   ]
  }
 ],
 "metadata": {
  "kernelspec": {
   "display_name": "Python 3 (ipykernel)",
   "language": "python",
   "name": "python3"
  },
  "language_info": {
   "codemirror_mode": {
    "name": "ipython",
    "version": 3
   },
   "file_extension": ".py",
   "mimetype": "text/x-python",
   "name": "python",
   "nbconvert_exporter": "python",
   "pygments_lexer": "ipython3",
   "version": "3.10.13"
  }
 },
 "nbformat": 4,
 "nbformat_minor": 5
}
