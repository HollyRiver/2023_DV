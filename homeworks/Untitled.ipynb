{
 "cells": [
  {
   "cell_type": "markdown",
   "id": "77906083-41a2-42a6-b7fb-edd745dfb39e",
   "metadata": {},
   "source": [
    "### 사전작업"
   ]
  },
  {
   "cell_type": "code",
   "execution_count": 6,
   "id": "b4945f75-4885-4195-abc8-323a39024a3b",
   "metadata": {},
   "outputs": [],
   "source": [
    "import pandas as pd\n",
    "import numpy as np\n",
    "import plotly.express as px\n",
    "import plotly.io as pio\n",
    "\n",
    "#---#\n",
    "pd.options.plotting.backend = 'plotly'\n",
    "pio.templates.default = 'plotly_white'\n",
    "#pio.renderers.default = 'notebook_connected'"
   ]
  },
  {
   "cell_type": "code",
   "execution_count": null,
   "id": "3d5df5e3-a283-4a2b-b02f-c20b5d4f8122",
   "metadata": {},
   "outputs": [],
   "source": []
  }
 ],
 "metadata": {
  "kernelspec": {
   "display_name": "Python 3 (ipykernel)",
   "language": "python",
   "name": "python3"
  },
  "language_info": {
   "codemirror_mode": {
    "name": "ipython",
    "version": 3
   },
   "file_extension": ".py",
   "mimetype": "text/x-python",
   "name": "python",
   "nbconvert_exporter": "python",
   "pygments_lexer": "ipython3",
   "version": "3.10.13"
  }
 },
 "nbformat": 4,
 "nbformat_minor": 5
}
