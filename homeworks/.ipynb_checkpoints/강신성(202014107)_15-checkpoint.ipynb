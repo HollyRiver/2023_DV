{
 "cells": [
  {
   "cell_type": "markdown",
   "id": "3be463ed-a8aa-450a-9474-f2b72d412486",
   "metadata": {},
   "source": [
    "### 라이브러리 imports"
   ]
  },
  {
   "cell_type": "code",
   "execution_count": 1,
   "id": "df89f9c0-ac63-47ec-b19b-447d0df23a27",
   "metadata": {},
   "outputs": [],
   "source": [
    "import pandas as pd\n",
    "import numpy as np"
   ]
  },
  {
   "cell_type": "code",
   "execution_count": 6,
   "id": "548e6330-6d62-4930-ad1c-c12cbed1e154",
   "metadata": {},
   "outputs": [
    {
     "name": "stdout",
     "output_type": "stream",
     "text": [
      "Templates configuration\n",
      "-----------------------\n",
      "    Default template: 'plotly_white'\n",
      "    Available templates:\n",
      "        ['ggplot2', 'seaborn', 'simple_white', 'plotly',\n",
      "         'plotly_white', 'plotly_dark', 'presentation', 'xgridoff',\n",
      "         'ygridoff', 'gridon', 'none']\n",
      "\n"
     ]
    }
   ],
   "source": [
    "import plotly.io as pio\n",
    "\n",
    "pd.options.plotting.backend = \"plotly\"\n",
    "pio.templates.default = \"plotly_white\"\n",
    "print(pio.templates)"
   ]
  },
  {
   "cell_type": "markdown",
   "id": "0c8fa6af-33af-4a26-a445-73124008c4c9",
   "metadata": {},
   "source": [
    "## 문제\n",
    "\n",
    "아래의 코드를 활용하여 Kaggle의 [HRdataset](https://www.kaggle.com/datasets/rhuebner/human-resources-data-set)을 불러오고 물음에 답하라."
   ]
  },
  {
   "cell_type": "code",
   "execution_count": 2,
   "id": "73eaeef1-77d1-4c2e-ad24-c6cab8fd3835",
   "metadata": {},
   "outputs": [
    {
     "data": {
      "text/html": [
       "<div>\n",
       "<style scoped>\n",
       "    .dataframe tbody tr th:only-of-type {\n",
       "        vertical-align: middle;\n",
       "    }\n",
       "\n",
       "    .dataframe tbody tr th {\n",
       "        vertical-align: top;\n",
       "    }\n",
       "\n",
       "    .dataframe thead th {\n",
       "        text-align: right;\n",
       "    }\n",
       "</style>\n",
       "<table border=\"1\" class=\"dataframe\">\n",
       "  <thead>\n",
       "    <tr style=\"text-align: right;\">\n",
       "      <th></th>\n",
       "      <th>Employee_Name</th>\n",
       "      <th>EmpID</th>\n",
       "      <th>MarriedID</th>\n",
       "      <th>MaritalStatusID</th>\n",
       "      <th>GenderID</th>\n",
       "      <th>EmpStatusID</th>\n",
       "      <th>DeptID</th>\n",
       "      <th>PerfScoreID</th>\n",
       "      <th>FromDiversityJobFairID</th>\n",
       "      <th>Salary</th>\n",
       "      <th>...</th>\n",
       "      <th>ManagerName</th>\n",
       "      <th>ManagerID</th>\n",
       "      <th>RecruitmentSource</th>\n",
       "      <th>PerformanceScore</th>\n",
       "      <th>EngagementSurvey</th>\n",
       "      <th>EmpSatisfaction</th>\n",
       "      <th>SpecialProjectsCount</th>\n",
       "      <th>LastPerformanceReview_Date</th>\n",
       "      <th>DaysLateLast30</th>\n",
       "      <th>Absences</th>\n",
       "    </tr>\n",
       "  </thead>\n",
       "  <tbody>\n",
       "    <tr>\n",
       "      <th>0</th>\n",
       "      <td>Adinolfi, Wilson  K</td>\n",
       "      <td>10026</td>\n",
       "      <td>0</td>\n",
       "      <td>0</td>\n",
       "      <td>1</td>\n",
       "      <td>1</td>\n",
       "      <td>5</td>\n",
       "      <td>4</td>\n",
       "      <td>0</td>\n",
       "      <td>62506</td>\n",
       "      <td>...</td>\n",
       "      <td>Michael Albert</td>\n",
       "      <td>22.0</td>\n",
       "      <td>LinkedIn</td>\n",
       "      <td>Exceeds</td>\n",
       "      <td>4.60</td>\n",
       "      <td>5</td>\n",
       "      <td>0</td>\n",
       "      <td>1/17/2019</td>\n",
       "      <td>0</td>\n",
       "      <td>1</td>\n",
       "    </tr>\n",
       "    <tr>\n",
       "      <th>1</th>\n",
       "      <td>Ait Sidi, Karthikeyan</td>\n",
       "      <td>10084</td>\n",
       "      <td>1</td>\n",
       "      <td>1</td>\n",
       "      <td>1</td>\n",
       "      <td>5</td>\n",
       "      <td>3</td>\n",
       "      <td>3</td>\n",
       "      <td>0</td>\n",
       "      <td>104437</td>\n",
       "      <td>...</td>\n",
       "      <td>Simon Roup</td>\n",
       "      <td>4.0</td>\n",
       "      <td>Indeed</td>\n",
       "      <td>Fully Meets</td>\n",
       "      <td>4.96</td>\n",
       "      <td>3</td>\n",
       "      <td>6</td>\n",
       "      <td>2/24/2016</td>\n",
       "      <td>0</td>\n",
       "      <td>17</td>\n",
       "    </tr>\n",
       "    <tr>\n",
       "      <th>2</th>\n",
       "      <td>Akinkuolie, Sarah</td>\n",
       "      <td>10196</td>\n",
       "      <td>1</td>\n",
       "      <td>1</td>\n",
       "      <td>0</td>\n",
       "      <td>5</td>\n",
       "      <td>5</td>\n",
       "      <td>3</td>\n",
       "      <td>0</td>\n",
       "      <td>64955</td>\n",
       "      <td>...</td>\n",
       "      <td>Kissy Sullivan</td>\n",
       "      <td>20.0</td>\n",
       "      <td>LinkedIn</td>\n",
       "      <td>Fully Meets</td>\n",
       "      <td>3.02</td>\n",
       "      <td>3</td>\n",
       "      <td>0</td>\n",
       "      <td>5/15/2012</td>\n",
       "      <td>0</td>\n",
       "      <td>3</td>\n",
       "    </tr>\n",
       "    <tr>\n",
       "      <th>3</th>\n",
       "      <td>Alagbe,Trina</td>\n",
       "      <td>10088</td>\n",
       "      <td>1</td>\n",
       "      <td>1</td>\n",
       "      <td>0</td>\n",
       "      <td>1</td>\n",
       "      <td>5</td>\n",
       "      <td>3</td>\n",
       "      <td>0</td>\n",
       "      <td>64991</td>\n",
       "      <td>...</td>\n",
       "      <td>Elijiah Gray</td>\n",
       "      <td>16.0</td>\n",
       "      <td>Indeed</td>\n",
       "      <td>Fully Meets</td>\n",
       "      <td>4.84</td>\n",
       "      <td>5</td>\n",
       "      <td>0</td>\n",
       "      <td>1/3/2019</td>\n",
       "      <td>0</td>\n",
       "      <td>15</td>\n",
       "    </tr>\n",
       "    <tr>\n",
       "      <th>4</th>\n",
       "      <td>Anderson, Carol</td>\n",
       "      <td>10069</td>\n",
       "      <td>0</td>\n",
       "      <td>2</td>\n",
       "      <td>0</td>\n",
       "      <td>5</td>\n",
       "      <td>5</td>\n",
       "      <td>3</td>\n",
       "      <td>0</td>\n",
       "      <td>50825</td>\n",
       "      <td>...</td>\n",
       "      <td>Webster Butler</td>\n",
       "      <td>39.0</td>\n",
       "      <td>Google Search</td>\n",
       "      <td>Fully Meets</td>\n",
       "      <td>5.00</td>\n",
       "      <td>4</td>\n",
       "      <td>0</td>\n",
       "      <td>2/1/2016</td>\n",
       "      <td>0</td>\n",
       "      <td>2</td>\n",
       "    </tr>\n",
       "    <tr>\n",
       "      <th>...</th>\n",
       "      <td>...</td>\n",
       "      <td>...</td>\n",
       "      <td>...</td>\n",
       "      <td>...</td>\n",
       "      <td>...</td>\n",
       "      <td>...</td>\n",
       "      <td>...</td>\n",
       "      <td>...</td>\n",
       "      <td>...</td>\n",
       "      <td>...</td>\n",
       "      <td>...</td>\n",
       "      <td>...</td>\n",
       "      <td>...</td>\n",
       "      <td>...</td>\n",
       "      <td>...</td>\n",
       "      <td>...</td>\n",
       "      <td>...</td>\n",
       "      <td>...</td>\n",
       "      <td>...</td>\n",
       "      <td>...</td>\n",
       "      <td>...</td>\n",
       "    </tr>\n",
       "    <tr>\n",
       "      <th>306</th>\n",
       "      <td>Woodson, Jason</td>\n",
       "      <td>10135</td>\n",
       "      <td>0</td>\n",
       "      <td>0</td>\n",
       "      <td>1</td>\n",
       "      <td>1</td>\n",
       "      <td>5</td>\n",
       "      <td>3</td>\n",
       "      <td>0</td>\n",
       "      <td>65893</td>\n",
       "      <td>...</td>\n",
       "      <td>Kissy Sullivan</td>\n",
       "      <td>20.0</td>\n",
       "      <td>LinkedIn</td>\n",
       "      <td>Fully Meets</td>\n",
       "      <td>4.07</td>\n",
       "      <td>4</td>\n",
       "      <td>0</td>\n",
       "      <td>2/28/2019</td>\n",
       "      <td>0</td>\n",
       "      <td>13</td>\n",
       "    </tr>\n",
       "    <tr>\n",
       "      <th>307</th>\n",
       "      <td>Ybarra, Catherine</td>\n",
       "      <td>10301</td>\n",
       "      <td>0</td>\n",
       "      <td>0</td>\n",
       "      <td>0</td>\n",
       "      <td>5</td>\n",
       "      <td>5</td>\n",
       "      <td>1</td>\n",
       "      <td>0</td>\n",
       "      <td>48513</td>\n",
       "      <td>...</td>\n",
       "      <td>Brannon Miller</td>\n",
       "      <td>12.0</td>\n",
       "      <td>Google Search</td>\n",
       "      <td>PIP</td>\n",
       "      <td>3.20</td>\n",
       "      <td>2</td>\n",
       "      <td>0</td>\n",
       "      <td>9/2/2015</td>\n",
       "      <td>5</td>\n",
       "      <td>4</td>\n",
       "    </tr>\n",
       "    <tr>\n",
       "      <th>308</th>\n",
       "      <td>Zamora, Jennifer</td>\n",
       "      <td>10010</td>\n",
       "      <td>0</td>\n",
       "      <td>0</td>\n",
       "      <td>0</td>\n",
       "      <td>1</td>\n",
       "      <td>3</td>\n",
       "      <td>4</td>\n",
       "      <td>0</td>\n",
       "      <td>220450</td>\n",
       "      <td>...</td>\n",
       "      <td>Janet King</td>\n",
       "      <td>2.0</td>\n",
       "      <td>Employee Referral</td>\n",
       "      <td>Exceeds</td>\n",
       "      <td>4.60</td>\n",
       "      <td>5</td>\n",
       "      <td>6</td>\n",
       "      <td>2/21/2019</td>\n",
       "      <td>0</td>\n",
       "      <td>16</td>\n",
       "    </tr>\n",
       "    <tr>\n",
       "      <th>309</th>\n",
       "      <td>Zhou, Julia</td>\n",
       "      <td>10043</td>\n",
       "      <td>0</td>\n",
       "      <td>0</td>\n",
       "      <td>0</td>\n",
       "      <td>1</td>\n",
       "      <td>3</td>\n",
       "      <td>3</td>\n",
       "      <td>0</td>\n",
       "      <td>89292</td>\n",
       "      <td>...</td>\n",
       "      <td>Simon Roup</td>\n",
       "      <td>4.0</td>\n",
       "      <td>Employee Referral</td>\n",
       "      <td>Fully Meets</td>\n",
       "      <td>5.00</td>\n",
       "      <td>3</td>\n",
       "      <td>5</td>\n",
       "      <td>2/1/2019</td>\n",
       "      <td>0</td>\n",
       "      <td>11</td>\n",
       "    </tr>\n",
       "    <tr>\n",
       "      <th>310</th>\n",
       "      <td>Zima, Colleen</td>\n",
       "      <td>10271</td>\n",
       "      <td>0</td>\n",
       "      <td>4</td>\n",
       "      <td>0</td>\n",
       "      <td>1</td>\n",
       "      <td>5</td>\n",
       "      <td>3</td>\n",
       "      <td>0</td>\n",
       "      <td>45046</td>\n",
       "      <td>...</td>\n",
       "      <td>David Stanley</td>\n",
       "      <td>14.0</td>\n",
       "      <td>LinkedIn</td>\n",
       "      <td>Fully Meets</td>\n",
       "      <td>4.50</td>\n",
       "      <td>5</td>\n",
       "      <td>0</td>\n",
       "      <td>1/30/2019</td>\n",
       "      <td>0</td>\n",
       "      <td>2</td>\n",
       "    </tr>\n",
       "  </tbody>\n",
       "</table>\n",
       "<p>311 rows × 36 columns</p>\n",
       "</div>"
      ],
      "text/plain": [
       "                Employee_Name  EmpID  MarriedID  MaritalStatusID  GenderID  \\\n",
       "0         Adinolfi, Wilson  K  10026          0                0         1   \n",
       "1    Ait Sidi, Karthikeyan     10084          1                1         1   \n",
       "2           Akinkuolie, Sarah  10196          1                1         0   \n",
       "3                Alagbe,Trina  10088          1                1         0   \n",
       "4            Anderson, Carol   10069          0                2         0   \n",
       "..                        ...    ...        ...              ...       ...   \n",
       "306            Woodson, Jason  10135          0                0         1   \n",
       "307        Ybarra, Catherine   10301          0                0         0   \n",
       "308          Zamora, Jennifer  10010          0                0         0   \n",
       "309               Zhou, Julia  10043          0                0         0   \n",
       "310             Zima, Colleen  10271          0                4         0   \n",
       "\n",
       "     EmpStatusID  DeptID  PerfScoreID  FromDiversityJobFairID  Salary  ...  \\\n",
       "0              1       5            4                       0   62506  ...   \n",
       "1              5       3            3                       0  104437  ...   \n",
       "2              5       5            3                       0   64955  ...   \n",
       "3              1       5            3                       0   64991  ...   \n",
       "4              5       5            3                       0   50825  ...   \n",
       "..           ...     ...          ...                     ...     ...  ...   \n",
       "306            1       5            3                       0   65893  ...   \n",
       "307            5       5            1                       0   48513  ...   \n",
       "308            1       3            4                       0  220450  ...   \n",
       "309            1       3            3                       0   89292  ...   \n",
       "310            1       5            3                       0   45046  ...   \n",
       "\n",
       "        ManagerName  ManagerID  RecruitmentSource PerformanceScore  \\\n",
       "0    Michael Albert       22.0           LinkedIn          Exceeds   \n",
       "1        Simon Roup        4.0             Indeed      Fully Meets   \n",
       "2    Kissy Sullivan       20.0           LinkedIn      Fully Meets   \n",
       "3      Elijiah Gray       16.0             Indeed      Fully Meets   \n",
       "4    Webster Butler       39.0      Google Search      Fully Meets   \n",
       "..              ...        ...                ...              ...   \n",
       "306  Kissy Sullivan       20.0           LinkedIn      Fully Meets   \n",
       "307  Brannon Miller       12.0      Google Search              PIP   \n",
       "308      Janet King        2.0  Employee Referral          Exceeds   \n",
       "309      Simon Roup        4.0  Employee Referral      Fully Meets   \n",
       "310   David Stanley       14.0           LinkedIn      Fully Meets   \n",
       "\n",
       "     EngagementSurvey EmpSatisfaction SpecialProjectsCount  \\\n",
       "0                4.60               5                    0   \n",
       "1                4.96               3                    6   \n",
       "2                3.02               3                    0   \n",
       "3                4.84               5                    0   \n",
       "4                5.00               4                    0   \n",
       "..                ...             ...                  ...   \n",
       "306              4.07               4                    0   \n",
       "307              3.20               2                    0   \n",
       "308              4.60               5                    6   \n",
       "309              5.00               3                    5   \n",
       "310              4.50               5                    0   \n",
       "\n",
       "    LastPerformanceReview_Date DaysLateLast30 Absences  \n",
       "0                    1/17/2019              0        1  \n",
       "1                    2/24/2016              0       17  \n",
       "2                    5/15/2012              0        3  \n",
       "3                     1/3/2019              0       15  \n",
       "4                     2/1/2016              0        2  \n",
       "..                         ...            ...      ...  \n",
       "306                  2/28/2019              0       13  \n",
       "307                   9/2/2015              5        4  \n",
       "308                  2/21/2019              0       16  \n",
       "309                   2/1/2019              0       11  \n",
       "310                  1/30/2019              0        2  \n",
       "\n",
       "[311 rows x 36 columns]"
      ]
     },
     "execution_count": 2,
     "metadata": {},
     "output_type": "execute_result"
    }
   ],
   "source": [
    "df = pd.read_csv('https://raw.githubusercontent.com/guebin/DV2022/master/posts/HRDataset_v14.csv')\n",
    "df"
   ]
  },
  {
   "cell_type": "markdown",
   "id": "443e0090-5c0a-4d1a-bac0-633fa785a7c5",
   "metadata": {},
   "source": [
    "아래와 같은 시각화를 하라. (`Employee_Name`이 보이도록 할 것)\n",
    "\n",
    "![](https://guebin.github.io/DV2023/posts/10wk-2_files/figure-html/b93fb0cc-6c99-4df7-b5e4-5b9cc8fd9d0d-1-573cf62d-7a90-40b1-bea8-6c58a362996f.png)"
   ]
  },
  {
   "cell_type": "markdown",
   "id": "d822ccac-1425-42cc-a714-ce85199b5f88",
   "metadata": {},
   "source": [
    "## 풀이"
   ]
  },
  {
   "cell_type": "code",
   "execution_count": 3,
   "id": "5eca62d5-5539-441b-8d22-32280697eaff",
   "metadata": {},
   "outputs": [
    {
     "data": {
      "text/plain": [
       "Index(['Employee_Name', 'EmpID', 'MarriedID', 'MaritalStatusID', 'GenderID',\n",
       "       'EmpStatusID', 'DeptID', 'PerfScoreID', 'FromDiversityJobFairID',\n",
       "       'Salary', 'Termd', 'PositionID', 'Position', 'State', 'Zip', 'DOB',\n",
       "       'Sex', 'MaritalDesc', 'CitizenDesc', 'HispanicLatino', 'RaceDesc',\n",
       "       'DateofHire', 'DateofTermination', 'TermReason', 'EmploymentStatus',\n",
       "       'Department', 'ManagerName', 'ManagerID', 'RecruitmentSource',\n",
       "       'PerformanceScore', 'EngagementSurvey', 'EmpSatisfaction',\n",
       "       'SpecialProjectsCount', 'LastPerformanceReview_Date', 'DaysLateLast30',\n",
       "       'Absences'],\n",
       "      dtype='object')"
      ]
     },
     "execution_count": 3,
     "metadata": {},
     "output_type": "execute_result"
    }
   ],
   "source": [
    "df.columns"
   ]
  },
  {
   "cell_type": "code",
   "execution_count": 24,
   "id": "800c2733-3e9f-4726-b306-a65659fc5544",
   "metadata": {},
   "outputs": [
    {
     "data": {
      "application/vnd.plotly.v1+json": {
       "config": {
        "plotlyServerURL": "https://plot.ly"
       },
       "data": [
        {
         "alignmentgroup": "True",
         "boxpoints": "outliers",
         "customdata": [
          [
           "Adinolfi, Wilson  K"
          ],
          [
           "Ait Sidi, Karthikeyan   "
          ],
          [
           "Athwal, Sam"
          ],
          [
           "Bacong, Alejandro "
          ],
          [
           "Barbara, Thomas"
          ],
          [
           "Barbossa, Hector"
          ],
          [
           "Barone, Francesco  A"
          ],
          [
           "Barton, Nader"
          ],
          [
           "Bates, Norman"
          ],
          [
           "Becker, Scott"
          ],
          [
           "Bernstein, Sean"
          ],
          [
           "Booth, Frank"
          ],
          [
           "Bozzi, Charles"
          ],
          [
           "Buccheri, Joseph  "
          ],
          [
           "Burkett, Benjamin "
          ],
          [
           "Cady, Max "
          ],
          [
           "Candie, Calvin"
          ],
          [
           "Carey, Michael  "
          ],
          [
           "Champaigne, Brian"
          ],
          [
           "Chang, Donovan  E"
          ],
          [
           "Chigurh, Anton"
          ],
          [
           "Clayton, Rick"
          ],
          [
           "Close, Phil"
          ],
          [
           "Clukey, Elijian"
          ],
          [
           "Cockel, James"
          ],
          [
           "Cole, Spencer"
          ],
          [
           "Corleone, Michael"
          ],
          [
           "Corleone, Vito"
          ],
          [
           "Costello, Frank"
          ],
          [
           "Cross, Noah"
          ],
          [
           "Davis, Daniel"
          ],
          [
           "Dee, Randy"
          ],
          [
           "DeGweck,  James"
          ],
          [
           "Delarge, Alex"
          ],
          [
           "Desimone, Carl "
          ],
          [
           "DeVito, Tommy"
          ],
          [
           "Dickinson, Geoff "
          ],
          [
           "Dougall, Eric"
          ],
          [
           "Engdahl, Jean"
          ],
          [
           "England, Rex"
          ],
          [
           "Estremera, Miguel"
          ],
          [
           "Fernandes, Nilson  "
          ],
          [
           "Fett, Boba"
          ],
          [
           "Fitzpatrick, Michael  J"
          ],
          [
           "Forrest, Alex"
          ],
          [
           "Foss, Jason"
          ],
          [
           "Fraval, Maruk "
          ],
          [
           "Garcia, Raul"
          ],
          [
           "Gilles, Alex"
          ],
          [
           "Goeth, Amon"
          ],
          [
           "Gonzalez, Cayo"
          ],
          [
           "Gonzalez, Juan"
          ],
          [
           "Gordon, David"
          ],
          [
           "Gray, Elijiah  "
          ],
          [
           "Gruber, Hans"
          ],
          [
           "Guilianno, Mike"
          ],
          [
           "Hankard, Earnest"
          ],
          [
           "Heitzman, Anthony"
          ],
          [
           "Hitchcock, Alfred"
          ],
          [
           "Immediato, Walter"
          ],
          [
           "Johnson, George"
          ],
          [
           "Keatts, Kramer "
          ],
          [
           "Khemmich, Bartholemew"
          ],
          [
           "Knapp, Bradley  J"
          ],
          [
           "Kretschmer, John"
          ],
          [
           "Kreuger, Freddy"
          ],
          [
           "Lajiri,  Jyoti"
          ],
          [
           "Landa, Hans"
          ],
          [
           "Langton, Enrico"
          ],
          [
           "LaRotonda, William  "
          ],
          [
           "Latif, Mohammed"
          ],
          [
           "LeBlanc, Brandon  R"
          ],
          [
           "Lecter, Hannibal"
          ],
          [
           "Leruth, Giovanni"
          ],
          [
           "Linden, Mathew"
          ],
          [
           "MacLennan, Samuel"
          ],
          [
           "McKinzie, Jac"
          ],
          [
           "Miller, Brannon"
          ],
          [
           "Miller, Ned"
          ],
          [
           "Monkfish, Erasumus"
          ],
          [
           "Monroe, Peter"
          ],
          [
           "Moran, Patrick"
          ],
          [
           "Moumanil, Maliki "
          ],
          [
           "Myers, Michael"
          ],
          [
           "Navathe, Kurt"
          ],
          [
           "Ndzi, Colombui"
          ],
          [
           "Ndzi, Horia"
          ],
          [
           "Newman, Richard "
          ],
          [
           "Osturnka, Adeel"
          ],
          [
           "Owad, Clinton"
          ],
          [
           "Ozark, Travis"
          ],
          [
           "Patronick, Lucas"
          ],
          [
           "Pearson, Randall"
          ],
          [
           "Smith, Martin"
          ],
          [
           "Pham, Hong"
          ],
          [
           "Pitt, Brad "
          ],
          [
           "Punjabhi, Louis  "
          ],
          [
           "Quinn, Sean"
          ],
          [
           "Rarrick, Quinn"
          ],
          [
           "Ren, Kylo"
          ],
          [
           "Rhoads, Thomas"
          ],
          [
           "Robertson, Peter"
          ],
          [
           "Robinson, Alain  "
          ],
          [
           "Robinson, Elias"
          ],
          [
           "Rossetti, Bruno"
          ],
          [
           "Roup,Simon"
          ],
          [
           "Ruiz, Ricardo"
          ],
          [
           "Sadki, Nore  "
          ],
          [
           "Sahoo, Adil"
          ],
          [
           "Salter, Jason"
          ],
          [
           "Simard, Kramer"
          ],
          [
           "Smith, Joe"
          ],
          [
           "Smith, John"
          ],
          [
           "Soze, Keyser"
          ],
          [
           "Stansfield, Norman"
          ],
          [
           "Steans, Tyrone  "
          ],
          [
           "Stoica, Rick"
          ],
          [
           "Sullivan, Timothy"
          ],
          [
           "Szabo, Andrew"
          ],
          [
           "Tannen, Biff"
          ],
          [
           "Thibaud, Kenneth"
          ],
          [
           "Torrence, Jack"
          ],
          [
           "Tredinnick, Neville "
          ],
          [
           "True, Edward"
          ],
          [
           "Turpin, Jumil"
          ],
          [
           "Veera, Abdellah "
          ],
          [
           "Vega, Vincent"
          ],
          [
           "Villanueva, Noah"
          ],
          [
           "Voldemort, Lord"
          ],
          [
           "Walker, Roger"
          ],
          [
           "Wang, Charlie"
          ],
          [
           "Whittier, Scott"
          ],
          [
           "Wilber, Barry"
          ],
          [
           "Winthrop, Jordan  "
          ],
          [
           "Woodson, Jason"
          ]
         ],
         "hovertemplate": "Sex=M <br>RaceDesc=%{x}<br>Salary=%{y}<br>Employee_Name=%{customdata[0]}<extra></extra>",
         "legendgroup": "M ",
         "marker": {
          "color": "#636efa"
         },
         "name": "M ",
         "notched": false,
         "offsetgroup": "M ",
         "orientation": "v",
         "showlegend": true,
         "type": "box",
         "x": [
          "White",
          "White",
          "White",
          "White",
          "Black or African American",
          "Black or African American",
          "Two or more races",
          "White",
          "White",
          "Asian",
          "White",
          "Black or African American",
          "Asian",
          "White",
          "White",
          "White",
          "White",
          "Black or African American",
          "White",
          "White",
          "Black or African American",
          "White",
          "White",
          "White",
          "White",
          "Black or African American",
          "White",
          "Black or African American",
          "White",
          "White",
          "Two or more races",
          "White",
          "White",
          "Two or more races",
          "White",
          "White",
          "White",
          "Black or African American",
          "White",
          "White",
          "White",
          "White",
          "White",
          "White",
          "White",
          "Black or African American",
          "Black or African American",
          "White",
          "Black or African American",
          "White",
          "Black or African American",
          "Black or African American",
          "White",
          "White",
          "Black or African American",
          "Two or more races",
          "White",
          "White",
          "American Indian or Alaska Native",
          "Asian",
          "White",
          "White",
          "White",
          "Black or African American",
          "Asian",
          "Black or African American",
          "White",
          "White",
          "White",
          "Black or African American",
          "White",
          "White",
          "Asian",
          "Black or African American",
          "White",
          "White",
          "Two or more races",
          "Hispanic",
          "White",
          "White",
          "Black or African American",
          "Black or African American",
          "Black or African American",
          "Asian",
          "Asian",
          "Black or African American",
          "White",
          "White",
          "White",
          "Black or African American",
          "White",
          "Black or African American",
          "White",
          "Black or African American",
          "Asian",
          "White",
          "White",
          "Black or African American",
          "White",
          "White",
          "White",
          "White",
          "Black or African American",
          "White",
          "White",
          "White",
          "Black or African American",
          "White",
          "White",
          "Black or African American",
          "White",
          "White",
          "Black or African American",
          "Asian",
          "White",
          "White",
          "Asian",
          "White",
          "White",
          "White",
          "White",
          "White",
          "White",
          "Black or African American",
          "White",
          "White",
          "White",
          "Asian",
          "Black or African American",
          "Black or African American",
          "Asian",
          "White",
          "White",
          "White",
          "White"
         ],
         "x0": " ",
         "xaxis": "x",
         "y": [
          62506,
          104437,
          59365,
          50178,
          47211,
          92328,
          58709,
          52505,
          57834,
          53250,
          51044,
          103613,
          74312,
          65288,
          62162,
          77692,
          72640,
          52846,
          110929,
          60380,
          66808,
          68678,
          59369,
          50373,
          63108,
          59144,
          68051,
          170500,
          83552,
          92329,
          56294,
          56991,
          55722,
          61568,
          53189,
          96820,
          51259,
          138888,
          48888,
          54285,
          60340,
          64057,
          53366,
          72609,
          70187,
          178000,
          67251,
          52249,
          54933,
          74679,
          59892,
          68898,
          48285,
          62957,
          99020,
          71707,
          64246,
          46998,
          70545,
          83082,
          46837,
          50482,
          65310,
          46654,
          63973,
          71339,
          93206,
          82758,
          46120,
          64520,
          61962,
          93046,
          64738,
          70468,
          63450,
          52788,
          63291,
          83667,
          55800,
          58207,
          157000,
          72106,
          74417,
          57575,
          87921,
          50470,
          46664,
          48495,
          47414,
          53060,
          68829,
          108987,
          93093,
          53564,
          64724,
          47001,
          59472,
          83363,
          61729,
          61809,
          45115,
          55578,
          50428,
          63353,
          53180,
          140920,
          148999,
          46428,
          57975,
          88527,
          87826,
          60656,
          72992,
          87565,
          58273,
          63003,
          61355,
          63025,
          92989,
          90100,
          67176,
          64397,
          75281,
          100416,
          76029,
          58523,
          88976,
          55875,
          113999,
          66541,
          84903,
          58371,
          55140,
          70507,
          65893
         ],
         "y0": " ",
         "yaxis": "y"
        },
        {
         "alignmentgroup": "True",
         "boxpoints": "outliers",
         "customdata": [
          [
           "Akinkuolie, Sarah"
          ],
          [
           "Alagbe,Trina"
          ],
          [
           "Anderson, Carol "
          ],
          [
           "Anderson, Linda  "
          ],
          [
           "Andreola, Colby"
          ],
          [
           "Bachiochi, Linda"
          ],
          [
           "Baczenski, Rachael  "
          ],
          [
           "Beak, Kimberly  "
          ],
          [
           "Beatrice, Courtney "
          ],
          [
           "Becker, Renee"
          ],
          [
           "Biden, Lowan  M"
          ],
          [
           "Billis, Helen"
          ],
          [
           "Blount, Dianna"
          ],
          [
           "Bondwell, Betsy"
          ],
          [
           "Boutwell, Bonalyn"
          ],
          [
           "Brill, Donna"
          ],
          [
           "Brown, Mia"
          ],
          [
           "Bugali, Josephine "
          ],
          [
           "Bunbury, Jessica"
          ],
          [
           "Burke, Joelle"
          ],
          [
           "Carabbio, Judith"
          ],
          [
           "Carr, Claudia  N"
          ],
          [
           "Carter, Michelle "
          ],
          [
           "Chace, Beatrice "
          ],
          [
           "Chan, Lin"
          ],
          [
           "Chivukula, Enola"
          ],
          [
           "Cierpiszewski, Caroline  "
          ],
          [
           "Cloninger, Jennifer"
          ],
          [
           "Cornett, Lisa "
          ],
          [
           "Crimmings,   Jean"
          ],
          [
           "Daneault, Lynn"
          ],
          [
           "Daniele, Ann  "
          ],
          [
           "Darson, Jene'ya "
          ],
          [
           "Del Bosque, Keyla"
          ],
          [
           "Demita, Carla"
          ],
          [
           "Dietrich, Jenna  "
          ],
          [
           "DiNocco, Lily "
          ],
          [
           "Dobrin, Denisa  S"
          ],
          [
           "Dolan, Linda"
          ],
          [
           "Driver, Elle"
          ],
          [
           "Dunn, Amy  "
          ],
          [
           "Dunne, Amy"
          ],
          [
           "Eaton, Marianne"
          ],
          [
           "Erilus, Angela"
          ],
          [
           "Evensen, April"
          ],
          [
           "Exantus, Susan"
          ],
          [
           "Faller, Megan "
          ],
          [
           "Fancett, Nicole"
          ],
          [
           "Ferguson, Susan"
          ],
          [
           "Fidelia,  Libby"
          ],
          [
           "Foreman, Tanya"
          ],
          [
           "Foster-Baker, Amy"
          ],
          [
           "Galia, Lisa"
          ],
          [
           "Gaul, Barbara"
          ],
          [
           "Gentry, Mildred"
          ],
          [
           "Gerke, Melisa"
          ],
          [
           "Gill, Whitney  "
          ],
          [
           "Girifalco, Evelyn"
          ],
          [
           "Givens, Myriam"
          ],
          [
           "Goble, Taisha"
          ],
          [
           "Gold, Shenice  "
          ],
          [
           "Gonzalez, Maria"
          ],
          [
           "Good, Susan"
          ],
          [
           "Gosciminski, Phylicia  "
          ],
          [
           "Goyal, Roxana"
          ],
          [
           "Gross, Paula"
          ],
          [
           "Handschiegl, Joanne"
          ],
          [
           "Harrington, Christie "
          ],
          [
           "Harrison, Kara"
          ],
          [
           "Hendrickson, Trina"
          ],
          [
           "Homberger, Adrienne  J"
          ],
          [
           "Horton, Jayne"
          ],
          [
           "Houlihan, Debra"
          ],
          [
           "Howard, Estelle"
          ],
          [
           "Hudson, Jane"
          ],
          [
           "Hunts, Julissa"
          ],
          [
           "Hutter, Rosalie"
          ],
          [
           "Huynh, Ming"
          ],
          [
           "Ivey, Rose "
          ],
          [
           "Jackson, Maryellen"
          ],
          [
           "Jacobi, Hannah  "
          ],
          [
           "Jeannite, Tayana"
          ],
          [
           "Jhaveri, Sneha  "
          ],
          [
           "Johnson, Noelle "
          ],
          [
           "Johnston, Yen"
          ],
          [
           "Jung, Judy  "
          ],
          [
           "Kampew, Donysha"
          ],
          [
           "King, Janet"
          ],
          [
           "Kinsella, Kathleen  "
          ],
          [
           "Kirill, Alexandra  "
          ],
          [
           "Langford, Lindsey"
          ],
          [
           "Le, Binh"
          ],
          [
           "Leach, Dallas"
          ],
          [
           "Liebig, Ketsia"
          ],
          [
           "Linares, Marilyn "
          ],
          [
           "Lindsay, Leonara "
          ],
          [
           "Lundy, Susan"
          ],
          [
           "Lunquist, Lisa"
          ],
          [
           "Lydon, Allison"
          ],
          [
           "Lynch, Lindsay"
          ],
          [
           "Mahoney, Lauren  "
          ],
          [
           "Manchester, Robyn"
          ],
          [
           "Mancuso, Karen"
          ],
          [
           "Mangal, Debbie"
          ],
          [
           "Martin, Sandra"
          ],
          [
           "Maurice, Shana"
          ],
          [
           "Carthy, B'rigit"
          ],
          [
           "Mckenna, Sandy"
          ],
          [
           "Meads, Elizabeth"
          ],
          [
           "Medeiros, Jennifer"
          ],
          [
           "Monterro, Luisa"
          ],
          [
           "Morway, Tanya"
          ],
          [
           "Motlagh,  Dawn"
          ],
          [
           "Ngodup, Shari "
          ],
          [
           "Nguyen, Dheepa"
          ],
          [
           "Nguyen, Lei-Ming"
          ],
          [
           "Nowlan, Kristie"
          ],
          [
           "O'hare, Lynn"
          ],
          [
           "Oliver, Brooke "
          ],
          [
           "Onque, Jasmine"
          ],
          [
           "Panjwani, Nina"
          ],
          [
           "Pelletier, Ermine"
          ],
          [
           "Perry, Shakira"
          ],
          [
           "Peters, Lauren"
          ],
          [
           "Peterson, Ebonee  "
          ],
          [
           "Petingill, Shana  "
          ],
          [
           "Petrowsky, Thelma"
          ],
          [
           "Potts, Xana"
          ],
          [
           "Power, Morissa"
          ],
          [
           "Purinton, Janine"
          ],
          [
           "Rachael, Maggie"
          ],
          [
           "Rivera, Haley  "
          ],
          [
           "Roberson, May"
          ],
          [
           "Robinson, Cherly"
          ],
          [
           "Roby, Lori "
          ],
          [
           "Roehrich, Bianca"
          ],
          [
           "Roper, Katie"
          ],
          [
           "Rose, Ashley  "
          ],
          [
           "Saada, Adell"
          ],
          [
           "Saar-Beckles, Melinda"
          ],
          [
           "Sander, Kamrin"
          ],
          [
           "Sewkumar, Nori"
          ],
          [
           "Shepard, Anita "
          ],
          [
           "Shields, Seffi"
          ],
          [
           "Singh, Nan "
          ],
          [
           "Sloan, Constance"
          ],
          [
           "Smith, Leigh Ann"
          ],
          [
           "Smith, Sade"
          ],
          [
           "Soto, Julia "
          ],
          [
           "Sparks, Taylor  "
          ],
          [
           "Spirea, Kelley"
          ],
          [
           "Squatrito, Kristen"
          ],
          [
           "Stanford,Barbara  M"
          ],
          [
           "Strong, Caitrin"
          ],
          [
           "Sullivan, Kissy "
          ],
          [
           "Sutwell, Barbara"
          ],
          [
           "Tavares, Desiree  "
          ],
          [
           "Tejeda, Lenora "
          ],
          [
           "Terry, Sharlene "
          ],
          [
           "Theamstern, Sophia"
          ],
          [
           "Tippett, Jeanette"
          ],
          [
           "Trang, Mei"
          ],
          [
           "Trzeciak, Cybil"
          ],
          [
           "Valentin,Jackie"
          ],
          [
           "Volk, Colleen"
          ],
          [
           "Von Massenbach, Anna"
          ],
          [
           "Wallace, Courtney  E"
          ],
          [
           "Wallace, Theresa"
          ],
          [
           "Warfield, Sarah"
          ],
          [
           "Wilkes, Annie"
          ],
          [
           "Williams, Jacquelyn  "
          ],
          [
           "Wolk, Hang  T"
          ],
          [
           "Ybarra, Catherine "
          ],
          [
           "Zamora, Jennifer"
          ],
          [
           "Zhou, Julia"
          ],
          [
           "Zima, Colleen"
          ]
         ],
         "hovertemplate": "Sex=F<br>RaceDesc=%{x}<br>Salary=%{y}<br>Employee_Name=%{customdata[0]}<extra></extra>",
         "legendgroup": "F",
         "marker": {
          "color": "#EF553B"
         },
         "name": "F",
         "notched": false,
         "offsetgroup": "F",
         "orientation": "v",
         "showlegend": true,
         "type": "box",
         "x": [
          "White",
          "White",
          "White",
          "White",
          "White",
          "Black or African American",
          "Black or African American",
          "White",
          "White",
          "White",
          "Asian",
          "White",
          "White",
          "White",
          "Black or African American",
          "White",
          "Black or African American",
          "Black or African American",
          "Black or African American",
          "Black or African American",
          "White",
          "Black or African American",
          "White",
          "White",
          "White",
          "White",
          "Black or African American",
          "White",
          "White",
          "White",
          "White",
          "White",
          "White",
          "Black or African American",
          "Black or African American",
          "White",
          "Black or African American",
          "White",
          "White",
          "White",
          "White",
          "White",
          "White",
          "White",
          "White",
          "Black or African American",
          "Black or African American",
          "Black or African American",
          "White",
          "White",
          "White",
          "White",
          "White",
          "Black or African American",
          "Black or African American",
          "Black or African American",
          "Black or African American",
          "Two or more races",
          "White",
          "White",
          "White",
          "White",
          "White",
          "American Indian or Alaska Native",
          "Asian",
          "White",
          "White",
          "White",
          "White",
          "White",
          "White",
          "White",
          "White",
          "Black or African American",
          "White",
          "White",
          "White",
          "White",
          "White",
          "Black or African American",
          "White",
          "American Indian or Alaska Native",
          "White",
          "Asian",
          "White",
          "Black or African American",
          "White",
          "White",
          "White",
          "White",
          "Asian",
          "Asian",
          "Asian",
          "White",
          "White",
          "Black or African American",
          "White",
          "Black or African American",
          "Black or African American",
          "Black or African American",
          "White",
          "White",
          "Two or more races",
          "White",
          "Asian",
          "White",
          "Black or African American",
          "Black or African American",
          "Black or African American",
          "White",
          "Black or African American",
          "White",
          "White",
          "Black or African American",
          "Two or more races",
          "White",
          "White",
          "Two or more races",
          "Asian",
          "White",
          "White",
          "Asian",
          "White",
          "White",
          "White",
          "Asian",
          "Black or African American",
          "Black or African American",
          "Asian",
          "White",
          "Black or African American",
          "Asian",
          "Black or African American",
          "White",
          "White",
          "White",
          "Black or African American",
          "White",
          "White",
          "Black or African American",
          "Black or African American",
          "Asian",
          "White",
          "White",
          "White",
          "White",
          "Black or African American",
          "White",
          "Black or African American",
          "White",
          "White",
          "White",
          "Two or more races",
          "Black or African American",
          "Black or African American",
          "Asian",
          "Black or African American",
          "White",
          "Black or African American",
          "White",
          "Black or African American",
          "White",
          "White",
          "Two or more races",
          "White",
          "White",
          "Black or African American",
          "White",
          "Asian",
          "White",
          "Black or African American",
          "White",
          "Asian",
          "White",
          "White",
          "Asian"
         ],
         "x0": " ",
         "xaxis": "x",
         "y": [
          64955,
          64991,
          50825,
          57568,
          95660,
          47837,
          54670,
          70131,
          59026,
          110000,
          64919,
          62910,
          66441,
          57815,
          106367,
          53492,
          63000,
          64375,
          74326,
          63763,
          93396,
          100031,
          71860,
          61656,
          54237,
          64786,
          64816,
          64066,
          63381,
          56149,
          65729,
          85028,
          57583,
          101199,
          58275,
          59231,
          61584,
          46335,
          70621,
          74241,
          75188,
          62514,
          60070,
          56847,
          59124,
          99280,
          71776,
          65902,
          57748,
          58530,
          55965,
          99351,
          65707,
          53171,
          51337,
          51505,
          59370,
          57815,
          61555,
          114800,
          53018,
          61242,
          66825,
          66149,
          49256,
          63813,
          54828,
          52177,
          62065,
          68099,
          63478,
          97999,
          180000,
          49920,
          55425,
          69340,
          64995,
          68182,
          51908,
          61242,
          45069,
          60724,
          60436,
          105700,
          63322,
          61154,
          68999,
          250000,
          54005,
          45433,
          66074,
          81584,
          63676,
          77915,
          52624,
          51777,
          67237,
          73330,
          52057,
          47434,
          45395,
          62385,
          68407,
          61349,
          105688,
          54132,
          55315,
          62810,
          62659,
          55688,
          72460,
          52599,
          63430,
          52984,
          63695,
          62061,
          66738,
          52674,
          71966,
          63051,
          63515,
          60270,
          45998,
          57954,
          74669,
          74226,
          93554,
          61844,
          46799,
          46430,
          95920,
          46738,
          64971,
          61422,
          89883,
          120000,
          150290,
          60627,
          86214,
          47750,
          56147,
          50923,
          50750,
          52087,
          51920,
          63878,
          55000,
          58939,
          66593,
          64021,
          65714,
          62425,
          47961,
          60120,
          63682,
          59238,
          60754,
          72202,
          58370,
          48413,
          56339,
          63025,
          74813,
          57859,
          49773,
          62068,
          80512,
          50274,
          107226,
          58062,
          59728,
          60446,
          48513,
          220450,
          89292,
          45046
         ],
         "y0": " ",
         "yaxis": "y"
        }
       ],
       "layout": {
        "boxmode": "group",
        "height": 360,
        "legend": {
         "title": {
          "text": "Sex"
         },
         "tracegroupgap": 0
        },
        "margin": {
         "t": 60
        },
        "template": {
         "data": {
          "bar": [
           {
            "error_x": {
             "color": "#2a3f5f"
            },
            "error_y": {
             "color": "#2a3f5f"
            },
            "marker": {
             "line": {
              "color": "white",
              "width": 0.5
             },
             "pattern": {
              "fillmode": "overlay",
              "size": 10,
              "solidity": 0.2
             }
            },
            "type": "bar"
           }
          ],
          "barpolar": [
           {
            "marker": {
             "line": {
              "color": "white",
              "width": 0.5
             },
             "pattern": {
              "fillmode": "overlay",
              "size": 10,
              "solidity": 0.2
             }
            },
            "type": "barpolar"
           }
          ],
          "carpet": [
           {
            "aaxis": {
             "endlinecolor": "#2a3f5f",
             "gridcolor": "#C8D4E3",
             "linecolor": "#C8D4E3",
             "minorgridcolor": "#C8D4E3",
             "startlinecolor": "#2a3f5f"
            },
            "baxis": {
             "endlinecolor": "#2a3f5f",
             "gridcolor": "#C8D4E3",
             "linecolor": "#C8D4E3",
             "minorgridcolor": "#C8D4E3",
             "startlinecolor": "#2a3f5f"
            },
            "type": "carpet"
           }
          ],
          "choropleth": [
           {
            "colorbar": {
             "outlinewidth": 0,
             "ticks": ""
            },
            "type": "choropleth"
           }
          ],
          "contour": [
           {
            "colorbar": {
             "outlinewidth": 0,
             "ticks": ""
            },
            "colorscale": [
             [
              0,
              "#0d0887"
             ],
             [
              0.1111111111111111,
              "#46039f"
             ],
             [
              0.2222222222222222,
              "#7201a8"
             ],
             [
              0.3333333333333333,
              "#9c179e"
             ],
             [
              0.4444444444444444,
              "#bd3786"
             ],
             [
              0.5555555555555556,
              "#d8576b"
             ],
             [
              0.6666666666666666,
              "#ed7953"
             ],
             [
              0.7777777777777778,
              "#fb9f3a"
             ],
             [
              0.8888888888888888,
              "#fdca26"
             ],
             [
              1,
              "#f0f921"
             ]
            ],
            "type": "contour"
           }
          ],
          "contourcarpet": [
           {
            "colorbar": {
             "outlinewidth": 0,
             "ticks": ""
            },
            "type": "contourcarpet"
           }
          ],
          "heatmap": [
           {
            "colorbar": {
             "outlinewidth": 0,
             "ticks": ""
            },
            "colorscale": [
             [
              0,
              "#0d0887"
             ],
             [
              0.1111111111111111,
              "#46039f"
             ],
             [
              0.2222222222222222,
              "#7201a8"
             ],
             [
              0.3333333333333333,
              "#9c179e"
             ],
             [
              0.4444444444444444,
              "#bd3786"
             ],
             [
              0.5555555555555556,
              "#d8576b"
             ],
             [
              0.6666666666666666,
              "#ed7953"
             ],
             [
              0.7777777777777778,
              "#fb9f3a"
             ],
             [
              0.8888888888888888,
              "#fdca26"
             ],
             [
              1,
              "#f0f921"
             ]
            ],
            "type": "heatmap"
           }
          ],
          "heatmapgl": [
           {
            "colorbar": {
             "outlinewidth": 0,
             "ticks": ""
            },
            "colorscale": [
             [
              0,
              "#0d0887"
             ],
             [
              0.1111111111111111,
              "#46039f"
             ],
             [
              0.2222222222222222,
              "#7201a8"
             ],
             [
              0.3333333333333333,
              "#9c179e"
             ],
             [
              0.4444444444444444,
              "#bd3786"
             ],
             [
              0.5555555555555556,
              "#d8576b"
             ],
             [
              0.6666666666666666,
              "#ed7953"
             ],
             [
              0.7777777777777778,
              "#fb9f3a"
             ],
             [
              0.8888888888888888,
              "#fdca26"
             ],
             [
              1,
              "#f0f921"
             ]
            ],
            "type": "heatmapgl"
           }
          ],
          "histogram": [
           {
            "marker": {
             "pattern": {
              "fillmode": "overlay",
              "size": 10,
              "solidity": 0.2
             }
            },
            "type": "histogram"
           }
          ],
          "histogram2d": [
           {
            "colorbar": {
             "outlinewidth": 0,
             "ticks": ""
            },
            "colorscale": [
             [
              0,
              "#0d0887"
             ],
             [
              0.1111111111111111,
              "#46039f"
             ],
             [
              0.2222222222222222,
              "#7201a8"
             ],
             [
              0.3333333333333333,
              "#9c179e"
             ],
             [
              0.4444444444444444,
              "#bd3786"
             ],
             [
              0.5555555555555556,
              "#d8576b"
             ],
             [
              0.6666666666666666,
              "#ed7953"
             ],
             [
              0.7777777777777778,
              "#fb9f3a"
             ],
             [
              0.8888888888888888,
              "#fdca26"
             ],
             [
              1,
              "#f0f921"
             ]
            ],
            "type": "histogram2d"
           }
          ],
          "histogram2dcontour": [
           {
            "colorbar": {
             "outlinewidth": 0,
             "ticks": ""
            },
            "colorscale": [
             [
              0,
              "#0d0887"
             ],
             [
              0.1111111111111111,
              "#46039f"
             ],
             [
              0.2222222222222222,
              "#7201a8"
             ],
             [
              0.3333333333333333,
              "#9c179e"
             ],
             [
              0.4444444444444444,
              "#bd3786"
             ],
             [
              0.5555555555555556,
              "#d8576b"
             ],
             [
              0.6666666666666666,
              "#ed7953"
             ],
             [
              0.7777777777777778,
              "#fb9f3a"
             ],
             [
              0.8888888888888888,
              "#fdca26"
             ],
             [
              1,
              "#f0f921"
             ]
            ],
            "type": "histogram2dcontour"
           }
          ],
          "mesh3d": [
           {
            "colorbar": {
             "outlinewidth": 0,
             "ticks": ""
            },
            "type": "mesh3d"
           }
          ],
          "parcoords": [
           {
            "line": {
             "colorbar": {
              "outlinewidth": 0,
              "ticks": ""
             }
            },
            "type": "parcoords"
           }
          ],
          "pie": [
           {
            "automargin": true,
            "type": "pie"
           }
          ],
          "scatter": [
           {
            "fillpattern": {
             "fillmode": "overlay",
             "size": 10,
             "solidity": 0.2
            },
            "type": "scatter"
           }
          ],
          "scatter3d": [
           {
            "line": {
             "colorbar": {
              "outlinewidth": 0,
              "ticks": ""
             }
            },
            "marker": {
             "colorbar": {
              "outlinewidth": 0,
              "ticks": ""
             }
            },
            "type": "scatter3d"
           }
          ],
          "scattercarpet": [
           {
            "marker": {
             "colorbar": {
              "outlinewidth": 0,
              "ticks": ""
             }
            },
            "type": "scattercarpet"
           }
          ],
          "scattergeo": [
           {
            "marker": {
             "colorbar": {
              "outlinewidth": 0,
              "ticks": ""
             }
            },
            "type": "scattergeo"
           }
          ],
          "scattergl": [
           {
            "marker": {
             "colorbar": {
              "outlinewidth": 0,
              "ticks": ""
             }
            },
            "type": "scattergl"
           }
          ],
          "scattermapbox": [
           {
            "marker": {
             "colorbar": {
              "outlinewidth": 0,
              "ticks": ""
             }
            },
            "type": "scattermapbox"
           }
          ],
          "scatterpolar": [
           {
            "marker": {
             "colorbar": {
              "outlinewidth": 0,
              "ticks": ""
             }
            },
            "type": "scatterpolar"
           }
          ],
          "scatterpolargl": [
           {
            "marker": {
             "colorbar": {
              "outlinewidth": 0,
              "ticks": ""
             }
            },
            "type": "scatterpolargl"
           }
          ],
          "scatterternary": [
           {
            "marker": {
             "colorbar": {
              "outlinewidth": 0,
              "ticks": ""
             }
            },
            "type": "scatterternary"
           }
          ],
          "surface": [
           {
            "colorbar": {
             "outlinewidth": 0,
             "ticks": ""
            },
            "colorscale": [
             [
              0,
              "#0d0887"
             ],
             [
              0.1111111111111111,
              "#46039f"
             ],
             [
              0.2222222222222222,
              "#7201a8"
             ],
             [
              0.3333333333333333,
              "#9c179e"
             ],
             [
              0.4444444444444444,
              "#bd3786"
             ],
             [
              0.5555555555555556,
              "#d8576b"
             ],
             [
              0.6666666666666666,
              "#ed7953"
             ],
             [
              0.7777777777777778,
              "#fb9f3a"
             ],
             [
              0.8888888888888888,
              "#fdca26"
             ],
             [
              1,
              "#f0f921"
             ]
            ],
            "type": "surface"
           }
          ],
          "table": [
           {
            "cells": {
             "fill": {
              "color": "#EBF0F8"
             },
             "line": {
              "color": "white"
             }
            },
            "header": {
             "fill": {
              "color": "#C8D4E3"
             },
             "line": {
              "color": "white"
             }
            },
            "type": "table"
           }
          ]
         },
         "layout": {
          "annotationdefaults": {
           "arrowcolor": "#2a3f5f",
           "arrowhead": 0,
           "arrowwidth": 1
          },
          "autotypenumbers": "strict",
          "coloraxis": {
           "colorbar": {
            "outlinewidth": 0,
            "ticks": ""
           }
          },
          "colorscale": {
           "diverging": [
            [
             0,
             "#8e0152"
            ],
            [
             0.1,
             "#c51b7d"
            ],
            [
             0.2,
             "#de77ae"
            ],
            [
             0.3,
             "#f1b6da"
            ],
            [
             0.4,
             "#fde0ef"
            ],
            [
             0.5,
             "#f7f7f7"
            ],
            [
             0.6,
             "#e6f5d0"
            ],
            [
             0.7,
             "#b8e186"
            ],
            [
             0.8,
             "#7fbc41"
            ],
            [
             0.9,
             "#4d9221"
            ],
            [
             1,
             "#276419"
            ]
           ],
           "sequential": [
            [
             0,
             "#0d0887"
            ],
            [
             0.1111111111111111,
             "#46039f"
            ],
            [
             0.2222222222222222,
             "#7201a8"
            ],
            [
             0.3333333333333333,
             "#9c179e"
            ],
            [
             0.4444444444444444,
             "#bd3786"
            ],
            [
             0.5555555555555556,
             "#d8576b"
            ],
            [
             0.6666666666666666,
             "#ed7953"
            ],
            [
             0.7777777777777778,
             "#fb9f3a"
            ],
            [
             0.8888888888888888,
             "#fdca26"
            ],
            [
             1,
             "#f0f921"
            ]
           ],
           "sequentialminus": [
            [
             0,
             "#0d0887"
            ],
            [
             0.1111111111111111,
             "#46039f"
            ],
            [
             0.2222222222222222,
             "#7201a8"
            ],
            [
             0.3333333333333333,
             "#9c179e"
            ],
            [
             0.4444444444444444,
             "#bd3786"
            ],
            [
             0.5555555555555556,
             "#d8576b"
            ],
            [
             0.6666666666666666,
             "#ed7953"
            ],
            [
             0.7777777777777778,
             "#fb9f3a"
            ],
            [
             0.8888888888888888,
             "#fdca26"
            ],
            [
             1,
             "#f0f921"
            ]
           ]
          },
          "colorway": [
           "#636efa",
           "#EF553B",
           "#00cc96",
           "#ab63fa",
           "#FFA15A",
           "#19d3f3",
           "#FF6692",
           "#B6E880",
           "#FF97FF",
           "#FECB52"
          ],
          "font": {
           "color": "#2a3f5f"
          },
          "geo": {
           "bgcolor": "white",
           "lakecolor": "white",
           "landcolor": "white",
           "showlakes": true,
           "showland": true,
           "subunitcolor": "#C8D4E3"
          },
          "hoverlabel": {
           "align": "left"
          },
          "hovermode": "closest",
          "mapbox": {
           "style": "light"
          },
          "paper_bgcolor": "white",
          "plot_bgcolor": "white",
          "polar": {
           "angularaxis": {
            "gridcolor": "#EBF0F8",
            "linecolor": "#EBF0F8",
            "ticks": ""
           },
           "bgcolor": "white",
           "radialaxis": {
            "gridcolor": "#EBF0F8",
            "linecolor": "#EBF0F8",
            "ticks": ""
           }
          },
          "scene": {
           "xaxis": {
            "backgroundcolor": "white",
            "gridcolor": "#DFE8F3",
            "gridwidth": 2,
            "linecolor": "#EBF0F8",
            "showbackground": true,
            "ticks": "",
            "zerolinecolor": "#EBF0F8"
           },
           "yaxis": {
            "backgroundcolor": "white",
            "gridcolor": "#DFE8F3",
            "gridwidth": 2,
            "linecolor": "#EBF0F8",
            "showbackground": true,
            "ticks": "",
            "zerolinecolor": "#EBF0F8"
           },
           "zaxis": {
            "backgroundcolor": "white",
            "gridcolor": "#DFE8F3",
            "gridwidth": 2,
            "linecolor": "#EBF0F8",
            "showbackground": true,
            "ticks": "",
            "zerolinecolor": "#EBF0F8"
           }
          },
          "shapedefaults": {
           "line": {
            "color": "#2a3f5f"
           }
          },
          "ternary": {
           "aaxis": {
            "gridcolor": "#DFE8F3",
            "linecolor": "#A2B1C6",
            "ticks": ""
           },
           "baxis": {
            "gridcolor": "#DFE8F3",
            "linecolor": "#A2B1C6",
            "ticks": ""
           },
           "bgcolor": "white",
           "caxis": {
            "gridcolor": "#DFE8F3",
            "linecolor": "#A2B1C6",
            "ticks": ""
           }
          },
          "title": {
           "x": 0.05
          },
          "xaxis": {
           "automargin": true,
           "gridcolor": "#EBF0F8",
           "linecolor": "#EBF0F8",
           "ticks": "",
           "title": {
            "standoff": 15
           },
           "zerolinecolor": "#EBF0F8",
           "zerolinewidth": 2
          },
          "yaxis": {
           "automargin": true,
           "gridcolor": "#EBF0F8",
           "linecolor": "#EBF0F8",
           "ticks": "",
           "title": {
            "standoff": 15
           },
           "zerolinecolor": "#EBF0F8",
           "zerolinewidth": 2
          }
         }
        },
        "width": 600,
        "xaxis": {
         "anchor": "y",
         "autorange": true,
         "domain": [
          0,
          1
         ],
         "range": [
          -0.5415704387990762,
          5.541570438799076
         ],
         "title": {
          "text": "RaceDesc"
         },
         "type": "category"
        },
        "yaxis": {
         "anchor": "x",
         "autorange": true,
         "domain": [
          0,
          1
         ],
         "range": [
          33659.666666666664,
          261386.33333333334
         ],
         "title": {
          "text": "Salary"
         },
         "type": "linear"
        }
       }
      },
      "image/png": "[encoded data removed]",
      "text/html": [
       "<div>                            <div id=\"82a2a7c1-356e-4d07-8d87-4a7e7dc1a169\" class=\"plotly-graph-div\" style=\"height:525px; width:600px;\"></div>            <script type=\"text/javascript\">                require([\"plotly\"], function(Plotly) {                    window.PLOTLYENV=window.PLOTLYENV || {};                                    if (document.getElementById(\"82a2a7c1-356e-4d07-8d87-4a7e7dc1a169\")) {                    Plotly.newPlot(                        \"82a2a7c1-356e-4d07-8d87-4a7e7dc1a169\",                        [{\"alignmentgroup\":\"True\",\"boxpoints\":\"outliers\",\"customdata\":[[\"Adinolfi, Wilson  K\"],[\"Ait Sidi, Karthikeyan   \"],[\"Athwal, Sam\"],[\"Bacong, Alejandro \"],[\"Barbara, Thomas\"],[\"Barbossa, Hector\"],[\"Barone, Francesco  A\"],[\"Barton, Nader\"],[\"Bates, Norman\"],[\"Becker, Scott\"],[\"Bernstein, Sean\"],[\"Booth, Frank\"],[\"Bozzi, Charles\"],[\"Buccheri, Joseph  \"],[\"Burkett, Benjamin \"],[\"Cady, Max \"],[\"Candie, Calvin\"],[\"Carey, Michael  \"],[\"Champaigne, Brian\"],[\"Chang, Donovan  E\"],[\"Chigurh, Anton\"],[\"Clayton, Rick\"],[\"Close, Phil\"],[\"Clukey, Elijian\"],[\"Cockel, James\"],[\"Cole, Spencer\"],[\"Corleone, Michael\"],[\"Corleone, Vito\"],[\"Costello, Frank\"],[\"Cross, Noah\"],[\"Davis, Daniel\"],[\"Dee, Randy\"],[\"DeGweck,  James\"],[\"Delarge, Alex\"],[\"Desimone, Carl \"],[\"DeVito, Tommy\"],[\"Dickinson, Geoff \"],[\"Dougall, Eric\"],[\"Engdahl, Jean\"],[\"England, Rex\"],[\"Estremera, Miguel\"],[\"Fernandes, Nilson  \"],[\"Fett, Boba\"],[\"Fitzpatrick, Michael  J\"],[\"Forrest, Alex\"],[\"Foss, Jason\"],[\"Fraval, Maruk \"],[\"Garcia, Raul\"],[\"Gilles, Alex\"],[\"Goeth, Amon\"],[\"Gonzalez, Cayo\"],[\"Gonzalez, Juan\"],[\"Gordon, David\"],[\"Gray, Elijiah  \"],[\"Gruber, Hans\"],[\"Guilianno, Mike\"],[\"Hankard, Earnest\"],[\"Heitzman, Anthony\"],[\"Hitchcock, Alfred\"],[\"Immediato, Walter\"],[\"Johnson, George\"],[\"Keatts, Kramer \"],[\"Khemmich, Bartholemew\"],[\"Knapp, Bradley  J\"],[\"Kretschmer, John\"],[\"Kreuger, Freddy\"],[\"Lajiri,  Jyoti\"],[\"Landa, Hans\"],[\"Langton, Enrico\"],[\"LaRotonda, William  \"],[\"Latif, Mohammed\"],[\"LeBlanc, Brandon  R\"],[\"Lecter, Hannibal\"],[\"Leruth, Giovanni\"],[\"Linden, Mathew\"],[\"MacLennan, Samuel\"],[\"McKinzie, Jac\"],[\"Miller, Brannon\"],[\"Miller, Ned\"],[\"Monkfish, Erasumus\"],[\"Monroe, Peter\"],[\"Moran, Patrick\"],[\"Moumanil, Maliki \"],[\"Myers, Michael\"],[\"Navathe, Kurt\"],[\"Ndzi, Colombui\"],[\"Ndzi, Horia\"],[\"Newman, Richard \"],[\"Osturnka, Adeel\"],[\"Owad, Clinton\"],[\"Ozark, Travis\"],[\"Patronick, Lucas\"],[\"Pearson, Randall\"],[\"Smith, Martin\"],[\"Pham, Hong\"],[\"Pitt, Brad \"],[\"Punjabhi, Louis  \"],[\"Quinn, Sean\"],[\"Rarrick, Quinn\"],[\"Ren, Kylo\"],[\"Rhoads, Thomas\"],[\"Robertson, Peter\"],[\"Robinson, Alain  \"],[\"Robinson, Elias\"],[\"Rossetti, Bruno\"],[\"Roup,Simon\"],[\"Ruiz, Ricardo\"],[\"Sadki, Nore  \"],[\"Sahoo, Adil\"],[\"Salter, Jason\"],[\"Simard, Kramer\"],[\"Smith, Joe\"],[\"Smith, John\"],[\"Soze, Keyser\"],[\"Stansfield, Norman\"],[\"Steans, Tyrone  \"],[\"Stoica, Rick\"],[\"Sullivan, Timothy\"],[\"Szabo, Andrew\"],[\"Tannen, Biff\"],[\"Thibaud, Kenneth\"],[\"Torrence, Jack\"],[\"Tredinnick, Neville \"],[\"True, Edward\"],[\"Turpin, Jumil\"],[\"Veera, Abdellah \"],[\"Vega, Vincent\"],[\"Villanueva, Noah\"],[\"Voldemort, Lord\"],[\"Walker, Roger\"],[\"Wang, Charlie\"],[\"Whittier, Scott\"],[\"Wilber, Barry\"],[\"Winthrop, Jordan  \"],[\"Woodson, Jason\"]],\"hovertemplate\":\"Sex=M \\u003cbr\\u003eRaceDesc=%{x}\\u003cbr\\u003eSalary=%{y}\\u003cbr\\u003eEmployee_Name=%{customdata[0]}\\u003cextra\\u003e\\u003c\\u002fextra\\u003e\",\"legendgroup\":\"M \",\"marker\":{\"color\":\"#636efa\"},\"name\":\"M \",\"notched\":false,\"offsetgroup\":\"M \",\"orientation\":\"v\",\"showlegend\":true,\"x\":[\"White\",\"White\",\"White\",\"White\",\"Black or African American\",\"Black or African American\",\"Two or more races\",\"White\",\"White\",\"Asian\",\"White\",\"Black or African American\",\"Asian\",\"White\",\"White\",\"White\",\"White\",\"Black or African American\",\"White\",\"White\",\"Black or African American\",\"White\",\"White\",\"White\",\"White\",\"Black or African American\",\"White\",\"Black or African American\",\"White\",\"White\",\"Two or more races\",\"White\",\"White\",\"Two or more races\",\"White\",\"White\",\"White\",\"Black or African American\",\"White\",\"White\",\"White\",\"White\",\"White\",\"White\",\"White\",\"Black or African American\",\"Black or African American\",\"White\",\"Black or African American\",\"White\",\"Black or African American\",\"Black or African American\",\"White\",\"White\",\"Black or African American\",\"Two or more races\",\"White\",\"White\",\"American Indian or Alaska Native\",\"Asian\",\"White\",\"White\",\"White\",\"Black or African American\",\"Asian\",\"Black or African American\",\"White\",\"White\",\"White\",\"Black or African American\",\"White\",\"White\",\"Asian\",\"Black or African American\",\"White\",\"White\",\"Two or more races\",\"Hispanic\",\"White\",\"White\",\"Black or African American\",\"Black or African American\",\"Black or African American\",\"Asian\",\"Asian\",\"Black or African American\",\"White\",\"White\",\"White\",\"Black or African American\",\"White\",\"Black or African American\",\"White\",\"Black or African American\",\"Asian\",\"White\",\"White\",\"Black or African American\",\"White\",\"White\",\"White\",\"White\",\"Black or African American\",\"White\",\"White\",\"White\",\"Black or African American\",\"White\",\"White\",\"Black or African American\",\"White\",\"White\",\"Black or African American\",\"Asian\",\"White\",\"White\",\"Asian\",\"White\",\"White\",\"White\",\"White\",\"White\",\"White\",\"Black or African American\",\"White\",\"White\",\"White\",\"Asian\",\"Black or African American\",\"Black or African American\",\"Asian\",\"White\",\"White\",\"White\",\"White\"],\"x0\":\" \",\"xaxis\":\"x\",\"y\":[62506,104437,59365,50178,47211,92328,58709,52505,57834,53250,51044,103613,74312,65288,62162,77692,72640,52846,110929,60380,66808,68678,59369,50373,63108,59144,68051,170500,83552,92329,56294,56991,55722,61568,53189,96820,51259,138888,48888,54285,60340,64057,53366,72609,70187,178000,67251,52249,54933,74679,59892,68898,48285,62957,99020,71707,64246,46998,70545,83082,46837,50482,65310,46654,63973,71339,93206,82758,46120,64520,61962,93046,64738,70468,63450,52788,63291,83667,55800,58207,157000,72106,74417,57575,87921,50470,46664,48495,47414,53060,68829,108987,93093,53564,64724,47001,59472,83363,61729,61809,45115,55578,50428,63353,53180,140920,148999,46428,57975,88527,87826,60656,72992,87565,58273,63003,61355,63025,92989,90100,67176,64397,75281,100416,76029,58523,88976,55875,113999,66541,84903,58371,55140,70507,65893],\"y0\":\" \",\"yaxis\":\"y\",\"type\":\"box\"},{\"alignmentgroup\":\"True\",\"boxpoints\":\"outliers\",\"customdata\":[[\"Akinkuolie, Sarah\"],[\"Alagbe,Trina\"],[\"Anderson, Carol \"],[\"Anderson, Linda  \"],[\"Andreola, Colby\"],[\"Bachiochi, Linda\"],[\"Baczenski, Rachael  \"],[\"Beak, Kimberly  \"],[\"Beatrice, Courtney \"],[\"Becker, Renee\"],[\"Biden, Lowan  M\"],[\"Billis, Helen\"],[\"Blount, Dianna\"],[\"Bondwell, Betsy\"],[\"Boutwell, Bonalyn\"],[\"Brill, Donna\"],[\"Brown, Mia\"],[\"Bugali, Josephine \"],[\"Bunbury, Jessica\"],[\"Burke, Joelle\"],[\"Carabbio, Judith\"],[\"Carr, Claudia  N\"],[\"Carter, Michelle \"],[\"Chace, Beatrice \"],[\"Chan, Lin\"],[\"Chivukula, Enola\"],[\"Cierpiszewski, Caroline  \"],[\"Cloninger, Jennifer\"],[\"Cornett, Lisa \"],[\"Crimmings,   Jean\"],[\"Daneault, Lynn\"],[\"Daniele, Ann  \"],[\"Darson, Jene'ya \"],[\"Del Bosque, Keyla\"],[\"Demita, Carla\"],[\"Dietrich, Jenna  \"],[\"DiNocco, Lily \"],[\"Dobrin, Denisa  S\"],[\"Dolan, Linda\"],[\"Driver, Elle\"],[\"Dunn, Amy  \"],[\"Dunne, Amy\"],[\"Eaton, Marianne\"],[\"Erilus, Angela\"],[\"Evensen, April\"],[\"Exantus, Susan\"],[\"Faller, Megan \"],[\"Fancett, Nicole\"],[\"Ferguson, Susan\"],[\"Fidelia,  Libby\"],[\"Foreman, Tanya\"],[\"Foster-Baker, Amy\"],[\"Galia, Lisa\"],[\"Gaul, Barbara\"],[\"Gentry, Mildred\"],[\"Gerke, Melisa\"],[\"Gill, Whitney  \"],[\"Girifalco, Evelyn\"],[\"Givens, Myriam\"],[\"Goble, Taisha\"],[\"Gold, Shenice  \"],[\"Gonzalez, Maria\"],[\"Good, Susan\"],[\"Gosciminski, Phylicia  \"],[\"Goyal, Roxana\"],[\"Gross, Paula\"],[\"Handschiegl, Joanne\"],[\"Harrington, Christie \"],[\"Harrison, Kara\"],[\"Hendrickson, Trina\"],[\"Homberger, Adrienne  J\"],[\"Horton, Jayne\"],[\"Houlihan, Debra\"],[\"Howard, Estelle\"],[\"Hudson, Jane\"],[\"Hunts, Julissa\"],[\"Hutter, Rosalie\"],[\"Huynh, Ming\"],[\"Ivey, Rose \"],[\"Jackson, Maryellen\"],[\"Jacobi, Hannah  \"],[\"Jeannite, Tayana\"],[\"Jhaveri, Sneha  \"],[\"Johnson, Noelle \"],[\"Johnston, Yen\"],[\"Jung, Judy  \"],[\"Kampew, Donysha\"],[\"King, Janet\"],[\"Kinsella, Kathleen  \"],[\"Kirill, Alexandra  \"],[\"Langford, Lindsey\"],[\"Le, Binh\"],[\"Leach, Dallas\"],[\"Liebig, Ketsia\"],[\"Linares, Marilyn \"],[\"Lindsay, Leonara \"],[\"Lundy, Susan\"],[\"Lunquist, Lisa\"],[\"Lydon, Allison\"],[\"Lynch, Lindsay\"],[\"Mahoney, Lauren  \"],[\"Manchester, Robyn\"],[\"Mancuso, Karen\"],[\"Mangal, Debbie\"],[\"Martin, Sandra\"],[\"Maurice, Shana\"],[\"Carthy, B'rigit\"],[\"Mckenna, Sandy\"],[\"Meads, Elizabeth\"],[\"Medeiros, Jennifer\"],[\"Monterro, Luisa\"],[\"Morway, Tanya\"],[\"Motlagh,  Dawn\"],[\"Ngodup, Shari \"],[\"Nguyen, Dheepa\"],[\"Nguyen, Lei-Ming\"],[\"Nowlan, Kristie\"],[\"O'hare, Lynn\"],[\"Oliver, Brooke \"],[\"Onque, Jasmine\"],[\"Panjwani, Nina\"],[\"Pelletier, Ermine\"],[\"Perry, Shakira\"],[\"Peters, Lauren\"],[\"Peterson, Ebonee  \"],[\"Petingill, Shana  \"],[\"Petrowsky, Thelma\"],[\"Potts, Xana\"],[\"Power, Morissa\"],[\"Purinton, Janine\"],[\"Rachael, Maggie\"],[\"Rivera, Haley  \"],[\"Roberson, May\"],[\"Robinson, Cherly\"],[\"Roby, Lori \"],[\"Roehrich, Bianca\"],[\"Roper, Katie\"],[\"Rose, Ashley  \"],[\"Saada, Adell\"],[\"Saar-Beckles, Melinda\"],[\"Sander, Kamrin\"],[\"Sewkumar, Nori\"],[\"Shepard, Anita \"],[\"Shields, Seffi\"],[\"Singh, Nan \"],[\"Sloan, Constance\"],[\"Smith, Leigh Ann\"],[\"Smith, Sade\"],[\"Soto, Julia \"],[\"Sparks, Taylor  \"],[\"Spirea, Kelley\"],[\"Squatrito, Kristen\"],[\"Stanford,Barbara  M\"],[\"Strong, Caitrin\"],[\"Sullivan, Kissy \"],[\"Sutwell, Barbara\"],[\"Tavares, Desiree  \"],[\"Tejeda, Lenora \"],[\"Terry, Sharlene \"],[\"Theamstern, Sophia\"],[\"Tippett, Jeanette\"],[\"Trang, Mei\"],[\"Trzeciak, Cybil\"],[\"Valentin,Jackie\"],[\"Volk, Colleen\"],[\"Von Massenbach, Anna\"],[\"Wallace, Courtney  E\"],[\"Wallace, Theresa\"],[\"Warfield, Sarah\"],[\"Wilkes, Annie\"],[\"Williams, Jacquelyn  \"],[\"Wolk, Hang  T\"],[\"Ybarra, Catherine \"],[\"Zamora, Jennifer\"],[\"Zhou, Julia\"],[\"Zima, Colleen\"]],\"hovertemplate\":\"Sex=F\\u003cbr\\u003eRaceDesc=%{x}\\u003cbr\\u003eSalary=%{y}\\u003cbr\\u003eEmployee_Name=%{customdata[0]}\\u003cextra\\u003e\\u003c\\u002fextra\\u003e\",\"legendgroup\":\"F\",\"marker\":{\"color\":\"#EF553B\"},\"name\":\"F\",\"notched\":false,\"offsetgroup\":\"F\",\"orientation\":\"v\",\"showlegend\":true,\"x\":[\"White\",\"White\",\"White\",\"White\",\"White\",\"Black or African American\",\"Black or African American\",\"White\",\"White\",\"White\",\"Asian\",\"White\",\"White\",\"White\",\"Black or African American\",\"White\",\"Black or African American\",\"Black or African American\",\"Black or African American\",\"Black or African American\",\"White\",\"Black or African American\",\"White\",\"White\",\"White\",\"White\",\"Black or African American\",\"White\",\"White\",\"White\",\"White\",\"White\",\"White\",\"Black or African American\",\"Black or African American\",\"White\",\"Black or African American\",\"White\",\"White\",\"White\",\"White\",\"White\",\"White\",\"White\",\"White\",\"Black or African American\",\"Black or African American\",\"Black or African American\",\"White\",\"White\",\"White\",\"White\",\"White\",\"Black or African American\",\"Black or African American\",\"Black or African American\",\"Black or African American\",\"Two or more races\",\"White\",\"White\",\"White\",\"White\",\"White\",\"American Indian or Alaska Native\",\"Asian\",\"White\",\"White\",\"White\",\"White\",\"White\",\"White\",\"White\",\"White\",\"Black or African American\",\"White\",\"White\",\"White\",\"White\",\"White\",\"Black or African American\",\"White\",\"American Indian or Alaska Native\",\"White\",\"Asian\",\"White\",\"Black or African American\",\"White\",\"White\",\"White\",\"White\",\"Asian\",\"Asian\",\"Asian\",\"White\",\"White\",\"Black or African American\",\"White\",\"Black or African American\",\"Black or African American\",\"Black or African American\",\"White\",\"White\",\"Two or more races\",\"White\",\"Asian\",\"White\",\"Black or African American\",\"Black or African American\",\"Black or African American\",\"White\",\"Black or African American\",\"White\",\"White\",\"Black or African American\",\"Two or more races\",\"White\",\"White\",\"Two or more races\",\"Asian\",\"White\",\"White\",\"Asian\",\"White\",\"White\",\"White\",\"Asian\",\"Black or African American\",\"Black or African American\",\"Asian\",\"White\",\"Black or African American\",\"Asian\",\"Black or African American\",\"White\",\"White\",\"White\",\"Black or African American\",\"White\",\"White\",\"Black or African American\",\"Black or African American\",\"Asian\",\"White\",\"White\",\"White\",\"White\",\"Black or African American\",\"White\",\"Black or African American\",\"White\",\"White\",\"White\",\"Two or more races\",\"Black or African American\",\"Black or African American\",\"Asian\",\"Black or African American\",\"White\",\"Black or African American\",\"White\",\"Black or African American\",\"White\",\"White\",\"Two or more races\",\"White\",\"White\",\"Black or African American\",\"White\",\"Asian\",\"White\",\"Black or African American\",\"White\",\"Asian\",\"White\",\"White\",\"Asian\"],\"x0\":\" \",\"xaxis\":\"x\",\"y\":[64955,64991,50825,57568,95660,47837,54670,70131,59026,110000,64919,62910,66441,57815,106367,53492,63000,64375,74326,63763,93396,100031,71860,61656,54237,64786,64816,64066,63381,56149,65729,85028,57583,101199,58275,59231,61584,46335,70621,74241,75188,62514,60070,56847,59124,99280,71776,65902,57748,58530,55965,99351,65707,53171,51337,51505,59370,57815,61555,114800,53018,61242,66825,66149,49256,63813,54828,52177,62065,68099,63478,97999,180000,49920,55425,69340,64995,68182,51908,61242,45069,60724,60436,105700,63322,61154,68999,250000,54005,45433,66074,81584,63676,77915,52624,51777,67237,73330,52057,47434,45395,62385,68407,61349,105688,54132,55315,62810,62659,55688,72460,52599,63430,52984,63695,62061,66738,52674,71966,63051,63515,60270,45998,57954,74669,74226,93554,61844,46799,46430,95920,46738,64971,61422,89883,120000,150290,60627,86214,47750,56147,50923,50750,52087,51920,63878,55000,58939,66593,64021,65714,62425,47961,60120,63682,59238,60754,72202,58370,48413,56339,63025,74813,57859,49773,62068,80512,50274,107226,58062,59728,60446,48513,220450,89292,45046],\"y0\":\" \",\"yaxis\":\"y\",\"type\":\"box\"}],                        {\"template\":{\"data\":{\"histogram2dcontour\":[{\"type\":\"histogram2dcontour\",\"colorbar\":{\"outlinewidth\":0,\"ticks\":\"\"},\"colorscale\":[[0.0,\"#0d0887\"],[0.1111111111111111,\"#46039f\"],[0.2222222222222222,\"#7201a8\"],[0.3333333333333333,\"#9c179e\"],[0.4444444444444444,\"#bd3786\"],[0.5555555555555556,\"#d8576b\"],[0.6666666666666666,\"#ed7953\"],[0.7777777777777778,\"#fb9f3a\"],[0.8888888888888888,\"#fdca26\"],[1.0,\"#f0f921\"]]}],\"choropleth\":[{\"type\":\"choropleth\",\"colorbar\":{\"outlinewidth\":0,\"ticks\":\"\"}}],\"histogram2d\":[{\"type\":\"histogram2d\",\"colorbar\":{\"outlinewidth\":0,\"ticks\":\"\"},\"colorscale\":[[0.0,\"#0d0887\"],[0.1111111111111111,\"#46039f\"],[0.2222222222222222,\"#7201a8\"],[0.3333333333333333,\"#9c179e\"],[0.4444444444444444,\"#bd3786\"],[0.5555555555555556,\"#d8576b\"],[0.6666666666666666,\"#ed7953\"],[0.7777777777777778,\"#fb9f3a\"],[0.8888888888888888,\"#fdca26\"],[1.0,\"#f0f921\"]]}],\"heatmap\":[{\"type\":\"heatmap\",\"colorbar\":{\"outlinewidth\":0,\"ticks\":\"\"},\"colorscale\":[[0.0,\"#0d0887\"],[0.1111111111111111,\"#46039f\"],[0.2222222222222222,\"#7201a8\"],[0.3333333333333333,\"#9c179e\"],[0.4444444444444444,\"#bd3786\"],[0.5555555555555556,\"#d8576b\"],[0.6666666666666666,\"#ed7953\"],[0.7777777777777778,\"#fb9f3a\"],[0.8888888888888888,\"#fdca26\"],[1.0,\"#f0f921\"]]}],\"heatmapgl\":[{\"type\":\"heatmapgl\",\"colorbar\":{\"outlinewidth\":0,\"ticks\":\"\"},\"colorscale\":[[0.0,\"#0d0887\"],[0.1111111111111111,\"#46039f\"],[0.2222222222222222,\"#7201a8\"],[0.3333333333333333,\"#9c179e\"],[0.4444444444444444,\"#bd3786\"],[0.5555555555555556,\"#d8576b\"],[0.6666666666666666,\"#ed7953\"],[0.7777777777777778,\"#fb9f3a\"],[0.8888888888888888,\"#fdca26\"],[1.0,\"#f0f921\"]]}],\"contourcarpet\":[{\"type\":\"contourcarpet\",\"colorbar\":{\"outlinewidth\":0,\"ticks\":\"\"}}],\"contour\":[{\"type\":\"contour\",\"colorbar\":{\"outlinewidth\":0,\"ticks\":\"\"},\"colorscale\":[[0.0,\"#0d0887\"],[0.1111111111111111,\"#46039f\"],[0.2222222222222222,\"#7201a8\"],[0.3333333333333333,\"#9c179e\"],[0.4444444444444444,\"#bd3786\"],[0.5555555555555556,\"#d8576b\"],[0.6666666666666666,\"#ed7953\"],[0.7777777777777778,\"#fb9f3a\"],[0.8888888888888888,\"#fdca26\"],[1.0,\"#f0f921\"]]}],\"surface\":[{\"type\":\"surface\",\"colorbar\":{\"outlinewidth\":0,\"ticks\":\"\"},\"colorscale\":[[0.0,\"#0d0887\"],[0.1111111111111111,\"#46039f\"],[0.2222222222222222,\"#7201a8\"],[0.3333333333333333,\"#9c179e\"],[0.4444444444444444,\"#bd3786\"],[0.5555555555555556,\"#d8576b\"],[0.6666666666666666,\"#ed7953\"],[0.7777777777777778,\"#fb9f3a\"],[0.8888888888888888,\"#fdca26\"],[1.0,\"#f0f921\"]]}],\"mesh3d\":[{\"type\":\"mesh3d\",\"colorbar\":{\"outlinewidth\":0,\"ticks\":\"\"}}],\"scatter\":[{\"fillpattern\":{\"fillmode\":\"overlay\",\"size\":10,\"solidity\":0.2},\"type\":\"scatter\"}],\"parcoords\":[{\"type\":\"parcoords\",\"line\":{\"colorbar\":{\"outlinewidth\":0,\"ticks\":\"\"}}}],\"scatterpolargl\":[{\"type\":\"scatterpolargl\",\"marker\":{\"colorbar\":{\"outlinewidth\":0,\"ticks\":\"\"}}}],\"bar\":[{\"error_x\":{\"color\":\"#2a3f5f\"},\"error_y\":{\"color\":\"#2a3f5f\"},\"marker\":{\"line\":{\"color\":\"white\",\"width\":0.5},\"pattern\":{\"fillmode\":\"overlay\",\"size\":10,\"solidity\":0.2}},\"type\":\"bar\"}],\"scattergeo\":[{\"type\":\"scattergeo\",\"marker\":{\"colorbar\":{\"outlinewidth\":0,\"ticks\":\"\"}}}],\"scatterpolar\":[{\"type\":\"scatterpolar\",\"marker\":{\"colorbar\":{\"outlinewidth\":0,\"ticks\":\"\"}}}],\"histogram\":[{\"marker\":{\"pattern\":{\"fillmode\":\"overlay\",\"size\":10,\"solidity\":0.2}},\"type\":\"histogram\"}],\"scattergl\":[{\"type\":\"scattergl\",\"marker\":{\"colorbar\":{\"outlinewidth\":0,\"ticks\":\"\"}}}],\"scatter3d\":[{\"type\":\"scatter3d\",\"line\":{\"colorbar\":{\"outlinewidth\":0,\"ticks\":\"\"}},\"marker\":{\"colorbar\":{\"outlinewidth\":0,\"ticks\":\"\"}}}],\"scattermapbox\":[{\"type\":\"scattermapbox\",\"marker\":{\"colorbar\":{\"outlinewidth\":0,\"ticks\":\"\"}}}],\"scatterternary\":[{\"type\":\"scatterternary\",\"marker\":{\"colorbar\":{\"outlinewidth\":0,\"ticks\":\"\"}}}],\"scattercarpet\":[{\"type\":\"scattercarpet\",\"marker\":{\"colorbar\":{\"outlinewidth\":0,\"ticks\":\"\"}}}],\"carpet\":[{\"aaxis\":{\"endlinecolor\":\"#2a3f5f\",\"gridcolor\":\"#C8D4E3\",\"linecolor\":\"#C8D4E3\",\"minorgridcolor\":\"#C8D4E3\",\"startlinecolor\":\"#2a3f5f\"},\"baxis\":{\"endlinecolor\":\"#2a3f5f\",\"gridcolor\":\"#C8D4E3\",\"linecolor\":\"#C8D4E3\",\"minorgridcolor\":\"#C8D4E3\",\"startlinecolor\":\"#2a3f5f\"},\"type\":\"carpet\"}],\"table\":[{\"cells\":{\"fill\":{\"color\":\"#EBF0F8\"},\"line\":{\"color\":\"white\"}},\"header\":{\"fill\":{\"color\":\"#C8D4E3\"},\"line\":{\"color\":\"white\"}},\"type\":\"table\"}],\"barpolar\":[{\"marker\":{\"line\":{\"color\":\"white\",\"width\":0.5},\"pattern\":{\"fillmode\":\"overlay\",\"size\":10,\"solidity\":0.2}},\"type\":\"barpolar\"}],\"pie\":[{\"automargin\":true,\"type\":\"pie\"}]},\"layout\":{\"autotypenumbers\":\"strict\",\"colorway\":[\"#636efa\",\"#EF553B\",\"#00cc96\",\"#ab63fa\",\"#FFA15A\",\"#19d3f3\",\"#FF6692\",\"#B6E880\",\"#FF97FF\",\"#FECB52\"],\"font\":{\"color\":\"#2a3f5f\"},\"hovermode\":\"closest\",\"hoverlabel\":{\"align\":\"left\"},\"paper_bgcolor\":\"white\",\"plot_bgcolor\":\"white\",\"polar\":{\"bgcolor\":\"white\",\"angularaxis\":{\"gridcolor\":\"#EBF0F8\",\"linecolor\":\"#EBF0F8\",\"ticks\":\"\"},\"radialaxis\":{\"gridcolor\":\"#EBF0F8\",\"linecolor\":\"#EBF0F8\",\"ticks\":\"\"}},\"ternary\":{\"bgcolor\":\"white\",\"aaxis\":{\"gridcolor\":\"#DFE8F3\",\"linecolor\":\"#A2B1C6\",\"ticks\":\"\"},\"baxis\":{\"gridcolor\":\"#DFE8F3\",\"linecolor\":\"#A2B1C6\",\"ticks\":\"\"},\"caxis\":{\"gridcolor\":\"#DFE8F3\",\"linecolor\":\"#A2B1C6\",\"ticks\":\"\"}},\"coloraxis\":{\"colorbar\":{\"outlinewidth\":0,\"ticks\":\"\"}},\"colorscale\":{\"sequential\":[[0.0,\"#0d0887\"],[0.1111111111111111,\"#46039f\"],[0.2222222222222222,\"#7201a8\"],[0.3333333333333333,\"#9c179e\"],[0.4444444444444444,\"#bd3786\"],[0.5555555555555556,\"#d8576b\"],[0.6666666666666666,\"#ed7953\"],[0.7777777777777778,\"#fb9f3a\"],[0.8888888888888888,\"#fdca26\"],[1.0,\"#f0f921\"]],\"sequentialminus\":[[0.0,\"#0d0887\"],[0.1111111111111111,\"#46039f\"],[0.2222222222222222,\"#7201a8\"],[0.3333333333333333,\"#9c179e\"],[0.4444444444444444,\"#bd3786\"],[0.5555555555555556,\"#d8576b\"],[0.6666666666666666,\"#ed7953\"],[0.7777777777777778,\"#fb9f3a\"],[0.8888888888888888,\"#fdca26\"],[1.0,\"#f0f921\"]],\"diverging\":[[0,\"#8e0152\"],[0.1,\"#c51b7d\"],[0.2,\"#de77ae\"],[0.3,\"#f1b6da\"],[0.4,\"#fde0ef\"],[0.5,\"#f7f7f7\"],[0.6,\"#e6f5d0\"],[0.7,\"#b8e186\"],[0.8,\"#7fbc41\"],[0.9,\"#4d9221\"],[1,\"#276419\"]]},\"xaxis\":{\"gridcolor\":\"#EBF0F8\",\"linecolor\":\"#EBF0F8\",\"ticks\":\"\",\"title\":{\"standoff\":15},\"zerolinecolor\":\"#EBF0F8\",\"automargin\":true,\"zerolinewidth\":2},\"yaxis\":{\"gridcolor\":\"#EBF0F8\",\"linecolor\":\"#EBF0F8\",\"ticks\":\"\",\"title\":{\"standoff\":15},\"zerolinecolor\":\"#EBF0F8\",\"automargin\":true,\"zerolinewidth\":2},\"scene\":{\"xaxis\":{\"backgroundcolor\":\"white\",\"gridcolor\":\"#DFE8F3\",\"linecolor\":\"#EBF0F8\",\"showbackground\":true,\"ticks\":\"\",\"zerolinecolor\":\"#EBF0F8\",\"gridwidth\":2},\"yaxis\":{\"backgroundcolor\":\"white\",\"gridcolor\":\"#DFE8F3\",\"linecolor\":\"#EBF0F8\",\"showbackground\":true,\"ticks\":\"\",\"zerolinecolor\":\"#EBF0F8\",\"gridwidth\":2},\"zaxis\":{\"backgroundcolor\":\"white\",\"gridcolor\":\"#DFE8F3\",\"linecolor\":\"#EBF0F8\",\"showbackground\":true,\"ticks\":\"\",\"zerolinecolor\":\"#EBF0F8\",\"gridwidth\":2}},\"shapedefaults\":{\"line\":{\"color\":\"#2a3f5f\"}},\"annotationdefaults\":{\"arrowcolor\":\"#2a3f5f\",\"arrowhead\":0,\"arrowwidth\":1},\"geo\":{\"bgcolor\":\"white\",\"landcolor\":\"white\",\"subunitcolor\":\"#C8D4E3\",\"showland\":true,\"showlakes\":true,\"lakecolor\":\"white\"},\"title\":{\"x\":0.05},\"mapbox\":{\"style\":\"light\"}}},\"xaxis\":{\"anchor\":\"y\",\"domain\":[0.0,1.0],\"title\":{\"text\":\"RaceDesc\"}},\"yaxis\":{\"anchor\":\"x\",\"domain\":[0.0,1.0],\"title\":{\"text\":\"Salary\"}},\"legend\":{\"title\":{\"text\":\"Sex\"},\"tracegroupgap\":0},\"margin\":{\"t\":60},\"boxmode\":\"group\",\"width\":600},                        {\"responsive\": true}                    ).then(function(){\n",
       "                            \n",
       "var gd = document.getElementById('82a2a7c1-356e-4d07-8d87-4a7e7dc1a169');\n",
       "var x = new MutationObserver(function (mutations, observer) {{\n",
       "        var display = window.getComputedStyle(gd).display;\n",
       "        if (!display || display === 'none') {{\n",
       "            console.log([gd, 'removed!']);\n",
       "            Plotly.purge(gd);\n",
       "            observer.disconnect();\n",
       "        }}\n",
       "}});\n",
       "\n",
       "// Listen for the removal of the full notebook cells\n",
       "var notebookContainer = gd.closest('#notebook-container');\n",
       "if (notebookContainer) {{\n",
       "    x.observe(notebookContainer, {childList: true});\n",
       "}}\n",
       "\n",
       "// Listen for the clearing of the current output cell\n",
       "var outputEl = gd.closest('.output');\n",
       "if (outputEl) {{\n",
       "    x.observe(outputEl, {childList: true});\n",
       "}}\n",
       "\n",
       "                        })                };                });            </script>        </div>"
      ]
     },
     "metadata": {},
     "output_type": "display_data"
    }
   ],
   "source": [
    "df.plot.box(x = 'RaceDesc', y = 'Salary', color = 'Sex', points = 'outliers', hover_data = 'Employee_Name', width = 600)"
   ]
  }
 ],
 "metadata": {
  "kernelspec": {
   "display_name": "Python 3 (ipykernel)",
   "language": "python",
   "name": "python3"
  },
  "language_info": {
   "codemirror_mode": {
    "name": "ipython",
    "version": 3
   },
   "file_extension": ".py",
   "mimetype": "text/x-python",
   "name": "python",
   "nbconvert_exporter": "python",
   "pygments_lexer": "ipython3",
   "version": "3.10.13"
  }
 },
 "nbformat": 4,
 "nbformat_minor": 5
}
