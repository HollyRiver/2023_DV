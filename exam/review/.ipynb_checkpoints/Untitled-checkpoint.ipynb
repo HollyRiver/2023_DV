{
 "cells": [
  {
   "cell_type": "markdown",
   "id": "8cdd423a-0111-46ca-8051-f39dc45266b7",
   "metadata": {},
   "source": [
    "## 질문"
   ]
  },
  {
   "cell_type": "code",
   "execution_count": 2,
   "id": "e68ef237-9780-4113-83b1-bd68746d1cd8",
   "metadata": {},
   "outputs": [],
   "source": [
    "import pandas as pd\n",
    "import numpy as np\n",
    "import matplotlib.pyplot as plt\n",
    "from plotnine import *"
   ]
  },
  {
   "cell_type": "code",
   "execution_count": null,
   "id": "ca031a2c-8856-45cd-a4e0-63bd88c4cae0",
   "metadata": {},
   "outputs": [],
   "source": []
  }
 ],
 "metadata": {
  "kernelspec": {
   "display_name": "Python 3 (ipykernel)",
   "language": "python",
   "name": "python3"
  },
  "language_info": {
   "codemirror_mode": {
    "name": "ipython",
    "version": 3
   },
   "file_extension": ".py",
   "mimetype": "text/x-python",
   "name": "python",
   "nbconvert_exporter": "python",
   "pygments_lexer": "ipython3",
   "version": "3.10.13"
  }
 },
 "nbformat": 4,
 "nbformat_minor": 5
}
