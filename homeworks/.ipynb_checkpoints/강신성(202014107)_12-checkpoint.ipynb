{
 "cells": [
  {
   "cell_type": "markdown",
   "id": "99ba5587-05ab-490e-b42b-a0433cb64d46",
   "metadata": {},
   "source": [
    "### 라이브러리 imports"
   ]
  },
  {
   "cell_type": "code",
   "execution_count": null,
   "id": "3e1a0ff4-4bb8-45a3-b25e-d7b47e53d33c",
   "metadata": {},
   "outputs": [],
   "source": [
    "import pandas as pd\n",
    "import numpy as np"
   ]
  },
  {
   "cell_type": "markdown",
   "id": "4ad87241-7c52-4fb3-89fb-972281cd3e0c",
   "metadata": {},
   "source": [
    "## 문제\n",
    "\n",
    "> 아래의 자료를 tidydata로 변환하라."
   ]
  },
  {
   "cell_type": "code",
   "execution_count": 2,
   "id": "3908ceee-8158-4612-b9d4-ea37288054cc",
   "metadata": {},
   "outputs": [
    {
     "data": {
      "text/plain": [
       "female  A    0.5\n",
       "        B    0.2\n",
       "male    A    0.3\n",
       "        B    0.7\n",
       "dtype: float64"
      ]
     },
     "execution_count": 2,
     "metadata": {},
     "output_type": "execute_result"
    }
   ],
   "source": [
    "s = pd.Series({\n",
    "    ('female','A'):0.5,\n",
    "    ('female','B'):0.2,\n",
    "    ('male','A'):0.3,\n",
    "    ('male','B'):0.7\n",
    "})\n",
    "s"
   ]
  },
  {
   "cell_type": "markdown",
   "id": "bc8e9868-29c3-4cbf-a4e5-55ced326a244",
   "metadata": {},
   "source": [
    "### 풀이\n",
    "---\n",
    "\n",
    "\n"
   ]
  },
  {
   "cell_type": "markdown",
   "id": "11e53ce5-d487-4a27-abba-1262cb49ccf0",
   "metadata": {},
   "source": [
    "\\- 시리즈의 인덱스를 해제"
   ]
  },
  {
   "cell_type": "code",
   "execution_count": 3,
   "id": "0ed4e340-9714-4f79-8147-698cdffd309d",
   "metadata": {},
   "outputs": [
    {
     "data": {
      "text/html": [
       "<div>\n",
       "<style scoped>\n",
       "    .dataframe tbody tr th:only-of-type {\n",
       "        vertical-align: middle;\n",
       "    }\n",
       "\n",
       "    .dataframe tbody tr th {\n",
       "        vertical-align: top;\n",
       "    }\n",
       "\n",
       "    .dataframe thead th {\n",
       "        text-align: right;\n",
       "    }\n",
       "</style>\n",
       "<table border=\"1\" class=\"dataframe\">\n",
       "  <thead>\n",
       "    <tr style=\"text-align: right;\">\n",
       "      <th></th>\n",
       "      <th>level_0</th>\n",
       "      <th>level_1</th>\n",
       "      <th>0</th>\n",
       "    </tr>\n",
       "  </thead>\n",
       "  <tbody>\n",
       "    <tr>\n",
       "      <th>0</th>\n",
       "      <td>female</td>\n",
       "      <td>A</td>\n",
       "      <td>0.5</td>\n",
       "    </tr>\n",
       "    <tr>\n",
       "      <th>1</th>\n",
       "      <td>female</td>\n",
       "      <td>B</td>\n",
       "      <td>0.2</td>\n",
       "    </tr>\n",
       "    <tr>\n",
       "      <th>2</th>\n",
       "      <td>male</td>\n",
       "      <td>A</td>\n",
       "      <td>0.3</td>\n",
       "    </tr>\n",
       "    <tr>\n",
       "      <th>3</th>\n",
       "      <td>male</td>\n",
       "      <td>B</td>\n",
       "      <td>0.7</td>\n",
       "    </tr>\n",
       "  </tbody>\n",
       "</table>\n",
       "</div>"
      ],
      "text/plain": [
       "  level_0 level_1    0\n",
       "0  female       A  0.5\n",
       "1  female       B  0.2\n",
       "2    male       A  0.3\n",
       "3    male       B  0.7"
      ]
     },
     "execution_count": 3,
     "metadata": {},
     "output_type": "execute_result"
    }
   ],
   "source": [
    "s.reset_index()"
   ]
  },
  {
   "cell_type": "markdown",
   "id": "95d58a62-5cca-495e-bf66-3c95e4a29a4b",
   "metadata": {},
   "source": [
    "\\- 어... 이게 다네요."
   ]
  },
  {
   "cell_type": "code",
   "execution_count": 5,
   "id": "c4d07ad2-49bd-4031-b8f1-477db451c6b4",
   "metadata": {},
   "outputs": [
    {
     "data": {
      "text/html": [
       "<div>\n",
       "<style scoped>\n",
       "    .dataframe tbody tr th:only-of-type {\n",
       "        vertical-align: middle;\n",
       "    }\n",
       "\n",
       "    .dataframe tbody tr th {\n",
       "        vertical-align: top;\n",
       "    }\n",
       "\n",
       "    .dataframe thead th {\n",
       "        text-align: right;\n",
       "    }\n",
       "</style>\n",
       "<table border=\"1\" class=\"dataframe\">\n",
       "  <thead>\n",
       "    <tr style=\"text-align: right;\">\n",
       "      <th></th>\n",
       "      <th>Gender</th>\n",
       "      <th>Class</th>\n",
       "      <th>Value</th>\n",
       "    </tr>\n",
       "  </thead>\n",
       "  <tbody>\n",
       "    <tr>\n",
       "      <th>0</th>\n",
       "      <td>female</td>\n",
       "      <td>A</td>\n",
       "      <td>0.5</td>\n",
       "    </tr>\n",
       "    <tr>\n",
       "      <th>1</th>\n",
       "      <td>female</td>\n",
       "      <td>B</td>\n",
       "      <td>0.2</td>\n",
       "    </tr>\n",
       "    <tr>\n",
       "      <th>2</th>\n",
       "      <td>male</td>\n",
       "      <td>A</td>\n",
       "      <td>0.3</td>\n",
       "    </tr>\n",
       "    <tr>\n",
       "      <th>3</th>\n",
       "      <td>male</td>\n",
       "      <td>B</td>\n",
       "      <td>0.7</td>\n",
       "    </tr>\n",
       "  </tbody>\n",
       "</table>\n",
       "</div>"
      ],
      "text/plain": [
       "   Gender Class  Value\n",
       "0  female     A    0.5\n",
       "1  female     B    0.2\n",
       "2    male     A    0.3\n",
       "3    male     B    0.7"
      ]
     },
     "execution_count": 5,
     "metadata": {},
     "output_type": "execute_result"
    }
   ],
   "source": [
    "s.reset_index().rename({'level_0' : 'Gender', 'level_1' : 'Class', 0 : 'Value'}, axis = 1)"
   ]
  },
  {
   "cell_type": "markdown",
   "id": "9867ecea-f449-401a-94d1-aca7c231eb9c",
   "metadata": {},
   "source": [
    "**끝**"
   ]
  }
 ],
 "metadata": {
  "kernelspec": {
   "display_name": "Python 3 (ipykernel)",
   "language": "python",
   "name": "python3"
  },
  "language_info": {
   "codemirror_mode": {
    "name": "ipython",
    "version": 3
   },
   "file_extension": ".py",
   "mimetype": "text/x-python",
   "name": "python",
   "nbconvert_exporter": "python",
   "pygments_lexer": "ipython3",
   "version": "3.10.13"
  }
 },
 "nbformat": 4,
 "nbformat_minor": 5
}
