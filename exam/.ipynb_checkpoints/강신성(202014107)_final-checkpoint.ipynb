{
 "cells": [
  {
   "cell_type": "markdown",
   "id": "35052ebe-0098-4c00-ba5f-7a9831d57d9a",
   "metadata": {},
   "source": [
    "# 15wk-2: 기말고사\n",
    "\n",
    "\n",
    "\n",
    "---\n",
    "\n",
    "**2023-12-18**\n",
    "\n",
    "**202014107 경제학부 강신성**\n",
    "\n",
    "\n",
    "---\n",
    "\n",
    "\n"
   ]
  },
  {
   "cell_type": "code",
   "execution_count": 2,
   "id": "8eeb97d7-0bee-4ef9-899e-23c8131779e9",
   "metadata": {},
   "outputs": [],
   "source": [
    "import pandas as pd\n",
    "import numpy as np\n",
    "import plotly.express as px\n",
    "import plotly.io as pio\n",
    "import json  ## json 파일 인코딩\n",
    "import requests  ## 파일 수용 라이브러리"
   ]
  },
  {
   "cell_type": "code",
   "execution_count": 3,
   "id": "5d109d4e-9cca-4072-8728-d325ab29af54",
   "metadata": {},
   "outputs": [],
   "source": [
    "pd.options.plotting.backend = 'plotly'  ## 백엔드 기본 설정 변경\n",
    "pio.templates.default = 'plotly_white'  ## 템플릿 변경"
   ]
  },
  {
   "cell_type": "markdown",
   "id": "35e3b3ff-9826-4cb9-804f-51e7423b626b",
   "metadata": {},
   "source": [
    "## 1."
   ]
  },
  {
   "cell_type": "markdown",
   "id": "dc4476a5-e1b9-42fb-9c43-d4c768567310",
   "metadata": {},
   "source": [
    "### `(1)`"
   ]
  },
  {
   "cell_type": "markdown",
   "id": "6bb80486-8169-4cf3-962e-53d4a3028893",
   "metadata": {},
   "source": [
    "### `(2)`"
   ]
  },
  {
   "cell_type": "markdown",
   "id": "0898969a-2b92-42db-b10c-5a6271c95a8f",
   "metadata": {},
   "source": [
    "### `(3)`"
   ]
  },
  {
   "cell_type": "markdown",
   "id": "0695f4eb-0a06-47a5-82ae-e3291b77c179",
   "metadata": {},
   "source": [
    "## 2."
   ]
  },
  {
   "cell_type": "markdown",
   "id": "64da0394-189b-4256-8ab9-d4fabc78d1a7",
   "metadata": {},
   "source": [
    "### `(1)`"
   ]
  },
  {
   "cell_type": "markdown",
   "id": "ca833000-5ae8-4a87-9dae-4b267db3fba8",
   "metadata": {},
   "source": [
    "### `(2)`"
   ]
  },
  {
   "cell_type": "markdown",
   "id": "f7a375f7-5a2b-45cc-810f-2de90cc95e62",
   "metadata": {},
   "source": [
    "### `(3)`"
   ]
  }
 ],
 "metadata": {
  "kernelspec": {
   "display_name": "Python 3 (ipykernel)",
   "language": "python",
   "name": "python3"
  },
  "language_info": {
   "codemirror_mode": {
    "name": "ipython",
    "version": 3
   },
   "file_extension": ".py",
   "mimetype": "text/x-python",
   "name": "python",
   "nbconvert_exporter": "python",
   "pygments_lexer": "ipython3",
   "version": "3.10.13"
  }
 },
 "nbformat": 4,
 "nbformat_minor": 5
}
