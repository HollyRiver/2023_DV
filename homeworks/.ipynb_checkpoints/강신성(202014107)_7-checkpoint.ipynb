{
 "cells": [
  {
   "cell_type": "markdown",
   "id": "61dc624c-5611-4e2e-ab0f-9e288990000c",
   "metadata": {},
   "source": [
    "### 문제\n",
    "\n",
    "> 주어진 자료에서 입학년도를 추가하고 싶다면 어떻게 해야 할까?"
   ]
  },
  {
   "cell_type": "markdown",
   "id": "1eda69f6-fbbf-429e-813b-f6a4533ecf74",
   "metadata": {},
   "source": [
    "## 1. 사전작업"
   ]
  },
  {
   "cell_type": "markdown",
   "id": "e44b3f6f-25c4-41dc-bc84-079cd48c83a5",
   "metadata": {},
   "source": [
    "* 라이브러리 설치"
   ]
  },
  {
   "cell_type": "code",
   "execution_count": 2,
   "id": "203f6ee0-27be-4399-8540-3da330b2591c",
   "metadata": {},
   "outputs": [],
   "source": [
    "import numpy as np\n",
    "import pandas as pd"
   ]
  },
  {
   "cell_type": "markdown",
   "id": "d9941e6b-ccf8-4a07-86df-a1191959ef17",
   "metadata": {},
   "source": [
    "* 자료 받아오기 및 확인"
   ]
  },
  {
   "cell_type": "code",
   "execution_count": 3,
   "id": "51204525-fb72-4b2b-9a12-8bc95b57dbac",
   "metadata": {},
   "outputs": [
    {
     "data": {
      "text/html": [
       "<div>\n",
       "<style scoped>\n",
       "    .dataframe tbody tr th:only-of-type {\n",
       "        vertical-align: middle;\n",
       "    }\n",
       "\n",
       "    .dataframe tbody tr th {\n",
       "        vertical-align: top;\n",
       "    }\n",
       "\n",
       "    .dataframe thead th {\n",
       "        text-align: right;\n",
       "    }\n",
       "</style>\n",
       "<table border=\"1\" class=\"dataframe\">\n",
       "  <thead>\n",
       "    <tr style=\"text-align: right;\">\n",
       "      <th></th>\n",
       "      <th>student_id</th>\n",
       "      <th>att</th>\n",
       "      <th>rep</th>\n",
       "      <th>mid</th>\n",
       "      <th>fin</th>\n",
       "    </tr>\n",
       "  </thead>\n",
       "  <tbody>\n",
       "    <tr>\n",
       "      <th>0</th>\n",
       "      <td>2023-12362</td>\n",
       "      <td>65</td>\n",
       "      <td>55</td>\n",
       "      <td>50</td>\n",
       "      <td>40</td>\n",
       "    </tr>\n",
       "    <tr>\n",
       "      <th>1</th>\n",
       "      <td>2022-12471</td>\n",
       "      <td>95</td>\n",
       "      <td>100</td>\n",
       "      <td>50</td>\n",
       "      <td>80</td>\n",
       "    </tr>\n",
       "    <tr>\n",
       "      <th>2</th>\n",
       "      <td>2023-12333</td>\n",
       "      <td>65</td>\n",
       "      <td>90</td>\n",
       "      <td>60</td>\n",
       "      <td>30</td>\n",
       "    </tr>\n",
       "    <tr>\n",
       "      <th>3</th>\n",
       "      <td>2022-12400</td>\n",
       "      <td>55</td>\n",
       "      <td>80</td>\n",
       "      <td>75</td>\n",
       "      <td>80</td>\n",
       "    </tr>\n",
       "    <tr>\n",
       "      <th>4</th>\n",
       "      <td>2022-12377</td>\n",
       "      <td>80</td>\n",
       "      <td>30</td>\n",
       "      <td>30</td>\n",
       "      <td>100</td>\n",
       "    </tr>\n",
       "  </tbody>\n",
       "</table>\n",
       "</div>"
      ],
      "text/plain": [
       "   student_id  att  rep  mid  fin\n",
       "0  2023-12362   65   55   50   40\n",
       "1  2022-12471   95  100   50   80\n",
       "2  2023-12333   65   90   60   30\n",
       "3  2022-12400   55   80   75   80\n",
       "4  2022-12377   80   30   30  100"
      ]
     },
     "execution_count": 3,
     "metadata": {},
     "output_type": "execute_result"
    }
   ],
   "source": [
    "np.random.seed(43052)\n",
    "att = np.random.choice(np.arange(10,21)*5,20)\n",
    "rep = np.random.choice(np.arange(5,21)*5,20)\n",
    "mid = np.random.choice(np.arange(0,21)*5,20)\n",
    "fin = np.random.choice(np.arange(0,21)*5,20)\n",
    "student_id = [ '2023-12362', '2022-12471', '2023-12333', '2022-12400', '2022-12377',\n",
    "               '2022-12469', '2023-12314', '2022-12363', '2023-12445', '2023-12336',\n",
    "               '2023-12426', '2022-12380', '2023-12422', '2022-12488', '2022-12370',\n",
    "               '2023-12443', '2022-12463', '2023-12491', '2023-12340', '2022-12312' ]\n",
    "df = pd.DataFrame({'student_id':student_id,'att':att,'rep':rep,'mid':mid,'fin':fin})\n",
    "df.head()"
   ]
  },
  {
   "cell_type": "markdown",
   "id": "b297afaa-bd52-41fb-a3aa-127f794da0ec",
   "metadata": {},
   "source": [
    "> 학번(```student_id```)에서 앞 네자리에 해당하는 숫자를 빼내어 새로운 열로 저장하면 좋을 것 같다."
   ]
  },
  {
   "cell_type": "markdown",
   "id": "14f5be9f-cba4-441a-ba10-db01d4ed81c2",
   "metadata": {},
   "source": [
    "## 2. 가공"
   ]
  },
  {
   "cell_type": "markdown",
   "id": "928cff84-b855-412b-8431-69ef9ef995e5",
   "metadata": {},
   "source": [
    "* 아래의 코드는 ```student_id``` 열을 ```'-'```를 기준으로 앞뒤로 나누고 첫번째 것을 취한다. 숫자형으로 바꾼 뒤, 리스트로 산출한다."
   ]
  },
  {
   "cell_type": "code",
   "execution_count": 5,
   "id": "4b26e5cd-d70a-4148-9832-7780cf533013",
   "metadata": {},
   "outputs": [
    {
     "data": {
      "text/plain": [
       "[2023,\n",
       " 2022,\n",
       " 2023,\n",
       " 2022,\n",
       " 2022,\n",
       " 2022,\n",
       " 2023,\n",
       " 2022,\n",
       " 2023,\n",
       " 2023,\n",
       " 2023,\n",
       " 2022,\n",
       " 2023,\n",
       " 2022,\n",
       " 2022,\n",
       " 2023,\n",
       " 2022,\n",
       " 2023,\n",
       " 2023,\n",
       " 2022]"
      ]
     },
     "execution_count": 5,
     "metadata": {},
     "output_type": "execute_result"
    }
   ],
   "source": [
    "[int(i.split('-')[0]) for i in df.student_id]"
   ]
  },
  {
   "cell_type": "markdown",
   "id": "4e13f2a6-4574-4a9c-8367-8a20f5918315",
   "metadata": {},
   "source": [
    "* ```lambda```를 이용해 가공할 수도 있다."
   ]
  },
  {
   "cell_type": "code",
   "execution_count": 8,
   "id": "171be029-a1e3-441a-bbe0-b5e89d5626a9",
   "metadata": {},
   "outputs": [
    {
     "data": {
      "text/plain": [
       "[2023,\n",
       " 2022,\n",
       " 2023,\n",
       " 2022,\n",
       " 2022,\n",
       " 2022,\n",
       " 2023,\n",
       " 2022,\n",
       " 2023,\n",
       " 2023,\n",
       " 2023,\n",
       " 2022,\n",
       " 2023,\n",
       " 2022,\n",
       " 2022,\n",
       " 2023,\n",
       " 2022,\n",
       " 2023,\n",
       " 2023,\n",
       " 2022]"
      ]
     },
     "execution_count": 8,
     "metadata": {},
     "output_type": "execute_result"
    }
   ],
   "source": [
    "list(map((lambda x : int(x.split('-')[0])), df.student_id))"
   ]
  },
  {
   "cell_type": "markdown",
   "id": "f62552dd-58c6-4106-8c62-4d9755dbff03",
   "metadata": {},
   "source": [
    "> 첫번째 코드와 똑같은 결과를 산출한다."
   ]
  },
  {
   "cell_type": "markdown",
   "id": "ef66475e-1b02-49f9-b242-e2ae13b167f8",
   "metadata": {},
   "source": [
    "## 3. 출력"
   ]
  },
  {
   "cell_type": "markdown",
   "id": "35baac60-5ef2-4630-942d-33623f4e3cb2",
   "metadata": {},
   "source": [
    "* 상기의 코드를 ```df```에 새로운 열 ```year```에 삽입한다."
   ]
  },
  {
   "cell_type": "code",
   "execution_count": 6,
   "id": "7349a4e4-dcfb-4941-9730-1b32052cabe3",
   "metadata": {},
   "outputs": [
    {
     "data": {
      "text/html": [
       "<div>\n",
       "<style scoped>\n",
       "    .dataframe tbody tr th:only-of-type {\n",
       "        vertical-align: middle;\n",
       "    }\n",
       "\n",
       "    .dataframe tbody tr th {\n",
       "        vertical-align: top;\n",
       "    }\n",
       "\n",
       "    .dataframe thead th {\n",
       "        text-align: right;\n",
       "    }\n",
       "</style>\n",
       "<table border=\"1\" class=\"dataframe\">\n",
       "  <thead>\n",
       "    <tr style=\"text-align: right;\">\n",
       "      <th></th>\n",
       "      <th>student_id</th>\n",
       "      <th>att</th>\n",
       "      <th>rep</th>\n",
       "      <th>mid</th>\n",
       "      <th>fin</th>\n",
       "      <th>year</th>\n",
       "    </tr>\n",
       "  </thead>\n",
       "  <tbody>\n",
       "    <tr>\n",
       "      <th>0</th>\n",
       "      <td>2023-12362</td>\n",
       "      <td>65</td>\n",
       "      <td>55</td>\n",
       "      <td>50</td>\n",
       "      <td>40</td>\n",
       "      <td>2023</td>\n",
       "    </tr>\n",
       "    <tr>\n",
       "      <th>1</th>\n",
       "      <td>2022-12471</td>\n",
       "      <td>95</td>\n",
       "      <td>100</td>\n",
       "      <td>50</td>\n",
       "      <td>80</td>\n",
       "      <td>2022</td>\n",
       "    </tr>\n",
       "    <tr>\n",
       "      <th>2</th>\n",
       "      <td>2023-12333</td>\n",
       "      <td>65</td>\n",
       "      <td>90</td>\n",
       "      <td>60</td>\n",
       "      <td>30</td>\n",
       "      <td>2023</td>\n",
       "    </tr>\n",
       "    <tr>\n",
       "      <th>3</th>\n",
       "      <td>2022-12400</td>\n",
       "      <td>55</td>\n",
       "      <td>80</td>\n",
       "      <td>75</td>\n",
       "      <td>80</td>\n",
       "      <td>2022</td>\n",
       "    </tr>\n",
       "    <tr>\n",
       "      <th>4</th>\n",
       "      <td>2022-12377</td>\n",
       "      <td>80</td>\n",
       "      <td>30</td>\n",
       "      <td>30</td>\n",
       "      <td>100</td>\n",
       "      <td>2022</td>\n",
       "    </tr>\n",
       "    <tr>\n",
       "      <th>5</th>\n",
       "      <td>2022-12469</td>\n",
       "      <td>75</td>\n",
       "      <td>40</td>\n",
       "      <td>100</td>\n",
       "      <td>15</td>\n",
       "      <td>2022</td>\n",
       "    </tr>\n",
       "    <tr>\n",
       "      <th>6</th>\n",
       "      <td>2023-12314</td>\n",
       "      <td>65</td>\n",
       "      <td>45</td>\n",
       "      <td>45</td>\n",
       "      <td>90</td>\n",
       "      <td>2023</td>\n",
       "    </tr>\n",
       "    <tr>\n",
       "      <th>7</th>\n",
       "      <td>2022-12363</td>\n",
       "      <td>60</td>\n",
       "      <td>60</td>\n",
       "      <td>25</td>\n",
       "      <td>0</td>\n",
       "      <td>2022</td>\n",
       "    </tr>\n",
       "    <tr>\n",
       "      <th>8</th>\n",
       "      <td>2023-12445</td>\n",
       "      <td>95</td>\n",
       "      <td>65</td>\n",
       "      <td>20</td>\n",
       "      <td>10</td>\n",
       "      <td>2023</td>\n",
       "    </tr>\n",
       "    <tr>\n",
       "      <th>9</th>\n",
       "      <td>2023-12336</td>\n",
       "      <td>90</td>\n",
       "      <td>80</td>\n",
       "      <td>80</td>\n",
       "      <td>20</td>\n",
       "      <td>2023</td>\n",
       "    </tr>\n",
       "    <tr>\n",
       "      <th>10</th>\n",
       "      <td>2023-12426</td>\n",
       "      <td>55</td>\n",
       "      <td>75</td>\n",
       "      <td>35</td>\n",
       "      <td>25</td>\n",
       "      <td>2023</td>\n",
       "    </tr>\n",
       "    <tr>\n",
       "      <th>11</th>\n",
       "      <td>2022-12380</td>\n",
       "      <td>95</td>\n",
       "      <td>95</td>\n",
       "      <td>45</td>\n",
       "      <td>0</td>\n",
       "      <td>2022</td>\n",
       "    </tr>\n",
       "    <tr>\n",
       "      <th>12</th>\n",
       "      <td>2023-12422</td>\n",
       "      <td>95</td>\n",
       "      <td>55</td>\n",
       "      <td>15</td>\n",
       "      <td>35</td>\n",
       "      <td>2023</td>\n",
       "    </tr>\n",
       "    <tr>\n",
       "      <th>13</th>\n",
       "      <td>2022-12488</td>\n",
       "      <td>50</td>\n",
       "      <td>80</td>\n",
       "      <td>40</td>\n",
       "      <td>30</td>\n",
       "      <td>2022</td>\n",
       "    </tr>\n",
       "    <tr>\n",
       "      <th>14</th>\n",
       "      <td>2022-12370</td>\n",
       "      <td>50</td>\n",
       "      <td>55</td>\n",
       "      <td>15</td>\n",
       "      <td>85</td>\n",
       "      <td>2022</td>\n",
       "    </tr>\n",
       "    <tr>\n",
       "      <th>15</th>\n",
       "      <td>2023-12443</td>\n",
       "      <td>95</td>\n",
       "      <td>30</td>\n",
       "      <td>30</td>\n",
       "      <td>95</td>\n",
       "      <td>2023</td>\n",
       "    </tr>\n",
       "    <tr>\n",
       "      <th>16</th>\n",
       "      <td>2022-12463</td>\n",
       "      <td>50</td>\n",
       "      <td>50</td>\n",
       "      <td>45</td>\n",
       "      <td>10</td>\n",
       "      <td>2022</td>\n",
       "    </tr>\n",
       "    <tr>\n",
       "      <th>17</th>\n",
       "      <td>2023-12491</td>\n",
       "      <td>65</td>\n",
       "      <td>55</td>\n",
       "      <td>15</td>\n",
       "      <td>45</td>\n",
       "      <td>2023</td>\n",
       "    </tr>\n",
       "    <tr>\n",
       "      <th>18</th>\n",
       "      <td>2023-12340</td>\n",
       "      <td>70</td>\n",
       "      <td>70</td>\n",
       "      <td>40</td>\n",
       "      <td>35</td>\n",
       "      <td>2023</td>\n",
       "    </tr>\n",
       "    <tr>\n",
       "      <th>19</th>\n",
       "      <td>2022-12312</td>\n",
       "      <td>90</td>\n",
       "      <td>90</td>\n",
       "      <td>80</td>\n",
       "      <td>90</td>\n",
       "      <td>2022</td>\n",
       "    </tr>\n",
       "  </tbody>\n",
       "</table>\n",
       "</div>"
      ],
      "text/plain": [
       "    student_id  att  rep  mid  fin  year\n",
       "0   2023-12362   65   55   50   40  2023\n",
       "1   2022-12471   95  100   50   80  2022\n",
       "2   2023-12333   65   90   60   30  2023\n",
       "3   2022-12400   55   80   75   80  2022\n",
       "4   2022-12377   80   30   30  100  2022\n",
       "5   2022-12469   75   40  100   15  2022\n",
       "6   2023-12314   65   45   45   90  2023\n",
       "7   2022-12363   60   60   25    0  2022\n",
       "8   2023-12445   95   65   20   10  2023\n",
       "9   2023-12336   90   80   80   20  2023\n",
       "10  2023-12426   55   75   35   25  2023\n",
       "11  2022-12380   95   95   45    0  2022\n",
       "12  2023-12422   95   55   15   35  2023\n",
       "13  2022-12488   50   80   40   30  2022\n",
       "14  2022-12370   50   55   15   85  2022\n",
       "15  2023-12443   95   30   30   95  2023\n",
       "16  2022-12463   50   50   45   10  2022\n",
       "17  2023-12491   65   55   15   45  2023\n",
       "18  2023-12340   70   70   40   35  2023\n",
       "19  2022-12312   90   90   80   90  2022"
      ]
     },
     "execution_count": 6,
     "metadata": {},
     "output_type": "execute_result"
    }
   ],
   "source": [
    "df.assign(year = [int(i.split('-')[0]) for i in df.student_id])"
   ]
  },
  {
   "cell_type": "markdown",
   "id": "3cb2ef8c-1217-49ac-b8c6-4231aab3aef2",
   "metadata": {},
   "source": [
    "**완료**"
   ]
  },
  {
   "cell_type": "markdown",
   "id": "184550a8-0189-4e8f-8536-684af5200ae3",
   "metadata": {},
   "source": [
    "-감사합니다-"
   ]
  }
 ],
 "metadata": {
  "kernelspec": {
   "display_name": "Python 3 (ipykernel)",
   "language": "python",
   "name": "python3"
  },
  "language_info": {
   "codemirror_mode": {
    "name": "ipython",
    "version": 3
   },
   "file_extension": ".py",
   "mimetype": "text/x-python",
   "name": "python",
   "nbconvert_exporter": "python",
   "pygments_lexer": "ipython3",
   "version": "3.10.13"
  }
 },
 "nbformat": 4,
 "nbformat_minor": 5
}
