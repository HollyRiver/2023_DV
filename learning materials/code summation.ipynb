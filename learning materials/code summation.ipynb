{
 "cells": [
  {
   "cell_type": "markdown",
   "metadata": {
    "id": "X2frMe9CR5Wq"
   },
   "source": [
    "# **learned code**"
   ]
  },
  {
   "cell_type": "markdown",
   "metadata": {},
   "source": [
    "### **1.Introduction(플롯, 이퀼라이징)**"
   ]
  },
  {
   "cell_type": "code",
   "execution_count": null,
   "metadata": {
    "id": "tIgzPS_GSN_o"
   },
   "outputs": [],
   "source": [
    "plt.boxplot() ## 박스플롯 생성"
   ]
  },
  {
   "cell_type": "code",
   "execution_count": null,
   "metadata": {
    "id": "mUlBRfaCSQIg"
   },
   "outputs": [],
   "source": [
    "np.random.randn() ## 정규분포 하 확률변수 추출"
   ]
  },
  {
   "cell_type": "code",
   "execution_count": null,
   "metadata": {
    "id": "-Z0LQdhbjfbb"
   },
   "outputs": [],
   "source": [
    "np.random.seed() ## 임의추출자료 계량화"
   ]
  },
  {
   "cell_type": "code",
   "execution_count": null,
   "metadata": {
    "id": "P-yGWYkmjnHy"
   },
   "outputs": [],
   "source": [
    "plt.hist()  ## 히스토그램 생성"
   ]
  },
  {
   "cell_type": "code",
   "execution_count": null,
   "metadata": {
    "id": "BWXRyGpMjtpQ"
   },
   "outputs": [],
   "source": [
    "!wget link  ## 파일 다운로드(리눅스)"
   ]
  },
  {
   "cell_type": "code",
   "execution_count": null,
   "metadata": {
    "id": "1sfEJ9Egjy3E"
   },
   "outputs": [],
   "source": [
    "cv2.imread()  ## 이미지를 행렬로 읽어들임"
   ]
  },
  {
   "cell_type": "code",
   "execution_count": null,
   "metadata": {
    "id": "zPAoczhXSumR"
   },
   "outputs": [],
   "source": [
    "plt.imshow()  ## 행렬로 저장된 이미지를 읽음"
   ]
  },
  {
   "cell_type": "code",
   "execution_count": null,
   "metadata": {},
   "outputs": [],
   "source": [
    "arr.reshape(n, -1)  ## array의 행을 n행으로 맞추고 열은 길이에 맞게 조절한다. 반대의 경우도 가능하다.\n",
    "arr.reshape(-1)     ## array를 1차원으로 바꾼다."
   ]
  },
  {
   "cell_type": "code",
   "execution_count": null,
   "metadata": {},
   "outputs": [],
   "source": [
    "np.concatenate([arr1, arr2], axis = 1)  ## arr1과 arr2를 열(axis)을 기준으로 붙인다. axis = 0이면 위아래로 붙는다."
   ]
  },
  {
   "cell_type": "code",
   "execution_count": null,
   "metadata": {
    "id": "xlKPCzyiR-cY"
   },
   "outputs": [],
   "source": [
    "cv2.equalizeHist()  ## 히스토그램 이퀼라이제이션(대비 향상)"
   ]
  },
  {
   "cell_type": "markdown",
   "metadata": {},
   "source": [
    "### **2. ```plt.plot``` 꺾은선, 산점도, 객체지향화**"
   ]
  },
  {
   "cell_type": "code",
   "execution_count": null,
   "metadata": {},
   "outputs": [],
   "source": []
  }
 ],
 "metadata": {
  "colab": {
   "authorship_tag": "ABX9TyO11Ys2t4esvSQqUPdpOSDc",
   "provenance": []
  },
  "kernelspec": {
   "display_name": "Python 3 (ipykernel)",
   "language": "python",
   "name": "python3"
  },
  "language_info": {
   "codemirror_mode": {
    "name": "ipython",
    "version": 3
   },
   "file_extension": ".py",
   "mimetype": "text/x-python",
   "name": "python",
   "nbconvert_exporter": "python",
   "pygments_lexer": "ipython3",
   "version": "3.10.13"
  }
 },
 "nbformat": 4,
 "nbformat_minor": 4
}
