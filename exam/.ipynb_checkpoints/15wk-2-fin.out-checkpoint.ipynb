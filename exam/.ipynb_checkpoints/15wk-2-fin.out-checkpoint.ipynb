{
  "cells": [
    {
      "cell_type": "markdown",
      "metadata": {},
      "source": [
        "# 15wk-2: 기말고사 (예상문제)\n",
        "\n",
        "최규빈  \n",
        "2023-12-18\n",
        "\n",
        "> **기말고사 관련**\n",
        ">\n",
        "> **공지사항**\n",
        ">\n",
        "> -   시험일: 12월18일(월)\n",
        "> -   시험시간: 16:00~17:50\n",
        "> -   대면/비대면: 전북대 충남대 모두 “대면”시험으로 진행. 줌 필요X.\n",
        "> -   구글검색 허용, ChatGPT 허용\n",
        ">\n",
        "> **주의사항**\n",
        ">\n",
        "> -   부정행위적발시 기말고사점수 0점 처리함.\n",
        "> -   본인확인을 위한 학생증 or 신분증을 지참.\n",
        "> -   모두 대면시험이므로 별도의 준비시간없이 바로 시작함.\n",
        "> -   질문은 카카오톡 채널을 통해서만 받으며, 대면질문은 받지 않음.\n",
        ">     (충남대 학생들은 대면질문이 불가능하므로)\n",
        "> -   지연제출시 5분단위로 감점이 있음. (중간고사때는 조금 늦어도 별도의\n",
        ">     감점은 없었지만, 다른 학생들과의 형평성에 어긋난다는 피드백이\n",
        ">     있어서 수정함.) **전북대의 경우 JBNU 와이파이를 이용할시\n",
        ">     속도이슈가 있으니 개인노트북보다는 실습실의 컴퓨터로 제출하는 것을\n",
        ">     권장함.**\n",
        "\n",
        "<a href=\"https://colab.research.google.com/github/guebin/DV2023/blob/main/posts/15wk-2-fin.ipynb\"><img src=\"https://colab.research.google.com/assets/colab-badge.svg\" style=\"text-align: left\"></a>"
      ],
      "id": "9b2e87c6-5247-4ef3-9958-798444116371"
    },
    {
      "cell_type": "code",
      "execution_count": 1,
      "metadata": {
        "tags": []
      },
      "outputs": [],
      "source": [
        "import numpy as np\n",
        "import pandas as pd\n",
        "import plotly.express as px\n",
        "import plotly.io as pio\n",
        "import json\n",
        "import requests\n",
        "import pickle"
      ],
      "id": "ed421a5a-42c4-40d9-b2b6-ff076d455a26"
    },
    {
      "cell_type": "code",
      "execution_count": 2,
      "metadata": {},
      "outputs": [],
      "source": [
        "pd.options.plotting.backend = \"plotly\"\n",
        "pio.templates.default = \"plotly_white\""
      ],
      "id": "71bd9243-7e0b-4e07-81dc-2083e8042be9"
    },
    {
      "cell_type": "markdown",
      "metadata": {},
      "source": [
        "# 1. NYCTaxi 자료 분석 (dashboard) – 100점\n",
        "\n",
        "아래는 NYCTaxi자료에서 기본적인 전처리를 수행한 데이터프레임이다."
      ],
      "id": "003e6b27-78df-413f-b059-f9d6e762b592"
    },
    {
      "cell_type": "code",
      "execution_count": 3,
      "metadata": {},
      "outputs": [],
      "source": [
        "df = pd.read_csv(\"https://raw.githubusercontent.com/guebin/DV2023/main/posts/NYCTaxi.csv\").assign(\n",
        "    log_trip_duration = lambda df: np.log(df.trip_duration),\n",
        "    pickup_datetime = lambda df: df.pickup_datetime.apply(pd.to_datetime),\n",
        "    dropoff_datetime = lambda df: df.dropoff_datetime.apply(pd.to_datetime),\n",
        "    dist = lambda df: np.sqrt((df.pickup_latitude-df.dropoff_latitude)**2 + (df.pickup_longitude-df.dropoff_longitude)**2),\n",
        "    #---#\n",
        "    vendor_id = lambda df: df.vendor_id.map({1:'A',2:'B'})\n",
        ").assign(\n",
        "    speed = lambda df: df.dist / df.trip_duration,\n",
        "    pickup_hour = lambda df: df.pickup_datetime.dt.hour,\n",
        "    dropoff_hour = lambda df: df.dropoff_datetime.dt.hour,\n",
        "    dayofweek = lambda df: df.pickup_datetime.dt.dayofweek\n",
        ")\n",
        "df_small = df[::100].reset_index(drop=True)"
      ],
      "id": "ad7ea102-8a81-40ec-afee-1e9087a8a442"
    },
    {
      "cell_type": "markdown",
      "metadata": {},
      "source": [
        "주어진 자료를 이용하여 (1)-(3)에 해당하는 시각화를 대시보드로 구현하고,\n",
        "홈페이지를 남겨라. 답안 예시는 아래와 같다.\n",
        "\n",
        "`(답안예시)`\n",
        "\n",
        "-   <https://guebin.github.io/DASH>\n",
        "-   <https://github.com/guebin/DASH> // 저는 의도적으로 코드를\n",
        "    숨겼는데요, 학생들은 `NYCTaxi.qmd` 와 같은 파일에 답안코드가\n",
        "    존재하는 상태이어야 합니다.\n",
        "\n",
        "**주의사항**\n",
        "\n",
        "-   제출시간 이후에 대시보드 생성을 시도할 경우 부정행위로 간주하여\n",
        "    기말고사 전체를 0점처리함. (git에 기록남아있음)\n",
        "-   대시보드 구현이 되어있지 않은 경우 0점 처리함\n",
        "-   `xaxis`, `yaxis`, `lengend` 등을 조정하는 것이 문제의도임.\n",
        "    (구현되어있지 않으면 0점처리함)\n",
        "\n",
        "**힌트**\n",
        "\n",
        "아래와 같은 양식으로 qmd를 만들면 그림이 중복되어 출력되는 문제[1]가\n",
        "발생하지 않음.\n",
        "\n",
        "```` bash\n",
        "---\n",
        "title: \"NYCTaxi\"\n",
        "author: \"최규빈\"\n",
        "format: dashboard\n",
        "execute: \n",
        "  enabled: true\n",
        "  cache: false\n",
        "  freeze: false\n",
        "---\n",
        "\n",
        "```{python}\n",
        "#| output: false\n",
        "# 여기에 온갖코드를 넣음.\n",
        "# 1-(1),(2),(3) 에 대응하는 plotly figure를 아래와 같은 이름으로 저장\n",
        "# fig1 = ...\n",
        "# fig2 = ...\n",
        "# fig3 = ...\n",
        "```\n",
        "\n",
        "# 기말고사1-(1),(2)\n",
        "\n",
        "```{python}\n",
        "#| title: 요일,시간에 따른 평균속력 시각화        \n",
        "fig1.show()\n",
        "```\n",
        "\n",
        "```{python}\n",
        "#| title: 요일,시간에 따른 평균이동거리 시각화        \n",
        "fig2.show()\n",
        "```\n",
        "\n",
        "# 기말고사1-(3)\n",
        "\n",
        "```{python}\n",
        "#| title: 속력별 경로 시각화\n",
        "fig3.show()\n",
        "```\n",
        "````\n",
        "\n",
        "## `(1)` 요일,시간에 따른 평균속력 시각화 – 25점\n",
        "\n",
        "자료 `df`에서 시간에 따른 평균속력을 구하고 이를 대시보드에 시각화하라.\n",
        "\n",
        "**README**\n",
        "\n",
        "-   요일은 `{0:'월',1:'화',2:'수',3:'목',4:'금',5:'토',6:'일'}`의 규칙에\n",
        "    따라 변환할 것\n",
        "\n",
        "## `(2)` 요일,시간에 따른 평균이동거리 시각화 – 25점\n",
        "\n",
        "자료 `df`에서 시간에 따른 평균이동거리를 구하고 이를 대시보드에\n",
        "시각화하라.\n",
        "\n",
        "**README**\n",
        "\n",
        "-   요일은 `{0:'월',1:'화',2:'수',3:'목',4:'금',5:'토',6:'일'}`의 규칙에\n",
        "    따라 변환할 것\n",
        "\n",
        "## `(3)` 속력별 경로시각화 – 50점\n",
        "\n",
        "자료 `df_small`에서 속력을 quatile에 따라 4개의 구간으로 나누고, 구간별\n",
        "이동경로를 대시보드에 시각화하라.\n",
        "\n",
        "**README**\n",
        "\n",
        "-   Zoom = 11 로 설정할것. Figure의 width, height는 설정하지 말것\n",
        "-   기타 설정값에 대해서는 궁금한것이 있다면 질문할 것\n",
        "\n",
        "**힌트**:\n",
        "\n",
        "*힌트1*: 아래의 코드를 관찰하세요.\n",
        "\n",
        "[1] 현재 quarto dashboard가 불완전(정식버전이 아니라 prereleased\n",
        "version임)하여 생기는 버그인듯합니다"
      ],
      "id": "b9cb2976-33e3-4d0c-b2a4-9d2ed5a87c7a"
    },
    {
      "cell_type": "code",
      "execution_count": 4,
      "metadata": {},
      "outputs": [
        {
          "output_type": "stream",
          "name": "stdout",
          "text": [
            "0    (0.999, 1.75]\n",
            "1    (0.999, 1.75]\n",
            "2      (1.75, 2.5]\n",
            "3      (1.75, 2.5]\n",
            "4      (2.5, 3.25]\n",
            "5      (2.5, 3.25]\n",
            "6      (3.25, 4.0]\n",
            "7      (3.25, 4.0]\n",
            "dtype: category\n",
            "Categories (4, interval[float64, right]): [(0.999, 1.75] < (1.75, 2.5] < (2.5, 3.25] < (3.25, 4.0]]\n",
            "0    매우느림\n",
            "1    매우느림\n",
            "2    조금느림\n",
            "3    조금느림\n",
            "4    조금빠름\n",
            "5    조금빠름\n",
            "6    매우빠름\n",
            "7    매우빠름\n",
            "dtype: category\n",
            "Categories (4, object): ['매우느림' < '조금느림' < '조금빠름' < '매우빠름']"
          ]
        }
      ],
      "source": [
        "speed = pd.Series([1,1,2,2,3,3,4,4])\n",
        "print(pd.qcut(speed,4))\n",
        "print(pd.qcut(speed,4,labels=['매우느림','조금느림','조금빠름','매우빠름']))"
      ],
      "id": "af7e5828-c6b9-4be2-af26-5ca27b4ded51"
    },
    {
      "cell_type": "markdown",
      "metadata": {},
      "source": [
        "*힌트2*: 1-(3)에 해당하는 그림을 fig3로 저장한후 아래의 코드를\n",
        "관찰하세요\n",
        "\n",
        "``` python\n",
        "for i in range(150):\n",
        "    print(fig3.data[i].mode)\n",
        "```\n",
        "\n",
        "이를 이용하여 legend를 수정하는 방법을 생각해보세요.\n",
        "\n",
        "# 2. 에너지사용량 (지리정보시각화) – 50점\n",
        "\n",
        "아래는 대한민국의 행정구역을 나타내는 `json` 파일과 2018-2021 기간동안의\n",
        "에너지사용량이 저장된 url들이다.\n",
        "\n",
        "    # Json\n",
        "    https://raw.githubusercontent.com/southkorea/southkorea-maps/master/kostat/2018/json/skorea-provinces-2018-geo.json\n",
        "    https://raw.githubusercontent.com/southkorea/southkorea-maps/master/kostat/2018/json/skorea-municipalities-2018-geo.json\n",
        "\n",
        "    # DataFrame\n",
        "    https://raw.githubusercontent.com/guebin/DV2022/main/posts/Energy/Seoul2018.csv\n",
        "    https://raw.githubusercontent.com/guebin/DV2022/main/posts/Energy/Seoul2019.csv\n",
        "    https://raw.githubusercontent.com/guebin/DV2022/main/posts/Energy/Seoul2020.csv\n",
        "    https://raw.githubusercontent.com/guebin/DV2022/main/posts/Energy/Seoul2021.csv\n",
        "    ...\n",
        "    https://raw.githubusercontent.com/guebin/DV2022/main/posts/Energy/Busan2018.csv\n",
        "    https://raw.githubusercontent.com/guebin/DV2022/main/posts/Energy/Busan2019.csv\n",
        "    https://raw.githubusercontent.com/guebin/DV2022/main/posts/Energy/Busan2020.csv\n",
        "    https://raw.githubusercontent.com/guebin/DV2022/main/posts/Energy/Busan2021.csv\n",
        "\n",
        "주어진 자료를 활용하여 아래의 물음에 답하라.\n",
        "\n",
        "**주의사항**\n",
        "\n",
        "-   ‘전주시완산구’,’완산구’와 같은 지역명은 ’전주시-완산구’와 같은\n",
        "    양식으로 정리하라.\n",
        "-   인천광역시 남구는 새로운 이름인 미추홀구로 변경하라.\n",
        "\n",
        "**힌트**\n",
        "\n",
        "문제가 되는 지역명을 정리하면 아래와 같다."
      ],
      "id": "0328e4a7-ad52-4b4d-9499-896cb7a075a5"
    },
    {
      "cell_type": "code",
      "execution_count": 5,
      "metadata": {
        "tags": []
      },
      "outputs": [],
      "source": [
        "s = pd.Series(['인천광역시-미추홀구',\n",
        "               '경기도-고양시-덕양구','경기도-고양시-일산동구','경기도-고양시-일산서구',\n",
        "               '경기도-성남시-분당구','경기도-성남시-수정구','경기도-성남시-중원구',\n",
        "               '경기도-수원시-권선구','경기도-수원시-영통구', '경기도-수원시-장안구', '경기도-수원시-팔달구',\n",
        "               '경기도-안산시-단원구', '경기도-안산시-상록구',\n",
        "               '경기도-안양시-동안구', '경기도-안양시-만안구',\n",
        "               '경기도-용인시-기흥구', '경기도-용인시-수지구', '경기도-용인시-처인구',\n",
        "               '경상남도-창원시-마산합포구', '경상남도-창원시-마산회원구', '경상남도-창원시-성산구', '경상남도-창원시-의창구', '경상남도-창원시-진해구',\n",
        "               '경상북도-포항시-남구', '경상북도-포항시-북구',\n",
        "               '전라북도-전주시-덕진구', '전라북도-전주시-완산구',\n",
        "               '충청남도-천안시-동남구', '충청남도-천안시-서북구',\n",
        "               '충청북도-청주시-상당구', '충청북도-청주시-서원구', '충청북도-청주시-청원구', '충청북도-청주시-흥덕구'])"
      ],
      "id": "a8f26e14-199e-47cb-8ce3-8462baec7f87"
    },
    {
      "cell_type": "markdown",
      "metadata": {},
      "source": [
        "## `(1)` 에너지사용량차이(전기-도시가스) 시각화 – 25점\n",
        "\n",
        "`에너지사용량(TOE)/전기`와 `에너지사용량(TOE)/도시가스`의 차이를\n",
        "계산하여 `에너지사용량차이(전기-도시가스)`라는 새로운 열로 추가하라.\n",
        "수도권지역에 한정하여 `에너지사용량차이(전기-도시가스)`를 시각화하라.\n",
        "시각화를 위해 `plotly`의 `choropleth_mapbox`를 사용하고, 다음 요구사항을\n",
        "충족시켜라.\n",
        "\n",
        "-   색상은 `에너지사용량차이(전기-도시가스)` 값에 따라 달라져야 하며,\n",
        "    색상 범위(`range_color`)는 해당 열의 최소값과 최대값으로 설정하라.\n",
        "-   애니메이션 프레임은 `년도`를 기준으로 하라.\n",
        "-   호버 데이터는 `시도`와 `지역`을 포함해야 한다.\n",
        "-   투명도는 0.5로 설정하라.\n",
        "-   지도 스타일은 ’carto-positron’을 사용하며, 중심 좌표는 위도\n",
        "    37.5642135, 경도 127.0016985로 설정하라.\n",
        "-   지도의 줌 레벨은 7.5로, 높이는 800, 너비는 750으로 설정하라.\n",
        "-   스크롤 줌 기능은 비활성화하라.\n",
        "\n",
        "시각화예시는 아래와 같다."
      ],
      "id": "88012483-75e4-440b-a772-2a99cac87964"
    },
    {
      "cell_type": "code",
      "execution_count": 6,
      "metadata": {
        "tags": []
      },
      "outputs": [],
      "source": [
        "fig = pio.from_json(requests.get('https://raw.githubusercontent.com/guebin/DV2023/main/posts/figure_21.json').text)\n",
        "pio.show(fig,config={'scrollZoom':False})"
      ],
      "id": "8f544ba2-7ca4-41ec-8aa6-512521e2bbbb"
    },
    {
      "cell_type": "markdown",
      "metadata": {},
      "source": [
        "**주의사항**\n",
        "\n",
        "-   수도권지역은 서울,경기,인천을 의미한다.\n",
        "-   호버데이터시 ‘고양시-덕양구’와 같은 양식이 아니라 ’고양시덕양구’\n",
        "    혹은 ’덕양구’와 같은 방식으로 호버될 경우 0점 처리함. (인천광역시의\n",
        "    미추홀구 역시 구지명(인천광역시 남구)로 호버될경우 0점처리함)\n",
        "\n",
        "> **에너지사용량 정답오류 수정 2023-12-16 9:30 AM**\n",
        ">\n",
        "> 기존의 정답이 에너지사용량을 올바르게 계산하지 않고 있어\n",
        "> 수정하였습니다. 오류는 한혜지 학생의 도움으로 찾을 수 있었습니다.\n",
        "> 현재는 해당오류내용이 수정되었습니다.\n",
        "\n",
        "## `(2)` (서울+김포)특별시? – 25점\n",
        "\n",
        "김포시의 서울편입이슈에 대한 아래의 제시문을 읽으라.\n",
        "\n",
        "> **김포시의 서울편입 이슈**\n",
        ">\n",
        "> 김포시를 서울특별시로 편입하자는 주장에 대한 논의가 활발해졌다. 2023년\n",
        "> 10월 23일, 국민의힘 소속 김포 지역 정치인들이 2026년 신설 예정인\n",
        "> 경기북부특별자치도에 김포시가 포함되는 것에 반대하며 서울특별시 편입을\n",
        "> 제안했다. 이 제안은 국민의힘 지도부의 호응을 받았고, 이로 인해 10월\n",
        "> 30일에는 이 문제가 국민의힘 내에서 중요한 논의 주제로 부상했다. 이후,\n",
        "> 이 주제는 제22대 국회의원 선거의 중요한 정치적 이슈로 자리 잡으며,\n",
        "> 많은 논쟁과 대중의 관심을 불러일으켰다. 이러한 정치적 변화는 한국 정치\n",
        "> 무대에서 논쟁의 새로운 중심점이 되었으며, 김포시의 행정적 미래에 대한\n",
        "> 광범위한 토론을 촉발하고 있다.\n",
        "\n",
        "김포시가 서울시에 편입되었다고 가정하고, (서울+김포)특별시 내 각 구별\n",
        "`에너지사용비율`을 아래의 수식을 참고하여 연도별로 계산하라.\n",
        "\n",
        "> **Note**\n",
        ">\n",
        "> 2018년 김포시의 `에너지사용비율`, 2018년 서울시 서초구의\n",
        "> `에너지사용비율`은 각각 아래와 같이 계산한다.\n",
        ">\n",
        "> -   $\\text{에너지사용비율}_{\\text{김포시,2018}} = \\frac{\\text{에너지사용량}_\\text{김포시,2018}}{\\text{에너지사용량}_\\text{김포시,2018}+\\text{에너지사용량}_\\text{서울시강남구,2018}+...+\\text{에너지사용량}_\\text{서울시중랑구,2018}}$\n",
        "> -   $\\text{에너지사용비율}_{\\text{서울시서초구,2018}} = \\frac{\\text{에너지사용량}_\\text{서울시서초구,2018}}{\\text{에너지사용량}_\\text{김포시,2018}+\\text{에너지사용량}_\\text{서울시강남구,2018}+...+\\text{에너지사용량}_\\text{서울시중랑구,2018}}$\n",
        ">\n",
        "> 이때 에너지사용량은 전기,도시가스,지역난방의 합을 의미한다. 계산된\n",
        "> 데이터를 바탕으로, 구별 `에너시사용비율`을 시각화 하라. 시각화를 위해\n",
        "> `plotly`의 `choropleth_mapbox`를 사용하고, 다음 요구사항을 충족시켜라.\n",
        ">\n",
        "> -   색상은 ’에너지사용비율’에 따라 달라져야 하며, `range_color`는\n",
        ">     `에너시사용비율` 열의 최소값과 최대값으로 설정하라.\n",
        "> -   애니메이션 프레임은 ’년도’를 기준으로 설정하라.\n",
        "> -   호버 데이터에는 ’시도’와 ’지역’을 포함시켜라.\n",
        "> -   지도의 투명도는 0.5로 설정하라.\n",
        "> -   지도 스타일은 ’carto-positron’을 사용하고, 중심 좌표는 위도\n",
        ">     37.5612, 경도 126.8228로 설정하라.\n",
        "> -   지도의 줌 레벨은 9로, 높이는 800, 너비는 750으로 설정하라.\n",
        "> -   스크롤 줌 기능은 비활성화라.\n",
        ">\n",
        "> 시각화 예시는 아래와 같다."
      ],
      "id": "b569d329-7913-4b7d-a798-0c1de4bb8dff"
    },
    {
      "cell_type": "code",
      "execution_count": 7,
      "metadata": {
        "tags": []
      },
      "outputs": [],
      "source": [
        "fig = pio.from_json(requests.get('https://raw.githubusercontent.com/guebin/DV2023/main/posts/figure_22.json').text)\n",
        "pio.show(fig,config={'scrollZoom':False})"
      ],
      "id": "eb1d8208-f20e-4c5b-9895-d473e45a1336"
    },
    {
      "cell_type": "markdown",
      "metadata": {},
      "source": [
        "# 3. FIFA – 50점\n",
        "\n",
        "아래는 FIFA 자료를 불러오는 코드이다."
      ],
      "id": "7a2bc71e-8845-4206-9b23-32a998a37e39"
    },
    {
      "cell_type": "code",
      "execution_count": 8,
      "metadata": {
        "tags": []
      },
      "outputs": [],
      "source": [
        "df = pd.read_csv('https://raw.githubusercontent.com/guebin/DV2021/master/_notebooks/2021-10-25-FIFA22_official_data.csv').drop(['Loaned From','Marking'],axis=1).dropna()\n",
        "df.head()"
      ],
      "id": "d00b3760-27fc-4b1a-bfab-57c1de63100a"
    },
    {
      "cell_type": "markdown",
      "metadata": {},
      "source": [
        "아래는 {소속대륙:국가} 및 {포지션:세부포지션}에 정보를 담은\n",
        "딕셔너리이다."
      ],
      "id": "ad3cd60e-1c8e-44a1-a0d1-835323e00750"
    },
    {
      "cell_type": "code",
      "execution_count": 9,
      "metadata": {},
      "outputs": [],
      "source": [
        "continent_dict = {\n",
        "    'Asia': ['Afghanistan', 'Japan', 'Macau', 'Chinese Taipei', 'Indonesia', 'Korea Republic', 'Kazakhstan', 'Kyrgyzstan', 'Bhutan', 'Philippines', 'Syria', 'China PR', 'Oman', 'Guam', 'Vietnam', 'Jordan', 'Palestine', 'Malaysia', 'Hong Kong', 'Korea DPR', 'Lebanon', 'Uzbekistan', 'India','Iraq', 'Iran', 'Saudi Arabia', 'United Arab Emirates','Australia'],\n",
        "    'Europe': ['Portugal', 'Germany', 'Belgium', 'Netherlands', 'Croatia', 'Spain', 'Austria', 'Italy', 'France', 'Serbia', 'England', 'Poland', 'Ukraine', 'Wales', 'Scotland', 'Czech Republic', 'Slovakia', 'Romania', 'Bosnia and Herzegovina', 'Republic of Ireland', 'Norway', 'Sweden', 'Bulgaria', 'Lithuania', 'Estonia', 'Latvia', 'Liechtenstein','Albania','Denmark','Finland','Greece','Hungary','Iceland','Luxembourg','Northern Ireland','Slovenia','Switzerland','Andorra','Azerbaijan','Belarus','Cyprus','Faroe Islands','Georgia','Kosovo','Malta','Moldova','Montenegro','North Macedonia','Armenia','Gibraltar','Russia','Turkey','Israel'],\n",
        "    'South America': ['Uruguay', 'Argentina', 'Brazil', 'Chile', 'Colombia', 'Ecuador', 'Paraguay', 'Venezuela', 'Suriname', 'Bolivia','Peru','Guyana'],\n",
        "    'Africa': ['Egypt', \"Côte d'Ivoire\", 'Senegal', 'Morocco', 'Ghana', 'Algeria', 'Guinea', 'Mali', 'Congo DR', 'Liberia', 'Cameroon', 'Tunisia', 'Comoros', 'Kenya', 'South Africa', 'Zimbabwe', 'Madagascar', 'Mozambique', 'Equatorial Guinea', 'Congo', 'Burundi', 'Grenada', 'Thailand', 'Togo', 'Sudan', 'Mauritania','Guinea Bissau','Libya','Nigeria','Zambia','Angola','Benin','Burkina Faso','Cape Verde Islands','Central African Republic','Chad','Eritrea','Gabon','Gambia','Mauritius','Namibia','Rwanda','Sierra Leone','South Sudan','São Tomé e Príncipe','Uganda','Niger'],\n",
        "    'North and Central America': ['Antigua and Barbuda', 'Barbados', 'Belize', 'Bermuda', 'Canada', 'Costa Rica', 'Cuba', 'Curacao', 'Dominican Republic', 'El Salvador', 'Guatemala', 'Haiti', 'Honduras', 'Jamaica', 'Mexico', 'Montserrat', 'Panama', 'Puerto Rico', 'Saint Kitts and Nevis', 'Saint Lucia', 'Trinidad and Tobago', 'United States'],\n",
        "    'Oceania': ['New Zealand', 'Fiji', 'Papua New Guinea','New Caledonia'],\n",
        "}\n",
        "position_dict = {\n",
        "    'GOALKEEPER':{'GK'},\n",
        "    'DEFENDER':{'CB','RCB','LCB','RB','LB','RWB','LWB'},\n",
        "    'MIDFIELDER':{'CM','RCM','LCM','CDM','RDM','LDM','CAM','RAM','LAM','RM','LM'},\n",
        "    'FORWARD':{'ST','CF','RF','LF','RW','LW','RS','LS'},\n",
        "    'SUB':{'SUB'},\n",
        "    'RES':{'RES'}\n",
        "}"
      ],
      "id": "59371ef5-4ab3-42d2-808a-fb10f9b46c25"
    },
    {
      "cell_type": "markdown",
      "metadata": {},
      "source": [
        "주어진 자료를 활용하여 아래를 잘 읽고 물음에 답하라.\n",
        "\n",
        "## `(1)` 대륙별 인적자원 – 20점\n",
        "\n",
        "각 대륙 및 국가별 인적 자원 현황을 시각화하고자 한다. 이를 위해 아래와\n",
        "같은 두 가지 형태의 시각화를 구현했다."
      ],
      "id": "f932a9b3-92ea-4a0b-a1ca-626fae89f026"
    },
    {
      "cell_type": "code",
      "execution_count": 10,
      "metadata": {
        "tags": []
      },
      "outputs": [],
      "source": [
        "fig = pio.from_json(requests.get('https://raw.githubusercontent.com/guebin/DV2023/main/posts/figure_31.json').text)\n",
        "pio.show(fig,config={'scrollZoom':False})"
      ],
      "id": "9a1f3615-caeb-447a-afca-a80c65b9d16e"
    },
    {
      "cell_type": "code",
      "execution_count": 11,
      "metadata": {
        "tags": []
      },
      "outputs": [],
      "source": [
        "fig = pio.from_json(requests.get('https://raw.githubusercontent.com/guebin/DV2023/main/posts/figure_32.json').text)\n",
        "pio.show(fig,config={'scrollZoom':False})"
      ],
      "id": "97a9e092-cae9-433d-b2cf-82855f50b4e6"
    },
    {
      "cell_type": "markdown",
      "metadata": {},
      "source": [
        "첫 번째 시각화(Figure 1)를 통해, 각 대륙별로 선수들의 평균 능력치, 평균\n",
        "급여, 그리고 선수층의 깊이를 비교할 수 있었다. 이를 바탕으로, 남미\n",
        "대륙이 평균 능력치에서, 아프리카가 평균 급여에서 높은 값을 보였으며,\n",
        "유럽은 가장 깊은 선수층을 가지고 있는 것으로 나타났다. 두 번째\n",
        "시각화(Figure 2)는 나라별로 세분화된 인적 자원을 조사하는 데 중점을\n",
        "두었다. 이 그림에서 브라질은 선수 수, 평균 능력치, 평균 급여 등 여러\n",
        "면에서 우수함을 확인할 수 있었다. 반면, 우크라이나는 선수들의 평균\n",
        "능력치는 높지만 선수 수와 평균 급여는 상대적으로 낮은 값을 보었다. 두\n",
        "번째 시각화를 이용해 국가별 특색을 좀 더 면밀히 파악할 수 있었다.\n",
        "\n",
        "Figure 1과 Figure 2를 재현하라.\n",
        "\n",
        "## `(2)` 아시안컵은 누가 차지할까 – 30점(+$\\alpha$)\n",
        "\n",
        "곧 시작될 아시안컵의 우승 국가를 예측하기 위해, 아시아 국가들의 축구\n",
        "선수들을 기준으로 한 새로운 강함 지표를 개발했다. 이 지표는 선수들의\n",
        "평균 능력치와 선수 수를 결합한 것이다. 예를 들어, 한국과 일본의 Strength\n",
        "지표는 각각 다음과 같이 계산된다:\n",
        "\n",
        "-   한국의 Strength = 한국 선수들의 평균 능력치 + 한국 선수들의 수 / 5\n",
        "-   일본의 Strength = 일본 선수들의 평균 능력치 + 일본 선수들의 수 / 5\n",
        "\n",
        "이를 바탕으로 아래와 같은 두가지 형태의 시각화를 구현했다."
      ],
      "id": "edebb7ed-9510-4635-9103-f35d28035ede"
    },
    {
      "cell_type": "code",
      "execution_count": 12,
      "metadata": {
        "tags": []
      },
      "outputs": [],
      "source": [
        "fig = pio.from_json(requests.get('https://raw.githubusercontent.com/guebin/DV2023/main/posts/figure_33.json').text)\n",
        "pio.show(fig,config={'scrollZoom':False})"
      ],
      "id": "2f498685-11ba-4a0f-8055-fd67f0f0d5df"
    },
    {
      "cell_type": "code",
      "execution_count": 13,
      "metadata": {
        "tags": []
      },
      "outputs": [],
      "source": [
        "fig = pio.from_json(requests.get('https://raw.githubusercontent.com/guebin/DV2023/main/posts/figure_34.json').text)\n",
        "pio.show(fig,config={'scrollZoom':False})"
      ],
      "id": "03265440-fd8f-4f5c-9a5e-e3e0593577f0"
    },
    {
      "cell_type": "markdown",
      "metadata": {},
      "source": [
        "이 첫 번째 시각화(Figure 1)를 통해, 각 국가의 Strength를 기반으로 8강\n",
        "진출 국가를 예상했다. 그 결과\n",
        "일본,한국,호주,사우디아라비아,이란,중국,시리아,우즈베키스탄 순으로\n",
        "8강진출국이 예상되었다. 또한 두 번째 시각화 (Figure22)에서는\n",
        "`Strength`가 높은 상위 6개 국가를 선별하여, 국가별 포지션에 따른 평균\n",
        "능력치(Overall)를 비교함으로써 각 국가의 강점과 약점을 분석했다. 이\n",
        "분석에 따르면, 일본은 모든 포지션에서 뛰어난 능력치를 보였고, 이란은\n",
        "특히 골키퍼와 공격수 포지션에서 매우 우수한 것으로 나타났다.\n",
        "\n",
        "Figure1,2를 재현하라.\n",
        "\n",
        "**주의사항**\n",
        "\n",
        "-   Figure1에서 투명도는 구현하지 않아도 무방하며 투명도 구현시 10점의\n",
        "    가산점이 있음. (Figure1에서 8강 진출이 예상되는 국가에 대한 투명도는\n",
        "    0.9로, 그렇지 않는 국가에 대한 투명도는 0.5로 설정)\n",
        "-   Figure2에서 카테고리들의 정렬은 구현하지 않아도 무방함. (즉 국가가\n",
        "    일본,한국,…,중국 순서로 정렬될 필요는 없으며 포지션도\n",
        "    골키퍼,수비수,미드필더,공격수 순으로 정렬될 필요없음) 구현시 10점\n",
        "    가산점 있음.\n",
        "-   이외의 사항은 모두 구현되어야 하며 올바르게 구현되지 않은 경우 0점\n",
        "    처리함."
      ],
      "id": "8ea97dfb-bc0f-4b04-8228-8f0a460ee705"
    }
  ],
  "nbformat": 4,
  "nbformat_minor": 5,
  "metadata": {
    "kernelspec": {
      "name": "python3",
      "display_name": "Python 3 (ipykernel)",
      "language": "python"
    },
    "language_info": {
      "name": "python",
      "codemirror_mode": {
        "name": "ipython",
        "version": "3"
      },
      "file_extension": ".py",
      "mimetype": "text/x-python",
      "nbconvert_exporter": "python",
      "pygments_lexer": "ipython3",
      "version": "3.10.13"
    }
  }
}