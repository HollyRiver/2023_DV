{
 "cells": [
  {
   "cell_type": "markdown",
   "id": "eb1991e8-b426-4ba0-8b73-4e18da52b1f3",
   "metadata": {},
   "source": [
    "# 15wk-2: 기말고사 (예상문제)\n",
    "\n",
    "최규빈  \n",
    "2023-12-11\n",
    "\n",
    "> **기말고사 관련 공지사항**\n",
    ">\n",
    "> -   시험일: 12월22일(월)\n",
    "> -   시험시간: 16:00~17:50\n",
    "> -   대면/비대면: 전북대 충남대 모두 “대면”시험으로 진행. 줌 필요X\n",
    "> -   구글검색 허용, ChatGPT 허용\n",
    ">\n",
    "> **주의사항**\n",
    ">\n",
    "> -   부정행위적발시 기말고사점수 0점 처리함.\n",
    "> -   본인확인을 위한 학생증 or 신분증을 지참.\n",
    "> -   모두 대면시험이므로 별도의 준비시간없이 바로 시작함.\n",
    "> -   질문은 카카오톡 채널을 통해서만 받으며, 대면질문은 받지 않음.\n",
    ">     (충남대 학생들은 대면질문이 불가능하므로)\n",
    "> -   지연제출시 5분단위로 감점이 있음. (중간고사때는 조금 늦어도 별도의\n",
    ">     감점은 없었지만, 다른 학생들과의 형평성에 어긋난다는 피드백이\n",
    ">     있어서 수정함.) **전북대의 경우 JBNU 와이파이를 이용할시\n",
    ">     속도이슈가 있으니 개인노트북보다는 실습실의 컴퓨터로 제출하는 것을\n",
    ">     권장함.**\n",
    "\n",
    "<a href=\"https://colab.research.google.com/github/guebin/DV2023/blob/main/posts/15wk-2-fin.ipynb\"><img src=\"https://colab.research.google.com/assets/colab-badge.svg\" style=\"text-align: left\"></a>"
   ]
  },
  {
   "cell_type": "code",
   "execution_count": 1,
   "id": "ed421a5a-42c4-40d9-b2b6-ff076d455a26",
   "metadata": {
    "tags": []
   },
   "outputs": [],
   "source": [
    "import numpy as np\n",
    "import pandas as pd\n",
    "import plotly.express as px\n",
    "import plotly.io as pio"
   ]
  },
  {
   "cell_type": "code",
   "execution_count": 2,
   "id": "71bd9243-7e0b-4e07-81dc-2083e8042be9",
   "metadata": {},
   "outputs": [],
   "source": [
    "pd.options.plotting.backend = \"plotly\"\n",
    "pio.templates.default = \"plotly_white\""
   ]
  },
  {
   "cell_type": "markdown",
   "id": "852a8684-ca4d-4393-bed3-19c174076a13",
   "metadata": {},
   "source": [
    "# 1. NYCTaxi 자료 분석 (dashboard) – 100점\n",
    "\n",
    "아래는 NYCTaxi자료에서 기본적인 전처리를 수행한 데이터프레임이다."
   ]
  },
  {
   "cell_type": "code",
   "execution_count": 3,
   "id": "ad7ea102-8a81-40ec-afee-1e9087a8a442",
   "metadata": {},
   "outputs": [],
   "source": [
    "df = pd.read_csv(\"https://raw.githubusercontent.com/guebin/DV2023/main/posts/NYCTaxi.csv\").assign(\n",
    "    log_trip_duration = lambda df: np.log(df.trip_duration),\n",
    "    pickup_datetime = lambda df: df.pickup_datetime.apply(pd.to_datetime),\n",
    "    dropoff_datetime = lambda df: df.dropoff_datetime.apply(pd.to_datetime),\n",
    "    dist = lambda df: np.sqrt((df.pickup_latitude-df.dropoff_latitude)**2 + (df.pickup_longitude-df.dropoff_longitude)**2),\n",
    "    #---#\n",
    "    vendor_id = lambda df: df.vendor_id.map({1:'A',2:'B'})\n",
    ").assign(\n",
    "    speed = lambda df: df.dist / df.trip_duration,\n",
    "    pickup_hour = lambda df: df.pickup_datetime.dt.hour,\n",
    "    dropoff_hour = lambda df: df.dropoff_datetime.dt.hour,\n",
    "    dayofweek = lambda df: df.pickup_datetime.dt.dayofweek\n",
    ")\n",
    "df_small = df[::100].reset_index(drop=True)"
   ]
  },
  {
   "cell_type": "markdown",
   "id": "5527d9ce-c699-4828-a5ce-d5576ef96097",
   "metadata": {},
   "source": [
    "주어진 자료를 이용하여 (1)-(3)에 해당하는 시각화를 대시보드로 구현하고,\n",
    "홈페이지를 남겨라. 답안 예시는 아래와 같다.\n",
    "\n",
    "`(답안)`\n",
    "\n",
    "-   <https://guebin.github.io/dash_test/NYCTaxi.html>\n",
    "-   <https://github.com/guebin/dash_test> // 저는 의도적으로 코드를\n",
    "    숨겼는데요, 학생들은 `*.qmd` 파일에 답안코드가 존재하는 상태이어야\n",
    "    합니다.\n",
    "\n",
    "**주의사항**\n",
    "\n",
    "-   제출시간 이후에 대시보드 생성을 시도할 경우 부정행위로 간주하여\n",
    "    기말고사 전체를 0점처리함. (git에 기록남아있음)\n",
    "-   대시보드 구현이 되어있지 않은 경우 0점 처리함\n",
    "\n",
    "**힌트**\n",
    "\n",
    "아래와 같은 양식으로 qmd를 만들면 편리하다.\n",
    "\n",
    "```` bash\n",
    "---\n",
    "title: \"NYCTaxi\"\n",
    "author: \"최규빈(2021-43052)\"\n",
    "format: dashboard\n",
    "execute: \n",
    "  enabled: true\n",
    "  cache: false\n",
    "  freeze: false\n",
    "---\n",
    "\n",
    "```{python}\n",
    "#| output: false\n",
    "# 여기에 온갖코드를 넣음.\n",
    "# 1-(1),(2),(3) 에 대응하는 plotly figure를 아래와 같은 이름으로 저장\n",
    "# fig1 = ...\n",
    "# fig2 = ...\n",
    "# fig3 = ...\n",
    "```\n",
    "\n",
    "# 기말고사1-(1),(2)\n",
    "\n",
    "```{python}\n",
    "#| title: 요일,시간에 따른 평균속력 시각화        \n",
    "fig1.show()\n",
    "```\n",
    "\n",
    "```{python}\n",
    "#| title: 요일,시간에 따른 평균이동거리 시각화        \n",
    "fig2.show()\n",
    "```\n",
    "\n",
    "# 기말고사1-(3)\n",
    "\n",
    "```{python}\n",
    "#| title: 속력별 경로 시각화\n",
    "fig3.show()\n",
    "```\n",
    "````"
   ]
  },
  {
   "cell_type": "markdown",
   "id": "9963f7fc-d6a0-4101-b571-257627136275",
   "metadata": {},
   "source": [
    "## `(1)` 요일,시간에 따른 평균속력 시각화 – 25점\n",
    "\n",
    "자료 `df`에서 시간에 따른 평균속력을 구하고 이를 대시보드에 시각화하라.\n",
    "\n",
    "**README**\n",
    "\n",
    "-   요일은 `{0:'월',1:'화',2:'수',3:'목',4:'금',5:'토',6:'일'}`의 규칙에\n",
    "    따라 변환할 것"
   ]
  },
  {
   "cell_type": "code",
   "execution_count": 12,
   "id": "bc237b75-210b-4aa2-a08a-735fa3be3895",
   "metadata": {},
   "outputs": [
    {
     "data": {
      "text/plain": [
       "Index(['id', 'vendor_id', 'pickup_datetime', 'dropoff_datetime',\n",
       "       'passenger_count', 'pickup_longitude', 'pickup_latitude',\n",
       "       'dropoff_longitude', 'dropoff_latitude', 'store_and_fwd_flag',\n",
       "       'trip_duration', 'log_trip_duration', 'dist', 'speed', 'pickup_hour',\n",
       "       'dropoff_hour', 'dayofweek'],\n",
       "      dtype='object')"
      ]
     },
     "execution_count": 12,
     "metadata": {},
     "output_type": "execute_result"
    }
   ],
   "source": [
    "df.columns"
   ]
  },
  {
   "cell_type": "code",
   "execution_count": 36,
   "id": "3f4cacaf-f5ce-4c99-a18f-fd837ca564c0",
   "metadata": {},
   "outputs": [
    {
     "data": {
      "text/plain": [
       "0        0.000039\n",
       "1        0.000018\n",
       "2        0.000043\n",
       "3        0.000047\n",
       "4        0.000028\n",
       "           ...   \n",
       "14582    0.000037\n",
       "14583    0.000027\n",
       "14584    0.000052\n",
       "14585    0.000023\n",
       "14586    0.000060\n",
       "Length: 14587, dtype: float64"
      ]
     },
     "execution_count": 36,
     "metadata": {},
     "output_type": "execute_result"
    }
   ],
   "source": [
    "df.dist / df.trip_duration"
   ]
  },
  {
   "cell_type": "code",
   "execution_count": 33,
   "id": "a3c4e223-9396-48c0-9ae6-d83562fc7ce6",
   "metadata": {},
   "outputs": [
    {
     "data": {
      "text/plain": [
       "0        0.000039\n",
       "1        0.000018\n",
       "2        0.000043\n",
       "3        0.000047\n",
       "4        0.000028\n",
       "           ...   \n",
       "14582    0.000037\n",
       "14583    0.000027\n",
       "14584    0.000052\n",
       "14585    0.000023\n",
       "14586    0.000060\n",
       "Length: 14587, dtype: float64"
      ]
     },
     "execution_count": 33,
     "metadata": {},
     "output_type": "execute_result"
    }
   ],
   "source": [
    "np.sqrt((df.pickup_latitude - df.dropoff_latitude)**2 + (df.pickup_longitude - df.dropoff_longitude)**2) / df.trip_duration"
   ]
  },
  {
   "cell_type": "code",
   "execution_count": 46,
   "id": "cad6ebdd-b76f-4ab5-908a-147be37dc0bd",
   "metadata": {},
   "outputs": [
    {
     "data": {
      "text/html": [
       "<div>\n",
       "<style scoped>\n",
       "    .dataframe tbody tr th:only-of-type {\n",
       "        vertical-align: middle;\n",
       "    }\n",
       "\n",
       "    .dataframe tbody tr th {\n",
       "        vertical-align: top;\n",
       "    }\n",
       "\n",
       "    .dataframe thead th {\n",
       "        text-align: right;\n",
       "    }\n",
       "</style>\n",
       "<table border=\"1\" class=\"dataframe\">\n",
       "  <thead>\n",
       "    <tr style=\"text-align: right;\">\n",
       "      <th></th>\n",
       "      <th>요일</th>\n",
       "      <th>pickup 시간</th>\n",
       "      <th>평균속력</th>\n",
       "    </tr>\n",
       "  </thead>\n",
       "  <tbody>\n",
       "    <tr>\n",
       "      <th>0</th>\n",
       "      <td>월</td>\n",
       "      <td>0</td>\n",
       "      <td>0.000062</td>\n",
       "    </tr>\n",
       "    <tr>\n",
       "      <th>1</th>\n",
       "      <td>월</td>\n",
       "      <td>1</td>\n",
       "      <td>0.000070</td>\n",
       "    </tr>\n",
       "    <tr>\n",
       "      <th>2</th>\n",
       "      <td>월</td>\n",
       "      <td>2</td>\n",
       "      <td>0.000047</td>\n",
       "    </tr>\n",
       "    <tr>\n",
       "      <th>3</th>\n",
       "      <td>월</td>\n",
       "      <td>3</td>\n",
       "      <td>0.000058</td>\n",
       "    </tr>\n",
       "    <tr>\n",
       "      <th>4</th>\n",
       "      <td>월</td>\n",
       "      <td>4</td>\n",
       "      <td>0.000075</td>\n",
       "    </tr>\n",
       "    <tr>\n",
       "      <th>...</th>\n",
       "      <td>...</td>\n",
       "      <td>...</td>\n",
       "      <td>...</td>\n",
       "    </tr>\n",
       "    <tr>\n",
       "      <th>163</th>\n",
       "      <td>일</td>\n",
       "      <td>19</td>\n",
       "      <td>0.000044</td>\n",
       "    </tr>\n",
       "    <tr>\n",
       "      <th>164</th>\n",
       "      <td>일</td>\n",
       "      <td>20</td>\n",
       "      <td>0.000046</td>\n",
       "    </tr>\n",
       "    <tr>\n",
       "      <th>165</th>\n",
       "      <td>일</td>\n",
       "      <td>21</td>\n",
       "      <td>0.000050</td>\n",
       "    </tr>\n",
       "    <tr>\n",
       "      <th>166</th>\n",
       "      <td>일</td>\n",
       "      <td>22</td>\n",
       "      <td>0.000051</td>\n",
       "    </tr>\n",
       "    <tr>\n",
       "      <th>167</th>\n",
       "      <td>일</td>\n",
       "      <td>23</td>\n",
       "      <td>0.000058</td>\n",
       "    </tr>\n",
       "  </tbody>\n",
       "</table>\n",
       "<p>168 rows × 3 columns</p>\n",
       "</div>"
      ],
      "text/plain": [
       "    요일  pickup 시간      평균속력\n",
       "0    월          0  0.000062\n",
       "1    월          1  0.000070\n",
       "2    월          2  0.000047\n",
       "3    월          3  0.000058\n",
       "4    월          4  0.000075\n",
       "..  ..        ...       ...\n",
       "163  일         19  0.000044\n",
       "164  일         20  0.000046\n",
       "165  일         21  0.000050\n",
       "166  일         22  0.000051\n",
       "167  일         23  0.000058\n",
       "\n",
       "[168 rows x 3 columns]"
      ]
     },
     "execution_count": 46,
     "metadata": {},
     "output_type": "execute_result"
    }
   ],
   "source": [
    "df_featured = df[['pickup_datetime']].assign(avg_speed = df.dist / df.trip_duration)\\\n",
    ".assign(dow = lambda _df : _df.pickup_datetime.dt.dayofweek)\\\n",
    ".assign(pickup_hour = lambda _df : _df.pickup_datetime.dt.hour).drop('pickup_datetime', axis = 1)\\\n",
    ".pivot_table(index = 'dow', columns = 'pickup_hour', values = 'avg_speed', aggfunc = 'mean').stack().reset_index()\\\n",
    ".rename({'dow' : '요일', 'pickup_hour' : 'pickup 시간', 0 : '평균속력'}, axis = 1).assign()\\\n",
    ".assign(요일 = lambda _df : _df.요일.map({0:'월',1:'화',2:'수',3:'목',4:'금',5:'토',6:'일'}))\n",
    "\n",
    "df_featured"
   ]
  },
  {
   "cell_type": "code",
   "execution_count": 74,
   "id": "4801c16f-67cd-4204-95e3-e94d058bba03",
   "metadata": {},
   "outputs": [
    {
     "data": {
      "text/plain": [
       "0       0\n",
       "1       0\n",
       "2       0\n",
       "3       0\n",
       "4       0\n",
       "       ..\n",
       "163    23\n",
       "164    23\n",
       "165    23\n",
       "166    23\n",
       "167    23\n",
       "Name: pickup 시간, Length: 168, dtype: int32"
      ]
     },
     "execution_count": 74,
     "metadata": {},
     "output_type": "execute_result"
    }
   ],
   "source": [
    "df_featured['pickup 시간']"
   ]
  },
  {
   "cell_type": "code",
   "execution_count": 47,
   "id": "114328ff-6ed8-457e-b9de-f27cd6ae92a9",
   "metadata": {},
   "outputs": [
    {
     "data": {
      "application/vnd.plotly.v1+json": {
       "config": {
        "plotlyServerURL": "https://plot.ly"
       },
       "data": [
        {
         "coloraxis": "coloraxis",
         "histfunc": "sum",
         "hovertemplate": "pickup 시간=%{x}<br>요일=%{y}<br>sum of 평균속력=%{z}<extra></extra>",
         "name": "",
         "nbinsx": 24,
         "nbinsy": 7,
         "type": "histogram2d",
         "x": [
          0,
          1,
          2,
          3,
          4,
          5,
          6,
          7,
          8,
          9,
          10,
          11,
          12,
          13,
          14,
          15,
          16,
          17,
          18,
          19,
          20,
          21,
          22,
          23,
          0,
          1,
          2,
          3,
          4,
          5,
          6,
          7,
          8,
          9,
          10,
          11,
          12,
          13,
          14,
          15,
          16,
          17,
          18,
          19,
          20,
          21,
          22,
          23,
          0,
          1,
          2,
          3,
          4,
          5,
          6,
          7,
          8,
          9,
          10,
          11,
          12,
          13,
          14,
          15,
          16,
          17,
          18,
          19,
          20,
          21,
          22,
          23,
          0,
          1,
          2,
          3,
          4,
          5,
          6,
          7,
          8,
          9,
          10,
          11,
          12,
          13,
          14,
          15,
          16,
          17,
          18,
          19,
          20,
          21,
          22,
          23,
          0,
          1,
          2,
          3,
          4,
          5,
          6,
          7,
          8,
          9,
          10,
          11,
          12,
          13,
          14,
          15,
          16,
          17,
          18,
          19,
          20,
          21,
          22,
          23,
          0,
          1,
          2,
          3,
          4,
          5,
          6,
          7,
          8,
          9,
          10,
          11,
          12,
          13,
          14,
          15,
          16,
          17,
          18,
          19,
          20,
          21,
          22,
          23,
          0,
          1,
          2,
          3,
          4,
          5,
          6,
          7,
          8,
          9,
          10,
          11,
          12,
          13,
          14,
          15,
          16,
          17,
          18,
          19,
          20,
          21,
          22,
          23
         ],
         "xaxis": "x",
         "xbingroup": "x",
         "y": [
          "월",
          "월",
          "월",
          "월",
          "월",
          "월",
          "월",
          "월",
          "월",
          "월",
          "월",
          "월",
          "월",
          "월",
          "월",
          "월",
          "월",
          "월",
          "월",
          "월",
          "월",
          "월",
          "월",
          "월",
          "화",
          "화",
          "화",
          "화",
          "화",
          "화",
          "화",
          "화",
          "화",
          "화",
          "화",
          "화",
          "화",
          "화",
          "화",
          "화",
          "화",
          "화",
          "화",
          "화",
          "화",
          "화",
          "화",
          "화",
          "수",
          "수",
          "수",
          "수",
          "수",
          "수",
          "수",
          "수",
          "수",
          "수",
          "수",
          "수",
          "수",
          "수",
          "수",
          "수",
          "수",
          "수",
          "수",
          "수",
          "수",
          "수",
          "수",
          "수",
          "목",
          "목",
          "목",
          "목",
          "목",
          "목",
          "목",
          "목",
          "목",
          "목",
          "목",
          "목",
          "목",
          "목",
          "목",
          "목",
          "목",
          "목",
          "목",
          "목",
          "목",
          "목",
          "목",
          "목",
          "금",
          "금",
          "금",
          "금",
          "금",
          "금",
          "금",
          "금",
          "금",
          "금",
          "금",
          "금",
          "금",
          "금",
          "금",
          "금",
          "금",
          "금",
          "금",
          "금",
          "금",
          "금",
          "금",
          "금",
          "토",
          "토",
          "토",
          "토",
          "토",
          "토",
          "토",
          "토",
          "토",
          "토",
          "토",
          "토",
          "토",
          "토",
          "토",
          "토",
          "토",
          "토",
          "토",
          "토",
          "토",
          "토",
          "토",
          "토",
          "일",
          "일",
          "일",
          "일",
          "일",
          "일",
          "일",
          "일",
          "일",
          "일",
          "일",
          "일",
          "일",
          "일",
          "일",
          "일",
          "일",
          "일",
          "일",
          "일",
          "일",
          "일",
          "일",
          "일"
         ],
         "yaxis": "y",
         "ybingroup": "y",
         "z": [
          6.192500620581454e-05,
          7.01657870423287e-05,
          4.722024947464294e-05,
          5.831838054486283e-05,
          7.501200117229855e-05,
          7.271806607809553e-05,
          5.82080690005862e-05,
          4.4350735375279734e-05,
          3.511552334477387e-05,
          2.997742168251701e-05,
          3.654893760953111e-05,
          3.567971201801838e-05,
          3.68351958924078e-05,
          3.626739408054189e-05,
          3.700353060885671e-05,
          3.416021507732824e-05,
          3.6374777610569375e-05,
          3.837000687649857e-05,
          3.687521512933487e-05,
          4.324538929618186e-05,
          4.7472294372555685e-05,
          4.6841728151185616e-05,
          5.075381481080666e-05,
          5.8369953650412785e-05,
          5.449040166377657e-05,
          5.371153739926472e-05,
          5.9327518000189613e-05,
          6.501232110857415e-05,
          6.09770720963975e-05,
          7.368294268979752e-05,
          5.296087558310268e-05,
          4.014571412064587e-05,
          3.0239910535490427e-05,
          3.0295735687408936e-05,
          2.8788144332399327e-05,
          3.1401137001383755e-05,
          3.1082537741861597e-05,
          3.2717081723126535e-05,
          3.3209439857716466e-05,
          3.0926922714119265e-05,
          3.490920149655713e-05,
          3.651160551548555e-05,
          3.5197765617747696e-05,
          4.084229687121748e-05,
          4.420867847885844e-05,
          4.604553865445799e-05,
          4.6374251298536607e-05,
          5.0336294998193645e-05,
          6.116378568153915e-05,
          5.95080286367072e-05,
          6.558620712482186e-05,
          6.827551865012208e-05,
          5.361846347616713e-05,
          6.279575915660333e-05,
          5.598712473866864e-05,
          4.077717937393523e-05,
          3.2903688520327856e-05,
          3.105778192517575e-05,
          3.096250909762546e-05,
          2.885125706597703e-05,
          2.8356901691793332e-05,
          3.2183704895910935e-05,
          3.2657360092844285e-05,
          3.2385313596706385e-05,
          3.513650692732357e-05,
          3.260243838756182e-05,
          3.426938006584745e-05,
          3.800713880661725e-05,
          4.463905911483369e-05,
          4.373551959756939e-05,
          4.390793462441752e-05,
          4.721072678728939e-05,
          5.184038313132204e-05,
          5.431164883830948e-05,
          6.564506227576916e-05,
          6.256305382134688e-05,
          6.557612348720275e-05,
          6.734676487404748e-05,
          5.566553665245741e-05,
          3.8891036987676096e-05,
          3.194733733068311e-05,
          3.058161299605332e-05,
          2.841971807469577e-05,
          3.139054878128309e-05,
          2.8072220637437904e-05,
          2.912536814022494e-05,
          3.0483574952789655e-05,
          3.0482516889906108e-05,
          3.2536089830653354e-05,
          3.190937308395514e-05,
          3.5171677707915996e-05,
          3.666518614712408e-05,
          4.115466120544063e-05,
          4.285079309064918e-05,
          4.454546790905556e-05,
          4.862714201534865e-05,
          4.889898395295332e-05,
          4.808840856559643e-05,
          4.878273252150626e-05,
          6.34974889800912e-05,
          6.419844452350097e-05,
          8.213525549634397e-05,
          5.5162509076601056e-05,
          4.3339251930531036e-05,
          3.3304999075313214e-05,
          3.012557127048596e-05,
          3.592488451595608e-05,
          3.0718583299376126e-05,
          2.9427012774861235e-05,
          3.454598391083255e-05,
          3.4045488976107045e-05,
          3.080162213079083e-05,
          3.485311718234654e-05,
          3.449227456730189e-05,
          3.7718419409648606e-05,
          3.553449344350005e-05,
          4.0243374440793287e-05,
          4.145330173617502e-05,
          3.966782648108991e-05,
          4.0172727931235506e-05,
          4.57447448153166e-05,
          4.3779793536928186e-05,
          4.813530120600683e-05,
          5.3113156583687176e-05,
          5.36954428774924e-05,
          5.789639394612405e-05,
          6.295669093404916e-05,
          5.823198976572878e-05,
          6.329730608490566e-05,
          4.538403845477675e-05,
          4.287566907836539e-05,
          4.012185557659054e-05,
          3.8568061286522577e-05,
          3.334539954204504e-05,
          3.817735599696121e-05,
          3.546830176689362e-05,
          3.670828647599709e-05,
          3.648929023122584e-05,
          3.583103523861355e-05,
          3.315983385198783e-05,
          3.5949554491412764e-05,
          3.945642365833438e-05,
          4.101380586816511e-05,
          3.869980757776298e-05,
          4.867451265381591e-05,
          4.5558581960528345e-05,
          5.371833554638321e-05,
          4.7426951540305794e-05,
          5.4501276502573515e-05,
          7.543749941217084e-05,
          7.952472316751356e-05,
          7.760794422122645e-05,
          5.849479587077e-05,
          4.551503691452916e-05,
          4.465601215456055e-05,
          4.5688966332788196e-05,
          4.496255086996648e-05,
          4.084005371383958e-05,
          3.917105541083395e-05,
          3.898352553179462e-05,
          3.6765405788468567e-05,
          4.2969895700655737e-05,
          3.965857969296879e-05,
          4.4004188079270204e-05,
          4.622882864080493e-05,
          5.028697201841166e-05,
          5.1209161076426195e-05,
          5.785112782340353e-05
         ]
        }
       ],
       "layout": {
        "coloraxis": {
         "colorbar": {
          "title": {
           "text": "평균속력"
          }
         },
         "colorscale": [
          [
           0,
           "#0d0887"
          ],
          [
           0.1111111111111111,
           "#46039f"
          ],
          [
           0.2222222222222222,
           "#7201a8"
          ],
          [
           0.3333333333333333,
           "#9c179e"
          ],
          [
           0.4444444444444444,
           "#bd3786"
          ],
          [
           0.5555555555555556,
           "#d8576b"
          ],
          [
           0.6666666666666666,
           "#ed7953"
          ],
          [
           0.7777777777777778,
           "#fb9f3a"
          ],
          [
           0.8888888888888888,
           "#fdca26"
          ],
          [
           1,
           "#f0f921"
          ]
         ]
        },
        "height": 250,
        "legend": {
         "tracegroupgap": 0
        },
        "margin": {
         "t": 60
        },
        "template": {
         "data": {
          "bar": [
           {
            "error_x": {
             "color": "#2a3f5f"
            },
            "error_y": {
             "color": "#2a3f5f"
            },
            "marker": {
             "line": {
              "color": "white",
              "width": 0.5
             },
             "pattern": {
              "fillmode": "overlay",
              "size": 10,
              "solidity": 0.2
             }
            },
            "type": "bar"
           }
          ],
          "barpolar": [
           {
            "marker": {
             "line": {
              "color": "white",
              "width": 0.5
             },
             "pattern": {
              "fillmode": "overlay",
              "size": 10,
              "solidity": 0.2
             }
            },
            "type": "barpolar"
           }
          ],
          "carpet": [
           {
            "aaxis": {
             "endlinecolor": "#2a3f5f",
             "gridcolor": "#C8D4E3",
             "linecolor": "#C8D4E3",
             "minorgridcolor": "#C8D4E3",
             "startlinecolor": "#2a3f5f"
            },
            "baxis": {
             "endlinecolor": "#2a3f5f",
             "gridcolor": "#C8D4E3",
             "linecolor": "#C8D4E3",
             "minorgridcolor": "#C8D4E3",
             "startlinecolor": "#2a3f5f"
            },
            "type": "carpet"
           }
          ],
          "choropleth": [
           {
            "colorbar": {
             "outlinewidth": 0,
             "ticks": ""
            },
            "type": "choropleth"
           }
          ],
          "contour": [
           {
            "colorbar": {
             "outlinewidth": 0,
             "ticks": ""
            },
            "colorscale": [
             [
              0,
              "#0d0887"
             ],
             [
              0.1111111111111111,
              "#46039f"
             ],
             [
              0.2222222222222222,
              "#7201a8"
             ],
             [
              0.3333333333333333,
              "#9c179e"
             ],
             [
              0.4444444444444444,
              "#bd3786"
             ],
             [
              0.5555555555555556,
              "#d8576b"
             ],
             [
              0.6666666666666666,
              "#ed7953"
             ],
             [
              0.7777777777777778,
              "#fb9f3a"
             ],
             [
              0.8888888888888888,
              "#fdca26"
             ],
             [
              1,
              "#f0f921"
             ]
            ],
            "type": "contour"
           }
          ],
          "contourcarpet": [
           {
            "colorbar": {
             "outlinewidth": 0,
             "ticks": ""
            },
            "type": "contourcarpet"
           }
          ],
          "heatmap": [
           {
            "colorbar": {
             "outlinewidth": 0,
             "ticks": ""
            },
            "colorscale": [
             [
              0,
              "#0d0887"
             ],
             [
              0.1111111111111111,
              "#46039f"
             ],
             [
              0.2222222222222222,
              "#7201a8"
             ],
             [
              0.3333333333333333,
              "#9c179e"
             ],
             [
              0.4444444444444444,
              "#bd3786"
             ],
             [
              0.5555555555555556,
              "#d8576b"
             ],
             [
              0.6666666666666666,
              "#ed7953"
             ],
             [
              0.7777777777777778,
              "#fb9f3a"
             ],
             [
              0.8888888888888888,
              "#fdca26"
             ],
             [
              1,
              "#f0f921"
             ]
            ],
            "type": "heatmap"
           }
          ],
          "heatmapgl": [
           {
            "colorbar": {
             "outlinewidth": 0,
             "ticks": ""
            },
            "colorscale": [
             [
              0,
              "#0d0887"
             ],
             [
              0.1111111111111111,
              "#46039f"
             ],
             [
              0.2222222222222222,
              "#7201a8"
             ],
             [
              0.3333333333333333,
              "#9c179e"
             ],
             [
              0.4444444444444444,
              "#bd3786"
             ],
             [
              0.5555555555555556,
              "#d8576b"
             ],
             [
              0.6666666666666666,
              "#ed7953"
             ],
             [
              0.7777777777777778,
              "#fb9f3a"
             ],
             [
              0.8888888888888888,
              "#fdca26"
             ],
             [
              1,
              "#f0f921"
             ]
            ],
            "type": "heatmapgl"
           }
          ],
          "histogram": [
           {
            "marker": {
             "pattern": {
              "fillmode": "overlay",
              "size": 10,
              "solidity": 0.2
             }
            },
            "type": "histogram"
           }
          ],
          "histogram2d": [
           {
            "colorbar": {
             "outlinewidth": 0,
             "ticks": ""
            },
            "colorscale": [
             [
              0,
              "#0d0887"
             ],
             [
              0.1111111111111111,
              "#46039f"
             ],
             [
              0.2222222222222222,
              "#7201a8"
             ],
             [
              0.3333333333333333,
              "#9c179e"
             ],
             [
              0.4444444444444444,
              "#bd3786"
             ],
             [
              0.5555555555555556,
              "#d8576b"
             ],
             [
              0.6666666666666666,
              "#ed7953"
             ],
             [
              0.7777777777777778,
              "#fb9f3a"
             ],
             [
              0.8888888888888888,
              "#fdca26"
             ],
             [
              1,
              "#f0f921"
             ]
            ],
            "type": "histogram2d"
           }
          ],
          "histogram2dcontour": [
           {
            "colorbar": {
             "outlinewidth": 0,
             "ticks": ""
            },
            "colorscale": [
             [
              0,
              "#0d0887"
             ],
             [
              0.1111111111111111,
              "#46039f"
             ],
             [
              0.2222222222222222,
              "#7201a8"
             ],
             [
              0.3333333333333333,
              "#9c179e"
             ],
             [
              0.4444444444444444,
              "#bd3786"
             ],
             [
              0.5555555555555556,
              "#d8576b"
             ],
             [
              0.6666666666666666,
              "#ed7953"
             ],
             [
              0.7777777777777778,
              "#fb9f3a"
             ],
             [
              0.8888888888888888,
              "#fdca26"
             ],
             [
              1,
              "#f0f921"
             ]
            ],
            "type": "histogram2dcontour"
           }
          ],
          "mesh3d": [
           {
            "colorbar": {
             "outlinewidth": 0,
             "ticks": ""
            },
            "type": "mesh3d"
           }
          ],
          "parcoords": [
           {
            "line": {
             "colorbar": {
              "outlinewidth": 0,
              "ticks": ""
             }
            },
            "type": "parcoords"
           }
          ],
          "pie": [
           {
            "automargin": true,
            "type": "pie"
           }
          ],
          "scatter": [
           {
            "fillpattern": {
             "fillmode": "overlay",
             "size": 10,
             "solidity": 0.2
            },
            "type": "scatter"
           }
          ],
          "scatter3d": [
           {
            "line": {
             "colorbar": {
              "outlinewidth": 0,
              "ticks": ""
             }
            },
            "marker": {
             "colorbar": {
              "outlinewidth": 0,
              "ticks": ""
             }
            },
            "type": "scatter3d"
           }
          ],
          "scattercarpet": [
           {
            "marker": {
             "colorbar": {
              "outlinewidth": 0,
              "ticks": ""
             }
            },
            "type": "scattercarpet"
           }
          ],
          "scattergeo": [
           {
            "marker": {
             "colorbar": {
              "outlinewidth": 0,
              "ticks": ""
             }
            },
            "type": "scattergeo"
           }
          ],
          "scattergl": [
           {
            "marker": {
             "colorbar": {
              "outlinewidth": 0,
              "ticks": ""
             }
            },
            "type": "scattergl"
           }
          ],
          "scattermapbox": [
           {
            "marker": {
             "colorbar": {
              "outlinewidth": 0,
              "ticks": ""
             }
            },
            "type": "scattermapbox"
           }
          ],
          "scatterpolar": [
           {
            "marker": {
             "colorbar": {
              "outlinewidth": 0,
              "ticks": ""
             }
            },
            "type": "scatterpolar"
           }
          ],
          "scatterpolargl": [
           {
            "marker": {
             "colorbar": {
              "outlinewidth": 0,
              "ticks": ""
             }
            },
            "type": "scatterpolargl"
           }
          ],
          "scatterternary": [
           {
            "marker": {
             "colorbar": {
              "outlinewidth": 0,
              "ticks": ""
             }
            },
            "type": "scatterternary"
           }
          ],
          "surface": [
           {
            "colorbar": {
             "outlinewidth": 0,
             "ticks": ""
            },
            "colorscale": [
             [
              0,
              "#0d0887"
             ],
             [
              0.1111111111111111,
              "#46039f"
             ],
             [
              0.2222222222222222,
              "#7201a8"
             ],
             [
              0.3333333333333333,
              "#9c179e"
             ],
             [
              0.4444444444444444,
              "#bd3786"
             ],
             [
              0.5555555555555556,
              "#d8576b"
             ],
             [
              0.6666666666666666,
              "#ed7953"
             ],
             [
              0.7777777777777778,
              "#fb9f3a"
             ],
             [
              0.8888888888888888,
              "#fdca26"
             ],
             [
              1,
              "#f0f921"
             ]
            ],
            "type": "surface"
           }
          ],
          "table": [
           {
            "cells": {
             "fill": {
              "color": "#EBF0F8"
             },
             "line": {
              "color": "white"
             }
            },
            "header": {
             "fill": {
              "color": "#C8D4E3"
             },
             "line": {
              "color": "white"
             }
            },
            "type": "table"
           }
          ]
         },
         "layout": {
          "annotationdefaults": {
           "arrowcolor": "#2a3f5f",
           "arrowhead": 0,
           "arrowwidth": 1
          },
          "autotypenumbers": "strict",
          "coloraxis": {
           "colorbar": {
            "outlinewidth": 0,
            "ticks": ""
           }
          },
          "colorscale": {
           "diverging": [
            [
             0,
             "#8e0152"
            ],
            [
             0.1,
             "#c51b7d"
            ],
            [
             0.2,
             "#de77ae"
            ],
            [
             0.3,
             "#f1b6da"
            ],
            [
             0.4,
             "#fde0ef"
            ],
            [
             0.5,
             "#f7f7f7"
            ],
            [
             0.6,
             "#e6f5d0"
            ],
            [
             0.7,
             "#b8e186"
            ],
            [
             0.8,
             "#7fbc41"
            ],
            [
             0.9,
             "#4d9221"
            ],
            [
             1,
             "#276419"
            ]
           ],
           "sequential": [
            [
             0,
             "#0d0887"
            ],
            [
             0.1111111111111111,
             "#46039f"
            ],
            [
             0.2222222222222222,
             "#7201a8"
            ],
            [
             0.3333333333333333,
             "#9c179e"
            ],
            [
             0.4444444444444444,
             "#bd3786"
            ],
            [
             0.5555555555555556,
             "#d8576b"
            ],
            [
             0.6666666666666666,
             "#ed7953"
            ],
            [
             0.7777777777777778,
             "#fb9f3a"
            ],
            [
             0.8888888888888888,
             "#fdca26"
            ],
            [
             1,
             "#f0f921"
            ]
           ],
           "sequentialminus": [
            [
             0,
             "#0d0887"
            ],
            [
             0.1111111111111111,
             "#46039f"
            ],
            [
             0.2222222222222222,
             "#7201a8"
            ],
            [
             0.3333333333333333,
             "#9c179e"
            ],
            [
             0.4444444444444444,
             "#bd3786"
            ],
            [
             0.5555555555555556,
             "#d8576b"
            ],
            [
             0.6666666666666666,
             "#ed7953"
            ],
            [
             0.7777777777777778,
             "#fb9f3a"
            ],
            [
             0.8888888888888888,
             "#fdca26"
            ],
            [
             1,
             "#f0f921"
            ]
           ]
          },
          "colorway": [
           "#636efa",
           "#EF553B",
           "#00cc96",
           "#ab63fa",
           "#FFA15A",
           "#19d3f3",
           "#FF6692",
           "#B6E880",
           "#FF97FF",
           "#FECB52"
          ],
          "font": {
           "color": "#2a3f5f"
          },
          "geo": {
           "bgcolor": "white",
           "lakecolor": "white",
           "landcolor": "white",
           "showlakes": true,
           "showland": true,
           "subunitcolor": "#C8D4E3"
          },
          "hoverlabel": {
           "align": "left"
          },
          "hovermode": "closest",
          "mapbox": {
           "style": "light"
          },
          "paper_bgcolor": "white",
          "plot_bgcolor": "white",
          "polar": {
           "angularaxis": {
            "gridcolor": "#EBF0F8",
            "linecolor": "#EBF0F8",
            "ticks": ""
           },
           "bgcolor": "white",
           "radialaxis": {
            "gridcolor": "#EBF0F8",
            "linecolor": "#EBF0F8",
            "ticks": ""
           }
          },
          "scene": {
           "xaxis": {
            "backgroundcolor": "white",
            "gridcolor": "#DFE8F3",
            "gridwidth": 2,
            "linecolor": "#EBF0F8",
            "showbackground": true,
            "ticks": "",
            "zerolinecolor": "#EBF0F8"
           },
           "yaxis": {
            "backgroundcolor": "white",
            "gridcolor": "#DFE8F3",
            "gridwidth": 2,
            "linecolor": "#EBF0F8",
            "showbackground": true,
            "ticks": "",
            "zerolinecolor": "#EBF0F8"
           },
           "zaxis": {
            "backgroundcolor": "white",
            "gridcolor": "#DFE8F3",
            "gridwidth": 2,
            "linecolor": "#EBF0F8",
            "showbackground": true,
            "ticks": "",
            "zerolinecolor": "#EBF0F8"
           }
          },
          "shapedefaults": {
           "line": {
            "color": "#2a3f5f"
           }
          },
          "ternary": {
           "aaxis": {
            "gridcolor": "#DFE8F3",
            "linecolor": "#A2B1C6",
            "ticks": ""
           },
           "baxis": {
            "gridcolor": "#DFE8F3",
            "linecolor": "#A2B1C6",
            "ticks": ""
           },
           "bgcolor": "white",
           "caxis": {
            "gridcolor": "#DFE8F3",
            "linecolor": "#A2B1C6",
            "ticks": ""
           }
          },
          "title": {
           "x": 0.05
          },
          "xaxis": {
           "automargin": true,
           "gridcolor": "#EBF0F8",
           "linecolor": "#EBF0F8",
           "ticks": "",
           "title": {
            "standoff": 15
           },
           "zerolinecolor": "#EBF0F8",
           "zerolinewidth": 2
          },
          "yaxis": {
           "automargin": true,
           "gridcolor": "#EBF0F8",
           "linecolor": "#EBF0F8",
           "ticks": "",
           "title": {
            "standoff": 15
           },
           "zerolinecolor": "#EBF0F8",
           "zerolinewidth": 2
          }
         }
        },
        "width": 1200,
        "xaxis": {
         "anchor": "y",
         "autorange": true,
         "domain": [
          0,
          1
         ],
         "range": [
          -0.5,
          23.5
         ],
         "title": {
          "text": "pickup 시간"
         },
         "type": "linear"
        },
        "yaxis": {
         "anchor": "x",
         "autorange": true,
         "domain": [
          0,
          1
         ],
         "range": [
          -0.5,
          6.5
         ],
         "title": {
          "text": "요일"
         },
         "type": "category"
        }
       }
      },
      "image/png": "[encoded data removed]",
      "text/html": [
       "<div>                            <div id=\"a740cedb-dcf5-42ca-ac52-ac06af5415d0\" class=\"plotly-graph-div\" style=\"height:250px; width:1200px;\"></div>            <script type=\"text/javascript\">                require([\"plotly\"], function(Plotly) {                    window.PLOTLYENV=window.PLOTLYENV || {};                                    if (document.getElementById(\"a740cedb-dcf5-42ca-ac52-ac06af5415d0\")) {                    Plotly.newPlot(                        \"a740cedb-dcf5-42ca-ac52-ac06af5415d0\",                        [{\"coloraxis\":\"coloraxis\",\"histfunc\":\"sum\",\"hovertemplate\":\"pickup 시간=%{x}\\u003cbr\\u003e요일=%{y}\\u003cbr\\u003esum of 평균속력=%{z}\\u003cextra\\u003e\\u003c\\u002fextra\\u003e\",\"name\":\"\",\"nbinsx\":24,\"nbinsy\":7,\"x\":[0,1,2,3,4,5,6,7,8,9,10,11,12,13,14,15,16,17,18,19,20,21,22,23,0,1,2,3,4,5,6,7,8,9,10,11,12,13,14,15,16,17,18,19,20,21,22,23,0,1,2,3,4,5,6,7,8,9,10,11,12,13,14,15,16,17,18,19,20,21,22,23,0,1,2,3,4,5,6,7,8,9,10,11,12,13,14,15,16,17,18,19,20,21,22,23,0,1,2,3,4,5,6,7,8,9,10,11,12,13,14,15,16,17,18,19,20,21,22,23,0,1,2,3,4,5,6,7,8,9,10,11,12,13,14,15,16,17,18,19,20,21,22,23,0,1,2,3,4,5,6,7,8,9,10,11,12,13,14,15,16,17,18,19,20,21,22,23],\"xaxis\":\"x\",\"xbingroup\":\"x\",\"y\":[\"월\",\"월\",\"월\",\"월\",\"월\",\"월\",\"월\",\"월\",\"월\",\"월\",\"월\",\"월\",\"월\",\"월\",\"월\",\"월\",\"월\",\"월\",\"월\",\"월\",\"월\",\"월\",\"월\",\"월\",\"화\",\"화\",\"화\",\"화\",\"화\",\"화\",\"화\",\"화\",\"화\",\"화\",\"화\",\"화\",\"화\",\"화\",\"화\",\"화\",\"화\",\"화\",\"화\",\"화\",\"화\",\"화\",\"화\",\"화\",\"수\",\"수\",\"수\",\"수\",\"수\",\"수\",\"수\",\"수\",\"수\",\"수\",\"수\",\"수\",\"수\",\"수\",\"수\",\"수\",\"수\",\"수\",\"수\",\"수\",\"수\",\"수\",\"수\",\"수\",\"목\",\"목\",\"목\",\"목\",\"목\",\"목\",\"목\",\"목\",\"목\",\"목\",\"목\",\"목\",\"목\",\"목\",\"목\",\"목\",\"목\",\"목\",\"목\",\"목\",\"목\",\"목\",\"목\",\"목\",\"금\",\"금\",\"금\",\"금\",\"금\",\"금\",\"금\",\"금\",\"금\",\"금\",\"금\",\"금\",\"금\",\"금\",\"금\",\"금\",\"금\",\"금\",\"금\",\"금\",\"금\",\"금\",\"금\",\"금\",\"토\",\"토\",\"토\",\"토\",\"토\",\"토\",\"토\",\"토\",\"토\",\"토\",\"토\",\"토\",\"토\",\"토\",\"토\",\"토\",\"토\",\"토\",\"토\",\"토\",\"토\",\"토\",\"토\",\"토\",\"일\",\"일\",\"일\",\"일\",\"일\",\"일\",\"일\",\"일\",\"일\",\"일\",\"일\",\"일\",\"일\",\"일\",\"일\",\"일\",\"일\",\"일\",\"일\",\"일\",\"일\",\"일\",\"일\",\"일\"],\"yaxis\":\"y\",\"ybingroup\":\"y\",\"z\":[0.00006192500620581454,0.0000701657870423287,0.00004722024947464294,0.00005831838054486283,0.00007501200117229855,0.00007271806607809553,0.0000582080690005862,0.000044350735375279734,0.00003511552334477387,0.00002997742168251701,0.00003654893760953111,0.00003567971201801838,0.0000368351958924078,0.00003626739408054189,0.00003700353060885671,0.00003416021507732824,0.000036374777610569375,0.00003837000687649857,0.00003687521512933487,0.00004324538929618186,0.000047472294372555685,0.000046841728151185616,0.00005075381481080666,0.000058369953650412785,0.00005449040166377657,0.00005371153739926472,0.000059327518000189613,0.00006501232110857415,0.0000609770720963975,0.00007368294268979752,0.00005296087558310268,0.00004014571412064587,0.000030239910535490427,0.000030295735687408936,0.000028788144332399327,0.000031401137001383755,0.000031082537741861597,0.000032717081723126535,0.000033209439857716466,0.000030926922714119265,0.00003490920149655713,0.00003651160551548555,0.000035197765617747696,0.00004084229687121748,0.00004420867847885844,0.00004604553865445799,0.000046374251298536607,0.000050336294998193645,0.00006116378568153915,0.0000595080286367072,0.00006558620712482186,0.00006827551865012208,0.00005361846347616713,0.00006279575915660333,0.00005598712473866864,0.00004077717937393523,0.000032903688520327856,0.00003105778192517575,0.00003096250909762546,0.00002885125706597703,0.000028356901691793332,0.000032183704895910935,0.000032657360092844285,0.000032385313596706385,0.00003513650692732357,0.00003260243838756182,0.00003426938006584745,0.00003800713880661725,0.00004463905911483369,0.00004373551959756939,0.00004390793462441752,0.00004721072678728939,0.00005184038313132204,0.00005431164883830948,0.00006564506227576916,0.00006256305382134688,0.00006557612348720275,0.00006734676487404748,0.00005566553665245741,0.000038891036987676096,0.00003194733733068311,0.00003058161299605332,0.00002841971807469577,0.00003139054878128309,0.000028072220637437904,0.00002912536814022494,0.000030483574952789655,0.000030482516889906108,0.000032536089830653354,0.00003190937308395514,0.000035171677707915996,0.00003666518614712408,0.00004115466120544063,0.00004285079309064918,0.00004454546790905556,0.00004862714201534865,0.00004889898395295332,0.00004808840856559643,0.00004878273252150626,0.0000634974889800912,0.00006419844452350097,0.00008213525549634397,0.000055162509076601056,0.000043339251930531036,0.000033304999075313214,0.00003012557127048596,0.00003592488451595608,0.000030718583299376126,0.000029427012774861235,0.00003454598391083255,0.000034045488976107045,0.00003080162213079083,0.00003485311718234654,0.00003449227456730189,0.000037718419409648606,0.00003553449344350005,0.000040243374440793287,0.00004145330173617502,0.00003966782648108991,0.000040172727931235506,0.0000457447448153166,0.000043779793536928186,0.00004813530120600683,0.000053113156583687176,0.0000536954428774924,0.00005789639394612405,0.00006295669093404916,0.00005823198976572878,0.00006329730608490566,0.00004538403845477675,0.00004287566907836539,0.00004012185557659054,0.000038568061286522577,0.00003334539954204504,0.00003817735599696121,0.00003546830176689362,0.00003670828647599709,0.00003648929023122584,0.00003583103523861355,0.00003315983385198783,0.000035949554491412764,0.00003945642365833438,0.00004101380586816511,0.00003869980757776298,0.00004867451265381591,0.000045558581960528345,0.00005371833554638321,0.000047426951540305794,0.000054501276502573515,0.00007543749941217084,0.00007952472316751356,0.00007760794422122645,0.00005849479587077,0.00004551503691452916,0.00004465601215456055,0.000045688966332788196,0.00004496255086996648,0.00004084005371383958,0.00003917105541083395,0.00003898352553179462,0.000036765405788468567,0.000042969895700655737,0.00003965857969296879,0.000044004188079270204,0.00004622882864080493,0.00005028697201841166,0.000051209161076426195,0.00005785112782340353],\"type\":\"histogram2d\"}],                        {\"template\":{\"data\":{\"histogram2dcontour\":[{\"type\":\"histogram2dcontour\",\"colorbar\":{\"outlinewidth\":0,\"ticks\":\"\"},\"colorscale\":[[0.0,\"#0d0887\"],[0.1111111111111111,\"#46039f\"],[0.2222222222222222,\"#7201a8\"],[0.3333333333333333,\"#9c179e\"],[0.4444444444444444,\"#bd3786\"],[0.5555555555555556,\"#d8576b\"],[0.6666666666666666,\"#ed7953\"],[0.7777777777777778,\"#fb9f3a\"],[0.8888888888888888,\"#fdca26\"],[1.0,\"#f0f921\"]]}],\"choropleth\":[{\"type\":\"choropleth\",\"colorbar\":{\"outlinewidth\":0,\"ticks\":\"\"}}],\"histogram2d\":[{\"type\":\"histogram2d\",\"colorbar\":{\"outlinewidth\":0,\"ticks\":\"\"},\"colorscale\":[[0.0,\"#0d0887\"],[0.1111111111111111,\"#46039f\"],[0.2222222222222222,\"#7201a8\"],[0.3333333333333333,\"#9c179e\"],[0.4444444444444444,\"#bd3786\"],[0.5555555555555556,\"#d8576b\"],[0.6666666666666666,\"#ed7953\"],[0.7777777777777778,\"#fb9f3a\"],[0.8888888888888888,\"#fdca26\"],[1.0,\"#f0f921\"]]}],\"heatmap\":[{\"type\":\"heatmap\",\"colorbar\":{\"outlinewidth\":0,\"ticks\":\"\"},\"colorscale\":[[0.0,\"#0d0887\"],[0.1111111111111111,\"#46039f\"],[0.2222222222222222,\"#7201a8\"],[0.3333333333333333,\"#9c179e\"],[0.4444444444444444,\"#bd3786\"],[0.5555555555555556,\"#d8576b\"],[0.6666666666666666,\"#ed7953\"],[0.7777777777777778,\"#fb9f3a\"],[0.8888888888888888,\"#fdca26\"],[1.0,\"#f0f921\"]]}],\"heatmapgl\":[{\"type\":\"heatmapgl\",\"colorbar\":{\"outlinewidth\":0,\"ticks\":\"\"},\"colorscale\":[[0.0,\"#0d0887\"],[0.1111111111111111,\"#46039f\"],[0.2222222222222222,\"#7201a8\"],[0.3333333333333333,\"#9c179e\"],[0.4444444444444444,\"#bd3786\"],[0.5555555555555556,\"#d8576b\"],[0.6666666666666666,\"#ed7953\"],[0.7777777777777778,\"#fb9f3a\"],[0.8888888888888888,\"#fdca26\"],[1.0,\"#f0f921\"]]}],\"contourcarpet\":[{\"type\":\"contourcarpet\",\"colorbar\":{\"outlinewidth\":0,\"ticks\":\"\"}}],\"contour\":[{\"type\":\"contour\",\"colorbar\":{\"outlinewidth\":0,\"ticks\":\"\"},\"colorscale\":[[0.0,\"#0d0887\"],[0.1111111111111111,\"#46039f\"],[0.2222222222222222,\"#7201a8\"],[0.3333333333333333,\"#9c179e\"],[0.4444444444444444,\"#bd3786\"],[0.5555555555555556,\"#d8576b\"],[0.6666666666666666,\"#ed7953\"],[0.7777777777777778,\"#fb9f3a\"],[0.8888888888888888,\"#fdca26\"],[1.0,\"#f0f921\"]]}],\"surface\":[{\"type\":\"surface\",\"colorbar\":{\"outlinewidth\":0,\"ticks\":\"\"},\"colorscale\":[[0.0,\"#0d0887\"],[0.1111111111111111,\"#46039f\"],[0.2222222222222222,\"#7201a8\"],[0.3333333333333333,\"#9c179e\"],[0.4444444444444444,\"#bd3786\"],[0.5555555555555556,\"#d8576b\"],[0.6666666666666666,\"#ed7953\"],[0.7777777777777778,\"#fb9f3a\"],[0.8888888888888888,\"#fdca26\"],[1.0,\"#f0f921\"]]}],\"mesh3d\":[{\"type\":\"mesh3d\",\"colorbar\":{\"outlinewidth\":0,\"ticks\":\"\"}}],\"scatter\":[{\"fillpattern\":{\"fillmode\":\"overlay\",\"size\":10,\"solidity\":0.2},\"type\":\"scatter\"}],\"parcoords\":[{\"type\":\"parcoords\",\"line\":{\"colorbar\":{\"outlinewidth\":0,\"ticks\":\"\"}}}],\"scatterpolargl\":[{\"type\":\"scatterpolargl\",\"marker\":{\"colorbar\":{\"outlinewidth\":0,\"ticks\":\"\"}}}],\"bar\":[{\"error_x\":{\"color\":\"#2a3f5f\"},\"error_y\":{\"color\":\"#2a3f5f\"},\"marker\":{\"line\":{\"color\":\"white\",\"width\":0.5},\"pattern\":{\"fillmode\":\"overlay\",\"size\":10,\"solidity\":0.2}},\"type\":\"bar\"}],\"scattergeo\":[{\"type\":\"scattergeo\",\"marker\":{\"colorbar\":{\"outlinewidth\":0,\"ticks\":\"\"}}}],\"scatterpolar\":[{\"type\":\"scatterpolar\",\"marker\":{\"colorbar\":{\"outlinewidth\":0,\"ticks\":\"\"}}}],\"histogram\":[{\"marker\":{\"pattern\":{\"fillmode\":\"overlay\",\"size\":10,\"solidity\":0.2}},\"type\":\"histogram\"}],\"scattergl\":[{\"type\":\"scattergl\",\"marker\":{\"colorbar\":{\"outlinewidth\":0,\"ticks\":\"\"}}}],\"scatter3d\":[{\"type\":\"scatter3d\",\"line\":{\"colorbar\":{\"outlinewidth\":0,\"ticks\":\"\"}},\"marker\":{\"colorbar\":{\"outlinewidth\":0,\"ticks\":\"\"}}}],\"scattermapbox\":[{\"type\":\"scattermapbox\",\"marker\":{\"colorbar\":{\"outlinewidth\":0,\"ticks\":\"\"}}}],\"scatterternary\":[{\"type\":\"scatterternary\",\"marker\":{\"colorbar\":{\"outlinewidth\":0,\"ticks\":\"\"}}}],\"scattercarpet\":[{\"type\":\"scattercarpet\",\"marker\":{\"colorbar\":{\"outlinewidth\":0,\"ticks\":\"\"}}}],\"carpet\":[{\"aaxis\":{\"endlinecolor\":\"#2a3f5f\",\"gridcolor\":\"#C8D4E3\",\"linecolor\":\"#C8D4E3\",\"minorgridcolor\":\"#C8D4E3\",\"startlinecolor\":\"#2a3f5f\"},\"baxis\":{\"endlinecolor\":\"#2a3f5f\",\"gridcolor\":\"#C8D4E3\",\"linecolor\":\"#C8D4E3\",\"minorgridcolor\":\"#C8D4E3\",\"startlinecolor\":\"#2a3f5f\"},\"type\":\"carpet\"}],\"table\":[{\"cells\":{\"fill\":{\"color\":\"#EBF0F8\"},\"line\":{\"color\":\"white\"}},\"header\":{\"fill\":{\"color\":\"#C8D4E3\"},\"line\":{\"color\":\"white\"}},\"type\":\"table\"}],\"barpolar\":[{\"marker\":{\"line\":{\"color\":\"white\",\"width\":0.5},\"pattern\":{\"fillmode\":\"overlay\",\"size\":10,\"solidity\":0.2}},\"type\":\"barpolar\"}],\"pie\":[{\"automargin\":true,\"type\":\"pie\"}]},\"layout\":{\"autotypenumbers\":\"strict\",\"colorway\":[\"#636efa\",\"#EF553B\",\"#00cc96\",\"#ab63fa\",\"#FFA15A\",\"#19d3f3\",\"#FF6692\",\"#B6E880\",\"#FF97FF\",\"#FECB52\"],\"font\":{\"color\":\"#2a3f5f\"},\"hovermode\":\"closest\",\"hoverlabel\":{\"align\":\"left\"},\"paper_bgcolor\":\"white\",\"plot_bgcolor\":\"white\",\"polar\":{\"bgcolor\":\"white\",\"angularaxis\":{\"gridcolor\":\"#EBF0F8\",\"linecolor\":\"#EBF0F8\",\"ticks\":\"\"},\"radialaxis\":{\"gridcolor\":\"#EBF0F8\",\"linecolor\":\"#EBF0F8\",\"ticks\":\"\"}},\"ternary\":{\"bgcolor\":\"white\",\"aaxis\":{\"gridcolor\":\"#DFE8F3\",\"linecolor\":\"#A2B1C6\",\"ticks\":\"\"},\"baxis\":{\"gridcolor\":\"#DFE8F3\",\"linecolor\":\"#A2B1C6\",\"ticks\":\"\"},\"caxis\":{\"gridcolor\":\"#DFE8F3\",\"linecolor\":\"#A2B1C6\",\"ticks\":\"\"}},\"coloraxis\":{\"colorbar\":{\"outlinewidth\":0,\"ticks\":\"\"}},\"colorscale\":{\"sequential\":[[0.0,\"#0d0887\"],[0.1111111111111111,\"#46039f\"],[0.2222222222222222,\"#7201a8\"],[0.3333333333333333,\"#9c179e\"],[0.4444444444444444,\"#bd3786\"],[0.5555555555555556,\"#d8576b\"],[0.6666666666666666,\"#ed7953\"],[0.7777777777777778,\"#fb9f3a\"],[0.8888888888888888,\"#fdca26\"],[1.0,\"#f0f921\"]],\"sequentialminus\":[[0.0,\"#0d0887\"],[0.1111111111111111,\"#46039f\"],[0.2222222222222222,\"#7201a8\"],[0.3333333333333333,\"#9c179e\"],[0.4444444444444444,\"#bd3786\"],[0.5555555555555556,\"#d8576b\"],[0.6666666666666666,\"#ed7953\"],[0.7777777777777778,\"#fb9f3a\"],[0.8888888888888888,\"#fdca26\"],[1.0,\"#f0f921\"]],\"diverging\":[[0,\"#8e0152\"],[0.1,\"#c51b7d\"],[0.2,\"#de77ae\"],[0.3,\"#f1b6da\"],[0.4,\"#fde0ef\"],[0.5,\"#f7f7f7\"],[0.6,\"#e6f5d0\"],[0.7,\"#b8e186\"],[0.8,\"#7fbc41\"],[0.9,\"#4d9221\"],[1,\"#276419\"]]},\"xaxis\":{\"gridcolor\":\"#EBF0F8\",\"linecolor\":\"#EBF0F8\",\"ticks\":\"\",\"title\":{\"standoff\":15},\"zerolinecolor\":\"#EBF0F8\",\"automargin\":true,\"zerolinewidth\":2},\"yaxis\":{\"gridcolor\":\"#EBF0F8\",\"linecolor\":\"#EBF0F8\",\"ticks\":\"\",\"title\":{\"standoff\":15},\"zerolinecolor\":\"#EBF0F8\",\"automargin\":true,\"zerolinewidth\":2},\"scene\":{\"xaxis\":{\"backgroundcolor\":\"white\",\"gridcolor\":\"#DFE8F3\",\"linecolor\":\"#EBF0F8\",\"showbackground\":true,\"ticks\":\"\",\"zerolinecolor\":\"#EBF0F8\",\"gridwidth\":2},\"yaxis\":{\"backgroundcolor\":\"white\",\"gridcolor\":\"#DFE8F3\",\"linecolor\":\"#EBF0F8\",\"showbackground\":true,\"ticks\":\"\",\"zerolinecolor\":\"#EBF0F8\",\"gridwidth\":2},\"zaxis\":{\"backgroundcolor\":\"white\",\"gridcolor\":\"#DFE8F3\",\"linecolor\":\"#EBF0F8\",\"showbackground\":true,\"ticks\":\"\",\"zerolinecolor\":\"#EBF0F8\",\"gridwidth\":2}},\"shapedefaults\":{\"line\":{\"color\":\"#2a3f5f\"}},\"annotationdefaults\":{\"arrowcolor\":\"#2a3f5f\",\"arrowhead\":0,\"arrowwidth\":1},\"geo\":{\"bgcolor\":\"white\",\"landcolor\":\"white\",\"subunitcolor\":\"#C8D4E3\",\"showland\":true,\"showlakes\":true,\"lakecolor\":\"white\"},\"title\":{\"x\":0.05},\"mapbox\":{\"style\":\"light\"}}},\"xaxis\":{\"anchor\":\"y\",\"domain\":[0.0,1.0],\"title\":{\"text\":\"pickup 시간\"}},\"yaxis\":{\"anchor\":\"x\",\"domain\":[0.0,1.0],\"title\":{\"text\":\"요일\"}},\"coloraxis\":{\"colorbar\":{\"title\":{\"text\":\"평균속력\"}},\"colorscale\":[[0.0,\"#0d0887\"],[0.1111111111111111,\"#46039f\"],[0.2222222222222222,\"#7201a8\"],[0.3333333333333333,\"#9c179e\"],[0.4444444444444444,\"#bd3786\"],[0.5555555555555556,\"#d8576b\"],[0.6666666666666666,\"#ed7953\"],[0.7777777777777778,\"#fb9f3a\"],[0.8888888888888888,\"#fdca26\"],[1.0,\"#f0f921\"]]},\"legend\":{\"tracegroupgap\":0},\"margin\":{\"t\":60},\"height\":250,\"width\":1200},                        {\"responsive\": true}                    ).then(function(){\n",
       "                            \n",
       "var gd = document.getElementById('a740cedb-dcf5-42ca-ac52-ac06af5415d0');\n",
       "var x = new MutationObserver(function (mutations, observer) {{\n",
       "        var display = window.getComputedStyle(gd).display;\n",
       "        if (!display || display === 'none') {{\n",
       "            console.log([gd, 'removed!']);\n",
       "            Plotly.purge(gd);\n",
       "            observer.disconnect();\n",
       "        }}\n",
       "}});\n",
       "\n",
       "// Listen for the removal of the full notebook cells\n",
       "var notebookContainer = gd.closest('#notebook-container');\n",
       "if (notebookContainer) {{\n",
       "    x.observe(notebookContainer, {childList: true});\n",
       "}}\n",
       "\n",
       "// Listen for the clearing of the current output cell\n",
       "var outputEl = gd.closest('.output');\n",
       "if (outputEl) {{\n",
       "    x.observe(outputEl, {childList: true});\n",
       "}}\n",
       "\n",
       "                        })                };                });            </script>        </div>"
      ]
     },
     "metadata": {},
     "output_type": "display_data"
    }
   ],
   "source": [
    "fig1 = px.density_heatmap(\n",
    "    data_frame = df_featured,\n",
    "    x = 'pickup 시간',\n",
    "    y = '요일',\n",
    "    z = '평균속력',\n",
    "    nbinsx = 24,\n",
    "    nbinsy = 7,\n",
    "    width = 1200,\n",
    "    height = 250\n",
    ")\n",
    "\n",
    "fig1.update_layout(coloraxis_colorbar={'title':'평균속력'})\n",
    "\n",
    "fig1.show()"
   ]
  },
  {
   "cell_type": "markdown",
   "id": "1acb6ceb-fb87-4052-a519-adce134b44fd",
   "metadata": {},
   "source": [
    "## `(2)` 요일,시간에 따른 평균속력 시각화 – 25점\n",
    "\n",
    "자료 `df`에서 시간에 따른 평균이동거리를 구하고 이를 대시보드에\n",
    "시각화하라.\n",
    "\n",
    "**README**\n",
    "\n",
    "-   요일은 `{0:'월',1:'화',2:'수',3:'목',4:'금',5:'토',6:'일'}`의 규칙에\n",
    "    따라 변환할 것"
   ]
  },
  {
   "cell_type": "code",
   "execution_count": 42,
   "id": "43df0a98-e50c-40d0-b9e9-d2f22adec5b4",
   "metadata": {},
   "outputs": [
    {
     "data": {
      "text/html": [
       "<div>\n",
       "<style scoped>\n",
       "    .dataframe tbody tr th:only-of-type {\n",
       "        vertical-align: middle;\n",
       "    }\n",
       "\n",
       "    .dataframe tbody tr th {\n",
       "        vertical-align: top;\n",
       "    }\n",
       "\n",
       "    .dataframe thead th {\n",
       "        text-align: right;\n",
       "    }\n",
       "</style>\n",
       "<table border=\"1\" class=\"dataframe\">\n",
       "  <thead>\n",
       "    <tr style=\"text-align: right;\">\n",
       "      <th></th>\n",
       "      <th>요일</th>\n",
       "      <th>pickup 시간</th>\n",
       "      <th>평균이동거리</th>\n",
       "    </tr>\n",
       "  </thead>\n",
       "  <tbody>\n",
       "    <tr>\n",
       "      <th>0</th>\n",
       "      <td>월</td>\n",
       "      <td>0</td>\n",
       "      <td>0.037158</td>\n",
       "    </tr>\n",
       "    <tr>\n",
       "      <th>1</th>\n",
       "      <td>월</td>\n",
       "      <td>1</td>\n",
       "      <td>0.052003</td>\n",
       "    </tr>\n",
       "    <tr>\n",
       "      <th>2</th>\n",
       "      <td>월</td>\n",
       "      <td>2</td>\n",
       "      <td>0.034542</td>\n",
       "    </tr>\n",
       "    <tr>\n",
       "      <th>3</th>\n",
       "      <td>월</td>\n",
       "      <td>3</td>\n",
       "      <td>0.055963</td>\n",
       "    </tr>\n",
       "    <tr>\n",
       "      <th>4</th>\n",
       "      <td>월</td>\n",
       "      <td>4</td>\n",
       "      <td>0.070630</td>\n",
       "    </tr>\n",
       "    <tr>\n",
       "      <th>...</th>\n",
       "      <td>...</td>\n",
       "      <td>...</td>\n",
       "      <td>...</td>\n",
       "    </tr>\n",
       "    <tr>\n",
       "      <th>163</th>\n",
       "      <td>일</td>\n",
       "      <td>19</td>\n",
       "      <td>0.033590</td>\n",
       "    </tr>\n",
       "    <tr>\n",
       "      <th>164</th>\n",
       "      <td>일</td>\n",
       "      <td>20</td>\n",
       "      <td>0.042992</td>\n",
       "    </tr>\n",
       "    <tr>\n",
       "      <th>165</th>\n",
       "      <td>일</td>\n",
       "      <td>21</td>\n",
       "      <td>0.041279</td>\n",
       "    </tr>\n",
       "    <tr>\n",
       "      <th>166</th>\n",
       "      <td>일</td>\n",
       "      <td>22</td>\n",
       "      <td>0.039894</td>\n",
       "    </tr>\n",
       "    <tr>\n",
       "      <th>167</th>\n",
       "      <td>일</td>\n",
       "      <td>23</td>\n",
       "      <td>0.045419</td>\n",
       "    </tr>\n",
       "  </tbody>\n",
       "</table>\n",
       "<p>168 rows × 3 columns</p>\n",
       "</div>"
      ],
      "text/plain": [
       "    요일  pickup 시간    평균이동거리\n",
       "0    월          0  0.037158\n",
       "1    월          1  0.052003\n",
       "2    월          2  0.034542\n",
       "3    월          3  0.055963\n",
       "4    월          4  0.070630\n",
       "..  ..        ...       ...\n",
       "163  일         19  0.033590\n",
       "164  일         20  0.042992\n",
       "165  일         21  0.041279\n",
       "166  일         22  0.039894\n",
       "167  일         23  0.045419\n",
       "\n",
       "[168 rows x 3 columns]"
      ]
     },
     "execution_count": 42,
     "metadata": {},
     "output_type": "execute_result"
    }
   ],
   "source": [
    "df_featured2 = df[['pickup_datetime']].assign(avg_dist = df.dist)\\\n",
    ".assign(dow = lambda _df : _df.pickup_datetime.dt.dayofweek)\\\n",
    ".assign(pickup_hour = lambda _df : _df.pickup_datetime.dt.hour).drop('pickup_datetime', axis = 1)\\\n",
    ".pivot_table(index = 'dow', columns = 'pickup_hour', values = 'avg_dist', aggfunc = 'mean').stack().reset_index()\\\n",
    ".rename({'dow' : '요일', 'pickup_hour' : 'pickup 시간', 0 : '평균이동거리'}, axis = 1)\\\n",
    ".assign(요일 = lambda _df : _df.요일.map({0:'월',1:'화',2:'수',3:'목',4:'금',5:'토',6:'일'}))\n",
    "\n",
    "df_featured2"
   ]
  },
  {
   "cell_type": "code",
   "execution_count": 44,
   "id": "51bbd790-aa4e-4e02-bb47-fec15c2898bf",
   "metadata": {},
   "outputs": [
    {
     "data": {
      "application/vnd.plotly.v1+json": {
       "config": {
        "plotlyServerURL": "https://plot.ly"
       },
       "data": [
        {
         "coloraxis": "coloraxis",
         "histfunc": "sum",
         "hovertemplate": "pickup 시간=%{x}<br>요일=%{y}<br>sum of 평균이동거리=%{z}<extra></extra>",
         "name": "",
         "nbinsx": 24,
         "nbinsy": 7,
         "type": "histogram2d",
         "x": [
          0,
          1,
          2,
          3,
          4,
          5,
          6,
          7,
          8,
          9,
          10,
          11,
          12,
          13,
          14,
          15,
          16,
          17,
          18,
          19,
          20,
          21,
          22,
          23,
          0,
          1,
          2,
          3,
          4,
          5,
          6,
          7,
          8,
          9,
          10,
          11,
          12,
          13,
          14,
          15,
          16,
          17,
          18,
          19,
          20,
          21,
          22,
          23,
          0,
          1,
          2,
          3,
          4,
          5,
          6,
          7,
          8,
          9,
          10,
          11,
          12,
          13,
          14,
          15,
          16,
          17,
          18,
          19,
          20,
          21,
          22,
          23,
          0,
          1,
          2,
          3,
          4,
          5,
          6,
          7,
          8,
          9,
          10,
          11,
          12,
          13,
          14,
          15,
          16,
          17,
          18,
          19,
          20,
          21,
          22,
          23,
          0,
          1,
          2,
          3,
          4,
          5,
          6,
          7,
          8,
          9,
          10,
          11,
          12,
          13,
          14,
          15,
          16,
          17,
          18,
          19,
          20,
          21,
          22,
          23,
          0,
          1,
          2,
          3,
          4,
          5,
          6,
          7,
          8,
          9,
          10,
          11,
          12,
          13,
          14,
          15,
          16,
          17,
          18,
          19,
          20,
          21,
          22,
          23,
          0,
          1,
          2,
          3,
          4,
          5,
          6,
          7,
          8,
          9,
          10,
          11,
          12,
          13,
          14,
          15,
          16,
          17,
          18,
          19,
          20,
          21,
          22,
          23
         ],
         "xaxis": "x",
         "xbingroup": "x",
         "y": [
          "월",
          "월",
          "월",
          "월",
          "월",
          "월",
          "월",
          "월",
          "월",
          "월",
          "월",
          "월",
          "월",
          "월",
          "월",
          "월",
          "월",
          "월",
          "월",
          "월",
          "월",
          "월",
          "월",
          "월",
          "화",
          "화",
          "화",
          "화",
          "화",
          "화",
          "화",
          "화",
          "화",
          "화",
          "화",
          "화",
          "화",
          "화",
          "화",
          "화",
          "화",
          "화",
          "화",
          "화",
          "화",
          "화",
          "화",
          "화",
          "수",
          "수",
          "수",
          "수",
          "수",
          "수",
          "수",
          "수",
          "수",
          "수",
          "수",
          "수",
          "수",
          "수",
          "수",
          "수",
          "수",
          "수",
          "수",
          "수",
          "수",
          "수",
          "수",
          "수",
          "목",
          "목",
          "목",
          "목",
          "목",
          "목",
          "목",
          "목",
          "목",
          "목",
          "목",
          "목",
          "목",
          "목",
          "목",
          "목",
          "목",
          "목",
          "목",
          "목",
          "목",
          "목",
          "목",
          "목",
          "금",
          "금",
          "금",
          "금",
          "금",
          "금",
          "금",
          "금",
          "금",
          "금",
          "금",
          "금",
          "금",
          "금",
          "금",
          "금",
          "금",
          "금",
          "금",
          "금",
          "금",
          "금",
          "금",
          "금",
          "토",
          "토",
          "토",
          "토",
          "토",
          "토",
          "토",
          "토",
          "토",
          "토",
          "토",
          "토",
          "토",
          "토",
          "토",
          "토",
          "토",
          "토",
          "토",
          "토",
          "토",
          "토",
          "토",
          "토",
          "일",
          "일",
          "일",
          "일",
          "일",
          "일",
          "일",
          "일",
          "일",
          "일",
          "일",
          "일",
          "일",
          "일",
          "일",
          "일",
          "일",
          "일",
          "일",
          "일",
          "일",
          "일",
          "일",
          "일"
         ],
         "yaxis": "y",
         "ybingroup": "y",
         "z": [
          0.03715809838079698,
          0.05200302769060466,
          0.03454166059277303,
          0.05596315189409232,
          0.07063039696986095,
          0.06426270786989556,
          0.034490535452775584,
          0.032737782045627016,
          0.03271897536089555,
          0.022300252808707045,
          0.036457711731007814,
          0.03259913640889305,
          0.03791273701584093,
          0.031148218766055,
          0.03073260549089396,
          0.03561671744114983,
          0.045856793688758724,
          0.03489709547473452,
          0.03206766072125966,
          0.030931047636591467,
          0.03478322182868066,
          0.03504153532967092,
          0.039807563106260796,
          0.041753717014843476,
          0.04549263088199272,
          0.026491866724439015,
          0.05237136448088479,
          0.042291832373646004,
          0.03189731490250098,
          0.052113797374228325,
          0.03625948497196739,
          0.036995698246546305,
          0.026760267886113808,
          0.027077751296383516,
          0.026826090075304745,
          0.034316439823832576,
          0.03498805312265091,
          0.035544501630472854,
          0.03838823500419107,
          0.02821292607678347,
          0.03586750914515103,
          0.03883433324239985,
          0.02572514272219912,
          0.033088420498453834,
          0.036793867026316575,
          0.03320750581322103,
          0.03796506613207811,
          0.0441184974197329,
          0.06189425076297976,
          0.039073634201646286,
          0.04027817512479525,
          0.045001889217295234,
          0.02712641035763739,
          0.04090444437849963,
          0.03554282147884122,
          0.026562429760155624,
          0.028137832185748304,
          0.028848291392458557,
          0.03436772147280834,
          0.028384887815572114,
          0.029861333110209855,
          0.03094931538110388,
          0.04105512493816869,
          0.030896039734749265,
          0.0383327715434659,
          0.0440284327758578,
          0.034202250485253306,
          0.033418178249557354,
          0.037728969952857336,
          0.04105665766647581,
          0.03501931863015318,
          0.04053196598643651,
          0.04370735751553739,
          0.0417765374180669,
          0.046409338050018074,
          0.05493347173018719,
          0.061569806741913605,
          0.046512677925574106,
          0.05250827412143831,
          0.03531027339163442,
          0.029133885897888828,
          0.029901509572592543,
          0.027772390194162014,
          0.02858396613665924,
          0.02919986838270981,
          0.0317612270262194,
          0.03471946142251515,
          0.03516035201971669,
          0.032241751574696526,
          0.028428726680918188,
          0.030790591800766605,
          0.0276523888329859,
          0.03442330713780692,
          0.0468108838653546,
          0.03680314709375805,
          0.04528582049448872,
          0.03941914483917277,
          0.041799452835402005,
          0.02747939721328583,
          0.04467300794711169,
          0.06040430813029304,
          0.07023081911325425,
          0.038559495853808044,
          0.036675286599085095,
          0.032616090198524406,
          0.022036573919088698,
          0.0390431164668389,
          0.030196453798128214,
          0.02723147055623086,
          0.03293566054375842,
          0.043647154028390374,
          0.03415901588979847,
          0.03676054346801498,
          0.03317075478918968,
          0.027736605265520214,
          0.0327639608191616,
          0.03269130293295594,
          0.03259886897954823,
          0.03289081100831811,
          0.0341054864926265,
          0.036707167535579545,
          0.03566950941170107,
          0.0380489921489175,
          0.03696210181836352,
          0.04587911863822203,
          0.04823124935776199,
          0.04423147111534784,
          0.03502778652413812,
          0.05684438361280244,
          0.02883829437172897,
          0.03135331752009965,
          0.029968986432524772,
          0.030354061779279694,
          0.02574892204102297,
          0.03185745950220361,
          0.03626576223452341,
          0.031655929237335456,
          0.03446797731080265,
          0.03424314095287038,
          0.026601148073475155,
          0.029834599637768515,
          0.028572862569402776,
          0.034023159026747324,
          0.03508011042417724,
          0.039962176173149275,
          0.0384030605806378,
          0.03932604021053794,
          0.037395030232690134,
          0.03617073372297567,
          0.0819519990101009,
          0.08455383063086612,
          0.07728771678955991,
          0.040662783558606266,
          0.02651724954324167,
          0.024978445983095104,
          0.035339142705562855,
          0.04011498662915437,
          0.03072317013788322,
          0.039420942718037456,
          0.041070572515632585,
          0.041828181994856564,
          0.04344609099751088,
          0.031280398092728846,
          0.033589561605802655,
          0.042991760551657536,
          0.04127852982142265,
          0.03989386796977483,
          0.04541865114558133
         ]
        }
       ],
       "layout": {
        "coloraxis": {
         "colorbar": {
          "title": {
           "text": "평균속력"
          }
         },
         "colorscale": [
          [
           0,
           "#0d0887"
          ],
          [
           0.1111111111111111,
           "#46039f"
          ],
          [
           0.2222222222222222,
           "#7201a8"
          ],
          [
           0.3333333333333333,
           "#9c179e"
          ],
          [
           0.4444444444444444,
           "#bd3786"
          ],
          [
           0.5555555555555556,
           "#d8576b"
          ],
          [
           0.6666666666666666,
           "#ed7953"
          ],
          [
           0.7777777777777778,
           "#fb9f3a"
          ],
          [
           0.8888888888888888,
           "#fdca26"
          ],
          [
           1,
           "#f0f921"
          ]
         ]
        },
        "height": 250,
        "legend": {
         "tracegroupgap": 0
        },
        "margin": {
         "t": 60
        },
        "template": {
         "data": {
          "bar": [
           {
            "error_x": {
             "color": "#2a3f5f"
            },
            "error_y": {
             "color": "#2a3f5f"
            },
            "marker": {
             "line": {
              "color": "white",
              "width": 0.5
             },
             "pattern": {
              "fillmode": "overlay",
              "size": 10,
              "solidity": 0.2
             }
            },
            "type": "bar"
           }
          ],
          "barpolar": [
           {
            "marker": {
             "line": {
              "color": "white",
              "width": 0.5
             },
             "pattern": {
              "fillmode": "overlay",
              "size": 10,
              "solidity": 0.2
             }
            },
            "type": "barpolar"
           }
          ],
          "carpet": [
           {
            "aaxis": {
             "endlinecolor": "#2a3f5f",
             "gridcolor": "#C8D4E3",
             "linecolor": "#C8D4E3",
             "minorgridcolor": "#C8D4E3",
             "startlinecolor": "#2a3f5f"
            },
            "baxis": {
             "endlinecolor": "#2a3f5f",
             "gridcolor": "#C8D4E3",
             "linecolor": "#C8D4E3",
             "minorgridcolor": "#C8D4E3",
             "startlinecolor": "#2a3f5f"
            },
            "type": "carpet"
           }
          ],
          "choropleth": [
           {
            "colorbar": {
             "outlinewidth": 0,
             "ticks": ""
            },
            "type": "choropleth"
           }
          ],
          "contour": [
           {
            "colorbar": {
             "outlinewidth": 0,
             "ticks": ""
            },
            "colorscale": [
             [
              0,
              "#0d0887"
             ],
             [
              0.1111111111111111,
              "#46039f"
             ],
             [
              0.2222222222222222,
              "#7201a8"
             ],
             [
              0.3333333333333333,
              "#9c179e"
             ],
             [
              0.4444444444444444,
              "#bd3786"
             ],
             [
              0.5555555555555556,
              "#d8576b"
             ],
             [
              0.6666666666666666,
              "#ed7953"
             ],
             [
              0.7777777777777778,
              "#fb9f3a"
             ],
             [
              0.8888888888888888,
              "#fdca26"
             ],
             [
              1,
              "#f0f921"
             ]
            ],
            "type": "contour"
           }
          ],
          "contourcarpet": [
           {
            "colorbar": {
             "outlinewidth": 0,
             "ticks": ""
            },
            "type": "contourcarpet"
           }
          ],
          "heatmap": [
           {
            "colorbar": {
             "outlinewidth": 0,
             "ticks": ""
            },
            "colorscale": [
             [
              0,
              "#0d0887"
             ],
             [
              0.1111111111111111,
              "#46039f"
             ],
             [
              0.2222222222222222,
              "#7201a8"
             ],
             [
              0.3333333333333333,
              "#9c179e"
             ],
             [
              0.4444444444444444,
              "#bd3786"
             ],
             [
              0.5555555555555556,
              "#d8576b"
             ],
             [
              0.6666666666666666,
              "#ed7953"
             ],
             [
              0.7777777777777778,
              "#fb9f3a"
             ],
             [
              0.8888888888888888,
              "#fdca26"
             ],
             [
              1,
              "#f0f921"
             ]
            ],
            "type": "heatmap"
           }
          ],
          "heatmapgl": [
           {
            "colorbar": {
             "outlinewidth": 0,
             "ticks": ""
            },
            "colorscale": [
             [
              0,
              "#0d0887"
             ],
             [
              0.1111111111111111,
              "#46039f"
             ],
             [
              0.2222222222222222,
              "#7201a8"
             ],
             [
              0.3333333333333333,
              "#9c179e"
             ],
             [
              0.4444444444444444,
              "#bd3786"
             ],
             [
              0.5555555555555556,
              "#d8576b"
             ],
             [
              0.6666666666666666,
              "#ed7953"
             ],
             [
              0.7777777777777778,
              "#fb9f3a"
             ],
             [
              0.8888888888888888,
              "#fdca26"
             ],
             [
              1,
              "#f0f921"
             ]
            ],
            "type": "heatmapgl"
           }
          ],
          "histogram": [
           {
            "marker": {
             "pattern": {
              "fillmode": "overlay",
              "size": 10,
              "solidity": 0.2
             }
            },
            "type": "histogram"
           }
          ],
          "histogram2d": [
           {
            "colorbar": {
             "outlinewidth": 0,
             "ticks": ""
            },
            "colorscale": [
             [
              0,
              "#0d0887"
             ],
             [
              0.1111111111111111,
              "#46039f"
             ],
             [
              0.2222222222222222,
              "#7201a8"
             ],
             [
              0.3333333333333333,
              "#9c179e"
             ],
             [
              0.4444444444444444,
              "#bd3786"
             ],
             [
              0.5555555555555556,
              "#d8576b"
             ],
             [
              0.6666666666666666,
              "#ed7953"
             ],
             [
              0.7777777777777778,
              "#fb9f3a"
             ],
             [
              0.8888888888888888,
              "#fdca26"
             ],
             [
              1,
              "#f0f921"
             ]
            ],
            "type": "histogram2d"
           }
          ],
          "histogram2dcontour": [
           {
            "colorbar": {
             "outlinewidth": 0,
             "ticks": ""
            },
            "colorscale": [
             [
              0,
              "#0d0887"
             ],
             [
              0.1111111111111111,
              "#46039f"
             ],
             [
              0.2222222222222222,
              "#7201a8"
             ],
             [
              0.3333333333333333,
              "#9c179e"
             ],
             [
              0.4444444444444444,
              "#bd3786"
             ],
             [
              0.5555555555555556,
              "#d8576b"
             ],
             [
              0.6666666666666666,
              "#ed7953"
             ],
             [
              0.7777777777777778,
              "#fb9f3a"
             ],
             [
              0.8888888888888888,
              "#fdca26"
             ],
             [
              1,
              "#f0f921"
             ]
            ],
            "type": "histogram2dcontour"
           }
          ],
          "mesh3d": [
           {
            "colorbar": {
             "outlinewidth": 0,
             "ticks": ""
            },
            "type": "mesh3d"
           }
          ],
          "parcoords": [
           {
            "line": {
             "colorbar": {
              "outlinewidth": 0,
              "ticks": ""
             }
            },
            "type": "parcoords"
           }
          ],
          "pie": [
           {
            "automargin": true,
            "type": "pie"
           }
          ],
          "scatter": [
           {
            "fillpattern": {
             "fillmode": "overlay",
             "size": 10,
             "solidity": 0.2
            },
            "type": "scatter"
           }
          ],
          "scatter3d": [
           {
            "line": {
             "colorbar": {
              "outlinewidth": 0,
              "ticks": ""
             }
            },
            "marker": {
             "colorbar": {
              "outlinewidth": 0,
              "ticks": ""
             }
            },
            "type": "scatter3d"
           }
          ],
          "scattercarpet": [
           {
            "marker": {
             "colorbar": {
              "outlinewidth": 0,
              "ticks": ""
             }
            },
            "type": "scattercarpet"
           }
          ],
          "scattergeo": [
           {
            "marker": {
             "colorbar": {
              "outlinewidth": 0,
              "ticks": ""
             }
            },
            "type": "scattergeo"
           }
          ],
          "scattergl": [
           {
            "marker": {
             "colorbar": {
              "outlinewidth": 0,
              "ticks": ""
             }
            },
            "type": "scattergl"
           }
          ],
          "scattermapbox": [
           {
            "marker": {
             "colorbar": {
              "outlinewidth": 0,
              "ticks": ""
             }
            },
            "type": "scattermapbox"
           }
          ],
          "scatterpolar": [
           {
            "marker": {
             "colorbar": {
              "outlinewidth": 0,
              "ticks": ""
             }
            },
            "type": "scatterpolar"
           }
          ],
          "scatterpolargl": [
           {
            "marker": {
             "colorbar": {
              "outlinewidth": 0,
              "ticks": ""
             }
            },
            "type": "scatterpolargl"
           }
          ],
          "scatterternary": [
           {
            "marker": {
             "colorbar": {
              "outlinewidth": 0,
              "ticks": ""
             }
            },
            "type": "scatterternary"
           }
          ],
          "surface": [
           {
            "colorbar": {
             "outlinewidth": 0,
             "ticks": ""
            },
            "colorscale": [
             [
              0,
              "#0d0887"
             ],
             [
              0.1111111111111111,
              "#46039f"
             ],
             [
              0.2222222222222222,
              "#7201a8"
             ],
             [
              0.3333333333333333,
              "#9c179e"
             ],
             [
              0.4444444444444444,
              "#bd3786"
             ],
             [
              0.5555555555555556,
              "#d8576b"
             ],
             [
              0.6666666666666666,
              "#ed7953"
             ],
             [
              0.7777777777777778,
              "#fb9f3a"
             ],
             [
              0.8888888888888888,
              "#fdca26"
             ],
             [
              1,
              "#f0f921"
             ]
            ],
            "type": "surface"
           }
          ],
          "table": [
           {
            "cells": {
             "fill": {
              "color": "#EBF0F8"
             },
             "line": {
              "color": "white"
             }
            },
            "header": {
             "fill": {
              "color": "#C8D4E3"
             },
             "line": {
              "color": "white"
             }
            },
            "type": "table"
           }
          ]
         },
         "layout": {
          "annotationdefaults": {
           "arrowcolor": "#2a3f5f",
           "arrowhead": 0,
           "arrowwidth": 1
          },
          "autotypenumbers": "strict",
          "coloraxis": {
           "colorbar": {
            "outlinewidth": 0,
            "ticks": ""
           }
          },
          "colorscale": {
           "diverging": [
            [
             0,
             "#8e0152"
            ],
            [
             0.1,
             "#c51b7d"
            ],
            [
             0.2,
             "#de77ae"
            ],
            [
             0.3,
             "#f1b6da"
            ],
            [
             0.4,
             "#fde0ef"
            ],
            [
             0.5,
             "#f7f7f7"
            ],
            [
             0.6,
             "#e6f5d0"
            ],
            [
             0.7,
             "#b8e186"
            ],
            [
             0.8,
             "#7fbc41"
            ],
            [
             0.9,
             "#4d9221"
            ],
            [
             1,
             "#276419"
            ]
           ],
           "sequential": [
            [
             0,
             "#0d0887"
            ],
            [
             0.1111111111111111,
             "#46039f"
            ],
            [
             0.2222222222222222,
             "#7201a8"
            ],
            [
             0.3333333333333333,
             "#9c179e"
            ],
            [
             0.4444444444444444,
             "#bd3786"
            ],
            [
             0.5555555555555556,
             "#d8576b"
            ],
            [
             0.6666666666666666,
             "#ed7953"
            ],
            [
             0.7777777777777778,
             "#fb9f3a"
            ],
            [
             0.8888888888888888,
             "#fdca26"
            ],
            [
             1,
             "#f0f921"
            ]
           ],
           "sequentialminus": [
            [
             0,
             "#0d0887"
            ],
            [
             0.1111111111111111,
             "#46039f"
            ],
            [
             0.2222222222222222,
             "#7201a8"
            ],
            [
             0.3333333333333333,
             "#9c179e"
            ],
            [
             0.4444444444444444,
             "#bd3786"
            ],
            [
             0.5555555555555556,
             "#d8576b"
            ],
            [
             0.6666666666666666,
             "#ed7953"
            ],
            [
             0.7777777777777778,
             "#fb9f3a"
            ],
            [
             0.8888888888888888,
             "#fdca26"
            ],
            [
             1,
             "#f0f921"
            ]
           ]
          },
          "colorway": [
           "#636efa",
           "#EF553B",
           "#00cc96",
           "#ab63fa",
           "#FFA15A",
           "#19d3f3",
           "#FF6692",
           "#B6E880",
           "#FF97FF",
           "#FECB52"
          ],
          "font": {
           "color": "#2a3f5f"
          },
          "geo": {
           "bgcolor": "white",
           "lakecolor": "white",
           "landcolor": "white",
           "showlakes": true,
           "showland": true,
           "subunitcolor": "#C8D4E3"
          },
          "hoverlabel": {
           "align": "left"
          },
          "hovermode": "closest",
          "mapbox": {
           "style": "light"
          },
          "paper_bgcolor": "white",
          "plot_bgcolor": "white",
          "polar": {
           "angularaxis": {
            "gridcolor": "#EBF0F8",
            "linecolor": "#EBF0F8",
            "ticks": ""
           },
           "bgcolor": "white",
           "radialaxis": {
            "gridcolor": "#EBF0F8",
            "linecolor": "#EBF0F8",
            "ticks": ""
           }
          },
          "scene": {
           "xaxis": {
            "backgroundcolor": "white",
            "gridcolor": "#DFE8F3",
            "gridwidth": 2,
            "linecolor": "#EBF0F8",
            "showbackground": true,
            "ticks": "",
            "zerolinecolor": "#EBF0F8"
           },
           "yaxis": {
            "backgroundcolor": "white",
            "gridcolor": "#DFE8F3",
            "gridwidth": 2,
            "linecolor": "#EBF0F8",
            "showbackground": true,
            "ticks": "",
            "zerolinecolor": "#EBF0F8"
           },
           "zaxis": {
            "backgroundcolor": "white",
            "gridcolor": "#DFE8F3",
            "gridwidth": 2,
            "linecolor": "#EBF0F8",
            "showbackground": true,
            "ticks": "",
            "zerolinecolor": "#EBF0F8"
           }
          },
          "shapedefaults": {
           "line": {
            "color": "#2a3f5f"
           }
          },
          "ternary": {
           "aaxis": {
            "gridcolor": "#DFE8F3",
            "linecolor": "#A2B1C6",
            "ticks": ""
           },
           "baxis": {
            "gridcolor": "#DFE8F3",
            "linecolor": "#A2B1C6",
            "ticks": ""
           },
           "bgcolor": "white",
           "caxis": {
            "gridcolor": "#DFE8F3",
            "linecolor": "#A2B1C6",
            "ticks": ""
           }
          },
          "title": {
           "x": 0.05
          },
          "xaxis": {
           "automargin": true,
           "gridcolor": "#EBF0F8",
           "linecolor": "#EBF0F8",
           "ticks": "",
           "title": {
            "standoff": 15
           },
           "zerolinecolor": "#EBF0F8",
           "zerolinewidth": 2
          },
          "yaxis": {
           "automargin": true,
           "gridcolor": "#EBF0F8",
           "linecolor": "#EBF0F8",
           "ticks": "",
           "title": {
            "standoff": 15
           },
           "zerolinecolor": "#EBF0F8",
           "zerolinewidth": 2
          }
         }
        },
        "width": 1200,
        "xaxis": {
         "anchor": "y",
         "autorange": true,
         "domain": [
          0,
          1
         ],
         "range": [
          -0.5,
          23.5
         ],
         "title": {
          "text": "pickup 시간"
         },
         "type": "linear"
        },
        "yaxis": {
         "anchor": "x",
         "autorange": true,
         "domain": [
          0,
          1
         ],
         "range": [
          -0.5,
          6.5
         ],
         "title": {
          "text": "요일"
         },
         "type": "category"
        }
       }
      },
      "image/png": "[encoded data removed]",
      "text/html": [
       "<div>                            <div id=\"3497c958-91bc-4615-8490-296b3b236219\" class=\"plotly-graph-div\" style=\"height:250px; width:1200px;\"></div>            <script type=\"text/javascript\">                require([\"plotly\"], function(Plotly) {                    window.PLOTLYENV=window.PLOTLYENV || {};                                    if (document.getElementById(\"3497c958-91bc-4615-8490-296b3b236219\")) {                    Plotly.newPlot(                        \"3497c958-91bc-4615-8490-296b3b236219\",                        [{\"coloraxis\":\"coloraxis\",\"histfunc\":\"sum\",\"hovertemplate\":\"pickup 시간=%{x}\\u003cbr\\u003e요일=%{y}\\u003cbr\\u003esum of 평균이동거리=%{z}\\u003cextra\\u003e\\u003c\\u002fextra\\u003e\",\"name\":\"\",\"nbinsx\":24,\"nbinsy\":7,\"x\":[0,1,2,3,4,5,6,7,8,9,10,11,12,13,14,15,16,17,18,19,20,21,22,23,0,1,2,3,4,5,6,7,8,9,10,11,12,13,14,15,16,17,18,19,20,21,22,23,0,1,2,3,4,5,6,7,8,9,10,11,12,13,14,15,16,17,18,19,20,21,22,23,0,1,2,3,4,5,6,7,8,9,10,11,12,13,14,15,16,17,18,19,20,21,22,23,0,1,2,3,4,5,6,7,8,9,10,11,12,13,14,15,16,17,18,19,20,21,22,23,0,1,2,3,4,5,6,7,8,9,10,11,12,13,14,15,16,17,18,19,20,21,22,23,0,1,2,3,4,5,6,7,8,9,10,11,12,13,14,15,16,17,18,19,20,21,22,23],\"xaxis\":\"x\",\"xbingroup\":\"x\",\"y\":[\"월\",\"월\",\"월\",\"월\",\"월\",\"월\",\"월\",\"월\",\"월\",\"월\",\"월\",\"월\",\"월\",\"월\",\"월\",\"월\",\"월\",\"월\",\"월\",\"월\",\"월\",\"월\",\"월\",\"월\",\"화\",\"화\",\"화\",\"화\",\"화\",\"화\",\"화\",\"화\",\"화\",\"화\",\"화\",\"화\",\"화\",\"화\",\"화\",\"화\",\"화\",\"화\",\"화\",\"화\",\"화\",\"화\",\"화\",\"화\",\"수\",\"수\",\"수\",\"수\",\"수\",\"수\",\"수\",\"수\",\"수\",\"수\",\"수\",\"수\",\"수\",\"수\",\"수\",\"수\",\"수\",\"수\",\"수\",\"수\",\"수\",\"수\",\"수\",\"수\",\"목\",\"목\",\"목\",\"목\",\"목\",\"목\",\"목\",\"목\",\"목\",\"목\",\"목\",\"목\",\"목\",\"목\",\"목\",\"목\",\"목\",\"목\",\"목\",\"목\",\"목\",\"목\",\"목\",\"목\",\"금\",\"금\",\"금\",\"금\",\"금\",\"금\",\"금\",\"금\",\"금\",\"금\",\"금\",\"금\",\"금\",\"금\",\"금\",\"금\",\"금\",\"금\",\"금\",\"금\",\"금\",\"금\",\"금\",\"금\",\"토\",\"토\",\"토\",\"토\",\"토\",\"토\",\"토\",\"토\",\"토\",\"토\",\"토\",\"토\",\"토\",\"토\",\"토\",\"토\",\"토\",\"토\",\"토\",\"토\",\"토\",\"토\",\"토\",\"토\",\"일\",\"일\",\"일\",\"일\",\"일\",\"일\",\"일\",\"일\",\"일\",\"일\",\"일\",\"일\",\"일\",\"일\",\"일\",\"일\",\"일\",\"일\",\"일\",\"일\",\"일\",\"일\",\"일\",\"일\"],\"yaxis\":\"y\",\"ybingroup\":\"y\",\"z\":[0.03715809838079698,0.05200302769060466,0.03454166059277303,0.05596315189409232,0.07063039696986095,0.06426270786989556,0.034490535452775584,0.032737782045627016,0.03271897536089555,0.022300252808707045,0.036457711731007814,0.03259913640889305,0.03791273701584093,0.031148218766055,0.03073260549089396,0.03561671744114983,0.045856793688758724,0.03489709547473452,0.03206766072125966,0.030931047636591467,0.03478322182868066,0.03504153532967092,0.039807563106260796,0.041753717014843476,0.04549263088199272,0.026491866724439015,0.05237136448088479,0.042291832373646004,0.03189731490250098,0.052113797374228325,0.03625948497196739,0.036995698246546305,0.026760267886113808,0.027077751296383516,0.026826090075304745,0.034316439823832576,0.03498805312265091,0.035544501630472854,0.03838823500419107,0.02821292607678347,0.03586750914515103,0.03883433324239985,0.02572514272219912,0.033088420498453834,0.036793867026316575,0.03320750581322103,0.03796506613207811,0.0441184974197329,0.06189425076297976,0.039073634201646286,0.04027817512479525,0.045001889217295234,0.02712641035763739,0.04090444437849963,0.03554282147884122,0.026562429760155624,0.028137832185748304,0.028848291392458557,0.03436772147280834,0.028384887815572114,0.029861333110209855,0.03094931538110388,0.04105512493816869,0.030896039734749265,0.0383327715434659,0.0440284327758578,0.034202250485253306,0.033418178249557354,0.037728969952857336,0.04105665766647581,0.03501931863015318,0.04053196598643651,0.04370735751553739,0.0417765374180669,0.046409338050018074,0.05493347173018719,0.061569806741913605,0.046512677925574106,0.05250827412143831,0.03531027339163442,0.029133885897888828,0.029901509572592543,0.027772390194162014,0.02858396613665924,0.02919986838270981,0.0317612270262194,0.03471946142251515,0.03516035201971669,0.032241751574696526,0.028428726680918188,0.030790591800766605,0.0276523888329859,0.03442330713780692,0.0468108838653546,0.03680314709375805,0.04528582049448872,0.03941914483917277,0.041799452835402005,0.02747939721328583,0.04467300794711169,0.06040430813029304,0.07023081911325425,0.038559495853808044,0.036675286599085095,0.032616090198524406,0.022036573919088698,0.0390431164668389,0.030196453798128214,0.02723147055623086,0.03293566054375842,0.043647154028390374,0.03415901588979847,0.03676054346801498,0.03317075478918968,0.027736605265520214,0.0327639608191616,0.03269130293295594,0.03259886897954823,0.03289081100831811,0.0341054864926265,0.036707167535579545,0.03566950941170107,0.0380489921489175,0.03696210181836352,0.04587911863822203,0.04823124935776199,0.04423147111534784,0.03502778652413812,0.05684438361280244,0.02883829437172897,0.03135331752009965,0.029968986432524772,0.030354061779279694,0.02574892204102297,0.03185745950220361,0.03626576223452341,0.031655929237335456,0.03446797731080265,0.03424314095287038,0.026601148073475155,0.029834599637768515,0.028572862569402776,0.034023159026747324,0.03508011042417724,0.039962176173149275,0.0384030605806378,0.03932604021053794,0.037395030232690134,0.03617073372297567,0.0819519990101009,0.08455383063086612,0.07728771678955991,0.040662783558606266,0.02651724954324167,0.024978445983095104,0.035339142705562855,0.04011498662915437,0.03072317013788322,0.039420942718037456,0.041070572515632585,0.041828181994856564,0.04344609099751088,0.031280398092728846,0.033589561605802655,0.042991760551657536,0.04127852982142265,0.03989386796977483,0.04541865114558133],\"type\":\"histogram2d\"}],                        {\"template\":{\"data\":{\"histogram2dcontour\":[{\"type\":\"histogram2dcontour\",\"colorbar\":{\"outlinewidth\":0,\"ticks\":\"\"},\"colorscale\":[[0.0,\"#0d0887\"],[0.1111111111111111,\"#46039f\"],[0.2222222222222222,\"#7201a8\"],[0.3333333333333333,\"#9c179e\"],[0.4444444444444444,\"#bd3786\"],[0.5555555555555556,\"#d8576b\"],[0.6666666666666666,\"#ed7953\"],[0.7777777777777778,\"#fb9f3a\"],[0.8888888888888888,\"#fdca26\"],[1.0,\"#f0f921\"]]}],\"choropleth\":[{\"type\":\"choropleth\",\"colorbar\":{\"outlinewidth\":0,\"ticks\":\"\"}}],\"histogram2d\":[{\"type\":\"histogram2d\",\"colorbar\":{\"outlinewidth\":0,\"ticks\":\"\"},\"colorscale\":[[0.0,\"#0d0887\"],[0.1111111111111111,\"#46039f\"],[0.2222222222222222,\"#7201a8\"],[0.3333333333333333,\"#9c179e\"],[0.4444444444444444,\"#bd3786\"],[0.5555555555555556,\"#d8576b\"],[0.6666666666666666,\"#ed7953\"],[0.7777777777777778,\"#fb9f3a\"],[0.8888888888888888,\"#fdca26\"],[1.0,\"#f0f921\"]]}],\"heatmap\":[{\"type\":\"heatmap\",\"colorbar\":{\"outlinewidth\":0,\"ticks\":\"\"},\"colorscale\":[[0.0,\"#0d0887\"],[0.1111111111111111,\"#46039f\"],[0.2222222222222222,\"#7201a8\"],[0.3333333333333333,\"#9c179e\"],[0.4444444444444444,\"#bd3786\"],[0.5555555555555556,\"#d8576b\"],[0.6666666666666666,\"#ed7953\"],[0.7777777777777778,\"#fb9f3a\"],[0.8888888888888888,\"#fdca26\"],[1.0,\"#f0f921\"]]}],\"heatmapgl\":[{\"type\":\"heatmapgl\",\"colorbar\":{\"outlinewidth\":0,\"ticks\":\"\"},\"colorscale\":[[0.0,\"#0d0887\"],[0.1111111111111111,\"#46039f\"],[0.2222222222222222,\"#7201a8\"],[0.3333333333333333,\"#9c179e\"],[0.4444444444444444,\"#bd3786\"],[0.5555555555555556,\"#d8576b\"],[0.6666666666666666,\"#ed7953\"],[0.7777777777777778,\"#fb9f3a\"],[0.8888888888888888,\"#fdca26\"],[1.0,\"#f0f921\"]]}],\"contourcarpet\":[{\"type\":\"contourcarpet\",\"colorbar\":{\"outlinewidth\":0,\"ticks\":\"\"}}],\"contour\":[{\"type\":\"contour\",\"colorbar\":{\"outlinewidth\":0,\"ticks\":\"\"},\"colorscale\":[[0.0,\"#0d0887\"],[0.1111111111111111,\"#46039f\"],[0.2222222222222222,\"#7201a8\"],[0.3333333333333333,\"#9c179e\"],[0.4444444444444444,\"#bd3786\"],[0.5555555555555556,\"#d8576b\"],[0.6666666666666666,\"#ed7953\"],[0.7777777777777778,\"#fb9f3a\"],[0.8888888888888888,\"#fdca26\"],[1.0,\"#f0f921\"]]}],\"surface\":[{\"type\":\"surface\",\"colorbar\":{\"outlinewidth\":0,\"ticks\":\"\"},\"colorscale\":[[0.0,\"#0d0887\"],[0.1111111111111111,\"#46039f\"],[0.2222222222222222,\"#7201a8\"],[0.3333333333333333,\"#9c179e\"],[0.4444444444444444,\"#bd3786\"],[0.5555555555555556,\"#d8576b\"],[0.6666666666666666,\"#ed7953\"],[0.7777777777777778,\"#fb9f3a\"],[0.8888888888888888,\"#fdca26\"],[1.0,\"#f0f921\"]]}],\"mesh3d\":[{\"type\":\"mesh3d\",\"colorbar\":{\"outlinewidth\":0,\"ticks\":\"\"}}],\"scatter\":[{\"fillpattern\":{\"fillmode\":\"overlay\",\"size\":10,\"solidity\":0.2},\"type\":\"scatter\"}],\"parcoords\":[{\"type\":\"parcoords\",\"line\":{\"colorbar\":{\"outlinewidth\":0,\"ticks\":\"\"}}}],\"scatterpolargl\":[{\"type\":\"scatterpolargl\",\"marker\":{\"colorbar\":{\"outlinewidth\":0,\"ticks\":\"\"}}}],\"bar\":[{\"error_x\":{\"color\":\"#2a3f5f\"},\"error_y\":{\"color\":\"#2a3f5f\"},\"marker\":{\"line\":{\"color\":\"white\",\"width\":0.5},\"pattern\":{\"fillmode\":\"overlay\",\"size\":10,\"solidity\":0.2}},\"type\":\"bar\"}],\"scattergeo\":[{\"type\":\"scattergeo\",\"marker\":{\"colorbar\":{\"outlinewidth\":0,\"ticks\":\"\"}}}],\"scatterpolar\":[{\"type\":\"scatterpolar\",\"marker\":{\"colorbar\":{\"outlinewidth\":0,\"ticks\":\"\"}}}],\"histogram\":[{\"marker\":{\"pattern\":{\"fillmode\":\"overlay\",\"size\":10,\"solidity\":0.2}},\"type\":\"histogram\"}],\"scattergl\":[{\"type\":\"scattergl\",\"marker\":{\"colorbar\":{\"outlinewidth\":0,\"ticks\":\"\"}}}],\"scatter3d\":[{\"type\":\"scatter3d\",\"line\":{\"colorbar\":{\"outlinewidth\":0,\"ticks\":\"\"}},\"marker\":{\"colorbar\":{\"outlinewidth\":0,\"ticks\":\"\"}}}],\"scattermapbox\":[{\"type\":\"scattermapbox\",\"marker\":{\"colorbar\":{\"outlinewidth\":0,\"ticks\":\"\"}}}],\"scatterternary\":[{\"type\":\"scatterternary\",\"marker\":{\"colorbar\":{\"outlinewidth\":0,\"ticks\":\"\"}}}],\"scattercarpet\":[{\"type\":\"scattercarpet\",\"marker\":{\"colorbar\":{\"outlinewidth\":0,\"ticks\":\"\"}}}],\"carpet\":[{\"aaxis\":{\"endlinecolor\":\"#2a3f5f\",\"gridcolor\":\"#C8D4E3\",\"linecolor\":\"#C8D4E3\",\"minorgridcolor\":\"#C8D4E3\",\"startlinecolor\":\"#2a3f5f\"},\"baxis\":{\"endlinecolor\":\"#2a3f5f\",\"gridcolor\":\"#C8D4E3\",\"linecolor\":\"#C8D4E3\",\"minorgridcolor\":\"#C8D4E3\",\"startlinecolor\":\"#2a3f5f\"},\"type\":\"carpet\"}],\"table\":[{\"cells\":{\"fill\":{\"color\":\"#EBF0F8\"},\"line\":{\"color\":\"white\"}},\"header\":{\"fill\":{\"color\":\"#C8D4E3\"},\"line\":{\"color\":\"white\"}},\"type\":\"table\"}],\"barpolar\":[{\"marker\":{\"line\":{\"color\":\"white\",\"width\":0.5},\"pattern\":{\"fillmode\":\"overlay\",\"size\":10,\"solidity\":0.2}},\"type\":\"barpolar\"}],\"pie\":[{\"automargin\":true,\"type\":\"pie\"}]},\"layout\":{\"autotypenumbers\":\"strict\",\"colorway\":[\"#636efa\",\"#EF553B\",\"#00cc96\",\"#ab63fa\",\"#FFA15A\",\"#19d3f3\",\"#FF6692\",\"#B6E880\",\"#FF97FF\",\"#FECB52\"],\"font\":{\"color\":\"#2a3f5f\"},\"hovermode\":\"closest\",\"hoverlabel\":{\"align\":\"left\"},\"paper_bgcolor\":\"white\",\"plot_bgcolor\":\"white\",\"polar\":{\"bgcolor\":\"white\",\"angularaxis\":{\"gridcolor\":\"#EBF0F8\",\"linecolor\":\"#EBF0F8\",\"ticks\":\"\"},\"radialaxis\":{\"gridcolor\":\"#EBF0F8\",\"linecolor\":\"#EBF0F8\",\"ticks\":\"\"}},\"ternary\":{\"bgcolor\":\"white\",\"aaxis\":{\"gridcolor\":\"#DFE8F3\",\"linecolor\":\"#A2B1C6\",\"ticks\":\"\"},\"baxis\":{\"gridcolor\":\"#DFE8F3\",\"linecolor\":\"#A2B1C6\",\"ticks\":\"\"},\"caxis\":{\"gridcolor\":\"#DFE8F3\",\"linecolor\":\"#A2B1C6\",\"ticks\":\"\"}},\"coloraxis\":{\"colorbar\":{\"outlinewidth\":0,\"ticks\":\"\"}},\"colorscale\":{\"sequential\":[[0.0,\"#0d0887\"],[0.1111111111111111,\"#46039f\"],[0.2222222222222222,\"#7201a8\"],[0.3333333333333333,\"#9c179e\"],[0.4444444444444444,\"#bd3786\"],[0.5555555555555556,\"#d8576b\"],[0.6666666666666666,\"#ed7953\"],[0.7777777777777778,\"#fb9f3a\"],[0.8888888888888888,\"#fdca26\"],[1.0,\"#f0f921\"]],\"sequentialminus\":[[0.0,\"#0d0887\"],[0.1111111111111111,\"#46039f\"],[0.2222222222222222,\"#7201a8\"],[0.3333333333333333,\"#9c179e\"],[0.4444444444444444,\"#bd3786\"],[0.5555555555555556,\"#d8576b\"],[0.6666666666666666,\"#ed7953\"],[0.7777777777777778,\"#fb9f3a\"],[0.8888888888888888,\"#fdca26\"],[1.0,\"#f0f921\"]],\"diverging\":[[0,\"#8e0152\"],[0.1,\"#c51b7d\"],[0.2,\"#de77ae\"],[0.3,\"#f1b6da\"],[0.4,\"#fde0ef\"],[0.5,\"#f7f7f7\"],[0.6,\"#e6f5d0\"],[0.7,\"#b8e186\"],[0.8,\"#7fbc41\"],[0.9,\"#4d9221\"],[1,\"#276419\"]]},\"xaxis\":{\"gridcolor\":\"#EBF0F8\",\"linecolor\":\"#EBF0F8\",\"ticks\":\"\",\"title\":{\"standoff\":15},\"zerolinecolor\":\"#EBF0F8\",\"automargin\":true,\"zerolinewidth\":2},\"yaxis\":{\"gridcolor\":\"#EBF0F8\",\"linecolor\":\"#EBF0F8\",\"ticks\":\"\",\"title\":{\"standoff\":15},\"zerolinecolor\":\"#EBF0F8\",\"automargin\":true,\"zerolinewidth\":2},\"scene\":{\"xaxis\":{\"backgroundcolor\":\"white\",\"gridcolor\":\"#DFE8F3\",\"linecolor\":\"#EBF0F8\",\"showbackground\":true,\"ticks\":\"\",\"zerolinecolor\":\"#EBF0F8\",\"gridwidth\":2},\"yaxis\":{\"backgroundcolor\":\"white\",\"gridcolor\":\"#DFE8F3\",\"linecolor\":\"#EBF0F8\",\"showbackground\":true,\"ticks\":\"\",\"zerolinecolor\":\"#EBF0F8\",\"gridwidth\":2},\"zaxis\":{\"backgroundcolor\":\"white\",\"gridcolor\":\"#DFE8F3\",\"linecolor\":\"#EBF0F8\",\"showbackground\":true,\"ticks\":\"\",\"zerolinecolor\":\"#EBF0F8\",\"gridwidth\":2}},\"shapedefaults\":{\"line\":{\"color\":\"#2a3f5f\"}},\"annotationdefaults\":{\"arrowcolor\":\"#2a3f5f\",\"arrowhead\":0,\"arrowwidth\":1},\"geo\":{\"bgcolor\":\"white\",\"landcolor\":\"white\",\"subunitcolor\":\"#C8D4E3\",\"showland\":true,\"showlakes\":true,\"lakecolor\":\"white\"},\"title\":{\"x\":0.05},\"mapbox\":{\"style\":\"light\"}}},\"xaxis\":{\"anchor\":\"y\",\"domain\":[0.0,1.0],\"title\":{\"text\":\"pickup 시간\"}},\"yaxis\":{\"anchor\":\"x\",\"domain\":[0.0,1.0],\"title\":{\"text\":\"요일\"}},\"coloraxis\":{\"colorbar\":{\"title\":{\"text\":\"평균속력\"}},\"colorscale\":[[0.0,\"#0d0887\"],[0.1111111111111111,\"#46039f\"],[0.2222222222222222,\"#7201a8\"],[0.3333333333333333,\"#9c179e\"],[0.4444444444444444,\"#bd3786\"],[0.5555555555555556,\"#d8576b\"],[0.6666666666666666,\"#ed7953\"],[0.7777777777777778,\"#fb9f3a\"],[0.8888888888888888,\"#fdca26\"],[1.0,\"#f0f921\"]]},\"legend\":{\"tracegroupgap\":0},\"margin\":{\"t\":60},\"height\":250,\"width\":1200},                        {\"responsive\": true}                    ).then(function(){\n",
       "                            \n",
       "var gd = document.getElementById('3497c958-91bc-4615-8490-296b3b236219');\n",
       "var x = new MutationObserver(function (mutations, observer) {{\n",
       "        var display = window.getComputedStyle(gd).display;\n",
       "        if (!display || display === 'none') {{\n",
       "            console.log([gd, 'removed!']);\n",
       "            Plotly.purge(gd);\n",
       "            observer.disconnect();\n",
       "        }}\n",
       "}});\n",
       "\n",
       "// Listen for the removal of the full notebook cells\n",
       "var notebookContainer = gd.closest('#notebook-container');\n",
       "if (notebookContainer) {{\n",
       "    x.observe(notebookContainer, {childList: true});\n",
       "}}\n",
       "\n",
       "// Listen for the clearing of the current output cell\n",
       "var outputEl = gd.closest('.output');\n",
       "if (outputEl) {{\n",
       "    x.observe(outputEl, {childList: true});\n",
       "}}\n",
       "\n",
       "                        })                };                });            </script>        </div>"
      ]
     },
     "metadata": {},
     "output_type": "display_data"
    }
   ],
   "source": [
    "fig2 = px.density_heatmap(\n",
    "    data_frame = df_featured2,\n",
    "    x = 'pickup 시간',\n",
    "    y = '요일',\n",
    "    z = '평균이동거리',\n",
    "    nbinsx = 24,\n",
    "    nbinsy = 7,\n",
    "    width = 1200,\n",
    "    height = 250\n",
    ")\n",
    "\n",
    "fig2.update_layout(coloraxis_colorbar={'title':'평균이동거리'})"
   ]
  },
  {
   "cell_type": "markdown",
   "id": "38a2d68b-c72c-4d1a-b257-aa166fb0ea59",
   "metadata": {},
   "source": [
    "## `(3)` 속력별 경로시각화 – 50점\n",
    "\n",
    "자료 `df_small`에서 속력을 quatile에 따라 4개의 구간으로 나누고, 구간별\n",
    "이동경로를 대시보드에 시각화하라.\n",
    "\n",
    "**README**\n",
    "\n",
    "-   Zoom = 11 로 설정할것. Figure의 width, height는 설정하지 말것\n",
    "-   기타 설정값에 대해서는 궁금한것이 있다면 질문할 것\n",
    "\n",
    "**힌트**: 아래의 코드를 관찰하세요"
   ]
  },
  {
   "cell_type": "code",
   "execution_count": 15,
   "id": "af7e5828-c6b9-4be2-af26-5ca27b4ded51",
   "metadata": {},
   "outputs": [
    {
     "name": "stdout",
     "output_type": "stream",
     "text": [
      "0    (0.999, 1.75]\n",
      "1    (0.999, 1.75]\n",
      "2      (1.75, 2.5]\n",
      "3      (1.75, 2.5]\n",
      "4      (2.5, 3.25]\n",
      "5      (2.5, 3.25]\n",
      "6      (3.25, 4.0]\n",
      "7      (3.25, 4.0]\n",
      "dtype: category\n",
      "Categories (4, interval[float64, right]): [(0.999, 1.75] < (1.75, 2.5] < (2.5, 3.25] < (3.25, 4.0]]\n",
      "0    매우느림\n",
      "1    매우느림\n",
      "2    조금느림\n",
      "3    조금느림\n",
      "4    조금빠름\n",
      "5    조금빠름\n",
      "6    매우빠름\n",
      "7    매우빠름\n",
      "dtype: category\n",
      "Categories (4, object): ['매우느림' < '조금느림' < '조금빠름' < '매우빠름']"
     ]
    }
   ],
   "source": [
    "speed = pd.Series([1,1,2,2,3,3,4,4])\n",
    "print(pd.qcut(speed,4))\n",
    "print(pd.qcut(speed,4,labels=['매우느림','조금느림','조금빠름','매우빠름']))"
   ]
  },
  {
   "cell_type": "code",
   "execution_count": 97,
   "id": "e1ee1b7d-dbd8-4624-a163-f8b825821071",
   "metadata": {},
   "outputs": [
    {
     "data": {
      "text/html": [
       "<div>\n",
       "<style scoped>\n",
       "    .dataframe tbody tr th:only-of-type {\n",
       "        vertical-align: middle;\n",
       "    }\n",
       "\n",
       "    .dataframe tbody tr th {\n",
       "        vertical-align: top;\n",
       "    }\n",
       "\n",
       "    .dataframe thead th {\n",
       "        text-align: right;\n",
       "    }\n",
       "</style>\n",
       "<table border=\"1\" class=\"dataframe\">\n",
       "  <thead>\n",
       "    <tr style=\"text-align: right;\">\n",
       "      <th></th>\n",
       "      <th>id</th>\n",
       "      <th>평균속력</th>\n",
       "      <th>latitude</th>\n",
       "      <th>longitude</th>\n",
       "      <th>passenger_count</th>\n",
       "    </tr>\n",
       "  </thead>\n",
       "  <tbody>\n",
       "    <tr>\n",
       "      <th>0</th>\n",
       "      <td>id0503659</td>\n",
       "      <td>매우느림 (path)</td>\n",
       "      <td>40.784500</td>\n",
       "      <td>-73.952209</td>\n",
       "      <td>2</td>\n",
       "    </tr>\n",
       "    <tr>\n",
       "      <th>1</th>\n",
       "      <td>id3888107</td>\n",
       "      <td>매우느림 (path)</td>\n",
       "      <td>40.757469</td>\n",
       "      <td>-73.969429</td>\n",
       "      <td>1</td>\n",
       "    </tr>\n",
       "    <tr>\n",
       "      <th>2</th>\n",
       "      <td>id0092643</td>\n",
       "      <td>매우느림 (path)</td>\n",
       "      <td>40.741840</td>\n",
       "      <td>-74.000877</td>\n",
       "      <td>2</td>\n",
       "    </tr>\n",
       "    <tr>\n",
       "      <th>3</th>\n",
       "      <td>id1625242</td>\n",
       "      <td>매우느림 (path)</td>\n",
       "      <td>40.737778</td>\n",
       "      <td>-73.997627</td>\n",
       "      <td>1</td>\n",
       "    </tr>\n",
       "    <tr>\n",
       "      <th>4</th>\n",
       "      <td>id3508248</td>\n",
       "      <td>매우느림 (path)</td>\n",
       "      <td>40.743805</td>\n",
       "      <td>-73.987953</td>\n",
       "      <td>1</td>\n",
       "    </tr>\n",
       "    <tr>\n",
       "      <th>...</th>\n",
       "      <td>...</td>\n",
       "      <td>...</td>\n",
       "      <td>...</td>\n",
       "      <td>...</td>\n",
       "      <td>...</td>\n",
       "    </tr>\n",
       "    <tr>\n",
       "      <th>287</th>\n",
       "      <td>id0037819</td>\n",
       "      <td>매우빠름 (path)</td>\n",
       "      <td>40.740059</td>\n",
       "      <td>-73.995300</td>\n",
       "      <td>6</td>\n",
       "    </tr>\n",
       "    <tr>\n",
       "      <th>288</th>\n",
       "      <td>id3666656</td>\n",
       "      <td>매우빠름 (path)</td>\n",
       "      <td>40.753098</td>\n",
       "      <td>-73.993401</td>\n",
       "      <td>2</td>\n",
       "    </tr>\n",
       "    <tr>\n",
       "      <th>289</th>\n",
       "      <td>id0419095</td>\n",
       "      <td>매우빠름 (path)</td>\n",
       "      <td>40.744606</td>\n",
       "      <td>-73.971443</td>\n",
       "      <td>1</td>\n",
       "    </tr>\n",
       "    <tr>\n",
       "      <th>290</th>\n",
       "      <td>id3457947</td>\n",
       "      <td>매우빠름 (path)</td>\n",
       "      <td>40.776581</td>\n",
       "      <td>-73.962051</td>\n",
       "      <td>1</td>\n",
       "    </tr>\n",
       "    <tr>\n",
       "      <th>291</th>\n",
       "      <td>id2843597</td>\n",
       "      <td>매우빠름 (path)</td>\n",
       "      <td>40.796680</td>\n",
       "      <td>-73.962692</td>\n",
       "      <td>1</td>\n",
       "    </tr>\n",
       "  </tbody>\n",
       "</table>\n",
       "<p>292 rows × 5 columns</p>\n",
       "</div>"
      ],
      "text/plain": [
       "            id         평균속력   latitude  longitude  passenger_count\n",
       "0    id0503659  매우느림 (path)  40.784500 -73.952209                2\n",
       "1    id3888107  매우느림 (path)  40.757469 -73.969429                1\n",
       "2    id0092643  매우느림 (path)  40.741840 -74.000877                2\n",
       "3    id1625242  매우느림 (path)  40.737778 -73.997627                1\n",
       "4    id3508248  매우느림 (path)  40.743805 -73.987953                1\n",
       "..         ...          ...        ...        ...              ...\n",
       "287  id0037819  매우빠름 (path)  40.740059 -73.995300                6\n",
       "288  id3666656  매우빠름 (path)  40.753098 -73.993401                2\n",
       "289  id0419095  매우빠름 (path)  40.744606 -73.971443                1\n",
       "290  id3457947  매우빠름 (path)  40.776581 -73.962051                1\n",
       "291  id2843597  매우빠름 (path)  40.796680 -73.962692                1\n",
       "\n",
       "[292 rows x 5 columns]"
      ]
     },
     "execution_count": 97,
     "metadata": {},
     "output_type": "execute_result"
    }
   ],
   "source": [
    "df_pickup = df_small.assign(avg_speed = lambda _df : pd.qcut(_df.speed, q = 4, labels=['매우느림 (path)','조금느림 (path)','조금빠름 (path)','매우빠름 (path)'])).sort_values('avg_speed')\\\n",
    ".loc[:,['id', 'avg_speed', 'pickup_latitude', 'pickup_longitude', 'dropoff_latitude', 'dropoff_longitude', 'passenger_count']]\\\n",
    ".drop(['dropoff_latitude', 'dropoff_longitude'], axis = 1).rename({'pickup_latitude' : 'latitude', 'pickup_longitude' : 'longitude'}, axis = 1)\n",
    "\n",
    "df_dropoff = df_small.assign(avg_speed = lambda _df : pd.qcut(_df.speed, q = 4, labels=['매우느림 (path)','조금느림 (path)','조금빠름 (path)','매우빠름 (path)'])).sort_values('avg_speed')\\\n",
    ".loc[:,['id', 'avg_speed', 'pickup_latitude', 'pickup_longitude', 'dropoff_latitude', 'dropoff_longitude', 'passenger_count']]\\\n",
    ".drop(['pickup_latitude', 'pickup_longitude'], axis = 1).rename({'dropoff_latitude' : 'latitude', 'dropoff_longitude' : 'longitude'}, axis = 1)\n",
    "\n",
    "df_featured3 = pd.concat([df_pickup, df_dropoff], axis = 0).reset_index(drop = True).rename({'avg_speed' : '평균속력'}, axis = 1)\n",
    "df_featured3"
   ]
  },
  {
   "cell_type": "code",
   "execution_count": 100,
   "id": "47e3135c-b3e8-40e2-bd8e-80956e0ed495",
   "metadata": {},
   "outputs": [
    {
     "name": "stderr",
     "output_type": "stream",
     "text": [
      "/root/anaconda3/envs/py/lib/python3.10/site-packages/plotly/express/_core.py:2044: FutureWarning:\n",
      "\n",
      "The default of observed=False is deprecated and will be changed to True in a future version of pandas. Pass observed=False to retain current behavior or observed=True to adopt the future default and silence this warning.\n",
      "\n",
      "/root/anaconda3/envs/py/lib/python3.10/site-packages/plotly/express/_core.py:2044: FutureWarning:\n",
      "\n",
      "The default of observed=False is deprecated and will be changed to True in a future version of pandas. Pass observed=False to retain current behavior or observed=True to adopt the future default and silence this warning.\n",
      "\n"
     ]
    },
    {
     "data": {
      "text/plain": [
       "Scattermapbox({\n",
       "    'hovertemplate': ('평균속력=매우느림 (path)<br>passenger_' ... 'ongitude=%{lon}<extra></extra>'),\n",
       "    'lat': array([40.78450012, 40.75746918, 40.74184036, 40.73777771, 40.74380493,\n",
       "                  40.74671555, 40.78596115, 40.75983047, 40.73244476, 40.76341248,\n",
       "                  40.79840851, 40.76351929, 40.7579689 , 40.76140594, 40.75623322,\n",
       "                  40.74240494, 40.77922821, 40.72243118, 40.77612305, 40.70718384,\n",
       "                  40.74414062, 40.76290131, 40.7715416 , 40.73936844, 40.79404831,\n",
       "                  40.72259521, 40.74682617, 40.74729538, 40.76639175, 40.77386856,\n",
       "                  40.74432373, 40.72234726, 40.78168488, 40.7395401 , 40.76839828,\n",
       "                  40.72530365, 40.73308182, 40.80483246, 40.77196884, 40.74722672,\n",
       "                  40.74677658, 40.75000763, 40.75249863, 40.77871323, 40.75983047,\n",
       "                  40.73023605, 40.7196312 , 40.79058838, 40.76174927, 40.7437706 ,\n",
       "                  40.76454163, 40.73437119, 40.72117233, 40.74625778, 40.76266861,\n",
       "                  40.77534103, 40.70901871, 40.74169922, 40.7427597 , 40.77495956,\n",
       "                  40.744133  , 40.79790878, 40.72389603, 40.77709961, 40.76169586,\n",
       "                  40.75261307, 40.75505066, 40.74211884, 40.74566269, 40.78129959,\n",
       "                  40.73572159, 40.77930832, 40.71965027, 40.73001862]),\n",
       "    'legendgroup': '매우느림 (path)',\n",
       "    'line': {'width': 1},\n",
       "    'lon': array([-73.95220947, -73.96942902, -74.00087738, -73.99762726, -73.98795319,\n",
       "                  -73.98993683, -73.97699738, -73.97090149, -74.00647736, -73.98194122,\n",
       "                  -73.95243073, -73.9693222 , -73.98609161, -73.97090912, -73.99331665,\n",
       "                  -74.00107574, -73.95587921, -73.98615265, -73.96235657, -74.01651764,\n",
       "                  -73.97913361, -73.9832077 , -73.98181152, -74.00737762, -73.9719696 ,\n",
       "                  -74.00528717, -73.9900589 , -73.98175049, -73.96286011, -73.98236847,\n",
       "                  -73.98423767, -73.9972229 , -73.98113251, -73.98706818, -73.96565247,\n",
       "                  -73.99255371, -74.00662231, -73.9661026 , -73.98274231, -73.99104309,\n",
       "                  -74.00828552, -73.99179077, -73.97853851, -73.98144531, -73.97090149,\n",
       "                  -73.9992218 , -73.99542999, -73.94995117, -73.97138977, -73.98335266,\n",
       "                  -73.97366333, -73.98973846, -73.98760986, -73.9858017 , -73.98597717,\n",
       "                  -73.96501923, -74.01186371, -73.97492218, -73.97737885, -73.98088074,\n",
       "                  -74.00689697, -73.97329712, -74.00457001, -73.97775269, -74.00177765,\n",
       "                  -73.98545074, -73.97960663, -73.97466278, -73.9846344 , -73.98120117,\n",
       "                  -73.98265839, -73.96006775, -73.99460602, -74.00050354]),\n",
       "    'marker': {'color': '#636efa',\n",
       "               'size': array([2, 1, 2, 1, 1, 1, 1, 2, 1, 1, 1, 2, 1, 1, 1, 1, 5, 1, 1, 1, 1, 1, 2, 1,\n",
       "                              1, 1, 1, 1, 1, 4, 2, 2, 1, 1, 1, 2, 1, 2, 1, 2, 1, 1, 1, 1, 2, 1, 1, 1,\n",
       "                              2, 1, 1, 1, 1, 5, 1, 1, 1, 1, 1, 2, 1, 1, 1, 1, 1, 1, 4, 2, 2, 1, 1, 1,\n",
       "                              2, 1]),\n",
       "               'sizemode': 'area',\n",
       "               'sizeref': 0.06},\n",
       "    'mode': 'markers',\n",
       "    'name': '매우느림 (pickup/dropoff)',\n",
       "    'showlegend': True,\n",
       "    'subplot': 'mapbox'\n",
       "})"
      ]
     },
     "execution_count": 100,
     "metadata": {},
     "output_type": "execute_result"
    }
   ],
   "source": [
    "fig3 = px.line_mapbox(\n",
    "    data_frame = df_featured3,\n",
    "    lat = 'latitude',\n",
    "    lon = 'longitude',\n",
    "    color = '평균속력',\n",
    "    line_group = 'id',\n",
    "    center = {'lat' : 40.7322, 'lon' : -73.9052},\n",
    "    #---#\n",
    "    mapbox_style = 'carto-positron',\n",
    "    zoom = 11\n",
    ")\n",
    "\n",
    "points = px.scatter_mapbox(\n",
    "    data_frame = df_featured3,\n",
    "    lat = 'latitude',\n",
    "    lon = 'longitude',\n",
    "    color = '평균속력',\n",
    "    size = 'passenger_count',\n",
    "    size_max = 10,\n",
    "    #---#\n",
    "    mapbox_style = 'carto-positron',\n",
    "    zoom = 11\n",
    ").data\n",
    "\n",
    "for p in points :\n",
    "    fig3.add_trace(p)\n",
    "\n",
    "fig3.update_traces(line = {'width' : 1})\n",
    "fig3.data[-1].update(name = '매우빠름 (pickup/dropoff)')\n",
    "fig3.data[-2].update(name = '조금빠름 (pickup/dropoff)')\n",
    "fig3.data[-3].update(name = '조금느림 (pickup/dropoff)')\n",
    "fig3.data[-4].update(name = '매우느림 (pickup/dropoff)')\n",
    "\n",
    "fig3.show();"
   ]
  },
  {
   "cell_type": "code",
   "execution_count": null,
   "id": "3a7979e5-53c3-4b60-af9e-1bc71bd4c0e4",
   "metadata": {},
   "outputs": [],
   "source": []
  }
 ],
 "metadata": {
  "kernelspec": {
   "display_name": "Python 3 (ipykernel)",
   "language": "python",
   "name": "python3"
  },
  "language_info": {
   "codemirror_mode": {
    "name": "ipython",
    "version": 3
   },
   "file_extension": ".py",
   "mimetype": "text/x-python",
   "name": "python",
   "nbconvert_exporter": "python",
   "pygments_lexer": "ipython3",
   "version": "3.10.13"
  }
 },
 "nbformat": 4,
 "nbformat_minor": 5
}
