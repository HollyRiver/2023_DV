{
 "cells": [
  {
   "cell_type": "markdown",
   "metadata": {
    "id": "X2frMe9CR5Wq"
   },
   "source": [
    "# **learned code**"
   ]
  },
  {
   "cell_type": "markdown",
   "metadata": {},
   "source": [
    "## **1.Introduction(플롯, 이퀼라이징)**"
   ]
  },
  {
   "cell_type": "code",
   "execution_count": 2,
   "metadata": {},
   "outputs": [],
   "source": [
    "import matplotlib.pyplot as plt\n",
    "import numpy as np\n",
    "import cv2"
   ]
  },
  {
   "cell_type": "code",
   "execution_count": null,
   "metadata": {
    "id": "tIgzPS_GSN_o"
   },
   "outputs": [],
   "source": [
    "plt.boxplot() ## 박스플롯 생성\n",
    "## Series, list, DataFrame, array. 리스트를 통해 여러 행렬을 입력하여 한 창 내에 여러 그래프를 그릴 수도 있다. ex) plt.boxplot([arr1, arr2])"
   ]
  },
  {
   "cell_type": "code",
   "execution_count": null,
   "metadata": {},
   "outputs": [],
   "source": [
    "np.random.randn(n)  ## N(0, 1)에서 무작위로 n개의 숫자를 추출한 뒤 행렬로 반환한다. 이 값에 실수를 더하여 평균을 바꾸고, 실수를 곱하여 그 제곱으로 분산을 바꿀 수 있다.\n",
    "## np.random.randn(10,10) : 10행 10열 산출\n",
    "## np.random.rand(n) : U(0, 1)에서 n개 추출"
   ]
  },
  {
   "cell_type": "code",
   "execution_count": null,
   "metadata": {
    "id": "-Z0LQdhbjfbb"
   },
   "outputs": [],
   "source": [
    "np.random.seed() ## 시드 생성"
   ]
  },
  {
   "cell_type": "code",
   "execution_count": null,
   "metadata": {
    "id": "P-yGWYkmjnHy"
   },
   "outputs": [],
   "source": [
    "plt.hist()  ## 히스토그램 생성\n",
    "## plt.hist(arr, bins = n, range = [min,max]), 리스트나 행렬, 시리즈를 넣으면 히스토그램을 반환한다. bins 옵션으로 구간의 수, range 옵션으로 x축의 길이를 설정가능"
   ]
  },
  {
   "cell_type": "code",
   "execution_count": null,
   "metadata": {
    "id": "BWXRyGpMjtpQ"
   },
   "outputs": [],
   "source": [
    "!wget link  ## 파일 다운로드(리눅스)\n",
    "## 리눅스 환경이 갖춰져있어야 한다."
   ]
  },
  {
   "cell_type": "code",
   "execution_count": null,
   "metadata": {
    "id": "1sfEJ9Egjy3E"
   },
   "outputs": [],
   "source": [
    "cv2.imread()  ## 이미지를 행렬로 읽어들임\n",
    "## cv2.imread('file directory')"
   ]
  },
  {
   "cell_type": "code",
   "execution_count": null,
   "metadata": {
    "id": "zPAoczhXSumR"
   },
   "outputs": [],
   "source": [
    "plt.imshow()  ## 행렬로 저장된 이미지를 읽음\n",
    "## plt.imshow(arr)"
   ]
  },
  {
   "cell_type": "code",
   "execution_count": null,
   "metadata": {},
   "outputs": [],
   "source": [
    "arr.reshape(n, -1)  ## array의 행을 n행으로 맞추고 열은 길이에 맞게 조절한다. 반대의 경우도 가능하다.\n",
    "arr.reshape(-1)     ## array를 1차원으로 바꾼다."
   ]
  },
  {
   "cell_type": "code",
   "execution_count": null,
   "metadata": {},
   "outputs": [],
   "source": [
    "np.stack([arr1, arr2], axis = -1)  ## 3차원 배열, arr1과 arr2의 각 원소들을 스택을 쌓는다. 이 경우 원소 하나에 길이가 2인 리스트가 지정된다."
   ]
  },
  {
   "cell_type": "code",
   "execution_count": null,
   "metadata": {},
   "outputs": [],
   "source": [
    "np.concatenate([arr1, arr2], axis = 1)  ## 2차원 배열, arr1과 arr2를 열(axis)을 기준으로 붙인다. axis = 0이면 위아래로 붙는다."
   ]
  },
  {
   "cell_type": "code",
   "execution_count": null,
   "metadata": {
    "id": "xlKPCzyiR-cY"
   },
   "outputs": [],
   "source": [
    "cv2.equalizeHist()  ## 히스토그램 이퀼라이제이션(대비 향상)\n",
    "## 행렬의 값들을 0에서 255의 값으로 Scaling한다."
   ]
  },
  {
   "cell_type": "markdown",
   "metadata": {},
   "source": [
    "## **2. ```plt.plot``` 꺾은선, 산점도, 객체지향화**"
   ]
  },
  {
   "cell_type": "code",
   "execution_count": 3,
   "metadata": {},
   "outputs": [],
   "source": [
    "import matplotlib.pyplot as plt\n",
    "import numpy as np\n",
    "import pandas as pd"
   ]
  },
  {
   "cell_type": "code",
   "execution_count": null,
   "metadata": {},
   "outputs": [],
   "source": [
    "plt.plot()  ## 가장 기본적인 그래프 제작(line or scatter, dot connected plot)\n",
    "## plt.plot(x, y, '--ro') : arr x, y의 값들을 붉은 선으로 연결하고 마커는 'o'로 한다.\n",
    "## 직접 입력하려면 linestyle = 'dashed', color = 'red', marker = 'o'이런 식으로 하면 된다. color의 경우 hex code(str 타입으로 입력)로도 입력 가능하다.\n",
    "## plt.show()를 입력하기 전까지 플롯을 계속 생성하면 한 figure에 중첩된다."
   ]
  },
  {
   "cell_type": "markdown",
   "metadata": {},
   "source": [
    "옵션의 다양한 값들은 아래를 참고하라.\n",
    "\n",
    "> **other options or colors**\n",
    ">\n",
    "> https://matplotlib.org/stable/api/_as_gen/matplotlib.pyplot.plot.html\n",
    ">\n",
    "> https://matplotlib.org/2.0.2/examples/color/named_colors.html\n",
    ">\n",
    "> **hex code**\n",
    ">\n",
    "> https://htmlcolorcodes.com/\n",
    ">\n",
    "> **other linestyles**\n",
    "> \n",
    "> https://matplotlib.org/stable/gallery/lines_bars_and_markers/linestyles.html"
   ]
  },
  {
   "cell_type": "code",
   "execution_count": null,
   "metadata": {},
   "outputs": [],
   "source": [
    "plt.gcf()  ## 현재의 figure를 가져온다."
   ]
  },
  {
   "cell_type": "code",
   "execution_count": null,
   "metadata": {},
   "outputs": [],
   "source": [
    "fig = plt.figure()  ## figure를 생성해서 fig에 저장했다.\n",
    "ax = fig.add_axes([wide_start, height_start, wide, height])  ## 가로시작, 세로시작, 종횡비\n",
    "ax.set_xlim([l_side, r_side])  ## ax에서 x축의 범위 설정(기본적으로 0부터 시작)\n",
    "ax.set_ylim([low_side, up_side])  ## ax에서 y축의 범위 설정(기본적으로 0부터 시작)\n",
    "ax.add_line(line)  ## line이라는 선을 ax에 추가"
   ]
  },
  {
   "cell_type": "code",
   "execution_count": null,
   "metadata": {},
   "outputs": [],
   "source": [
    "matplotlib.lines.Line2D(xdata = arr_x, ydata = arr_y, linestyle = '--', marker = 'o')  ## 직선 생성 1\n",
    "ax.plot(arr_x, arr_y, '--o')  ## 직선 생성 2 및 ax에 직선 추가"
   ]
  },
  {
   "cell_type": "code",
   "execution_count": null,
   "metadata": {},
   "outputs": [],
   "source": [
    "fig.subplots(a,b)  ## fig에 행렬의 행과 열이 (a,b)인 ax 개체들을 생성\n",
    "## (ax1, ax2), (ax3, ax4) = fig.subplots(2,2)"
   ]
  },
  {
   "cell_type": "code",
   "execution_count": null,
   "metadata": {},
   "outputs": [],
   "source": [
    "plt.subplots(a,b, figsize = (n,m))  ## fig와 그 안에 포함된 ax 개체들을 생성\n",
    "## fig, ((ax1, ax2), (ax3, ax4)) = plt.subplots(2,2,figsize = (4,4))\n",
    "## fig, axes = plt.subplots(2,2)  : axes에는 2*2의 ax들이 저장되어있다."
   ]
  },
  {
   "cell_type": "code",
   "execution_count": 19,
   "metadata": {},
   "outputs": [
    {
     "data": {
      "image/png": "[encoded data removed]",
      "text/plain": [
       "<Figure size 640x480 with 4 Axes>"
      ]
     },
     "metadata": {},
     "output_type": "display_data"
    }
   ],
   "source": [
    "fig, axes = plt.subplots(2,2)\n",
    "axes[0,0].plot([1,2,3,4], color = 'C0')\n",
    "axes[0,1].plot([2,3,4,1], color = 'C1')\n",
    "axes[1,0].plot([3,4,1,2], color = 'C2')\n",
    "axes[1,1].plot([4,1,2,3], color = 'C3')\n",
    "\n",
    "plt.show()"
   ]
  },
  {
   "cell_type": "code",
   "execution_count": null,
   "metadata": {},
   "outputs": [],
   "source": [
    "fig.add_axes(arr_len4)  ## 해당 코드를 이용하여 fig에 미니맵을 생성할 수도 있다. 위치를 잘 조절해보자."
   ]
  },
  {
   "cell_type": "code",
   "execution_count": null,
   "metadata": {},
   "outputs": [],
   "source": [
    "fig.tight_layout()  ## 그래프의 여러가지 개체들이 겹쳐 잘 표기되지 않는 문제를 해결해준다."
   ]
  },
  {
   "cell_type": "code",
   "execution_count": null,
   "metadata": {},
   "outputs": [],
   "source": [
    "plt.subplot(m,n,x)  ## m*n개의 ax창에서 x번째의 ax를 택하여 오브젝트로 산출해낸다.\n",
    "## 이후 plt.plot(arr)을 하게 되면 생성된 ax에 그래프를 그리게 된다."
   ]
  },
  {
   "cell_type": "code",
   "execution_count": null,
   "metadata": {},
   "outputs": [],
   "source": [
    "fig.set_size_inches(m,n)  ## fig의 크기를 재조정한다. 처음 설정했던 plt.subplots(a,b,figsize = (m,n))을 번복할 수 있다."
   ]
  },
  {
   "cell_type": "code",
   "execution_count": null,
   "metadata": {},
   "outputs": [],
   "source": [
    "plt.title(str)  ## 현재 선언하는 플롯의 타이틀 설정\n",
    "fig.supertitle(str)  ## fig 전체의 타이틀을 설정, 잘 쓰진 않는 코드\n",
    "ax.set_title(str)  ## 특정 ax의 타이틀을 설정"
   ]
  },
  {
   "cell_type": "code",
   "execution_count": null,
   "metadata": {},
   "outputs": [],
   "source": [
    "plt.gca()  ## 현재 작업중인 axis를 얻는다."
   ]
  },
  {
   "cell_type": "code",
   "execution_count": null,
   "metadata": {},
   "outputs": [],
   "source": [
    "np.corrcoef(arr1,arr2,...)  ## correlation coefficient : 상관계수 산출"
   ]
  },
  {
   "cell_type": "markdown",
   "metadata": {},
   "source": [
    "상관계수의 해석\n",
    "\n",
    "> 산점도가 선형성을 보일 때만 표본상관계수가 의미를 가진다. 또한 표본상관계수는 특이치에 큰 영향을 받는다."
   ]
  },
  {
   "cell_type": "markdown",
   "metadata": {},
   "source": [
    "## **3. Seaborn**"
   ]
  },
  {
   "cell_type": "code",
   "execution_count": 1,
   "metadata": {},
   "outputs": [],
   "source": [
    "import matplotlib.pyplot as plt\n",
    "import seaborn as sns"
   ]
  },
  {
   "cell_type": "code",
   "execution_count": null,
   "metadata": {},
   "outputs": [],
   "source": [
    "sns.scatterplot(df, x_col, y_col, hue = color_col, style = style_col,\n",
    "                style_order = [...2,1,0], alpha = float)\n",
    "## 데이터프레임, x축, y축, 색상, 마커 스타일, 마커 모양 순서, 투명도(이것도 범주로 설정 가능)"
   ]
  },
  {
   "cell_type": "code",
   "execution_count": null,
   "metadata": {},
   "outputs": [],
   "source": [
    "sns.histplot(df, x = x_col,  ## or y = y_col(세로로 히스토그램 표시)\n",
    "             bins = int, ked = bool, hue = color_col, multiple = option)\n",
    "## 길이 표시, 유선형의 그래프 표기 여부, 색상, 여러개의 변수 처리 방법"
   ]
  },
  {
   "cell_type": "markdown",
   "metadata": {},
   "source": [
    "## **4. plotnine**"
   ]
  },
  {
   "cell_type": "code",
   "execution_count": 1,
   "metadata": {},
   "outputs": [],
   "source": [
    "from plotnine import *\n",
    "import plotnine\n",
    "import numpy as np\n",
    "import pandas as pd"
   ]
  },
  {
   "cell_type": "code",
   "execution_count": null,
   "metadata": {},
   "outputs": [],
   "source": [
    "plotnine.options.dpi= 150\n",
    "plotnine.options.figure_size = (6, 5)\n",
    "## 산출되는 그래프의 옵션 설정."
   ]
  },
  {
   "cell_type": "code",
   "execution_count": null,
   "metadata": {},
   "outputs": [],
   "source": [
    "ggplot(data = df)  ## 데이터프레임으로 피규어 생성. plt.figure()와 유사한 코드지만 데이터프레임에 대한 정보를 가지고 있다."
   ]
  },
  {
   "cell_type": "code",
   "execution_count": null,
   "metadata": {},
   "outputs": [],
   "source": [
    "geom_point(aes(x = col_x, y = col_y, color = col_c, size = col_si, shape = col_sh, alpha = col_a ...), size = int, alpha = float, color = str...)\n",
    "## x값, y값, 색상구분, 크기구분, 마커 모양 구분, 투명도 구분 ... aes()밖에 지정된 인자는 전체 그래프에 적용된다.\n",
    "geom_smooth(aes(x = col_x, y = col_y, color = col_c), linetype = 'options', size = float)\n",
    "## x값, y값, 색상구분\n",
    "## linetype의 옵션에는 'dashed', 'dotted'등이 있다.\n",
    "aes(a = val_1, b = val_2 ...)  ## dictionary와 비슷하다고 보면 된다."
   ]
  },
  {
   "cell_type": "code",
   "execution_count": null,
   "metadata": {},
   "outputs": [],
   "source": [
    "set(arr)  ## array에 포함된 값 중 유니크한 값들만 모아 행렬로 산출한다. set(df.columns)를 한다면 열의 이름을 산출할 것이고, set(df.col_x)를 한다면 col_x의 유니크한 값을 산출한다."
   ]
  },
  {
   "cell_type": "code",
   "execution_count": null,
   "metadata": {},
   "outputs": [],
   "source": [
    "fig = ggplot(df)\n",
    "point = geom_point(aes(x = , y = , ...), ...)\n",
    "smooth = geom_smooth(aes(x = , y = , ...), ...)\n",
    "\n",
    "fig + point + smoooth  ## 위에서 정의한 것들을 덧셈 기호를 통해 묶어 그래프를 산출할 수 있다."
   ]
  },
  {
   "cell_type": "code",
   "execution_count": null,
   "metadata": {},
   "outputs": [],
   "source": [
    "pd.read_csv('file_directory').to_numpy()  ## 들여온 csv파일을 numpy.array로 만든다."
   ]
  },
  {
   "cell_type": "code",
   "execution_count": null,
   "metadata": {},
   "outputs": [],
   "source": [
    "pd.cut(df, bins = n)  ## 데이터프레임의( 특정 열을)구간을 n개로 나누어 그 값을 분할한다. 이 때, 구간의 길이를 같도록 한다."
   ]
  },
  {
   "cell_type": "markdown",
   "metadata": {},
   "source": [
    "상관관계와 은닉변수\n",
    "> 모든 은닉변수들을 제거하면 상관성은 인과성과 같다. 하지만 이 경우에도 어느 쪽이 원인인지는 알 수 없다.\n",
    ">\n",
    "> 은닉변수들이 비슷한 그룹끼리 모아 매칭시킨 후 그룹간 corr을 구하여 규명하는 것이 현실적이다.\n",
    ">\n",
    "> 무작위 추출 등, 실험을 잘 계획하면 은닉변수를 제거한 것과 비슷한 효과를 볼 수 있다."
   ]
  },
  {
   "cell_type": "markdown",
   "metadata": {},
   "source": [
    "## **5. Pandas | 행과 열 선택**"
   ]
  },
  {
   "cell_type": "code",
   "execution_count": null,
   "metadata": {},
   "outputs": [],
   "source": [
    "import pandas as pd\n",
    "import numpy as np"
   ]
  },
  {
   "cell_type": "code",
   "execution_count": null,
   "metadata": {},
   "outputs": [],
   "source": [
    "pd.DataFrame({'col_1' : arr_1, 'col_2' : arr_2, ...}, index = arr_index)\n",
    "## 같은 길이의 리스트나 인덱스, 튜플, 시리즈를 열의 데이터로 지정하는 데이터프레임 생성, index도 지정(시계열이 아닌 이상 지정하지 않는 편이 좋다.)"
   ]
  },
  {
   "cell_type": "code",
   "execution_count": null,
   "metadata": {},
   "outputs": [],
   "source": [
    "df.reset_index()  ## inplace 옵션은 왠만해선 건드리지 말자. 원래의 데이터를 손상시킨다."
   ]
  },
  {
   "cell_type": "markdown",
   "metadata": {},
   "source": [
    "### 가용한 코드"
   ]
  },
  {
   "cell_type": "markdown",
   "metadata": {},
   "source": [
    "* 열의 슬라이싱"
   ]
  },
  {
   "cell_type": "code",
   "execution_count": null,
   "metadata": {},
   "outputs": [],
   "source": [
    "df.col_1    ## 시리즈로 반환, 열 이름에 공백이 있을 경우 불가\n",
    "df['col_1']  ## 시리즈로 반환, 열 이름에 공백이 있어도 됨\n",
    "df[['col_1', 'col_2', ...]]  ## 데이터프레임으로 반환, 2개 이상의 열을 산출 가능"
   ]
  },
  {
   "cell_type": "code",
   "execution_count": null,
   "metadata": {},
   "outputs": [],
   "source": [
    "df.iloc[:,0] ## int - 0번째 행 | [0]이면 데이터프레임으로\n",
    "df.iloc[:,-2:] # int:int, -2번째 행부터 -1번째 행까지(뒤에서 두 개)\n",
    "df.iloc[:,1::2] # int:int:int - 스트라이딩, 1번째(두번째) 행부터 2개 단위로 추출\n",
    "df.iloc[:,[0,2]] # [int,int] - 특정 행(0, 2번째)을 데이터프레임의 형태로 반환\n",
    "df.iloc[:,[True,True,False,False,False]] # bool의 list\n",
    "df.iloc[:,range(2)] # range, 앞에서 2개"
   ]
  },
  {
   "cell_type": "code",
   "execution_count": null,
   "metadata": {},
   "outputs": [],
   "source": [
    "df.loc[:,'X1'] # str - 시리즈 | ['X1']이면 데이터프레임으로\n",
    "df.loc[:,'X1':'X3'] # 'str':'str' -- 칼럼이름으로 슬라이싱 **\n",
    "df.loc[:,'X1'::2] # 'str'::int -- 칼럼이름으로 스트라이딩 **\n",
    "df.loc[:,['X1','X4']] # [str,str] - 특정 행만 데이터프레임으로\n",
    "df.loc[:,[True,False,False,True,False]] # bool의 list"
   ]
  },
  {
   "cell_type": "markdown",
   "metadata": {},
   "source": [
    "* 행의 슬라이싱"
   ]
  },
  {
   "cell_type": "code",
   "execution_count": null,
   "metadata": {},
   "outputs": [],
   "source": [
    "df[:2] # int:int -- 슬라이싱 // df.iloc[:2,:], df.iloc[:2] 와 같음\n",
    "df[::2] # int:int -- 스트라이딩\n",
    "ts['12/30':'01/02'] # str:str -- 슬라이싱 > 인덱스가 문자열 등일 경우\n",
    "ts['12/31'::2] # str:str -- 스트라이딩, 인덱스가 문자열 등이면 [0::2]같이 지정이 불가\n",
    "df[['12' in date for date in df.date]] # [bool,bool] `12`가 데이터에 포함되어 있을 경우\n",
    "df[df.X1 < 70] # pd.Series([bool,bool])"
   ]
  },
  {
   "cell_type": "code",
   "execution_count": null,
   "metadata": {},
   "outputs": [],
   "source": [
    "df.iloc[0] # int - df.iloc[0, :]에서 생략된 표현\n",
    "df.iloc[-2:] # int:int -- 슬라이싱, 뒤에서 두번째 행부터\n",
    "df.iloc[1::2] # int:int -- 스트라이딩, 1번째(두번째) 행부터 2칸씩 뛰어서\n",
    "df.iloc[[0,3]] # [int,int] - 선택한 열만\n",
    "df.iloc[['12' in date for date in df.date]] # [bool,bool] 이 경우는 []와 동일하다.\n",
    "df.iloc[range(2)] # range"
   ]
  },
  {
   "cell_type": "code",
   "execution_count": null,
   "metadata": {},
   "outputs": [],
   "source": [
    "df.loc[0] # int - 0번째 행\n",
    "ts.loc['12/30'] # str - 동일한 인덱스의 행\n",
    "df.loc[:2] # int:int - 2행까지, iloc의 경우 2행 바로 직전까지\n",
    "ts.loc[:'01/02'] # str:str - 해당하는 구간\n",
    "df.loc[[0,2, ...]] # [int,int] - 지정한 인덱스만\n",
    "ts.loc[['12/30','01/01']] # [str,str] - 지정한 인덱스만 2\n",
    "df.loc[['12' in date for date in df.date]] # [bool,bool] 이 경우는 []와 동일하다.\n",
    "df.loc[df.X1>70] # pd.Series([bool,bool]) "
   ]
  },
  {
   "cell_type": "markdown",
   "metadata": {},
   "source": [
    "### 그냥 이것만 써"
   ]
  },
  {
   "cell_type": "markdown",
   "metadata": {},
   "source": [
    "* 행"
   ]
  },
  {
   "cell_type": "code",
   "execution_count": null,
   "metadata": {},
   "outputs": [],
   "source": [
    "## int의 경우 > iloc[]\n",
    "df.iloc[int, :]\n",
    "df.iloc[int:int, :]\n",
    "df.iloc[[int,int], :]\n",
    "\n",
    "## str의 경우(시계열 말고 거의 없음) / bool의 경우 > loc[]\n",
    "df.loc[str, :]\n",
    "df.loc[str:str, :]\n",
    "df.loc[[str,str], :]  ## 안씀\n",
    "df.loc[[bool, bool, ...]]  ## 리스트 컴프리헨션 사용\n",
    "df.loc[df.col_1 > value]  ## 조건에 해당하는 것만"
   ]
  },
  {
   "cell_type": "markdown",
   "metadata": {},
   "source": [
    "* 열"
   ]
  },
  {
   "cell_type": "code",
   "execution_count": 3,
   "metadata": {},
   "outputs": [],
   "source": [
    "## int의 경우 > iloc[]\n",
    "df.iloc[:, int]\n",
    "df.iloc[:, int:int]\n",
    "df.iloc[:, [int,int]]\n",
    "\n",
    "## str의 경우 / bool의 경우 > loc[]\n",
    "df.loc[:, str]\n",
    "df.loc[:, str:str]\n",
    "df.loc[:, [str,str]]\n",
    "df.loc[:, bool_list]  ## 리스트 컴프리헨션 등으로 특정 이름이 포함된 열만 추출한다거나..."
   ]
  },
  {
   "cell_type": "markdown",
   "metadata": {},
   "source": [
    "## **6. Pandas : 데이터프레임 핸들링**"
   ]
  },
  {
   "cell_type": "code",
   "execution_count": 2,
   "metadata": {},
   "outputs": [],
   "source": [
    "import pandas as pd\n",
    "import numpy as np"
   ]
  },
  {
   "cell_type": "code",
   "execution_count": null,
   "metadata": {},
   "outputs": [],
   "source": [
    "##---------열 이름 변경--------\n",
    "df.columns = ['col_1', 'col_2', ... ]  ##  df.columns에 직접 대입, 원본 데이터 변경\n",
    "df.set_axis(['col_1', 'col_2', ... ], axis = 1)  ## 축 중 열을 변경, 원본 데이터 변경 안함\n",
    "df.rename({'bef_name' : 'aft_name', ...}, axis = 1)  ## 직접 특정 열만 지정, 원본 데이터 변경 안함, 잘 안씀\n",
    "\n",
    "##--------행 이름 변경--------\n",
    "df.index = ['index_1', 'index_2', ... ]  ## df.index에 직접 대입, 원본 데이터 변경\n",
    "df.set_axis(['index_1', 'index_2', ... ], axis = 0)  ## axis = 0는 없어도 됨(디폴트), 원본 데이터 변경 안함\n",
    "df.rename({'pre_index' : 'aft_index', ... }, axis = 0)  ## 직접 특정 행만 지정, 원본 데이터 변경 안함, 진짜 잘 안씀\n",
    "df.set_index('col_name')  ## 입력된 열을 인덱스로 변환, 원본 데이터 변경 안함, 기존 열 드랍(어차피 해야되는 처리이므로 편리함)"
   ]
  },
  {
   "cell_type": "code",
   "execution_count": null,
   "metadata": {},
   "outputs": [],
   "source": [
    "##--------visualize--------\n",
    "df.T  ## 데이터프레임을 전치, 데이터 생긴 걸 파악하는데 도움\n",
    "pd.options.display.max_rows = 10  ## 최대 표기될 행 변경 옵션\n",
    "pd.reset_option('display.max_rows')   ## 디폴트 옵션으로 변경"
   ]
  },
  {
   "cell_type": "code",
   "execution_count": null,
   "metadata": {},
   "outputs": [],
   "source": [
    "df.dtypes  ## 각 열에 저장된 데이터들의 형식을 시리즈 형태로 표시\n",
    "s.dtype  ## 특정 열(시리즈)에 저장된 데이터들의 형식을 값으로 표시\n",
    "## 컴프리헨션을 통해 특정 열만 선택한다거나, 자료형을 바꿔준다거나... 등의 활용이 가능하다."
   ]
  },
  {
   "cell_type": "code",
   "execution_count": null,
   "metadata": {},
   "outputs": [],
   "source": [
    "df.sort_values(by = 'col_name', ascending = bool)  ## 특정 열을 기준으로 오름차순으로 정렬, ascending을 False로 하면 내림차순으로 정렬할 수도 있다."
   ]
  },
  {
   "cell_type": "code",
   "execution_count": null,
   "metadata": {},
   "outputs": [],
   "source": [
    "df.info()  ## 결측치, 데이터 형식 등을 열별로 파악할 수 있도록 한다."
   ]
  },
  {
   "cell_type": "code",
   "execution_count": null,
   "metadata": {},
   "outputs": [],
   "source": [
    "df.isna()  ## 특정 원소가 결측치라면 True로, 아니라면 False로 대응시켜 데이터프레임화 한다. Series에도 적용 가능.\n",
    "## df.isna().mean() < 0.5와 같이 사용해서 시리즈를 반환, 결측치가 특정 수준 이상이라면 제외시키게끔 만들 수도 있다. 주의! 이미 시리즈니까 리스트로 묶지 말 것!\n",
    "## [df[s].isna().mean() < 0.5 for s in df.columns]과 같이 사용하여 결측치가 특정 수준 이상이라면 제외시키게끔 만들 수도 있다.\n",
    "## 또는 컴프리헨션을 통해 시리즈의 각 원소에 대치시켜 조건문을 부여하여 변환시킬 때 활용할 수도 있다.\n",
    "## 원소에는 적용시킬 수 없다. 판다스 고유의 함수이기 때문이다."
   ]
  },
  {
   "cell_type": "code",
   "execution_count": null,
   "metadata": {},
   "outputs": [],
   "source": [
    "df.drop(['ob_1', 'ob_2', ... ], axis = 0 or 1)  ## 특정 행 또는 열을 드랍, axis = 1이면 열을, axis = 0이면 행을 드롭하겠지?"
   ]
  },
  {
   "cell_type": "code",
   "execution_count": null,
   "metadata": {},
   "outputs": [],
   "source": [
    "##--------결측치--------\n",
    "np.nan\n",
    "pd.NA\n",
    "## 둘 다 똑같은 개체라고 보면 되고, 연산 시 제외된다. 또한, 얘네들은 일종의 float로 취급돼서... str과 같은 애들을 처리할 때 고려해줘야 한다."
   ]
  },
  {
   "cell_type": "code",
   "execution_count": null,
   "metadata": {},
   "outputs": [],
   "source": [
    "df.query('문자열로 구성된 연산이나 조건, 함수 등 여러가지...')  ## 저점 높고 고점 낮은 데이터 슬라이싱 모듈\n",
    "## 'A > 0 or B > 0'이나 'A == 1 and B ==3'이라던가(A나 B는 df의 한 열이겠지...), 'A<B<C'라던가... 해당 조건에 맞는 열과 행만 산출하겠지...\n",
    "## 'E == \"Alpha\"'라던가...\n",
    "## 'A > @mean'과 같이 외부 함수나 변수를 엮어줄 수도 있음...\n",
    "## ts.query('index < \"2022-12-30\" or index == \"2023-01-10\"')  ## 인덱스가 날짜 형식이라 이렇게 해줄수도 있음...\n",
    "## 게다가 열 이름에 공백이 있다면 '`Test column` == NAN'과 같이 묶어줄수도..."
   ]
  },
  {
   "cell_type": "code",
   "execution_count": null,
   "metadata": {},
   "outputs": [],
   "source": [
    "df.assign(add_col = arr)  ## 열을 추가, 원래 데이터 손상시키지 않음\n",
    "df.eval('add_col = 문자열로 구성된 연산이나 조건 등...')  ## query와 비슷한 방식으로 연산해서 새로 집어넣음, 행 넣는 것 말도고 다양한 연산이 가능... 기초연산만\n",
    "df['col_name'] = arr  ## 특정 열에 직접 지정, 원래 데이터 손상시킴... 잘 안씀"
   ]
  },
  {
   "cell_type": "code",
   "execution_count": null,
   "metadata": {},
   "outputs": [],
   "source": [
    "##--------lambda--------\n",
    "lambda x, y : x, y를 변환하는 여러가지 함수나 연산이나 등등...  ## 함수를 정의한다. 그 자체로 다른 변수에다 넣으면 함수 정의한 게 됨\n",
    "##(lambda x, y : x + y)(1, 2) : 괄호를 넣어서 그 자체로 함수로써 쓸 수도 있다. 이 경우 3이 되겠지.\n",
    "##(lambda x : 1 if x == 'cat' else 0)('cat')  : 컴프리헨션은 앞에 값이 나오니까 앞에 조건문을 달고, 람다는 뒤에 함수를 정의하니까 뒤에 조건문을 단다.\n",
    "##(lambda x : 1 if x == 'cat' else 2 if x == 'dog' else 0)  : 이런 식으로 elif처럼 달수도 있다. 계속 늘어남"
   ]
  },
  {
   "cell_type": "code",
   "execution_count": null,
   "metadata": {},
   "outputs": [],
   "source": [
    "##--------map--------\n",
    "map(f, data1, data2, ...)  ## 정의된 함수 f를 파라미터를 적용시켜 묶는다. (mapping)\n",
    "list(map(lambda x : x를 변환하는 식, data))  ## 리스트로 반환한다. 엮은 것 그 자체는 효용이 없다.\n",
    "##lambda와 연계하여 사용하기 아주 좋다.\n",
    "##list(map(lambda x : int(x[:-2]), df.height))  ## 이렇게 쓰면 뒤에 두개를 제외한 문자열을 정수형으로 바꿔서 리스트화 할 것이다. 이 상황에서 assign을 하면 되겠지."
   ]
  },
  {
   "cell_type": "markdown",
   "metadata": {},
   "source": [
    "## **7. Pandas Tips**"
   ]
  },
  {
   "cell_type": "code",
   "execution_count": 18,
   "metadata": {},
   "outputs": [],
   "source": [
    "import pandas as pd\n",
    "import numpy as np"
   ]
  },
  {
   "cell_type": "code",
   "execution_count": null,
   "metadata": {},
   "outputs": [],
   "source": [
    "s.apply(변환함수)  ## 시리즈의 각 원소에 변환함수를 적용한다."
   ]
  },
  {
   "cell_type": "code",
   "execution_count": null,
   "metadata": {},
   "outputs": [],
   "source": [
    "s.astpye(\"형식\")  ## 잘 안쓰긴 한다. apply()해도 되고 컴프리헨션이나 매핑써서 지정해줘도 되니까...\n",
    "## 두 시리즈를 연산하고 싶은데 형식이 다를 경우 astype()을 써주면 가능하게 만들 수 있다. 근데 그냥 apply나 map쓰자."
   ]
  },
  {
   "cell_type": "code",
   "execution_count": null,
   "metadata": {},
   "outputs": [],
   "source": [
    "s.str  ## Series나 DataFrame 뒤에 붙여 string에 사용할 수 있는 메소드를 가용하도록 만든다.\n",
    "idx.str  ## index 오브젝트에도 가능하다. 즉, df.columns나 df.index에도 사용할 수 있다는 말씀!"
   ]
  },
  {
   "cell_type": "code",
   "execution_count": null,
   "metadata": {},
   "outputs": [],
   "source": [
    "str.isupper()  ## 해당 문자가 대문자만으로 이뤄져있는 지 True or False로 반환한다. lower()의 경우 islower()도 있다."
   ]
  },
  {
   "cell_type": "code",
   "execution_count": null,
   "metadata": {},
   "outputs": [],
   "source": [
    "df.Name.str.replace(', ','/').str.replace('. ','/').str.split('/')  ## .str의 사용 예시, 인자들을 나누어 마지막에 스플릿하면서 여러 개로 분리했다.\n",
    "\n",
    "## 위의 것을 이용해서 시리즈를 스플릿 한 뒤 리스트 컴프리헨션을 해줬다.\n",
    "[[title, name + ' ' + f_name] for f_name, title, name in df.Name.str.replace(', ','/').str.replace('. ','/').str.split('/')]"
   ]
  },
  {
   "cell_type": "code",
   "execution_count": null,
   "metadata": {},
   "outputs": [],
   "source": [
    "## 이중 컴프리헨션도 된다. 리스트 컴프리헨션의 결과가 리스트임을 인지하자.\n",
    "[[names[0], names[1] + ' ' + f_name] for f_name, names in [[f_name, names.split('. ')] for f_name, names in df.Name.str.split(', ')]]"
   ]
  },
  {
   "cell_type": "markdown",
   "metadata": {},
   "source": [
    "## **8. FIFA data analysis**"
   ]
  },
  {
   "cell_type": "code",
   "execution_count": null,
   "metadata": {},
   "outputs": [],
   "source": [
    "lst.pop()  ## 리스트의 마지막 원소를 반환하고, 리스트에서 해당 값을 없앤다. 그리고 제발 결측치가 없도록 dropna()한 뒤에 사용하자.\n",
    "## 또한 이렇게 될 경우 기존 리스트의 값은 없어지니 주의하도록 하자."
   ]
  },
  {
   "cell_type": "code",
   "execution_count": null,
   "metadata": {},
   "outputs": [],
   "source": [
    "df.reset_index(drop = bool)  ## 인덱스 번호가 꼬여있는 것을 초기화한다. 원본 데이터가 바뀌었을 경우 왠만해선 반드시 해주도록 하자!"
   ]
  },
  {
   "cell_type": "code",
   "execution_count": null,
   "metadata": {},
   "outputs": [],
   "source": [
    "df.dropna()  ## 행에 한 개의 결측치라도 있을 시, 해당 행을 드롭한다. 원본 데이터를 손상시키지 않는다."
   ]
  },
  {
   "cell_type": "markdown",
   "metadata": {},
   "source": [
    "## **9. 심슨의 역설**"
   ]
  },
  {
   "cell_type": "code",
   "execution_count": 1,
   "metadata": {},
   "outputs": [],
   "source": [
    "import pandas as pd\n",
    "import numpy as np\n",
    "from plotnine import *"
   ]
  },
  {
   "cell_type": "code",
   "execution_count": null,
   "metadata": {},
   "outputs": [],
   "source": [
    "geom_col(aes(x, y, fill, color, ...))  ## bar 차트 생성, geom_smooth나 geom_point와 달리 color 옵션 대신 fill 옵션을 설정하는 것이 좋다.\n",
    "scale_fill_manual(list)  ## fill을 어떤 색으로 할 것인지 리스트에 순서대로 기입하라.\n",
    "facet_wrap(list)  ## 어떤 열의 값들에 대해서 다른 구획으로 지정할 것인지 기입하라. 그래프를 여러 면으로 나누어 그려준다."
   ]
  },
  {
   "cell_type": "code",
   "execution_count": null,
   "metadata": {},
   "outputs": [],
   "source": [
    "df.pivot_table(index = col_list, columns = col_list, values = col_list, aggfunc = 집계함수)\n",
    "## 피벗 테이블을 생성한다. 인덱스와 컬럼은 여러가지로 설정할 수 있으며, aggfunc에 values에 해당하는 값들을 어떻게 집계할 건지 지정해준다.\n",
    "\n",
    "df.stack()  ## 멀티 컬럼을 인덱스로 옮겨준다. axis 옵션이 있던 것 같은데, 그걸 바꾸면 멀티 인덱스를 컬럼으로 옮기는지는 모르겠다.(근데 그럴 일은 없으니까...)"
   ]
  },
  {
   "cell_type": "code",
   "execution_count": null,
   "metadata": {},
   "outputs": [],
   "source": [
    "geom_col(aes(x = 'department', y = 'count', fill = 'gender'))  ## 이렇게 변수를 설정하면 gender에 따라 fill을 누적한다.\n",
    "## 외부에 position = 'dodge'로 설정하면 축적된 것들을 옆으로 내려 나눈다.\n",
    "## 여기서 facet_wrap()을 하면 똑같이 되겠지..."
   ]
  },
  {
   "cell_type": "markdown",
   "metadata": {},
   "source": [
    "* 심슨의 역설\n",
    "\n",
    "> 데이터를 그룹화하여 통계를 내고 bar plot으로 시각화 할 때 조심해야 한다. 결과를 왜곡시키는 해석이 나올 수 있음."
   ]
  }
 ],
 "metadata": {
  "colab": {
   "authorship_tag": "ABX9TyO11Ys2t4esvSQqUPdpOSDc",
   "provenance": []
  },
  "kernelspec": {
   "display_name": "Python 3 (ipykernel)",
   "language": "python",
   "name": "python3"
  },
  "language_info": {
   "codemirror_mode": {
    "name": "ipython",
    "version": 3
   },
   "file_extension": ".py",
   "mimetype": "text/x-python",
   "name": "python",
   "nbconvert_exporter": "python",
   "pygments_lexer": "ipython3",
   "version": "3.10.13"
  }
 },
 "nbformat": 4,
 "nbformat_minor": 4
}
